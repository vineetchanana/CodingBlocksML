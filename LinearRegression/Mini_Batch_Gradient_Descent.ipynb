{
 "cells": [
  {
   "cell_type": "code",
   "execution_count": 1,
   "metadata": {},
   "outputs": [],
   "source": [
    "import numpy as np\n",
    "import pandas as pd\n",
    "import matplotlib.pyplot as plt\n"
   ]
  },
  {
   "cell_type": "code",
   "execution_count": 2,
   "metadata": {},
   "outputs": [],
   "source": [
    "from sklearn.datasets import make_regression"
   ]
  },
  {
   "cell_type": "code",
   "execution_count": 35,
   "metadata": {},
   "outputs": [],
   "source": [
    "X,y = make_regression(n_samples=10000,n_features=20,n_informative=20,noise = 10, random_state=1)\n",
    "\n",
    "#Normalisation \n",
    "u = X.mean(axis=0)\n",
    "std = X.std(axis=0)\n",
    "X = (X-u)/std"
   ]
  },
  {
   "cell_type": "code",
   "execution_count": 36,
   "metadata": {},
   "outputs": [
    {
     "name": "stdout",
     "output_type": "stream",
     "text": [
      "(10000, 21) (10000,)\n"
     ]
    }
   ],
   "source": [
    "#Add a column of 1's for vectoriation\n",
    "ones = np.ones((X.shape[0],1))\n",
    "X = np.hstack((ones,X))\n",
    "\n",
    "print(X.shape,y.shape)"
   ]
  },
  {
   "cell_type": "code",
   "execution_count": null,
   "metadata": {},
   "outputs": [],
   "source": []
  },
  {
   "cell_type": "code",
   "execution_count": 37,
   "metadata": {},
   "outputs": [],
   "source": [
    "def hypothesis(X,theta):\n",
    "    return np.dot(X,theta)\n",
    "\n",
    "def error(X,y,theta):\n",
    "    e = 0.0\n",
    "    y_ = hypothesis(X,theta)\n",
    "    e += np.sum((y_ - y)**2)\n",
    "    m = X.shape[0]\n",
    "    return e/m\n",
    "\n",
    "def gradient(X,y,theta):\n",
    "    \n",
    "    m = X.shape[0]\n",
    "    y_ = hypothesis(X,theta)\n",
    "    grad = np.dot(X.T,(y_ - y))\n",
    "    return grad/m\n",
    "\n",
    "#Batch Gradient Descent\n",
    "def gradient_Descent(X,y,max_steps=300,learning_rate=0.01):\n",
    "    \n",
    "    n = X.shape[1]\n",
    "    theta = np.zeros((n))\n",
    "    error_list = []\n",
    "    \n",
    "    for i in range(max_steps):\n",
    "        e = error(X,y,theta)\n",
    "        error_list.append(e)\n",
    "        \n",
    "        #Batch Gradient Descent - Compute the gradient wrt to entire dataset\n",
    "        grad = gradient(X,y,theta)\n",
    "        theta = theta - grad*learning_rate\n",
    "        \n",
    "    return theta,error_list\n",
    "    "
   ]
  },
  {
   "cell_type": "code",
   "execution_count": 38,
   "metadata": {},
   "outputs": [
    {
     "data": {
      "image/png": "[encoded data removed]",
      "text/plain": [
       "<Figure size 432x288 with 1 Axes>"
      ]
     },
     "metadata": {
      "needs_background": "light"
     },
     "output_type": "display_data"
    }
   ],
   "source": [
    "# Batch Gradient Descent -- 300 iterations, lr = 0.01\n",
    "theta,error_list = gradient_Descent(X,y)\n",
    "\n",
    "plt.plot(np.arange(len(error_list)),error_list)\n",
    "plt.show()"
   ]
  },
  {
   "cell_type": "code",
   "execution_count": null,
   "metadata": {},
   "outputs": [],
   "source": []
  },
  {
   "cell_type": "code",
   "execution_count": 39,
   "metadata": {},
   "outputs": [
    {
     "data": {
      "text/plain": [
       "(10000,)"
      ]
     },
     "execution_count": 39,
     "metadata": {},
     "output_type": "execute_result"
    }
   ],
   "source": [
    "y.shape"
   ]
  },
  {
   "cell_type": "code",
   "execution_count": 40,
   "metadata": {},
   "outputs": [
    {
     "data": {
      "text/plain": [
       "(10000, 1)"
      ]
     },
     "execution_count": 40,
     "metadata": {},
     "output_type": "execute_result"
    }
   ],
   "source": [
    "z = y.reshape(-1,1)\n",
    "z.shape"
   ]
  },
  {
   "cell_type": "code",
   "execution_count": 41,
   "metadata": {},
   "outputs": [],
   "source": [
    "def batch_gradient_descent(X,y,batch_size=200,learning_rate=0.01,max_iters=100):\n",
    "    n = X.shape[1]\n",
    "    theta = np.zeros(n)\n",
    "    error_list = []\n",
    "    \n",
    "    #we need to shuffle our data therefore stacking X and y (y was a matrix after reshape we converted into a matrix)\n",
    "    data = np.hstack((X,y.reshape(-1,1))) #shuffling is important to have some kind of randomness in our data\n",
    "    \n",
    "    for i in range(max_iters):\n",
    "        e = error(X,y,theta)\n",
    "        error_list.append(e)\n",
    "        \n",
    "        np.random.shuffle(data)\n",
    "        m = data.shape[0]\n",
    "        total_batches = m//batch_size\n",
    "        \n",
    "        for j in range(total_batches):\n",
    "            batch_data = data[j*batch_size:(j+1)*batch_size,:]\n",
    "            x_batch = batch_data[:,:-1]\n",
    "            y_batch = batch_data[:,-1]\n",
    "            \n",
    "            batch_gradient = gradient(x_batch,y_batch,theta)\n",
    "            theta = theta - learning_rate*batch_gradient\n",
    "            \n",
    "    return theta,error_list"
   ]
  },
  {
   "cell_type": "code",
   "execution_count": 42,
   "metadata": {},
   "outputs": [
    {
     "data": {
      "image/png": "[encoded data removed]",
      "text/plain": [
       "<Figure size 432x288 with 1 Axes>"
      ]
     },
     "metadata": {
      "needs_background": "light"
     },
     "output_type": "display_data"
    }
   ],
   "source": [
    "# Mini Batch Gradient Descent -- 100 iterations, lr = 0.01\n",
    "theta,error_list = batch_gradient_descent(X,y)\n",
    "\n",
    "plt.plot(np.arange(len(error_list)),error_list)\n",
    "plt.show()"
   ]
  },
  {
   "cell_type": "markdown",
   "metadata": {},
   "source": [
    "- We can see the difference in the convergence speed, in Mini Batch gradient descent, algorithm is converging in less than 20 iterations (used only 100 iterations(epochs))\n",
    "- In gradient descent it is converging after almost 250 iterations\n",
    "- Because in mini batch GD magnitude of update of theta is much higher, that's why it is going to take less number of points to converge"
   ]
  },
  {
   "cell_type": "markdown",
   "metadata": {},
   "source": [
    "- There will be noise in the trajectory, when we plot contours\n",
    "- There will also be a noise in the loss function"
   ]
  },
  {
   "cell_type": "code",
   "execution_count": 46,
   "metadata": {},
   "outputs": [],
   "source": [
    "#calculating error after each theta update, therfore do it on x_batch and y_batch not on whole dataset\n",
    "\n",
    "def batch_gradient_descent(X,y,batch_size=200,learning_rate=0.01,max_iters=10):\n",
    "    n = X.shape[1]\n",
    "    theta = np.zeros(n)\n",
    "    error_list = []\n",
    "    \n",
    "    data = np.hstack((X,y.reshape(-1,1))) \n",
    "    \n",
    "    for i in range(max_iters):\n",
    "        \n",
    "        np.random.shuffle(data)\n",
    "        m = data.shape[0]\n",
    "        total_batches = m//batch_size\n",
    "        \n",
    "        for j in range(total_batches):\n",
    "            batch_data = data[j*batch_size:(j+1)*batch_size,:]\n",
    "            x_batch = batch_data[:,:-1]\n",
    "            y_batch = batch_data[:,-1]\n",
    "            \n",
    "            e = error(x_batch,y_batch,theta)\n",
    "            error_list.append(e)\n",
    "        \n",
    "            batch_gradient = gradient(x_batch,y_batch,theta)\n",
    "            theta = theta - learning_rate*batch_gradient\n",
    "            \n",
    "    return theta,error_list"
   ]
  },
  {
   "cell_type": "code",
   "execution_count": 49,
   "metadata": {},
   "outputs": [
    {
     "name": "stdout",
     "output_type": "stream",
     "text": [
      "104.06006106646856\n"
     ]
    },
    {
     "data": {
      "image/png": "[encoded data removed]",
      "text/plain": [
       "<Figure size 432x288 with 1 Axes>"
      ]
     },
     "metadata": {
      "needs_background": "light"
     },
     "output_type": "display_data"
    }
   ],
   "source": [
    "theta,error_list = batch_gradient_descent(X,y)\n",
    "\n",
    "print(error_list[-1])\n",
    "plt.plot(np.arange(len(error_list)),error_list)\n",
    "plt.show()"
   ]
  },
  {
   "cell_type": "markdown",
   "metadata": {},
   "source": [
    "- 50 batches * 10 iterations\n",
    "- In each iteration we are making 50 updates,in total 500 updates whereas in gradient descent we are making 300 updates\n",
    "    - we are using 200 data points for each update and in gradient descent we are using 10,000 data points to make updates, that's why mini is faster\n",
    "- we can see the noise in the curve\n",
    "- 104 is the final loss after 10 epochs, we are taking 300 ephocs in gradient descent with the same learnig rate(0.01)"
   ]
  },
  {
   "cell_type": "code",
   "execution_count": null,
   "metadata": {},
   "outputs": [],
   "source": []
  },
  {
   "cell_type": "code",
   "execution_count": 50,
   "metadata": {},
   "outputs": [],
   "source": [
    "#if we make batch_size = 1 then it will be Stochastic gradient descent \n",
    "\n",
    "def batch_gradient_descent(X,y,batch_size=1,learning_rate=0.01,max_iters=10):\n",
    "    n = X.shape[1]\n",
    "    theta = np.zeros(n)\n",
    "    error_list = []\n",
    "    \n",
    "    data = np.hstack((X,y.reshape(-1,1))) \n",
    "    \n",
    "    for i in range(max_iters):\n",
    "        \n",
    "        np.random.shuffle(data)\n",
    "        m = data.shape[0]\n",
    "        total_batches = m//batch_size\n",
    "        \n",
    "        for j in range(total_batches):\n",
    "            batch_data = data[j*batch_size:(j+1)*batch_size,:]\n",
    "            x_batch = batch_data[:,:-1]\n",
    "            y_batch = batch_data[:,-1]\n",
    "            \n",
    "            e = error(x_batch,y_batch,theta)\n",
    "            error_list.append(e)\n",
    "        \n",
    "            batch_gradient = gradient(x_batch,y_batch,theta)\n",
    "            theta = theta - learning_rate*batch_gradient\n",
    "            \n",
    "    return theta,error_list"
   ]
  },
  {
   "cell_type": "code",
   "execution_count": 51,
   "metadata": {},
   "outputs": [
    {
     "name": "stdout",
     "output_type": "stream",
     "text": [
      "5.062174321646847\n"
     ]
    },
    {
     "data": {
      "image/png": "[encoded data removed]",
      "text/plain": [
       "<Figure size 432x288 with 1 Axes>"
      ]
     },
     "metadata": {
      "needs_background": "light"
     },
     "output_type": "display_data"
    }
   ],
   "source": [
    "theta,error_list = batch_gradient_descent(X,y)\n",
    "\n",
    "print(error_list[-1])\n",
    "plt.plot(np.arange(len(error_list)),error_list)\n",
    "plt.show()"
   ]
  },
  {
   "cell_type": "markdown",
   "metadata": {},
   "source": [
    "- we are making 10,000 updates in 1 single iteration\n",
    "- Converging in almost 1 iteration, btaches = 10000/1(batch size), iterations = 10 therfore 100,000 updates"
   ]
  },
  {
   "cell_type": "code",
   "execution_count": 54,
   "metadata": {},
   "outputs": [],
   "source": [
    "#if we make batch_size = 20, will still converge very fast\n",
    "\n",
    "def batch_gradient_descent(X,y,batch_size=20,learning_rate=0.01,max_iters=10):\n",
    "    n = X.shape[1]\n",
    "    theta = np.zeros(n)\n",
    "    error_list = []\n",
    "    \n",
    "    data = np.hstack((X,y.reshape(-1,1))) \n",
    "    \n",
    "    for i in range(max_iters):\n",
    "        \n",
    "        np.random.shuffle(data)\n",
    "        m = data.shape[0]\n",
    "        total_batches = m//batch_size\n",
    "        \n",
    "        for j in range(total_batches):\n",
    "            batch_data = data[j*batch_size:(j+1)*batch_size,:]\n",
    "            x_batch = batch_data[:,:-1]\n",
    "            y_batch = batch_data[:,-1]\n",
    "            \n",
    "            e = error(x_batch,y_batch,theta)\n",
    "            error_list.append(e)\n",
    "        \n",
    "            batch_gradient = gradient(x_batch,y_batch,theta)\n",
    "            theta = theta - learning_rate*batch_gradient\n",
    "            \n",
    "    return theta,error_list"
   ]
  },
  {
   "cell_type": "code",
   "execution_count": 55,
   "metadata": {},
   "outputs": [
    {
     "name": "stdout",
     "output_type": "stream",
     "text": [
      "63.75002134446343\n"
     ]
    },
    {
     "data": {
      "image/png": "[encoded data removed]",
      "text/plain": [
       "<Figure size 432x288 with 1 Axes>"
      ]
     },
     "metadata": {
      "needs_background": "light"
     },
     "output_type": "display_data"
    }
   ],
   "source": [
    "theta,error_list = batch_gradient_descent(X,y)\n",
    "\n",
    "print(error_list[-1])\n",
    "plt.plot(np.arange(len(error_list)),error_list)\n",
    "plt.show()"
   ]
  },
  {
   "cell_type": "code",
   "execution_count": null,
   "metadata": {},
   "outputs": [],
   "source": []
  },
  {
   "cell_type": "markdown",
   "metadata": {},
   "source": [
    "- very popular in deep learning\n",
    "- Mini GD has some advantage over Gradient descent:\n",
    "    - Faster convergence\n",
    "    - noisy updates helps to avoid local minima(also lead to more robust convergence), we will see in deep learning our loss function is non-convex then we would like to avoid local minima, we would be needing global minima\n",
    "    - vectorization but in SGD cannot use vectorization (disadvantage)\n",
    "    - no need to load the entire dataset into memory, can make a pipeline that will load a batch, we will calculate gradient, in meanwhile we will load another batch, after calculation of gradient we will remove the batch from the memory"
   ]
  },
  {
   "cell_type": "code",
   "execution_count": null,
   "metadata": {},
   "outputs": [],
   "source": []
  }
 ],
 "metadata": {
  "kernelspec": {
   "display_name": "Python 3",
   "language": "python",
   "name": "python3"
  },
  "language_info": {
   "codemirror_mode": {
    "name": "ipython",
    "version": 3
   },
   "file_extension": ".py",
   "mimetype": "text/x-python",
   "name": "python",
   "nbconvert_exporter": "python",
   "pygments_lexer": "ipython3",
   "version": "3.7.7"
  }
 },
 "nbformat": 4,
 "nbformat_minor": 4
}
