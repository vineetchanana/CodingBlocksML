{
 "cells": [
  {
   "cell_type": "code",
   "execution_count": 18,
   "metadata": {},
   "outputs": [],
   "source": [
    "from bs4 import BeautifulSoup as soup"
   ]
  },
  {
   "cell_type": "code",
   "execution_count": 2,
   "metadata": {},
   "outputs": [],
   "source": [
    "import requests"
   ]
  },
  {
   "cell_type": "code",
   "execution_count": 3,
   "metadata": {},
   "outputs": [],
   "source": [
    "url = 'https://www.passiton.com/inspirational-quotes?page=2'"
   ]
  },
  {
   "cell_type": "code",
   "execution_count": 4,
   "metadata": {},
   "outputs": [],
   "source": [
    "r = requests.get(url)"
   ]
  },
  {
   "cell_type": "code",
   "execution_count": 8,
   "metadata": {},
   "outputs": [
    {
     "data": {
      "text/plain": [
       "b'<!DOCTYPE html>\\n<html class=\"no-js\" dir=\"ltr\" lang=\"en-US\">\\n    <head>\\n        <title>Inspirational Quotes - Motivational Quotes - Leadership Quotes | Page 2 | PassItOn.com</title>\\n        <meta charset=\"utf-8\">\\n        <meta http-equiv=\"content-type\" content=\"text/html; charset=utf-8\" />\\n        <meta http-equiv=\"X-UA-Compatible\" content=\"IE=edge\" />\\n        <meta name=\"viewport\" content=\"width=device-width,initial-scale=1.0,maximum-scale=1\" />\\n        <meta name=\"description\" content=\"The Foundation for a Better Life | Pass It On.com\">\\n        <link rel=\"apple-touch-icon\" sizes=\"180x180\" href=\"/apple-touch-icon.png\">\\n        <link rel=\"icon\" type=\"image/png\" sizes=\"32x32\" href=\"/favicon-32x32.png\">\\n        <link rel=\"icon\" type=\"image/png\" sizes=\"16x16\" href=\"/favicon-16x16.png\">\\n        <link rel=\"manifest\" href=\"/site.webmanifest\">\\n        <link rel=\"mask-icon\" href=\"/safari-pinned-tab.svg\" color=\"#c8102e\">\\n        <meta name=\"msapplication-TileColor\" content=\"#c8102e\">\\n        <meta name=\"theme-color\" content=\"#ffffff\">\\n        <link rel=\"stylesheet\" href=\"https://stackpath.bootstrapcdn.com/bootstrap/4.3.1/css/bootstrap.min.css\" integrity=\"sha384-ggOyR0iXCbMQv3Xipma34MD+dH/1fQ784/j6cY/iJTQUOhcWr7x9JvoRxT2MZw1T\" crossorigin=\"anonymous\">\\n        <link rel=\"stylesheet\" media=\"all\" href=\"/assets/application-c51dbb9f66e05aed042146423dfccd71.css\" />\\n        <meta name=\"csrf-param\" content=\"authenticity_token\" />\\n<meta name=\"csrf-token\" content=\"iW/6l1XE9hbL//TTjW5gS7kzMes9buUWepSebxVPT5cQbL6XRSBSvfYrA6CcT79FZLrvlwCyPc5az+5OJT5I2g==\" />\\n        <!-- Global site tag (gtag.js) - Google Analytics -->\\n        <script async src=\"https://www.googletagmanager.com/gtag/js?id=UA-1179606-29\"></script>\\n        <script>\\n          window.dataLayer = window.dataLayer || [];\\n          function gtag(){dataLayer.push(arguments);}\\n          gtag(\\'js\\', new Date());\\n          gtag(\\'config\\', \\'UA-1179606-29\\');\\n        </script>\\n\\n        <script>\\n          window.fbAsyncInit = function() {\\n            FB.init({\\n              appId            : \\'483774921971842\\',\\n              autoLogAppEvents : true,\\n              xfbml            : true,\\n              version          : \\'v6.0\\'\\n            });\\n          };\\n        </script>\\n        <script async defer src=\"https://connect.facebook.net/en_US/sdk.js\"></script>\\n\\n        <meta property=\"og:site_name\" content=\"passiton.com\">\\n        <meta property=\"og:title\" content=\"Inspirational Quotes - Motivational Quotes - Leadership Quotes | Page 2\" />\\n        <meta property=\"og:type\" content=\"website\" />\\n        <meta property=\"og:image\" content=\"https://www.passiton.com/passiton.jpg\" />\\n        <meta property=\"og:url\" content=\"https://www.passiton.com/inspirational-quotes?page=2\" />\\n        <meta property=\"og:description\" content=\"Find the perfect quotation from our hand-picked collection of inspiring quotes by hundreds of authors. | Page 2\" />\\n        <meta property=\"fb:app_id\" content=\"483774921971842\" />\\n\\n        <meta name=\"twitter:card\" content=\"summary_large_image\" />\\n        <meta name=\"twitter:site\" content=\"@passiton\" />\\n        <meta name=\"twitter:creator\" content=\"@passiton\">\\n        <meta name=\"twitter:title\" content=\"Inspirational Quotes - Motivational Quotes - Leadership Quotes | Page 2\" />\\n        <meta name=\"twitter:description\" content=\"Find the perfect quotation from our hand-picked collection of inspiring quotes by hundreds of authors. | Page 2\" />\\n        <meta name=\"twitter:image\" content=\"https://www.passiton.com/passiton.jpg\" />\\n        <meta name=\"twitter:url\" content=\"https://www.passiton.com/inspirational-quotes?page=2\" />\\n\\n        <meta itemprop=\"name\" content=\"passiton.com\">\\n        <meta itemprop=\"description\" content=\"Find the perfect quotation from our hand-picked collection of inspiring quotes by hundreds of authors. | Page 2\">\\n        <meta itemprop=\"image\" content=\"https://www.passiton.com/passiton.jpg\">\\n\\n        <link rel=\"apple-touch-icon\" sizes=\"180x180\" href=\"/apple-touch-icon.png\">\\n        <link rel=\"icon\" type=\"image/png\" sizes=\"32x32\" href=\"/favicon-32x32.png\">\\n        <link rel=\"icon\" type=\"image/png\" sizes=\"16x16\" href=\"/favicon-16x16.png\">\\n        <link rel=\"mask-icon\" href=\"/passiton_arrow.svg\" color=\"#C8102E\">\\n        <link rel=\"manifest\" href=\"/manifest.json\">\\n        <link rel=\"mask-icon\" href=\"/safari-pinned-tab.svg\" color=\"#5bbad5\">\\n        <meta name=\"apple-mobile-web-app-title\" content=\"passiton\">\\n        <meta name=\"application-name\" content=\"passiton\">\\n        <meta name=\"theme-color\" content=\"#f1f1f1\">\\n        \\n    </head>\\n    <body class=\\'no-transition quotes_index\\'>\\n        <header>\\n    <nav class=\"navbar navbar-default bootsnav navbar-fixed-top header-dark white-link background-transparent nav-box-width white-link navbar-expand-lg\">\\n        <div class=\"container-fluid nav-header-container\">\\n            <div class=\"col-auto pl-0\">\\n\\n                    <a class=\"logo\" title=\"Pass It On\\xc2\\xae\" href=\"/\"><img data-rjs=\"/assets/site/logo@2x-77b9f4fa1e4bafa6ff119f8f162b7bd9.png\" class=\"logo-dark\" alt=\"Pass It On\" src=\"/assets/site/logo-6d680decaadef58e4fbb586e147bc135.png\" /><img data-rjs=\"/assets/site/logo-white@2x-82bf2486063a48e9207811cc7f6d5e5f.png\" class=\"logo-light default\" alt=\"Pass It On\" src=\"/assets/site/logo-white-2d99f390ad2f6d3bbf59a52aadb55d60.png\" /></a>\\n\\n            </div>\\n            <div class=\"col accordion-menu pr-0 pr-md-3\">\\n                <button type=\"button\" class=\"navbar-toggler collapsed\" data-toggle=\"collapse\" data-target=\"#navbar-collapse-toggle-1\">\\n                    <span class=\"sr-only\">toggle navigation</span>\\n                    <span class=\"icon-bar\"></span>\\n                    <span class=\"icon-bar\"></span>\\n                    <span class=\"icon-bar\"></span>\\n                </button>\\n                <div class=\"navbar-collapse collapse justify-content-end\" id=\"navbar-collapse-toggle-1\">\\n                    <ul id=\"accordion\" class=\"nav navbar-nav no-margin alt-font text-normal\" data-in=\"fadeIn\" data-out=\"fadeOut\">\\n                        <li><a href=\"/inspirational-quotes\">Quotes</a></li>\\n                        <li><a href=\"/inspirational-stories-tv-spots\">Videos</a></li>\\n                        <li class=\"dropdown simple-dropdown\"><a href=\"/inspirational-sayings-billboards\">Billboards <i class=\\'fas fa-angle-down dropdown-toggle\\' data-toggle=\\'dropdown\\' aria-hidden=\\'true\\'></i></a>\\n                            <ul class=\"dropdown-menu\" role=\"menu\">\\n                                <li><a href=\"/inspirational-sayings-billboards\">Official Billboards</a>\\n                                <li><a href=\"/is-in-you\">Is In You\\xc2\\xae Billboards</a>\\n                                <li><a href=\"/your-billboards\">Create Your Own Billboard</a>\\n                            </ul>\\n                        </li>\\n                        <li><a href=\"/radio\">Radio Ads</a></li>\\n                        <li><a href=\"/passiton-blog\">Blog</a></li>\\n                        <li class=\"dropdown simple-dropdown\"><a href=\"#\">Language <i class=\"fas fa-angle-down dropdown-toggle\" data-toggle=\"dropdown\" aria-hidden=\"true\"></i></a>\\n                            <ul class=\"dropdown-menu\" role=\"menu\">\\n                                <li><a target=\"_blank\" href=\"https://www.pasala.org/\">Spanish | Espa\\xc3\\xb1ol</a>\\n                                <li><a target=\"_blank\" href=\"https://www.umavidamelhor.org/\">Portuguese | Portugu\\xc3\\xaas</a>\\n                                <li><a target=\"_blank\" href=\"https://www.values.cn.com/\">Chinese | \\xe4\\xb8\\xad\\xe6\\x96\\x87</a>\\n                            </ul>\\n                        </li>\\n                    </ul>\\n                </div>\\n            </div>\\n            <div class=\"col-auto pr-0\">\\n                <div class=\"header-searchbar\">\\n                    <a href=\"#search-header\" class=\"header-search-form\"><i class=\"fas fa-search search-button\"></i></a>\\n                    <form id=\"search-header\" method=\"post\" action=\"/search\" name=\"search-header\" class=\"mfp-hide search-form-result\">\\n                        <div class=\"search-form position-relative\">\\n                            <button type=\"submit\" class=\"fas fa-search close-search search-button\"></button>\\n                            <input type=\"text\" name=\"q\" class=\"search-input\" placeholder=\"Search passiton.com...\" autocomplete=\"off\">\\n                        </div>\\n                    </form>\\n                </div>\\n                <div class=\"header-social-icon d-none d-md-inline-block\">\\n                    <a href=\"https://www.facebook.com/valuescom\" title=\"Facebook\" target=\"_blank\"><i class=\"fab fa-facebook-f\" aria-hidden=\"true\"></i></a>\\n                    <a href=\"https://twitter.com/passiton_values\" title=\"Twitter\" target=\"_blank\"><i class=\"fab fa-twitter\"></i></a>\\n                    <a href=\"https://www.instagram.com/passiton_values/\" title=\"Instagram\" target=\"_blank\"><i class=\"fab fa-instagram\" aria-hidden=\"true\"></i></a>\\n                    <a href=\"https://www.pinterest.com/passiton_values/\" title=\"Pinterest\" target=\"_blank\"><i class=\"fab fa-pinterest\" aria-hidden=\"true\"></i></a>\\n                    <a href=\"https://www.youtube.com/c/passiton_values\" title=\"YouTube\" target=\"_blank\"><i class=\"fab fa-youtube no-margin-right\" aria-hidden=\"true\"></i></a>\\n                </div>\\n            </div>\\n        </div>\\n    </nav>\\n</header>\\n        \\n\\n    <section class=\"parallax padding-six-all bg-black\" data-stellar-background-ratio=\"0.2\" style=\"background-image:url(\\'/assets/backgrounds/flowers-8d19415bc3bc371f5beaed468d9a1970.jpg\\');\">\\n        <div class=\"container\">\\n            <div class=\"row justify-content-center\">\\n                <div class=\"col-12 col-lg-10 text-center\">\\n                    <div class=\"shadow bg-extra-dark-gray padding-two-all border-radius-6 width-70 lg-width-80 sm-width-100 mx-auto lg-padding-30px-all sm-padding-15px-all sm-margin-40px-top\">\\n                        <h6 class=\"font-weight-300 text-white-2 margin-20px-bottom sm-margin-15px-bottom\">Get our FREE daily quote emails!</h6>\\n                        <p class=\"text-medium width-70 mx-auto margin-40px-bottom sm-width-100 sm-margin-15px-bottom\">Get a daily inspirational quote in your inbox each weekday! Enter your email below to subscribe.</p>\\n\\n                        <form class=\"simple_form search-box3 margin-10px-bottom\" novalidate=\"novalidate\" id=\"new_user\" action=\"/users\" accept-charset=\"UTF-8\" method=\"post\"><input name=\"utf8\" type=\"hidden\" value=\"&#x2713;\" /><input type=\"hidden\" name=\"authenticity_token\" value=\"SJ30KXGdbRR1d6N5FU9Ja3xDj3rwpRt+pqqWOQnBVKHRnrApYXnJv0ijVAoEbpZlocpRBs15w6aG8eYYObBT7A==\" />\\n                            <div class=\"input-group add-on width-75 mx-auto sm-width-100\">\\n                                <input label=\"false\" class=\"string email optional form-control text-white\" type=\"text\" placeholder=\"you@your-email.com\" name=\"user[email]\" id=\"user_email\" />\\n                                <script src=\"https://www.recaptcha.net/recaptcha/api.js?render=6Ldta8EUAAAAACp3yt76yG8QWMdQkpDBkP1bcHi6\"   ></script>\\n        <script>\\n          // Define function so that we can call it again later if we need to reset it\\n          // This executes reCAPTCHA and then calls our callback.\\n          function executeRecaptchaForQuote() {\\n            grecaptcha.ready(function() {\\n              grecaptcha.execute(\\'6Ldta8EUAAAAACp3yt76yG8QWMdQkpDBkP1bcHi6\\', {action: \\'quote\\'}).then(function(token) {\\n                setInputWithRecaptchaResponseTokenForQuote(\\'g-recaptcha-response-data-quote\\', token)\\n              });\\n            });\\n          };\\n          // Invoke immediately\\n          executeRecaptchaForQuote()\\n\\n          // Async variant so you can await this function from another async function (no need for\\n          // an explicit callback function then!)\\n          // Returns a Promise that resolves with the response token.\\n          async function executeRecaptchaForQuoteAsync() {\\n            return new Promise((resolve, reject) => {\\n              grecaptcha.ready(async function() {\\n                resolve(await grecaptcha.execute(\\'6Ldta8EUAAAAACp3yt76yG8QWMdQkpDBkP1bcHi6\\', {action: \\'quote\\'}))\\n              });\\n            })\\n          };\\n\\n                    var setInputWithRecaptchaResponseTokenForQuote = function(id, token) {\\n            var element = document.getElementById(id);\\n            element.value = token;\\n          }\\n\\n        </script>\\n<input type=\"hidden\" name=\"g-recaptcha-response-data[quote]\" id=\"g-recaptcha-response-data-quote\" data-sitekey=\"6Ldta8EUAAAAACp3yt76yG8QWMdQkpDBkP1bcHi6\" class=\"g-recaptcha g-recaptcha-response \"/>\\n\\n                                <div class=\"input-group-append\">\\n                                    <button type=\"submit\" class=\"btn btn-default\"><i class=\"ti-arrow-right text-small m-0\"></i></button>\\n                                </div>\\n                            </div>\\n</form>\\n\\n                    </div>\\n                </div>\\n            </div>\\n        </div>\\n    </section>\\n\\n\\n<section class=\"half-section bg-extra-dark-gray half-section\">\\n    <div class=\"container\">\\n\\n        <div class=\"row m-0\">\\n            <div class=\"col-12 d-flex flex-column justify-content-center text-center wow fadeIn\" data-wow-delay=\"0.2s\">\\n                <h5 class=\"text-white alt-font font-weight-400 letter-spacing-1 margin-10px-bottom\">INSPIRATIONAL QUOTES</h5>\\n                <span class=\"text-white-2 opacity8 alt-font mb-0 padding-20px-bottom\">Find the perfect quote... and Pass It On\\xc2\\xae</span>\\n\\n                <form class=\"search-box2 margin-30px-bottom\" action=\"/inspirational-quotes\" method=\"get\">\\n                    <div class=\"input-group add-on width-75 mx-auto sm-width-100\">\\n                        <input name=\"q\" type=\"text\" value=\\'\\' placeholder=\"Search our inspiring quotes...\" class=\"form-control\" />\\n                        <div class=\"input-group-append\">\\n                            <button type=\"submit\" class=\"btn btn-default\"><i class=\"ti-search text-small m-0\"></i></button>\\n                        </div>\\n                    </div>\\n                </form>\\n\\n            </div>\\n        </div>\\n\\n        <div class=\\'row\\' id=\\'all_quotes\\'>\\n            <div class=\"col-6 col-lg-3 text-center margin-30px-bottom sm-margin-30px-top\">\\n\\n        <a href=\"/inspirational-quotes/8102-just-as-we-develop-our-physical-muscles-through\"><img alt=\"Just as we develop our physical muscles through overcoming opposition \\xe2\\x80\\x93 such as lifting weights \\xe2\\x80\\x93 we develop our character muscles by overcoming challenges and adversity. #&lt;Author:0x00007f0fd799f488&gt;\" class=\"margin-10px-bottom shadow\" src=\"https://assets.passiton.com/quotes/quote_artwork/8102/medium/20200723_thursday_quote.jpg?1595011009\" width=\"310\" height=\"310\" /></a>\\n        <h5 class=\\'value_on_red\\'><a href=\"/inspirational-quotes/8102-just-as-we-develop-our-physical-muscles-through\">CHARACTER</a></h5>\\n\\n</div><div class=\"col-6 col-lg-3 text-center margin-30px-bottom sm-margin-30px-top\">\\n\\n        <a href=\"/inspirational-quotes/8101-our-ability-to-handle-life-s-challenges-is-a\"><img alt=\"Our ability to handle life\\xe2\\x80\\x99s challenges is a measure of our strength of character. #&lt;Author:0x00007f0fd79bd050&gt;\" class=\"margin-10px-bottom shadow\" src=\"https://assets.passiton.com/quotes/quote_artwork/8101/medium/20200722_wednesday_quote.jpg?1595010982\" width=\"310\" height=\"310\" /></a>\\n        <h5 class=\\'value_on_red\\'><a href=\"/inspirational-quotes/8101-our-ability-to-handle-life-s-challenges-is-a\">CHARACTER</a></h5>\\n\\n</div><div class=\"col-6 col-lg-3 text-center margin-30px-bottom sm-margin-30px-top\">\\n\\n        <a href=\"/inspirational-quotes/7364-good-character-is-more-to-be-praised-than\"><img alt=\"Good character is more to be praised than outstanding talent. Most talents are to some extent a gift. Good character, by contrast, is not given to us. We have to build it piece by piece by thought, choice, courage and determination. #&lt;Author:0x00007f0fd79e1590&gt;\" class=\"margin-10px-bottom shadow\" src=\"https://assets.passiton.com/quotes/quote_artwork/7364/medium/20200721_tuesday_quote.jpg?1595010959\" width=\"310\" height=\"310\" /></a>\\n        <h5 class=\\'value_on_red\\'><a href=\"/inspirational-quotes/7364-good-character-is-more-to-be-praised-than\">CHARACTER</a></h5>\\n\\n</div><div class=\"col-6 col-lg-3 text-center margin-30px-bottom sm-margin-30px-top\">\\n\\n        <a href=\"/inspirational-quotes/4393-people-grow-through-experience-if-they-meet\"><img alt=\"People grow through experience if they meet life honestly and courageously. This is how character is built. #&lt;Author:0x00007f0fd7a0ca38&gt;\" class=\"margin-10px-bottom shadow\" src=\"https://assets.passiton.com/quotes/quote_artwork/4393/medium/20200720_monday_quote.jpg?1595010931\" width=\"310\" height=\"310\" /></a>\\n        <h5 class=\\'value_on_red\\'><a href=\"/inspirational-quotes/4393-people-grow-through-experience-if-they-meet\">CHARACTER</a></h5>\\n\\n</div><div class=\"col-6 col-lg-3 text-center margin-30px-bottom sm-margin-30px-top\">\\n\\n        <a href=\"/inspirational-quotes/8100-a-life-lived-with-integrity-is-a-shining-star\"><img alt=\"A life lived with integrity\\xe2\\x80\\xa6 is a shining star in whose light others may follow in the years to come. #&lt;Author:0x00007f0fd7a43588&gt;\" class=\"margin-10px-bottom shadow\" src=\"https://assets.passiton.com/quotes/quote_artwork/8100/medium/20200717_friday_quote.jpg?1594411651\" width=\"310\" height=\"310\" /></a>\\n        <h5 class=\\'value_on_red\\'><a href=\"/inspirational-quotes/8100-a-life-lived-with-integrity-is-a-shining-star\">INTEGRITY</a></h5>\\n\\n</div><div class=\"col-6 col-lg-3 text-center margin-30px-bottom sm-margin-30px-top\">\\n\\n        <a href=\"/inspirational-quotes/8099-the-greatness-of-a-man-is-not-in-how-much\"><img alt=\"The greatness of a man is not in how much wealth he acquires, but in his integrity and his ability to affect those around him positively. #&lt;Author:0x00007f0fd7a71d70&gt;\" class=\"margin-10px-bottom shadow\" src=\"https://assets.passiton.com/quotes/quote_artwork/8099/medium/20200716_thursday_quote.jpg?1594411624\" width=\"310\" height=\"310\" /></a>\\n        <h5 class=\\'value_on_red\\'><a href=\"/inspirational-quotes/8099-the-greatness-of-a-man-is-not-in-how-much\">INTEGRITY</a></h5>\\n\\n</div><div class=\"col-6 col-lg-3 text-center margin-30px-bottom sm-margin-30px-top\">\\n\\n        <a href=\"/inspirational-quotes/7654-real-integrity-is-doing-the-right-thing\"><img alt=\"Real integrity is doing the right thing, knowing that nobody\\xe2\\x80\\x99s going to know whether you did it or not. #&lt;Author:0x00007f0fd7aa20d8&gt;\" class=\"margin-10px-bottom shadow\" src=\"https://assets.passiton.com/quotes/quote_artwork/7654/medium/20200715_wednesday_quote.jpg?1594411583\" width=\"310\" height=\"310\" /></a>\\n        <h5 class=\\'value_on_red\\'><a href=\"/inspirational-quotes/7654-real-integrity-is-doing-the-right-thing\">INTEGRITY</a></h5>\\n\\n</div><div class=\"col-6 col-lg-3 text-center margin-30px-bottom sm-margin-30px-top\">\\n\\n        <a href=\"/inspirational-quotes/8098-the-time-is-always-right-to-do-what-is-right\"><img alt=\"The time is always right to do what is right. #&lt;Author:0x00007f0fd7ad2378&gt;\" class=\"margin-10px-bottom shadow\" src=\"https://assets.passiton.com/quotes/quote_artwork/8098/medium/20200714_tuesday_quote.jpg?1594411553\" width=\"310\" height=\"310\" /></a>\\n        <h5 class=\\'value_on_red\\'><a href=\"/inspirational-quotes/8098-the-time-is-always-right-to-do-what-is-right\">INTEGRITY</a></h5>\\n\\n</div><div class=\"col-6 col-lg-3 text-center margin-30px-bottom sm-margin-30px-top\">\\n\\n        <a href=\"/inspirational-quotes/7655-integrity-is-choosing-courage-over-comfort\"><img alt=\"Integrity is choosing courage over comfort; choosing what is right over what is fun, fast, or easy; and choosing to practice our values rather than simply professing them. #&lt;Author:0x00007f0fd7b03680&gt;\" class=\"margin-10px-bottom shadow\" src=\"https://assets.passiton.com/quotes/quote_artwork/7655/medium/20200713_monday_quote.jpg?1594411527\" width=\"310\" height=\"310\" /></a>\\n        <h5 class=\\'value_on_red\\'><a href=\"/inspirational-quotes/7655-integrity-is-choosing-courage-over-comfort\">INTEGRITY</a></h5>\\n\\n</div><div class=\"col-6 col-lg-3 text-center margin-30px-bottom sm-margin-30px-top\">\\n\\n        <a href=\"/inspirational-quotes/8097-we-are-all-in-this-together\"><img alt=\"We are all in this together. #&lt;Author:0x00007f0fd7b31828&gt;\" class=\"margin-10px-bottom shadow\" src=\"https://assets.passiton.com/quotes/quote_artwork/8097/medium/20200710_friday_quote_alternate.jpg?1593898946\" width=\"310\" height=\"310\" /></a>\\n        <h5 class=\\'value_on_red\\'><a href=\"/inspirational-quotes/8097-we-are-all-in-this-together\">UNITY</a></h5>\\n\\n</div><div class=\"col-6 col-lg-3 text-center margin-30px-bottom sm-margin-30px-top\">\\n\\n        <a href=\"/inspirational-quotes/7586-the-essence-of-the-beautiful-is-unity-in-variety\"><img alt=\"The essence of the beautiful is unity in variety. #&lt;Author:0x00007f0fd7bbd8f0&gt;\" class=\"margin-10px-bottom shadow\" src=\"https://assets.passiton.com/quotes/quote_artwork/7586/medium/20200709_thursday_quote.jpg?1593731309\" width=\"310\" height=\"310\" /></a>\\n        <h5 class=\\'value_on_red\\'><a href=\"/inspirational-quotes/7586-the-essence-of-the-beautiful-is-unity-in-variety\">UNITY</a></h5>\\n\\n</div><div class=\"col-6 col-lg-3 text-center margin-30px-bottom sm-margin-30px-top\">\\n\\n        <a href=\"/inspirational-quotes/7941-unity-is-strength-when-there-is-teamwork-and\"><img alt=\"Unity is strength\\xe2\\x80\\xa6when there is teamwork and collaboration, wonderful things can be achieved. #&lt;Author:0x00007f0fd7be5288&gt;\" class=\"margin-10px-bottom shadow\" src=\"https://assets.passiton.com/quotes/quote_artwork/7941/medium/20200708_wednesday_quote.jpg?1593731279\" width=\"310\" height=\"310\" /></a>\\n        <h5 class=\\'value_on_red\\'><a href=\"/inspirational-quotes/7941-unity-is-strength-when-there-is-teamwork-and\">UNITY</a></h5>\\n\\n</div><div class=\"col-6 col-lg-3 text-center margin-30px-bottom sm-margin-30px-top\">\\n\\n        <a href=\"/inspirational-quotes/8096-unity-does-not-mean-sameness-it-means-oneness\"><img alt=\"Unity does not mean sameness. It means oneness of purpose. #&lt;Author:0x000055df8e5cc4c0&gt;\" class=\"margin-10px-bottom shadow\" src=\"https://assets.passiton.com/quotes/quote_artwork/8096/medium/20200707_tuesday_quote.jpg?1593731221\" width=\"310\" height=\"310\" /></a>\\n        <h5 class=\\'value_on_red\\'><a href=\"/inspirational-quotes/8096-unity-does-not-mean-sameness-it-means-oneness\">UNITY</a></h5>\\n\\n</div><div class=\"col-6 col-lg-3 text-center margin-30px-bottom sm-margin-30px-top\">\\n\\n        <a href=\"/inspirational-quotes/8095-the-foundation-of-freedom-is-unity\"><img alt=\"The foundation of freedom is unity. #&lt;Author:0x000055df8ee97398&gt;\" class=\"margin-10px-bottom shadow\" src=\"https://assets.passiton.com/quotes/quote_artwork/8095/medium/20200706_monday_quote.jpg?1593731201\" width=\"310\" height=\"310\" /></a>\\n        <h5 class=\\'value_on_red\\'><a href=\"/inspirational-quotes/8095-the-foundation-of-freedom-is-unity\">UNITY</a></h5>\\n\\n</div><div class=\"col-6 col-lg-3 text-center margin-30px-bottom sm-margin-30px-top\">\\n\\n        <a href=\"/inspirational-quotes/7780-freedom-lies-in-being-bold\"><img alt=\"Freedom lies in being bold. #&lt;Author:0x000055df8f9e5ab0&gt;\" class=\"margin-10px-bottom shadow\" src=\"https://assets.passiton.com/quotes/quote_artwork/7780/medium/20200703_friday_quote.jpg?1593310853\" width=\"310\" height=\"310\" /></a>\\n        <h5 class=\\'value_on_red\\'><a href=\"/inspirational-quotes/7780-freedom-lies-in-being-bold\">HUMILITY</a></h5>\\n\\n</div><div class=\"col-6 col-lg-3 text-center margin-30px-bottom sm-margin-30px-top\">\\n\\n        <a href=\"/inspirational-quotes/8092-there-is-nothing-noble-in-being-superior-to\"><img alt=\"There is nothing noble in being superior to your fellow man; true nobility is being superior to your former self. #&lt;Author:0x000055df8fb226a8&gt;\" class=\"margin-10px-bottom shadow\" src=\"https://assets.passiton.com/quotes/quote_artwork/8092/medium/20200702_thursday_quote.jpg?1593310767\" width=\"310\" height=\"310\" /></a>\\n        <h5 class=\\'value_on_red\\'><a href=\"/inspirational-quotes/8092-there-is-nothing-noble-in-being-superior-to\">HUMILITY</a></h5>\\n\\n</div><div class=\"col-6 col-lg-3 text-center margin-30px-bottom sm-margin-30px-top\">\\n\\n        <a href=\"/inspirational-quotes/8094-humility-is-the-solid-foundation-of-all-virtues\"><img alt=\"Humility is the solid foundation of all virtues. #&lt;Author:0x000055df8fcc7800&gt;\" class=\"margin-10px-bottom shadow\" src=\"https://assets.passiton.com/quotes/quote_artwork/8094/medium/20200701_wednesday_quote.jpg?1593310736\" width=\"310\" height=\"310\" /></a>\\n        <h5 class=\\'value_on_red\\'><a href=\"/inspirational-quotes/8094-humility-is-the-solid-foundation-of-all-virtues\">HUMILITY</a></h5>\\n\\n</div><div class=\"col-6 col-lg-3 text-center margin-30px-bottom sm-margin-30px-top\">\\n\\n        <a href=\"/inspirational-quotes/8091-every-person-that-you-meet-knows-something-you\"><img alt=\"Every person that you meet knows something you don&#39;t; learn from them. #&lt;Author:0x000055df915fb4c0&gt;\" class=\"margin-10px-bottom shadow\" src=\"https://assets.passiton.com/quotes/quote_artwork/8091/medium/20200630_tuesday_quote.jpg?1593310664\" width=\"310\" height=\"310\" /></a>\\n        <h5 class=\\'value_on_red\\'><a href=\"/inspirational-quotes/8091-every-person-that-you-meet-knows-something-you\">HUMILITY</a></h5>\\n\\n</div><div class=\"col-6 col-lg-3 text-center margin-30px-bottom sm-margin-30px-top\">\\n\\n        <a href=\"/inspirational-quotes/8090-being-humble-means-recognizing-that-we-are-not\"><img alt=\"Being humble means recognizing that we are not on earth to see how important we can become, but to see how much difference we can make in the lives of others. #&lt;Author:0x000055df9168a080&gt;\" class=\"margin-10px-bottom shadow\" src=\"https://assets.passiton.com/quotes/quote_artwork/8090/medium/20200629_monday_quote.jpg?1593310636\" width=\"310\" height=\"310\" /></a>\\n        <h5 class=\\'value_on_red\\'><a href=\"/inspirational-quotes/8090-being-humble-means-recognizing-that-we-are-not\">HUMILITY</a></h5>\\n\\n</div><div class=\"col-6 col-lg-3 text-center margin-30px-bottom sm-margin-30px-top\">\\n\\n        <a href=\"/inspirational-quotes/8088-if-there-is-any-kindness-i-can-show-or-any\"><img alt=\"If there is any kindness I can show, or any good thing I can do to any fellow being, let me do it now, and not deter or neglect it, as I shall not pass this way again. #&lt;Author:0x000055df9170d408&gt;\" class=\"margin-10px-bottom shadow\" src=\"https://assets.passiton.com/quotes/quote_artwork/8088/medium/20200625_thursday_quote.jpg?1592603953\" width=\"310\" height=\"310\" /></a>\\n        <h5 class=\\'value_on_red\\'><a href=\"/inspirational-quotes/8088-if-there-is-any-kindness-i-can-show-or-any\">COMPASSION</a></h5>\\n\\n</div><div class=\"col-6 col-lg-3 text-center margin-30px-bottom sm-margin-30px-top\">\\n\\n        <a href=\"/inspirational-quotes/4435-compassion-is-not-just-feeling-with-someone\"><img alt=\"Compassion is not just feeling with someone, but seeking to change the situation\\xe2\\x80\\xa6 if you are going to be compassionate, be prepared for action! #&lt;Author:0x000055df91787820&gt;\" class=\"margin-10px-bottom shadow\" src=\"https://assets.passiton.com/quotes/quote_artwork/4435/medium/20200622_monday_quote.jpg?1592603537\" width=\"310\" height=\"310\" /></a>\\n        <h5 class=\\'value_on_red\\'><a href=\"/inspirational-quotes/4435-compassion-is-not-just-feeling-with-someone\">COMPASSION</a></h5>\\n\\n</div><div class=\"col-6 col-lg-3 text-center margin-30px-bottom sm-margin-30px-top\">\\n\\n        <a href=\"/inspirational-quotes/7416-compassion-is-the-sometimes-fatal-capacity-for\"><img alt=\"Compassion is the sometimes fatal capacity for feeling what it is like to live inside somebody else&#39;s skin. It&#39;s the knowledge that there can never really be any peace and joy for me until there is peace and joy finally for you too. #&lt;Author:0x000055df917e4548&gt;\" class=\"margin-10px-bottom shadow\" src=\"https://assets.passiton.com/quotes/quote_artwork/7416/medium/20200624_wednesday_quote.jpg?1592603810\" width=\"310\" height=\"310\" /></a>\\n        <h5 class=\\'value_on_red\\'><a href=\"/inspirational-quotes/7416-compassion-is-the-sometimes-fatal-capacity-for\">COMPASSION</a></h5>\\n\\n</div><div class=\"col-6 col-lg-3 text-center margin-30px-bottom sm-margin-30px-top\">\\n\\n        <a href=\"/inspirational-quotes/7234-be-kind-for-everyone-you-meet-is-fighting-a\"><img alt=\"Be kind, for everyone you meet is fighting a harder battle. #&lt;Author:0x000055df91838008&gt;\" class=\"margin-10px-bottom shadow\" src=\"https://assets.passiton.com/quotes/quote_artwork/7234/medium/20200623_tuesday_quote.jpg?1592603574\" width=\"310\" height=\"310\" /></a>\\n        <h5 class=\\'value_on_red\\'><a href=\"/inspirational-quotes/7234-be-kind-for-everyone-you-meet-is-fighting-a\">COMPASSION</a></h5>\\n\\n</div><div class=\"col-6 col-lg-3 text-center margin-30px-bottom sm-margin-30px-top\">\\n\\n        <a href=\"/inspirational-quotes/8089-true-compassion-means-not-only-feeling-anothers\"><img alt=\"True compassion means not only feeling another&#39;s pain but also being moved to help relieve it.  #&lt;Author:0x000055df918e2940&gt;\" class=\"margin-10px-bottom shadow\" src=\"https://assets.passiton.com/quotes/quote_artwork/8089/medium/20200626_friday_quote.jpg?1592604099\" width=\"310\" height=\"310\" /></a>\\n        <h5 class=\\'value_on_red\\'><a href=\"/inspirational-quotes/8089-true-compassion-means-not-only-feeling-anothers\">COMPASSION</a></h5>\\n\\n</div><div class=\"col-6 col-lg-3 text-center margin-30px-bottom sm-margin-30px-top\">\\n\\n        <a href=\"/inspirational-quotes/8087-treat-people-the-way-you-want-to-be-treated\"><img alt=\"Treat people the way you want to be treated. Talk to people the way you want to be talked to. Respect is earned, not given. #&lt;Author:0x000055df91979868&gt;\" class=\"margin-10px-bottom shadow\" src=\"https://assets.passiton.com/quotes/quote_artwork/8087/medium/20200619_friday_quote.jpg?1591992439\" width=\"310\" height=\"310\" /></a>\\n        <h5 class=\\'value_on_red\\'><a href=\"/inspirational-quotes/8087-treat-people-the-way-you-want-to-be-treated\">RESPECT</a></h5>\\n\\n</div><div class=\"col-6 col-lg-3 text-center margin-30px-bottom sm-margin-30px-top\">\\n\\n        <a href=\"/inspirational-quotes/8086-respect-is-one-of-the-greatest-expressions-of\"><img alt=\"Respect is one of the greatest expressions of love. #&lt;Author:0x000055df91a1d918&gt;\" class=\"margin-10px-bottom shadow\" src=\"https://assets.passiton.com/quotes/quote_artwork/8086/medium/20200618_thursday_quote.jpg?1591992413\" width=\"310\" height=\"310\" /></a>\\n        <h5 class=\\'value_on_red\\'><a href=\"/inspirational-quotes/8086-respect-is-one-of-the-greatest-expressions-of\">RESPECT</a></h5>\\n\\n</div><div class=\"col-6 col-lg-3 text-center margin-30px-bottom sm-margin-30px-top\">\\n\\n        <a href=\"/inspirational-quotes/8085-every-human-being-of-whatever-origin-of\"><img alt=\"Every human being, of whatever origin, of whatever station, deserves respect. We must each respect others even as we respect ourselves. #&lt;Author:0x000055df91a87200&gt;\" class=\"margin-10px-bottom shadow\" src=\"https://assets.passiton.com/quotes/quote_artwork/8085/medium/20200617_wednesday_quote.jpg?1591992357\" width=\"310\" height=\"310\" /></a>\\n        <h5 class=\\'value_on_red\\'><a href=\"/inspirational-quotes/8085-every-human-being-of-whatever-origin-of\">RESPECT</a></h5>\\n\\n</div><div class=\"col-6 col-lg-3 text-center margin-30px-bottom sm-margin-30px-top\">\\n\\n        <a href=\"/inspirational-quotes/7559-respect-is-love-in-action\"><img alt=\"Respect is love in action. #&lt;Author:0x000055df91b56280&gt;\" class=\"margin-10px-bottom shadow\" src=\"https://assets.passiton.com/quotes/quote_artwork/7559/medium/20200616_tuesday_quote.jpg?1591992336\" width=\"310\" height=\"310\" /></a>\\n        <h5 class=\\'value_on_red\\'><a href=\"/inspirational-quotes/7559-respect-is-love-in-action\">RESPECT</a></h5>\\n\\n</div><div class=\"col-6 col-lg-3 text-center margin-30px-bottom sm-margin-30px-top\">\\n\\n        <a href=\"/inspirational-quotes/7276-for-to-be-free-is-not-merely-to-cast-off-ones\"><img alt=\"For to be free is not merely to cast off one&#39;s chains, but to live in a way that respects and enhances the freedom of others. #&lt;Author:0x000055df91dd3418&gt;\" class=\"margin-10px-bottom shadow\" src=\"https://assets.passiton.com/quotes/quote_artwork/7276/medium/20200615_monday_quote.jpg?1591992311\" width=\"310\" height=\"310\" /></a>\\n        <h5 class=\\'value_on_red\\'><a href=\"/inspirational-quotes/7276-for-to-be-free-is-not-merely-to-cast-off-ones\">RESPECT</a></h5>\\n\\n</div><div class=\"col-6 col-lg-3 text-center margin-30px-bottom sm-margin-30px-top\">\\n\\n        <a href=\"/inspirational-quotes/7883-deep-listening-is-the-kind-of-listening-that\"><img alt=\"Deep listening is the kind of listening that can help relieve the suffering of another person... You listen with only one purpose: to help him or her to empty their heart.  #&lt;Author:0x000055df91e741b0&gt;\" class=\"margin-10px-bottom shadow\" src=\"https://assets.passiton.com/quotes/quote_artwork/7883/medium/thich_updated_quote_artwork.jpg?1591982830\" width=\"310\" height=\"310\" /></a>\\n        <h5 class=\\'value_on_red\\'><a href=\"/inspirational-quotes/7883-deep-listening-is-the-kind-of-listening-that\">LISTENING</a></h5>\\n\\n</div><div class=\"col-6 col-lg-3 text-center margin-30px-bottom sm-margin-30px-top\">\\n\\n        <a href=\"/inspirational-quotes/5292-the-most-basic-of-all-human-needs-is-the-need\"><img alt=\"The most basic of all human needs is the need to understand and be understood. The best way to understand people is to listen to them. #&lt;Author:0x000055df91f1f948&gt;\" class=\"margin-10px-bottom shadow\" src=\"https://assets.passiton.com/quotes/quote_artwork/5292/medium/20200611_thursday_quote.jpg?1591393755\" width=\"310\" height=\"310\" /></a>\\n        <h5 class=\\'value_on_red\\'><a href=\"/inspirational-quotes/5292-the-most-basic-of-all-human-needs-is-the-need\">LISTENING</a></h5>\\n\\n</div><div class=\"col-6 col-lg-3 text-center margin-30px-bottom sm-margin-30px-top\">\\n\\n        <a href=\"/inspirational-quotes/8081-one-of-the-most-sincere-forms-of-respect-is\"><img alt=\"One of the most sincere forms of respect is actually listening to what another has to say. #&lt;Author:0x000055df91fd77a0&gt;\" class=\"margin-10px-bottom shadow\" src=\"https://assets.passiton.com/quotes/quote_artwork/8081/medium/20200609_tuesday_quote.jpg?1591393705\" width=\"310\" height=\"310\" /></a>\\n        <h5 class=\\'value_on_red\\'><a href=\"/inspirational-quotes/8081-one-of-the-most-sincere-forms-of-respect-is\">LISTENING</a></h5>\\n\\n</div>\\n        </div>\\n\\n        <div class=\"row\">\\n            <div class=\"col-12 text-center\">\\n                <div class=\"quotes_pagination\"><a class=\"previous_page\" rel=\"prev\" href=\"/inspirational-quotes?page=1\">&#8592; Previous</a> <a rel=\"prev\" href=\"/inspirational-quotes?page=1\">1</a> <em class=\"current\">2</em> <a rel=\"next\" href=\"/inspirational-quotes?page=3\">3</a> <a href=\"/inspirational-quotes?page=4\">4</a> <a href=\"/inspirational-quotes?page=5\">5</a> <a href=\"/inspirational-quotes?page=6\">6</a> <a href=\"/inspirational-quotes?page=7\">7</a> <a href=\"/inspirational-quotes?page=8\">8</a> <a href=\"/inspirational-quotes?page=9\">9</a> <span class=\"gap\">&hellip;</span> <a href=\"/inspirational-quotes?page=118\">118</a> <a href=\"/inspirational-quotes?page=119\">119</a> <a class=\"next_page\" rel=\"next\" href=\"/inspirational-quotes?page=3\">Next &#8594;</a></div>\\n            </div>\\n        </div>\\n\\n    </div>\\n</section>\\n        <footer class=\"footer-classic-dark bg-extra-dark-gray padding-five-bottom sm-padding-30px-bottom\">\\n    <div class=\"bg-dark-footer padding-50px-tb sm-padding-30px-tb\">\\n        <div class=\"container\">\\n            <div class=\"row align-items-center\">\\n\\n                <div class=\"col-lg-4 col-md-5 text-center alt-font sm-margin-15px-bottom\">\\n                    Pass It On<sup>\\xc2\\xae</sup>\\n                </div>\\n\\n                <div class=\"col-lg-4 col-md-2 text-center sm-margin-10px-bottom\">\\n                    <a href=\"/\"><img class=\"footer-logo\" data-rjs=\"/assets/site/fbl_logo-b50da7cb3567063fca4dec74f28f07c4.png\" alt=\"The Foundation for a Better Life\" src=\"/assets/site/fbl_logo-b50da7cb3567063fca4dec74f28f07c4.png\" /></a>\\n                </div>\\n\\n                <div class=\"col-lg-4 col-md-5 text-center\">\\n                    <span class=\"alt-font margin-20px-right\">Follow us on social</span>\\n                    <div class=\"social-icon-style-8 d-inline-block vertical-align-middle\">\\n                        <ul class=\"small-icon mb-0\">\\n                            <li><a class=\"facebook text-white-2\" href=\"https://www.facebook.com/valuescom\" target=\"_blank\"><i class=\"fab fa-facebook-f\" aria-hidden=\"true\"></i></a></li>\\n                            <li><a class=\"twitter text-white-2\" href=\"https://twitter.com/passiton_values\" target=\"_blank\"><i class=\"fab fa-twitter\"></i></a></li>\\n                            <li><a class=\"instagram text-white-2\" href=\"https://www.instagram.com/passiton_values/\" target=\"_blank\"><i class=\"fab fa-instagram no-margin-right\" aria-hidden=\"true\"></i></a></li>\\n                            <li><a class=\"pinterest text-white-2\" href=\"https://www.pinterest.com/passiton_values/\" target=\"_blank\"><i class=\"fab fa-pinterest no-margin-right\" aria-hidden=\"true\"></i></a></li>\\n                            <li><a class=\"youtube text-white-2\" href=\"https://www.youtube.com/c/passiton_values\" target=\"_blank\"><i class=\"fab fa-youtube no-margin-right\" aria-hidden=\"true\"></i></a></li>\\n                        </ul>\\n                    </div>\\n                </div>\\n\\n            </div>\\n        </div>\\n    </div>\\n    <div class=\"footer-widget-area padding-five-top padding-30px-bottom sm-padding-30px-top\">\\n        <div class=\"container\">\\n            <div class=\"row\">\\n\\n                <div class=\"col-lg-3 col-md-6 widget border-right border-color-medium-dark-gray padding-45px-left md-padding-15px-left md-no-border-right md-margin-30px-bottom text-center text-md-left\">\\n                    <div class=\"widget-title alt-font text-small text-medium-gray text-uppercase margin-10px-bottom font-weight-600\">About Us</div>\\n                    <ul class=\"list-unstyled\">\\n                        <li><a class=\"text-small\" href=\"/who-we-are\">About The Foundation for a Better Life</a></li>\\n                        <li><a class=\"text-small\" href=\"/faqs\">FAQs</a></li>\\n                        <li><a class=\"text-small\" href=\"/foundation-recognition\">Foundation Recognition</a></li>\\n                        <li><a class=\"text-small\" href=\"/contact-us\">Contact Us</a></li>\\n                    </ul>\\n                </div>\\n\\n                <div class=\"col-lg-3 col-md-6 widget border-right border-color-medium-dark-gray padding-45px-left md-padding-15px-left md-no-border-right md-margin-30px-bottom text-center text-md-left\">\\n                    <div class=\"widget-title alt-font text-small text-medium-gray text-uppercase margin-10px-bottom font-weight-600\">Be Inspired</div>\\n                    <ul class=\"list-unstyled\">\\n                        <li><a class=\"text-small\" href=\"/teaching-values\">Teaching Values</a></li>\\n                        <li><a class=\"text-small\" href=\"/inspirational-quotes\">Inspirational Quotations</a></li>\\n                        <li><a class=\"text-small\" href=\"/inspirational-stories-tv-spots\">Pass It On\\xc2\\xae Videos</a></li>\\n                        <li><a class=\"text-small\" href=\"/your-everyday-heroes\">Who&#39;s Your Hero Stories</a></li>\\n                        <li><a class=\"text-small\" href=\"/inspirational-sayings-billboards\">Official Billboard Campaign</a></li>\\n                        <li><a class=\"text-small\" href=\"/your-billboards\">Create Your Own Billboard</a></li>\\n                        <li><a class=\"text-small\" href=\"/radio\">Radio Ads</a></li>\\n                        <li><a class=\"text-small\" href=\"/passiton-blog\">Pass It On\\xc2\\xae Blog</a></li>\\n                        <li><a class=\"text-small\" href=\"/inspirational-audio-stories\">Podcasts</a></li>\\n                        <li><a class=\"text-small\" href=\"/pass-it-on-ecards\">Send an Ecard</a></li>\\n                    </ul>\\n                </div>\\n\\n                <div class=\"col-lg-3 col-md-6 widget border-right border-color-medium-dark-gray padding-45px-left md-padding-15px-left md-no-border-right md-margin-30px-bottom text-center text-md-left\">\\n                    <div class=\"widget-title alt-font text-small text-medium-gray text-uppercase margin-10px-bottom font-weight-600\">For Schools</div>\\n                    <ul class=\"list-unstyled\">\\n                        <li><a class=\"text-small\" href=\"/poster-requests/new\">Free Posters &amp; DVD for Schools</a></li>\\n                        <li><a class=\"text-small\" href=\"/pass-it-on-downloads\">Downloads</a></li>\\n                    </ul>\\n                </div>\\n\\n                <div class=\"col-lg-3 col-md-6 widget padding-45px-left md-padding-15px-left md-no-border-right md-margin-30px-bottom text-center text-md-left\">\\n                    <div class=\"widget-title alt-font text-small text-medium-gray text-uppercase margin-10px-bottom font-weight-600\">For Media Companies</div>\\n                    <ul class=\"list-unstyled\">\\n                        <li><a class=\"text-small\" href=\"/for-media-companies\">For Media Companies</a></li>\\n                        <li><a class=\"text-small\" href=\"https://www.passiton-media.com\">Broadcast Quality PSA Downloads</a></li>\\n                        <li><a class=\"text-small\" href=\"https://www.passiton-media.com\">Pass It On Radio Ads</a></li>\\n                        <li><a class=\"text-small\" href=\"https://www.passiton-media.com\">Live Reads</a></li>\\n                        <li><a class=\"text-small\" href=\"https://www.passiton-media.com\">Out of Home Materials</a></li>\\n                    </ul>\\n                    <div class=\\'row sm-margin-30px-top\\'>\\n                        <div class=\\'col-lg-4\\'>\\n                            <a href=\"/\"><img style=\"max-width: 70px;\" src=\"/assets/site/values_logo-cd29ec5f2f086673ac42962263d07e02.png\" alt=\"Values logo\" /></a>\\n                        </div>\\n                        <div class=\\'col-lg-7\\'>\\n                            <p class=\\'text-medium-gray text-small padding-10px-top\\'>VALUES.COM<small>\\xc2\\xae</small> is now PassItOn.com<small>\\xc2\\xae</small></p>\\n                        </div>\\n                    </div>\\n                </div>\\n\\n            </div>\\n        </div>\\n    </div>\\n    <div class=\"container\">\\n        <div class=\"footer-bottom border-top border-color-medium-dark-gray padding-30px-top\">\\n            <div class=\"row\">\\n                <div class=\"col-lg-6 col-md-6 text-small text-md-left text-center\">\\xc2\\xa92000-2020 The Foundation for a Better Life.</div>\\n                <div class=\"col-lg-6 col-md-6 text-small text-md-right text-center\"><a href=\"/privacy-policy\">Privacy Policy</a>&nbsp;&nbsp;&nbsp;|&nbsp;&nbsp;&nbsp;<a href=\"/terms-of-use\">Terms of Use</a></div>\\n            </div>\\n        </div>\\n    </div>\\n</footer>\\n        <a class=\"scroll-top-arrow\" href=\"javascript:void(0);\"><i class=\"ti-arrow-up\"></i></a>\\n        <script src=\"https://cdnjs.cloudflare.com/ajax/libs/jquery/1.12.4/jquery.js\"></script>\\n        <script src=\"https://cdnjs.cloudflare.com/ajax/libs/popper.js/1.14.7/umd/popper.min.js\" integrity=\"sha384-UO2eT0CpHqdSJQ6hJty5KVphtPhzWj9WO1clHTMGa3JDZwrnQq4sF86dIHNDz0W1\" crossorigin=\"anonymous\"></script>\\n        <script src=\"https://stackpath.bootstrapcdn.com/bootstrap/4.3.1/js/bootstrap.min.js\" integrity=\"sha384-JjSmVgyd0p3pXB1rRibZUAYoIIy6OrQ6VrjIEaFf/nJGzIxFDsf4x0xIM+B07jRM\" crossorigin=\"anonymous\"></script>\\n        <script src=\"/assets/pofo-3d0d89a27285d93c09e0f4c1fc85cead.js\"></script>\\n        \\n    </body>\\n</html>\\n'"
      ]
     },
     "execution_count": 8,
     "metadata": {},
     "output_type": "execute_result"
    }
   ],
   "source": [
    "r.content"
   ]
  },
  {
   "cell_type": "code",
   "execution_count": 19,
   "metadata": {},
   "outputs": [
    {
     "data": {
      "text/plain": [
       "bs4.BeautifulSoup"
      ]
     },
     "execution_count": 19,
     "metadata": {},
     "output_type": "execute_result"
    }
   ],
   "source": [
    "#parse it into html\n",
    "soup"
   ]
  },
  {
   "cell_type": "code",
   "execution_count": 20,
   "metadata": {},
   "outputs": [],
   "source": [
    "quotes_soup = soup(r.content)"
   ]
  },
  {
   "cell_type": "code",
   "execution_count": 22,
   "metadata": {},
   "outputs": [
    {
     "data": {
      "text/plain": [
       "<!DOCTYPE html>\n",
       "<html class=\"no-js\" dir=\"ltr\" lang=\"en-US\">\n",
       "<head>\n",
       "<title>Inspirational Quotes - Motivational Quotes - Leadership Quotes | Page 2 | PassItOn.com</title>\n",
       "<meta charset=\"utf-8\"/>\n",
       "<meta content=\"text/html; charset=utf-8\" http-equiv=\"content-type\"/>\n",
       "<meta content=\"IE=edge\" http-equiv=\"X-UA-Compatible\"/>\n",
       "<meta content=\"width=device-width,initial-scale=1.0,maximum-scale=1\" name=\"viewport\"/>\n",
       "<meta content=\"The Foundation for a Better Life | Pass It On.com\" name=\"description\"/>\n",
       "<link href=\"/apple-touch-icon.png\" rel=\"apple-touch-icon\" sizes=\"180x180\"/>\n",
       "<link href=\"/favicon-32x32.png\" rel=\"icon\" sizes=\"32x32\" type=\"image/png\"/>\n",
       "<link href=\"/favicon-16x16.png\" rel=\"icon\" sizes=\"16x16\" type=\"image/png\"/>\n",
       "<link href=\"/site.webmanifest\" rel=\"manifest\"/>\n",
       "<link color=\"#c8102e\" href=\"/safari-pinned-tab.svg\" rel=\"mask-icon\"/>\n",
       "<meta content=\"#c8102e\" name=\"msapplication-TileColor\"/>\n",
       "<meta content=\"#ffffff\" name=\"theme-color\"/>\n",
       "<link crossorigin=\"anonymous\" href=\"https://stackpath.bootstrapcdn.com/bootstrap/4.3.1/css/bootstrap.min.css\" integrity=\"sha384-ggOyR0iXCbMQv3Xipma34MD+dH/1fQ784/j6cY/iJTQUOhcWr7x9JvoRxT2MZw1T\" rel=\"stylesheet\"/>\n",
       "<link href=\"/assets/application-c51dbb9f66e05aed042146423dfccd71.css\" media=\"all\" rel=\"stylesheet\"/>\n",
       "<meta content=\"authenticity_token\" name=\"csrf-param\"/>\n",
       "<meta content=\"iW/6l1XE9hbL//TTjW5gS7kzMes9buUWepSebxVPT5cQbL6XRSBSvfYrA6CcT79FZLrvlwCyPc5az+5OJT5I2g==\" name=\"csrf-token\"/>\n",
       "<!-- Global site tag (gtag.js) - Google Analytics -->\n",
       "<script async=\"\" src=\"https://www.googletagmanager.com/gtag/js?id=UA-1179606-29\"></script>\n",
       "<script>\n",
       "          window.dataLayer = window.dataLayer || [];\n",
       "          function gtag(){dataLayer.push(arguments);}\n",
       "          gtag('js', new Date());\n",
       "          gtag('config', 'UA-1179606-29');\n",
       "        </script>\n",
       "<script>\n",
       "          window.fbAsyncInit = function() {\n",
       "            FB.init({\n",
       "              appId            : '483774921971842',\n",
       "              autoLogAppEvents : true,\n",
       "              xfbml            : true,\n",
       "              version          : 'v6.0'\n",
       "            });\n",
       "          };\n",
       "        </script>\n",
       "<script async=\"\" defer=\"\" src=\"https://connect.facebook.net/en_US/sdk.js\"></script>\n",
       "<meta content=\"passiton.com\" property=\"og:site_name\"/>\n",
       "<meta content=\"Inspirational Quotes - Motivational Quotes - Leadership Quotes | Page 2\" property=\"og:title\"/>\n",
       "<meta content=\"website\" property=\"og:type\"/>\n",
       "<meta content=\"https://www.passiton.com/passiton.jpg\" property=\"og:image\"/>\n",
       "<meta content=\"https://www.passiton.com/inspirational-quotes?page=2\" property=\"og:url\"/>\n",
       "<meta content=\"Find the perfect quotation from our hand-picked collection of inspiring quotes by hundreds of authors. | Page 2\" property=\"og:description\"/>\n",
       "<meta content=\"483774921971842\" property=\"fb:app_id\"/>\n",
       "<meta content=\"summary_large_image\" name=\"twitter:card\"/>\n",
       "<meta content=\"@passiton\" name=\"twitter:site\"/>\n",
       "<meta content=\"@passiton\" name=\"twitter:creator\"/>\n",
       "<meta content=\"Inspirational Quotes - Motivational Quotes - Leadership Quotes | Page 2\" name=\"twitter:title\"/>\n",
       "<meta content=\"Find the perfect quotation from our hand-picked collection of inspiring quotes by hundreds of authors. | Page 2\" name=\"twitter:description\"/>\n",
       "<meta content=\"https://www.passiton.com/passiton.jpg\" name=\"twitter:image\"/>\n",
       "<meta content=\"https://www.passiton.com/inspirational-quotes?page=2\" name=\"twitter:url\"/>\n",
       "<meta content=\"passiton.com\" itemprop=\"name\"/>\n",
       "<meta content=\"Find the perfect quotation from our hand-picked collection of inspiring quotes by hundreds of authors. | Page 2\" itemprop=\"description\"/>\n",
       "<meta content=\"https://www.passiton.com/passiton.jpg\" itemprop=\"image\"/>\n",
       "<link href=\"/apple-touch-icon.png\" rel=\"apple-touch-icon\" sizes=\"180x180\"/>\n",
       "<link href=\"/favicon-32x32.png\" rel=\"icon\" sizes=\"32x32\" type=\"image/png\"/>\n",
       "<link href=\"/favicon-16x16.png\" rel=\"icon\" sizes=\"16x16\" type=\"image/png\"/>\n",
       "<link color=\"#C8102E\" href=\"/passiton_arrow.svg\" rel=\"mask-icon\"/>\n",
       "<link href=\"/manifest.json\" rel=\"manifest\"/>\n",
       "<link color=\"#5bbad5\" href=\"/safari-pinned-tab.svg\" rel=\"mask-icon\"/>\n",
       "<meta content=\"passiton\" name=\"apple-mobile-web-app-title\"/>\n",
       "<meta content=\"passiton\" name=\"application-name\"/>\n",
       "<meta content=\"#f1f1f1\" name=\"theme-color\"/>\n",
       "</head>\n",
       "<body class=\"no-transition quotes_index\">\n",
       "<header>\n",
       "<nav class=\"navbar navbar-default bootsnav navbar-fixed-top header-dark white-link background-transparent nav-box-width white-link navbar-expand-lg\">\n",
       "<div class=\"container-fluid nav-header-container\">\n",
       "<div class=\"col-auto pl-0\">\n",
       "<a class=\"logo\" href=\"/\" title=\"Pass It On®\"><img alt=\"Pass It On\" class=\"logo-dark\" data-rjs=\"/assets/site/logo@2x-77b9f4fa1e4bafa6ff119f8f162b7bd9.png\" src=\"/assets/site/logo-6d680decaadef58e4fbb586e147bc135.png\"/><img alt=\"Pass It On\" class=\"logo-light default\" data-rjs=\"/assets/site/logo-white@2x-82bf2486063a48e9207811cc7f6d5e5f.png\" src=\"/assets/site/logo-white-2d99f390ad2f6d3bbf59a52aadb55d60.png\"/></a>\n",
       "</div>\n",
       "<div class=\"col accordion-menu pr-0 pr-md-3\">\n",
       "<button class=\"navbar-toggler collapsed\" data-target=\"#navbar-collapse-toggle-1\" data-toggle=\"collapse\" type=\"button\">\n",
       "<span class=\"sr-only\">toggle navigation</span>\n",
       "<span class=\"icon-bar\"></span>\n",
       "<span class=\"icon-bar\"></span>\n",
       "<span class=\"icon-bar\"></span>\n",
       "</button>\n",
       "<div class=\"navbar-collapse collapse justify-content-end\" id=\"navbar-collapse-toggle-1\">\n",
       "<ul class=\"nav navbar-nav no-margin alt-font text-normal\" data-in=\"fadeIn\" data-out=\"fadeOut\" id=\"accordion\">\n",
       "<li><a href=\"/inspirational-quotes\">Quotes</a></li>\n",
       "<li><a href=\"/inspirational-stories-tv-spots\">Videos</a></li>\n",
       "<li class=\"dropdown simple-dropdown\"><a href=\"/inspirational-sayings-billboards\">Billboards <i aria-hidden=\"true\" class=\"fas fa-angle-down dropdown-toggle\" data-toggle=\"dropdown\"></i></a>\n",
       "<ul class=\"dropdown-menu\" role=\"menu\">\n",
       "<li><a href=\"/inspirational-sayings-billboards\">Official Billboards</a>\n",
       "</li><li><a href=\"/is-in-you\">Is In You® Billboards</a>\n",
       "</li><li><a href=\"/your-billboards\">Create Your Own Billboard</a>\n",
       "</li></ul>\n",
       "</li>\n",
       "<li><a href=\"/radio\">Radio Ads</a></li>\n",
       "<li><a href=\"/passiton-blog\">Blog</a></li>\n",
       "<li class=\"dropdown simple-dropdown\"><a href=\"#\">Language <i aria-hidden=\"true\" class=\"fas fa-angle-down dropdown-toggle\" data-toggle=\"dropdown\"></i></a>\n",
       "<ul class=\"dropdown-menu\" role=\"menu\">\n",
       "<li><a href=\"https://www.pasala.org/\" target=\"_blank\">Spanish | Español</a>\n",
       "</li><li><a href=\"https://www.umavidamelhor.org/\" target=\"_blank\">Portuguese | Português</a>\n",
       "</li><li><a href=\"https://www.values.cn.com/\" target=\"_blank\">Chinese | 中文</a>\n",
       "</li></ul>\n",
       "</li>\n",
       "</ul>\n",
       "</div>\n",
       "</div>\n",
       "<div class=\"col-auto pr-0\">\n",
       "<div class=\"header-searchbar\">\n",
       "<a class=\"header-search-form\" href=\"#search-header\"><i class=\"fas fa-search search-button\"></i></a>\n",
       "<form action=\"/search\" class=\"mfp-hide search-form-result\" id=\"search-header\" method=\"post\" name=\"search-header\">\n",
       "<div class=\"search-form position-relative\">\n",
       "<button class=\"fas fa-search close-search search-button\" type=\"submit\"></button>\n",
       "<input autocomplete=\"off\" class=\"search-input\" name=\"q\" placeholder=\"Search passiton.com...\" type=\"text\"/>\n",
       "</div>\n",
       "</form>\n",
       "</div>\n",
       "<div class=\"header-social-icon d-none d-md-inline-block\">\n",
       "<a href=\"https://www.facebook.com/valuescom\" target=\"_blank\" title=\"Facebook\"><i aria-hidden=\"true\" class=\"fab fa-facebook-f\"></i></a>\n",
       "<a href=\"https://twitter.com/passiton_values\" target=\"_blank\" title=\"Twitter\"><i class=\"fab fa-twitter\"></i></a>\n",
       "<a href=\"https://www.instagram.com/passiton_values/\" target=\"_blank\" title=\"Instagram\"><i aria-hidden=\"true\" class=\"fab fa-instagram\"></i></a>\n",
       "<a href=\"https://www.pinterest.com/passiton_values/\" target=\"_blank\" title=\"Pinterest\"><i aria-hidden=\"true\" class=\"fab fa-pinterest\"></i></a>\n",
       "<a href=\"https://www.youtube.com/c/passiton_values\" target=\"_blank\" title=\"YouTube\"><i aria-hidden=\"true\" class=\"fab fa-youtube no-margin-right\"></i></a>\n",
       "</div>\n",
       "</div>\n",
       "</div>\n",
       "</nav>\n",
       "</header>\n",
       "<section class=\"parallax padding-six-all bg-black\" data-stellar-background-ratio=\"0.2\" style=\"background-image:url('/assets/backgrounds/flowers-8d19415bc3bc371f5beaed468d9a1970.jpg');\">\n",
       "<div class=\"container\">\n",
       "<div class=\"row justify-content-center\">\n",
       "<div class=\"col-12 col-lg-10 text-center\">\n",
       "<div class=\"shadow bg-extra-dark-gray padding-two-all border-radius-6 width-70 lg-width-80 sm-width-100 mx-auto lg-padding-30px-all sm-padding-15px-all sm-margin-40px-top\">\n",
       "<h6 class=\"font-weight-300 text-white-2 margin-20px-bottom sm-margin-15px-bottom\">Get our FREE daily quote emails!</h6>\n",
       "<p class=\"text-medium width-70 mx-auto margin-40px-bottom sm-width-100 sm-margin-15px-bottom\">Get a daily inspirational quote in your inbox each weekday! Enter your email below to subscribe.</p>\n",
       "<form accept-charset=\"UTF-8\" action=\"/users\" class=\"simple_form search-box3 margin-10px-bottom\" id=\"new_user\" method=\"post\" novalidate=\"novalidate\"><input name=\"utf8\" type=\"hidden\" value=\"✓\"/><input name=\"authenticity_token\" type=\"hidden\" value=\"SJ30KXGdbRR1d6N5FU9Ja3xDj3rwpRt+pqqWOQnBVKHRnrApYXnJv0ijVAoEbpZlocpRBs15w6aG8eYYObBT7A==\"/>\n",
       "<div class=\"input-group add-on width-75 mx-auto sm-width-100\">\n",
       "<input class=\"string email optional form-control text-white\" id=\"user_email\" label=\"false\" name=\"user[email]\" placeholder=\"you@your-email.com\" type=\"text\"/>\n",
       "<script src=\"https://www.recaptcha.net/recaptcha/api.js?render=6Ldta8EUAAAAACp3yt76yG8QWMdQkpDBkP1bcHi6\"></script>\n",
       "<script>\n",
       "          // Define function so that we can call it again later if we need to reset it\n",
       "          // This executes reCAPTCHA and then calls our callback.\n",
       "          function executeRecaptchaForQuote() {\n",
       "            grecaptcha.ready(function() {\n",
       "              grecaptcha.execute('6Ldta8EUAAAAACp3yt76yG8QWMdQkpDBkP1bcHi6', {action: 'quote'}).then(function(token) {\n",
       "                setInputWithRecaptchaResponseTokenForQuote('g-recaptcha-response-data-quote', token)\n",
       "              });\n",
       "            });\n",
       "          };\n",
       "          // Invoke immediately\n",
       "          executeRecaptchaForQuote()\n",
       "\n",
       "          // Async variant so you can await this function from another async function (no need for\n",
       "          // an explicit callback function then!)\n",
       "          // Returns a Promise that resolves with the response token.\n",
       "          async function executeRecaptchaForQuoteAsync() {\n",
       "            return new Promise((resolve, reject) => {\n",
       "              grecaptcha.ready(async function() {\n",
       "                resolve(await grecaptcha.execute('6Ldta8EUAAAAACp3yt76yG8QWMdQkpDBkP1bcHi6', {action: 'quote'}))\n",
       "              });\n",
       "            })\n",
       "          };\n",
       "\n",
       "                    var setInputWithRecaptchaResponseTokenForQuote = function(id, token) {\n",
       "            var element = document.getElementById(id);\n",
       "            element.value = token;\n",
       "          }\n",
       "\n",
       "        </script>\n",
       "<input class=\"g-recaptcha g-recaptcha-response\" data-sitekey=\"6Ldta8EUAAAAACp3yt76yG8QWMdQkpDBkP1bcHi6\" id=\"g-recaptcha-response-data-quote\" name=\"g-recaptcha-response-data[quote]\" type=\"hidden\"/>\n",
       "<div class=\"input-group-append\">\n",
       "<button class=\"btn btn-default\" type=\"submit\"><i class=\"ti-arrow-right text-small m-0\"></i></button>\n",
       "</div>\n",
       "</div>\n",
       "</form>\n",
       "</div>\n",
       "</div>\n",
       "</div>\n",
       "</div>\n",
       "</section>\n",
       "<section class=\"half-section bg-extra-dark-gray half-section\">\n",
       "<div class=\"container\">\n",
       "<div class=\"row m-0\">\n",
       "<div class=\"col-12 d-flex flex-column justify-content-center text-center wow fadeIn\" data-wow-delay=\"0.2s\">\n",
       "<h5 class=\"text-white alt-font font-weight-400 letter-spacing-1 margin-10px-bottom\">INSPIRATIONAL QUOTES</h5>\n",
       "<span class=\"text-white-2 opacity8 alt-font mb-0 padding-20px-bottom\">Find the perfect quote... and Pass It On®</span>\n",
       "<form action=\"/inspirational-quotes\" class=\"search-box2 margin-30px-bottom\" method=\"get\">\n",
       "<div class=\"input-group add-on width-75 mx-auto sm-width-100\">\n",
       "<input class=\"form-control\" name=\"q\" placeholder=\"Search our inspiring quotes...\" type=\"text\" value=\"\"/>\n",
       "<div class=\"input-group-append\">\n",
       "<button class=\"btn btn-default\" type=\"submit\"><i class=\"ti-search text-small m-0\"></i></button>\n",
       "</div>\n",
       "</div>\n",
       "</form>\n",
       "</div>\n",
       "</div>\n",
       "<div class=\"row\" id=\"all_quotes\">\n",
       "<div class=\"col-6 col-lg-3 text-center margin-30px-bottom sm-margin-30px-top\">\n",
       "<a href=\"/inspirational-quotes/8102-just-as-we-develop-our-physical-muscles-through\"><img alt=\"Just as we develop our physical muscles through overcoming opposition – such as lifting weights – we develop our character muscles by overcoming challenges and adversity. #&lt;Author:0x00007f0fd799f488&gt;\" class=\"margin-10px-bottom shadow\" height=\"310\" src=\"https://assets.passiton.com/quotes/quote_artwork/8102/medium/20200723_thursday_quote.jpg?1595011009\" width=\"310\"/></a>\n",
       "<h5 class=\"value_on_red\"><a href=\"/inspirational-quotes/8102-just-as-we-develop-our-physical-muscles-through\">CHARACTER</a></h5>\n",
       "</div><div class=\"col-6 col-lg-3 text-center margin-30px-bottom sm-margin-30px-top\">\n",
       "<a href=\"/inspirational-quotes/8101-our-ability-to-handle-life-s-challenges-is-a\"><img alt=\"Our ability to handle life’s challenges is a measure of our strength of character. #&lt;Author:0x00007f0fd79bd050&gt;\" class=\"margin-10px-bottom shadow\" height=\"310\" src=\"https://assets.passiton.com/quotes/quote_artwork/8101/medium/20200722_wednesday_quote.jpg?1595010982\" width=\"310\"/></a>\n",
       "<h5 class=\"value_on_red\"><a href=\"/inspirational-quotes/8101-our-ability-to-handle-life-s-challenges-is-a\">CHARACTER</a></h5>\n",
       "</div><div class=\"col-6 col-lg-3 text-center margin-30px-bottom sm-margin-30px-top\">\n",
       "<a href=\"/inspirational-quotes/7364-good-character-is-more-to-be-praised-than\"><img alt=\"Good character is more to be praised than outstanding talent. Most talents are to some extent a gift. Good character, by contrast, is not given to us. We have to build it piece by piece by thought, choice, courage and determination. #&lt;Author:0x00007f0fd79e1590&gt;\" class=\"margin-10px-bottom shadow\" height=\"310\" src=\"https://assets.passiton.com/quotes/quote_artwork/7364/medium/20200721_tuesday_quote.jpg?1595010959\" width=\"310\"/></a>\n",
       "<h5 class=\"value_on_red\"><a href=\"/inspirational-quotes/7364-good-character-is-more-to-be-praised-than\">CHARACTER</a></h5>\n",
       "</div><div class=\"col-6 col-lg-3 text-center margin-30px-bottom sm-margin-30px-top\">\n",
       "<a href=\"/inspirational-quotes/4393-people-grow-through-experience-if-they-meet\"><img alt=\"People grow through experience if they meet life honestly and courageously. This is how character is built. #&lt;Author:0x00007f0fd7a0ca38&gt;\" class=\"margin-10px-bottom shadow\" height=\"310\" src=\"https://assets.passiton.com/quotes/quote_artwork/4393/medium/20200720_monday_quote.jpg?1595010931\" width=\"310\"/></a>\n",
       "<h5 class=\"value_on_red\"><a href=\"/inspirational-quotes/4393-people-grow-through-experience-if-they-meet\">CHARACTER</a></h5>\n",
       "</div><div class=\"col-6 col-lg-3 text-center margin-30px-bottom sm-margin-30px-top\">\n",
       "<a href=\"/inspirational-quotes/8100-a-life-lived-with-integrity-is-a-shining-star\"><img alt=\"A life lived with integrity… is a shining star in whose light others may follow in the years to come. #&lt;Author:0x00007f0fd7a43588&gt;\" class=\"margin-10px-bottom shadow\" height=\"310\" src=\"https://assets.passiton.com/quotes/quote_artwork/8100/medium/20200717_friday_quote.jpg?1594411651\" width=\"310\"/></a>\n",
       "<h5 class=\"value_on_red\"><a href=\"/inspirational-quotes/8100-a-life-lived-with-integrity-is-a-shining-star\">INTEGRITY</a></h5>\n",
       "</div><div class=\"col-6 col-lg-3 text-center margin-30px-bottom sm-margin-30px-top\">\n",
       "<a href=\"/inspirational-quotes/8099-the-greatness-of-a-man-is-not-in-how-much\"><img alt=\"The greatness of a man is not in how much wealth he acquires, but in his integrity and his ability to affect those around him positively. #&lt;Author:0x00007f0fd7a71d70&gt;\" class=\"margin-10px-bottom shadow\" height=\"310\" src=\"https://assets.passiton.com/quotes/quote_artwork/8099/medium/20200716_thursday_quote.jpg?1594411624\" width=\"310\"/></a>\n",
       "<h5 class=\"value_on_red\"><a href=\"/inspirational-quotes/8099-the-greatness-of-a-man-is-not-in-how-much\">INTEGRITY</a></h5>\n",
       "</div><div class=\"col-6 col-lg-3 text-center margin-30px-bottom sm-margin-30px-top\">\n",
       "<a href=\"/inspirational-quotes/7654-real-integrity-is-doing-the-right-thing\"><img alt=\"Real integrity is doing the right thing, knowing that nobody’s going to know whether you did it or not. #&lt;Author:0x00007f0fd7aa20d8&gt;\" class=\"margin-10px-bottom shadow\" height=\"310\" src=\"https://assets.passiton.com/quotes/quote_artwork/7654/medium/20200715_wednesday_quote.jpg?1594411583\" width=\"310\"/></a>\n",
       "<h5 class=\"value_on_red\"><a href=\"/inspirational-quotes/7654-real-integrity-is-doing-the-right-thing\">INTEGRITY</a></h5>\n",
       "</div><div class=\"col-6 col-lg-3 text-center margin-30px-bottom sm-margin-30px-top\">\n",
       "<a href=\"/inspirational-quotes/8098-the-time-is-always-right-to-do-what-is-right\"><img alt=\"The time is always right to do what is right. #&lt;Author:0x00007f0fd7ad2378&gt;\" class=\"margin-10px-bottom shadow\" height=\"310\" src=\"https://assets.passiton.com/quotes/quote_artwork/8098/medium/20200714_tuesday_quote.jpg?1594411553\" width=\"310\"/></a>\n",
       "<h5 class=\"value_on_red\"><a href=\"/inspirational-quotes/8098-the-time-is-always-right-to-do-what-is-right\">INTEGRITY</a></h5>\n",
       "</div><div class=\"col-6 col-lg-3 text-center margin-30px-bottom sm-margin-30px-top\">\n",
       "<a href=\"/inspirational-quotes/7655-integrity-is-choosing-courage-over-comfort\"><img alt=\"Integrity is choosing courage over comfort; choosing what is right over what is fun, fast, or easy; and choosing to practice our values rather than simply professing them. #&lt;Author:0x00007f0fd7b03680&gt;\" class=\"margin-10px-bottom shadow\" height=\"310\" src=\"https://assets.passiton.com/quotes/quote_artwork/7655/medium/20200713_monday_quote.jpg?1594411527\" width=\"310\"/></a>\n",
       "<h5 class=\"value_on_red\"><a href=\"/inspirational-quotes/7655-integrity-is-choosing-courage-over-comfort\">INTEGRITY</a></h5>\n",
       "</div><div class=\"col-6 col-lg-3 text-center margin-30px-bottom sm-margin-30px-top\">\n",
       "<a href=\"/inspirational-quotes/8097-we-are-all-in-this-together\"><img alt=\"We are all in this together. #&lt;Author:0x00007f0fd7b31828&gt;\" class=\"margin-10px-bottom shadow\" height=\"310\" src=\"https://assets.passiton.com/quotes/quote_artwork/8097/medium/20200710_friday_quote_alternate.jpg?1593898946\" width=\"310\"/></a>\n",
       "<h5 class=\"value_on_red\"><a href=\"/inspirational-quotes/8097-we-are-all-in-this-together\">UNITY</a></h5>\n",
       "</div><div class=\"col-6 col-lg-3 text-center margin-30px-bottom sm-margin-30px-top\">\n",
       "<a href=\"/inspirational-quotes/7586-the-essence-of-the-beautiful-is-unity-in-variety\"><img alt=\"The essence of the beautiful is unity in variety. #&lt;Author:0x00007f0fd7bbd8f0&gt;\" class=\"margin-10px-bottom shadow\" height=\"310\" src=\"https://assets.passiton.com/quotes/quote_artwork/7586/medium/20200709_thursday_quote.jpg?1593731309\" width=\"310\"/></a>\n",
       "<h5 class=\"value_on_red\"><a href=\"/inspirational-quotes/7586-the-essence-of-the-beautiful-is-unity-in-variety\">UNITY</a></h5>\n",
       "</div><div class=\"col-6 col-lg-3 text-center margin-30px-bottom sm-margin-30px-top\">\n",
       "<a href=\"/inspirational-quotes/7941-unity-is-strength-when-there-is-teamwork-and\"><img alt=\"Unity is strength…when there is teamwork and collaboration, wonderful things can be achieved. #&lt;Author:0x00007f0fd7be5288&gt;\" class=\"margin-10px-bottom shadow\" height=\"310\" src=\"https://assets.passiton.com/quotes/quote_artwork/7941/medium/20200708_wednesday_quote.jpg?1593731279\" width=\"310\"/></a>\n",
       "<h5 class=\"value_on_red\"><a href=\"/inspirational-quotes/7941-unity-is-strength-when-there-is-teamwork-and\">UNITY</a></h5>\n",
       "</div><div class=\"col-6 col-lg-3 text-center margin-30px-bottom sm-margin-30px-top\">\n",
       "<a href=\"/inspirational-quotes/8096-unity-does-not-mean-sameness-it-means-oneness\"><img alt=\"Unity does not mean sameness. It means oneness of purpose. #&lt;Author:0x000055df8e5cc4c0&gt;\" class=\"margin-10px-bottom shadow\" height=\"310\" src=\"https://assets.passiton.com/quotes/quote_artwork/8096/medium/20200707_tuesday_quote.jpg?1593731221\" width=\"310\"/></a>\n",
       "<h5 class=\"value_on_red\"><a href=\"/inspirational-quotes/8096-unity-does-not-mean-sameness-it-means-oneness\">UNITY</a></h5>\n",
       "</div><div class=\"col-6 col-lg-3 text-center margin-30px-bottom sm-margin-30px-top\">\n",
       "<a href=\"/inspirational-quotes/8095-the-foundation-of-freedom-is-unity\"><img alt=\"The foundation of freedom is unity. #&lt;Author:0x000055df8ee97398&gt;\" class=\"margin-10px-bottom shadow\" height=\"310\" src=\"https://assets.passiton.com/quotes/quote_artwork/8095/medium/20200706_monday_quote.jpg?1593731201\" width=\"310\"/></a>\n",
       "<h5 class=\"value_on_red\"><a href=\"/inspirational-quotes/8095-the-foundation-of-freedom-is-unity\">UNITY</a></h5>\n",
       "</div><div class=\"col-6 col-lg-3 text-center margin-30px-bottom sm-margin-30px-top\">\n",
       "<a href=\"/inspirational-quotes/7780-freedom-lies-in-being-bold\"><img alt=\"Freedom lies in being bold. #&lt;Author:0x000055df8f9e5ab0&gt;\" class=\"margin-10px-bottom shadow\" height=\"310\" src=\"https://assets.passiton.com/quotes/quote_artwork/7780/medium/20200703_friday_quote.jpg?1593310853\" width=\"310\"/></a>\n",
       "<h5 class=\"value_on_red\"><a href=\"/inspirational-quotes/7780-freedom-lies-in-being-bold\">HUMILITY</a></h5>\n",
       "</div><div class=\"col-6 col-lg-3 text-center margin-30px-bottom sm-margin-30px-top\">\n",
       "<a href=\"/inspirational-quotes/8092-there-is-nothing-noble-in-being-superior-to\"><img alt=\"There is nothing noble in being superior to your fellow man; true nobility is being superior to your former self. #&lt;Author:0x000055df8fb226a8&gt;\" class=\"margin-10px-bottom shadow\" height=\"310\" src=\"https://assets.passiton.com/quotes/quote_artwork/8092/medium/20200702_thursday_quote.jpg?1593310767\" width=\"310\"/></a>\n",
       "<h5 class=\"value_on_red\"><a href=\"/inspirational-quotes/8092-there-is-nothing-noble-in-being-superior-to\">HUMILITY</a></h5>\n",
       "</div><div class=\"col-6 col-lg-3 text-center margin-30px-bottom sm-margin-30px-top\">\n",
       "<a href=\"/inspirational-quotes/8094-humility-is-the-solid-foundation-of-all-virtues\"><img alt=\"Humility is the solid foundation of all virtues. #&lt;Author:0x000055df8fcc7800&gt;\" class=\"margin-10px-bottom shadow\" height=\"310\" src=\"https://assets.passiton.com/quotes/quote_artwork/8094/medium/20200701_wednesday_quote.jpg?1593310736\" width=\"310\"/></a>\n",
       "<h5 class=\"value_on_red\"><a href=\"/inspirational-quotes/8094-humility-is-the-solid-foundation-of-all-virtues\">HUMILITY</a></h5>\n",
       "</div><div class=\"col-6 col-lg-3 text-center margin-30px-bottom sm-margin-30px-top\">\n",
       "<a href=\"/inspirational-quotes/8091-every-person-that-you-meet-knows-something-you\"><img alt=\"Every person that you meet knows something you don't; learn from them. #&lt;Author:0x000055df915fb4c0&gt;\" class=\"margin-10px-bottom shadow\" height=\"310\" src=\"https://assets.passiton.com/quotes/quote_artwork/8091/medium/20200630_tuesday_quote.jpg?1593310664\" width=\"310\"/></a>\n",
       "<h5 class=\"value_on_red\"><a href=\"/inspirational-quotes/8091-every-person-that-you-meet-knows-something-you\">HUMILITY</a></h5>\n",
       "</div><div class=\"col-6 col-lg-3 text-center margin-30px-bottom sm-margin-30px-top\">\n",
       "<a href=\"/inspirational-quotes/8090-being-humble-means-recognizing-that-we-are-not\"><img alt=\"Being humble means recognizing that we are not on earth to see how important we can become, but to see how much difference we can make in the lives of others. #&lt;Author:0x000055df9168a080&gt;\" class=\"margin-10px-bottom shadow\" height=\"310\" src=\"https://assets.passiton.com/quotes/quote_artwork/8090/medium/20200629_monday_quote.jpg?1593310636\" width=\"310\"/></a>\n",
       "<h5 class=\"value_on_red\"><a href=\"/inspirational-quotes/8090-being-humble-means-recognizing-that-we-are-not\">HUMILITY</a></h5>\n",
       "</div><div class=\"col-6 col-lg-3 text-center margin-30px-bottom sm-margin-30px-top\">\n",
       "<a href=\"/inspirational-quotes/8088-if-there-is-any-kindness-i-can-show-or-any\"><img alt=\"If there is any kindness I can show, or any good thing I can do to any fellow being, let me do it now, and not deter or neglect it, as I shall not pass this way again. #&lt;Author:0x000055df9170d408&gt;\" class=\"margin-10px-bottom shadow\" height=\"310\" src=\"https://assets.passiton.com/quotes/quote_artwork/8088/medium/20200625_thursday_quote.jpg?1592603953\" width=\"310\"/></a>\n",
       "<h5 class=\"value_on_red\"><a href=\"/inspirational-quotes/8088-if-there-is-any-kindness-i-can-show-or-any\">COMPASSION</a></h5>\n",
       "</div><div class=\"col-6 col-lg-3 text-center margin-30px-bottom sm-margin-30px-top\">\n",
       "<a href=\"/inspirational-quotes/4435-compassion-is-not-just-feeling-with-someone\"><img alt=\"Compassion is not just feeling with someone, but seeking to change the situation… if you are going to be compassionate, be prepared for action! #&lt;Author:0x000055df91787820&gt;\" class=\"margin-10px-bottom shadow\" height=\"310\" src=\"https://assets.passiton.com/quotes/quote_artwork/4435/medium/20200622_monday_quote.jpg?1592603537\" width=\"310\"/></a>\n",
       "<h5 class=\"value_on_red\"><a href=\"/inspirational-quotes/4435-compassion-is-not-just-feeling-with-someone\">COMPASSION</a></h5>\n",
       "</div><div class=\"col-6 col-lg-3 text-center margin-30px-bottom sm-margin-30px-top\">\n",
       "<a href=\"/inspirational-quotes/7416-compassion-is-the-sometimes-fatal-capacity-for\"><img alt=\"Compassion is the sometimes fatal capacity for feeling what it is like to live inside somebody else's skin. It's the knowledge that there can never really be any peace and joy for me until there is peace and joy finally for you too. #&lt;Author:0x000055df917e4548&gt;\" class=\"margin-10px-bottom shadow\" height=\"310\" src=\"https://assets.passiton.com/quotes/quote_artwork/7416/medium/20200624_wednesday_quote.jpg?1592603810\" width=\"310\"/></a>\n",
       "<h5 class=\"value_on_red\"><a href=\"/inspirational-quotes/7416-compassion-is-the-sometimes-fatal-capacity-for\">COMPASSION</a></h5>\n",
       "</div><div class=\"col-6 col-lg-3 text-center margin-30px-bottom sm-margin-30px-top\">\n",
       "<a href=\"/inspirational-quotes/7234-be-kind-for-everyone-you-meet-is-fighting-a\"><img alt=\"Be kind, for everyone you meet is fighting a harder battle. #&lt;Author:0x000055df91838008&gt;\" class=\"margin-10px-bottom shadow\" height=\"310\" src=\"https://assets.passiton.com/quotes/quote_artwork/7234/medium/20200623_tuesday_quote.jpg?1592603574\" width=\"310\"/></a>\n",
       "<h5 class=\"value_on_red\"><a href=\"/inspirational-quotes/7234-be-kind-for-everyone-you-meet-is-fighting-a\">COMPASSION</a></h5>\n",
       "</div><div class=\"col-6 col-lg-3 text-center margin-30px-bottom sm-margin-30px-top\">\n",
       "<a href=\"/inspirational-quotes/8089-true-compassion-means-not-only-feeling-anothers\"><img alt=\"True compassion means not only feeling another's pain but also being moved to help relieve it.  #&lt;Author:0x000055df918e2940&gt;\" class=\"margin-10px-bottom shadow\" height=\"310\" src=\"https://assets.passiton.com/quotes/quote_artwork/8089/medium/20200626_friday_quote.jpg?1592604099\" width=\"310\"/></a>\n",
       "<h5 class=\"value_on_red\"><a href=\"/inspirational-quotes/8089-true-compassion-means-not-only-feeling-anothers\">COMPASSION</a></h5>\n",
       "</div><div class=\"col-6 col-lg-3 text-center margin-30px-bottom sm-margin-30px-top\">\n",
       "<a href=\"/inspirational-quotes/8087-treat-people-the-way-you-want-to-be-treated\"><img alt=\"Treat people the way you want to be treated. Talk to people the way you want to be talked to. Respect is earned, not given. #&lt;Author:0x000055df91979868&gt;\" class=\"margin-10px-bottom shadow\" height=\"310\" src=\"https://assets.passiton.com/quotes/quote_artwork/8087/medium/20200619_friday_quote.jpg?1591992439\" width=\"310\"/></a>\n",
       "<h5 class=\"value_on_red\"><a href=\"/inspirational-quotes/8087-treat-people-the-way-you-want-to-be-treated\">RESPECT</a></h5>\n",
       "</div><div class=\"col-6 col-lg-3 text-center margin-30px-bottom sm-margin-30px-top\">\n",
       "<a href=\"/inspirational-quotes/8086-respect-is-one-of-the-greatest-expressions-of\"><img alt=\"Respect is one of the greatest expressions of love. #&lt;Author:0x000055df91a1d918&gt;\" class=\"margin-10px-bottom shadow\" height=\"310\" src=\"https://assets.passiton.com/quotes/quote_artwork/8086/medium/20200618_thursday_quote.jpg?1591992413\" width=\"310\"/></a>\n",
       "<h5 class=\"value_on_red\"><a href=\"/inspirational-quotes/8086-respect-is-one-of-the-greatest-expressions-of\">RESPECT</a></h5>\n",
       "</div><div class=\"col-6 col-lg-3 text-center margin-30px-bottom sm-margin-30px-top\">\n",
       "<a href=\"/inspirational-quotes/8085-every-human-being-of-whatever-origin-of\"><img alt=\"Every human being, of whatever origin, of whatever station, deserves respect. We must each respect others even as we respect ourselves. #&lt;Author:0x000055df91a87200&gt;\" class=\"margin-10px-bottom shadow\" height=\"310\" src=\"https://assets.passiton.com/quotes/quote_artwork/8085/medium/20200617_wednesday_quote.jpg?1591992357\" width=\"310\"/></a>\n",
       "<h5 class=\"value_on_red\"><a href=\"/inspirational-quotes/8085-every-human-being-of-whatever-origin-of\">RESPECT</a></h5>\n",
       "</div><div class=\"col-6 col-lg-3 text-center margin-30px-bottom sm-margin-30px-top\">\n",
       "<a href=\"/inspirational-quotes/7559-respect-is-love-in-action\"><img alt=\"Respect is love in action. #&lt;Author:0x000055df91b56280&gt;\" class=\"margin-10px-bottom shadow\" height=\"310\" src=\"https://assets.passiton.com/quotes/quote_artwork/7559/medium/20200616_tuesday_quote.jpg?1591992336\" width=\"310\"/></a>\n",
       "<h5 class=\"value_on_red\"><a href=\"/inspirational-quotes/7559-respect-is-love-in-action\">RESPECT</a></h5>\n",
       "</div><div class=\"col-6 col-lg-3 text-center margin-30px-bottom sm-margin-30px-top\">\n",
       "<a href=\"/inspirational-quotes/7276-for-to-be-free-is-not-merely-to-cast-off-ones\"><img alt=\"For to be free is not merely to cast off one's chains, but to live in a way that respects and enhances the freedom of others. #&lt;Author:0x000055df91dd3418&gt;\" class=\"margin-10px-bottom shadow\" height=\"310\" src=\"https://assets.passiton.com/quotes/quote_artwork/7276/medium/20200615_monday_quote.jpg?1591992311\" width=\"310\"/></a>\n",
       "<h5 class=\"value_on_red\"><a href=\"/inspirational-quotes/7276-for-to-be-free-is-not-merely-to-cast-off-ones\">RESPECT</a></h5>\n",
       "</div><div class=\"col-6 col-lg-3 text-center margin-30px-bottom sm-margin-30px-top\">\n",
       "<a href=\"/inspirational-quotes/7883-deep-listening-is-the-kind-of-listening-that\"><img alt=\"Deep listening is the kind of listening that can help relieve the suffering of another person... You listen with only one purpose: to help him or her to empty their heart.  #&lt;Author:0x000055df91e741b0&gt;\" class=\"margin-10px-bottom shadow\" height=\"310\" src=\"https://assets.passiton.com/quotes/quote_artwork/7883/medium/thich_updated_quote_artwork.jpg?1591982830\" width=\"310\"/></a>\n",
       "<h5 class=\"value_on_red\"><a href=\"/inspirational-quotes/7883-deep-listening-is-the-kind-of-listening-that\">LISTENING</a></h5>\n",
       "</div><div class=\"col-6 col-lg-3 text-center margin-30px-bottom sm-margin-30px-top\">\n",
       "<a href=\"/inspirational-quotes/5292-the-most-basic-of-all-human-needs-is-the-need\"><img alt=\"The most basic of all human needs is the need to understand and be understood. The best way to understand people is to listen to them. #&lt;Author:0x000055df91f1f948&gt;\" class=\"margin-10px-bottom shadow\" height=\"310\" src=\"https://assets.passiton.com/quotes/quote_artwork/5292/medium/20200611_thursday_quote.jpg?1591393755\" width=\"310\"/></a>\n",
       "<h5 class=\"value_on_red\"><a href=\"/inspirational-quotes/5292-the-most-basic-of-all-human-needs-is-the-need\">LISTENING</a></h5>\n",
       "</div><div class=\"col-6 col-lg-3 text-center margin-30px-bottom sm-margin-30px-top\">\n",
       "<a href=\"/inspirational-quotes/8081-one-of-the-most-sincere-forms-of-respect-is\"><img alt=\"One of the most sincere forms of respect is actually listening to what another has to say. #&lt;Author:0x000055df91fd77a0&gt;\" class=\"margin-10px-bottom shadow\" height=\"310\" src=\"https://assets.passiton.com/quotes/quote_artwork/8081/medium/20200609_tuesday_quote.jpg?1591393705\" width=\"310\"/></a>\n",
       "<h5 class=\"value_on_red\"><a href=\"/inspirational-quotes/8081-one-of-the-most-sincere-forms-of-respect-is\">LISTENING</a></h5>\n",
       "</div>\n",
       "</div>\n",
       "<div class=\"row\">\n",
       "<div class=\"col-12 text-center\">\n",
       "<div class=\"quotes_pagination\"><a class=\"previous_page\" href=\"/inspirational-quotes?page=1\" rel=\"prev\">← Previous</a> <a href=\"/inspirational-quotes?page=1\" rel=\"prev\">1</a> <em class=\"current\">2</em> <a href=\"/inspirational-quotes?page=3\" rel=\"next\">3</a> <a href=\"/inspirational-quotes?page=4\">4</a> <a href=\"/inspirational-quotes?page=5\">5</a> <a href=\"/inspirational-quotes?page=6\">6</a> <a href=\"/inspirational-quotes?page=7\">7</a> <a href=\"/inspirational-quotes?page=8\">8</a> <a href=\"/inspirational-quotes?page=9\">9</a> <span class=\"gap\">…</span> <a href=\"/inspirational-quotes?page=118\">118</a> <a href=\"/inspirational-quotes?page=119\">119</a> <a class=\"next_page\" href=\"/inspirational-quotes?page=3\" rel=\"next\">Next →</a></div>\n",
       "</div>\n",
       "</div>\n",
       "</div>\n",
       "</section>\n",
       "<footer class=\"footer-classic-dark bg-extra-dark-gray padding-five-bottom sm-padding-30px-bottom\">\n",
       "<div class=\"bg-dark-footer padding-50px-tb sm-padding-30px-tb\">\n",
       "<div class=\"container\">\n",
       "<div class=\"row align-items-center\">\n",
       "<div class=\"col-lg-4 col-md-5 text-center alt-font sm-margin-15px-bottom\">\n",
       "                    Pass It On<sup>®</sup>\n",
       "</div>\n",
       "<div class=\"col-lg-4 col-md-2 text-center sm-margin-10px-bottom\">\n",
       "<a href=\"/\"><img alt=\"The Foundation for a Better Life\" class=\"footer-logo\" data-rjs=\"/assets/site/fbl_logo-b50da7cb3567063fca4dec74f28f07c4.png\" src=\"/assets/site/fbl_logo-b50da7cb3567063fca4dec74f28f07c4.png\"/></a>\n",
       "</div>\n",
       "<div class=\"col-lg-4 col-md-5 text-center\">\n",
       "<span class=\"alt-font margin-20px-right\">Follow us on social</span>\n",
       "<div class=\"social-icon-style-8 d-inline-block vertical-align-middle\">\n",
       "<ul class=\"small-icon mb-0\">\n",
       "<li><a class=\"facebook text-white-2\" href=\"https://www.facebook.com/valuescom\" target=\"_blank\"><i aria-hidden=\"true\" class=\"fab fa-facebook-f\"></i></a></li>\n",
       "<li><a class=\"twitter text-white-2\" href=\"https://twitter.com/passiton_values\" target=\"_blank\"><i class=\"fab fa-twitter\"></i></a></li>\n",
       "<li><a class=\"instagram text-white-2\" href=\"https://www.instagram.com/passiton_values/\" target=\"_blank\"><i aria-hidden=\"true\" class=\"fab fa-instagram no-margin-right\"></i></a></li>\n",
       "<li><a class=\"pinterest text-white-2\" href=\"https://www.pinterest.com/passiton_values/\" target=\"_blank\"><i aria-hidden=\"true\" class=\"fab fa-pinterest no-margin-right\"></i></a></li>\n",
       "<li><a class=\"youtube text-white-2\" href=\"https://www.youtube.com/c/passiton_values\" target=\"_blank\"><i aria-hidden=\"true\" class=\"fab fa-youtube no-margin-right\"></i></a></li>\n",
       "</ul>\n",
       "</div>\n",
       "</div>\n",
       "</div>\n",
       "</div>\n",
       "</div>\n",
       "<div class=\"footer-widget-area padding-five-top padding-30px-bottom sm-padding-30px-top\">\n",
       "<div class=\"container\">\n",
       "<div class=\"row\">\n",
       "<div class=\"col-lg-3 col-md-6 widget border-right border-color-medium-dark-gray padding-45px-left md-padding-15px-left md-no-border-right md-margin-30px-bottom text-center text-md-left\">\n",
       "<div class=\"widget-title alt-font text-small text-medium-gray text-uppercase margin-10px-bottom font-weight-600\">About Us</div>\n",
       "<ul class=\"list-unstyled\">\n",
       "<li><a class=\"text-small\" href=\"/who-we-are\">About The Foundation for a Better Life</a></li>\n",
       "<li><a class=\"text-small\" href=\"/faqs\">FAQs</a></li>\n",
       "<li><a class=\"text-small\" href=\"/foundation-recognition\">Foundation Recognition</a></li>\n",
       "<li><a class=\"text-small\" href=\"/contact-us\">Contact Us</a></li>\n",
       "</ul>\n",
       "</div>\n",
       "<div class=\"col-lg-3 col-md-6 widget border-right border-color-medium-dark-gray padding-45px-left md-padding-15px-left md-no-border-right md-margin-30px-bottom text-center text-md-left\">\n",
       "<div class=\"widget-title alt-font text-small text-medium-gray text-uppercase margin-10px-bottom font-weight-600\">Be Inspired</div>\n",
       "<ul class=\"list-unstyled\">\n",
       "<li><a class=\"text-small\" href=\"/teaching-values\">Teaching Values</a></li>\n",
       "<li><a class=\"text-small\" href=\"/inspirational-quotes\">Inspirational Quotations</a></li>\n",
       "<li><a class=\"text-small\" href=\"/inspirational-stories-tv-spots\">Pass It On® Videos</a></li>\n",
       "<li><a class=\"text-small\" href=\"/your-everyday-heroes\">Who's Your Hero Stories</a></li>\n",
       "<li><a class=\"text-small\" href=\"/inspirational-sayings-billboards\">Official Billboard Campaign</a></li>\n",
       "<li><a class=\"text-small\" href=\"/your-billboards\">Create Your Own Billboard</a></li>\n",
       "<li><a class=\"text-small\" href=\"/radio\">Radio Ads</a></li>\n",
       "<li><a class=\"text-small\" href=\"/passiton-blog\">Pass It On® Blog</a></li>\n",
       "<li><a class=\"text-small\" href=\"/inspirational-audio-stories\">Podcasts</a></li>\n",
       "<li><a class=\"text-small\" href=\"/pass-it-on-ecards\">Send an Ecard</a></li>\n",
       "</ul>\n",
       "</div>\n",
       "<div class=\"col-lg-3 col-md-6 widget border-right border-color-medium-dark-gray padding-45px-left md-padding-15px-left md-no-border-right md-margin-30px-bottom text-center text-md-left\">\n",
       "<div class=\"widget-title alt-font text-small text-medium-gray text-uppercase margin-10px-bottom font-weight-600\">For Schools</div>\n",
       "<ul class=\"list-unstyled\">\n",
       "<li><a class=\"text-small\" href=\"/poster-requests/new\">Free Posters &amp; DVD for Schools</a></li>\n",
       "<li><a class=\"text-small\" href=\"/pass-it-on-downloads\">Downloads</a></li>\n",
       "</ul>\n",
       "</div>\n",
       "<div class=\"col-lg-3 col-md-6 widget padding-45px-left md-padding-15px-left md-no-border-right md-margin-30px-bottom text-center text-md-left\">\n",
       "<div class=\"widget-title alt-font text-small text-medium-gray text-uppercase margin-10px-bottom font-weight-600\">For Media Companies</div>\n",
       "<ul class=\"list-unstyled\">\n",
       "<li><a class=\"text-small\" href=\"/for-media-companies\">For Media Companies</a></li>\n",
       "<li><a class=\"text-small\" href=\"https://www.passiton-media.com\">Broadcast Quality PSA Downloads</a></li>\n",
       "<li><a class=\"text-small\" href=\"https://www.passiton-media.com\">Pass It On Radio Ads</a></li>\n",
       "<li><a class=\"text-small\" href=\"https://www.passiton-media.com\">Live Reads</a></li>\n",
       "<li><a class=\"text-small\" href=\"https://www.passiton-media.com\">Out of Home Materials</a></li>\n",
       "</ul>\n",
       "<div class=\"row sm-margin-30px-top\">\n",
       "<div class=\"col-lg-4\">\n",
       "<a href=\"/\"><img alt=\"Values logo\" src=\"/assets/site/values_logo-cd29ec5f2f086673ac42962263d07e02.png\" style=\"max-width: 70px;\"/></a>\n",
       "</div>\n",
       "<div class=\"col-lg-7\">\n",
       "<p class=\"text-medium-gray text-small padding-10px-top\">VALUES.COM<small>®</small> is now PassItOn.com<small>®</small></p>\n",
       "</div>\n",
       "</div>\n",
       "</div>\n",
       "</div>\n",
       "</div>\n",
       "</div>\n",
       "<div class=\"container\">\n",
       "<div class=\"footer-bottom border-top border-color-medium-dark-gray padding-30px-top\">\n",
       "<div class=\"row\">\n",
       "<div class=\"col-lg-6 col-md-6 text-small text-md-left text-center\">©2000-2020 The Foundation for a Better Life.</div>\n",
       "<div class=\"col-lg-6 col-md-6 text-small text-md-right text-center\"><a href=\"/privacy-policy\">Privacy Policy</a>   |   <a href=\"/terms-of-use\">Terms of Use</a></div>\n",
       "</div>\n",
       "</div>\n",
       "</div>\n",
       "</footer>\n",
       "<a class=\"scroll-top-arrow\" href=\"javascript:void(0);\"><i class=\"ti-arrow-up\"></i></a>\n",
       "<script src=\"https://cdnjs.cloudflare.com/ajax/libs/jquery/1.12.4/jquery.js\"></script>\n",
       "<script crossorigin=\"anonymous\" integrity=\"sha384-UO2eT0CpHqdSJQ6hJty5KVphtPhzWj9WO1clHTMGa3JDZwrnQq4sF86dIHNDz0W1\" src=\"https://cdnjs.cloudflare.com/ajax/libs/popper.js/1.14.7/umd/popper.min.js\"></script>\n",
       "<script crossorigin=\"anonymous\" integrity=\"sha384-JjSmVgyd0p3pXB1rRibZUAYoIIy6OrQ6VrjIEaFf/nJGzIxFDsf4x0xIM+B07jRM\" src=\"https://stackpath.bootstrapcdn.com/bootstrap/4.3.1/js/bootstrap.min.js\"></script>\n",
       "<script src=\"/assets/pofo-3d0d89a27285d93c09e0f4c1fc85cead.js\"></script>\n",
       "</body>\n",
       "</html>"
      ]
     },
     "execution_count": 22,
     "metadata": {},
     "output_type": "execute_result"
    }
   ],
   "source": [
    "quotes_soup"
   ]
  },
  {
   "cell_type": "code",
   "execution_count": 21,
   "metadata": {},
   "outputs": [
    {
     "data": {
      "text/plain": [
       "bs4.BeautifulSoup"
      ]
     },
     "execution_count": 21,
     "metadata": {},
     "output_type": "execute_result"
    }
   ],
   "source": [
    "type(quotes_soup)"
   ]
  },
  {
   "cell_type": "code",
   "execution_count": 35,
   "metadata": {},
   "outputs": [],
   "source": [
    "quotes_soup.findAll?"
   ]
  },
  {
   "cell_type": "code",
   "execution_count": 63,
   "metadata": {},
   "outputs": [],
   "source": [
    "all_quotes = quotes_soup.find('div',{'class':'row','id':'all_quotes'})"
   ]
  },
  {
   "cell_type": "code",
   "execution_count": 68,
   "metadata": {},
   "outputs": [
    {
     "data": {
      "text/plain": [
       "<div class=\"row\" id=\"all_quotes\">\n",
       "<div class=\"col-6 col-lg-3 text-center margin-30px-bottom sm-margin-30px-top\">\n",
       "<a href=\"/inspirational-quotes/8102-just-as-we-develop-our-physical-muscles-through\"><img alt=\"Just as we develop our physical muscles through overcoming opposition – such as lifting weights – we develop our character muscles by overcoming challenges and adversity. #&lt;Author:0x00007f0fd799f488&gt;\" class=\"margin-10px-bottom shadow\" height=\"310\" src=\"https://assets.passiton.com/quotes/quote_artwork/8102/medium/20200723_thursday_quote.jpg?1595011009\" width=\"310\"/></a>\n",
       "<h5 class=\"value_on_red\"><a href=\"/inspirational-quotes/8102-just-as-we-develop-our-physical-muscles-through\">CHARACTER</a></h5>\n",
       "</div><div class=\"col-6 col-lg-3 text-center margin-30px-bottom sm-margin-30px-top\">\n",
       "<a href=\"/inspirational-quotes/8101-our-ability-to-handle-life-s-challenges-is-a\"><img alt=\"Our ability to handle life’s challenges is a measure of our strength of character. #&lt;Author:0x00007f0fd79bd050&gt;\" class=\"margin-10px-bottom shadow\" height=\"310\" src=\"https://assets.passiton.com/quotes/quote_artwork/8101/medium/20200722_wednesday_quote.jpg?1595010982\" width=\"310\"/></a>\n",
       "<h5 class=\"value_on_red\"><a href=\"/inspirational-quotes/8101-our-ability-to-handle-life-s-challenges-is-a\">CHARACTER</a></h5>\n",
       "</div><div class=\"col-6 col-lg-3 text-center margin-30px-bottom sm-margin-30px-top\">\n",
       "<a href=\"/inspirational-quotes/7364-good-character-is-more-to-be-praised-than\"><img alt=\"Good character is more to be praised than outstanding talent. Most talents are to some extent a gift. Good character, by contrast, is not given to us. We have to build it piece by piece by thought, choice, courage and determination. #&lt;Author:0x00007f0fd79e1590&gt;\" class=\"margin-10px-bottom shadow\" height=\"310\" src=\"https://assets.passiton.com/quotes/quote_artwork/7364/medium/20200721_tuesday_quote.jpg?1595010959\" width=\"310\"/></a>\n",
       "<h5 class=\"value_on_red\"><a href=\"/inspirational-quotes/7364-good-character-is-more-to-be-praised-than\">CHARACTER</a></h5>\n",
       "</div><div class=\"col-6 col-lg-3 text-center margin-30px-bottom sm-margin-30px-top\">\n",
       "<a href=\"/inspirational-quotes/4393-people-grow-through-experience-if-they-meet\"><img alt=\"People grow through experience if they meet life honestly and courageously. This is how character is built. #&lt;Author:0x00007f0fd7a0ca38&gt;\" class=\"margin-10px-bottom shadow\" height=\"310\" src=\"https://assets.passiton.com/quotes/quote_artwork/4393/medium/20200720_monday_quote.jpg?1595010931\" width=\"310\"/></a>\n",
       "<h5 class=\"value_on_red\"><a href=\"/inspirational-quotes/4393-people-grow-through-experience-if-they-meet\">CHARACTER</a></h5>\n",
       "</div><div class=\"col-6 col-lg-3 text-center margin-30px-bottom sm-margin-30px-top\">\n",
       "<a href=\"/inspirational-quotes/8100-a-life-lived-with-integrity-is-a-shining-star\"><img alt=\"A life lived with integrity… is a shining star in whose light others may follow in the years to come. #&lt;Author:0x00007f0fd7a43588&gt;\" class=\"margin-10px-bottom shadow\" height=\"310\" src=\"https://assets.passiton.com/quotes/quote_artwork/8100/medium/20200717_friday_quote.jpg?1594411651\" width=\"310\"/></a>\n",
       "<h5 class=\"value_on_red\"><a href=\"/inspirational-quotes/8100-a-life-lived-with-integrity-is-a-shining-star\">INTEGRITY</a></h5>\n",
       "</div><div class=\"col-6 col-lg-3 text-center margin-30px-bottom sm-margin-30px-top\">\n",
       "<a href=\"/inspirational-quotes/8099-the-greatness-of-a-man-is-not-in-how-much\"><img alt=\"The greatness of a man is not in how much wealth he acquires, but in his integrity and his ability to affect those around him positively. #&lt;Author:0x00007f0fd7a71d70&gt;\" class=\"margin-10px-bottom shadow\" height=\"310\" src=\"https://assets.passiton.com/quotes/quote_artwork/8099/medium/20200716_thursday_quote.jpg?1594411624\" width=\"310\"/></a>\n",
       "<h5 class=\"value_on_red\"><a href=\"/inspirational-quotes/8099-the-greatness-of-a-man-is-not-in-how-much\">INTEGRITY</a></h5>\n",
       "</div><div class=\"col-6 col-lg-3 text-center margin-30px-bottom sm-margin-30px-top\">\n",
       "<a href=\"/inspirational-quotes/7654-real-integrity-is-doing-the-right-thing\"><img alt=\"Real integrity is doing the right thing, knowing that nobody’s going to know whether you did it or not. #&lt;Author:0x00007f0fd7aa20d8&gt;\" class=\"margin-10px-bottom shadow\" height=\"310\" src=\"https://assets.passiton.com/quotes/quote_artwork/7654/medium/20200715_wednesday_quote.jpg?1594411583\" width=\"310\"/></a>\n",
       "<h5 class=\"value_on_red\"><a href=\"/inspirational-quotes/7654-real-integrity-is-doing-the-right-thing\">INTEGRITY</a></h5>\n",
       "</div><div class=\"col-6 col-lg-3 text-center margin-30px-bottom sm-margin-30px-top\">\n",
       "<a href=\"/inspirational-quotes/8098-the-time-is-always-right-to-do-what-is-right\"><img alt=\"The time is always right to do what is right. #&lt;Author:0x00007f0fd7ad2378&gt;\" class=\"margin-10px-bottom shadow\" height=\"310\" src=\"https://assets.passiton.com/quotes/quote_artwork/8098/medium/20200714_tuesday_quote.jpg?1594411553\" width=\"310\"/></a>\n",
       "<h5 class=\"value_on_red\"><a href=\"/inspirational-quotes/8098-the-time-is-always-right-to-do-what-is-right\">INTEGRITY</a></h5>\n",
       "</div><div class=\"col-6 col-lg-3 text-center margin-30px-bottom sm-margin-30px-top\">\n",
       "<a href=\"/inspirational-quotes/7655-integrity-is-choosing-courage-over-comfort\"><img alt=\"Integrity is choosing courage over comfort; choosing what is right over what is fun, fast, or easy; and choosing to practice our values rather than simply professing them. #&lt;Author:0x00007f0fd7b03680&gt;\" class=\"margin-10px-bottom shadow\" height=\"310\" src=\"https://assets.passiton.com/quotes/quote_artwork/7655/medium/20200713_monday_quote.jpg?1594411527\" width=\"310\"/></a>\n",
       "<h5 class=\"value_on_red\"><a href=\"/inspirational-quotes/7655-integrity-is-choosing-courage-over-comfort\">INTEGRITY</a></h5>\n",
       "</div><div class=\"col-6 col-lg-3 text-center margin-30px-bottom sm-margin-30px-top\">\n",
       "<a href=\"/inspirational-quotes/8097-we-are-all-in-this-together\"><img alt=\"We are all in this together. #&lt;Author:0x00007f0fd7b31828&gt;\" class=\"margin-10px-bottom shadow\" height=\"310\" src=\"https://assets.passiton.com/quotes/quote_artwork/8097/medium/20200710_friday_quote_alternate.jpg?1593898946\" width=\"310\"/></a>\n",
       "<h5 class=\"value_on_red\"><a href=\"/inspirational-quotes/8097-we-are-all-in-this-together\">UNITY</a></h5>\n",
       "</div><div class=\"col-6 col-lg-3 text-center margin-30px-bottom sm-margin-30px-top\">\n",
       "<a href=\"/inspirational-quotes/7586-the-essence-of-the-beautiful-is-unity-in-variety\"><img alt=\"The essence of the beautiful is unity in variety. #&lt;Author:0x00007f0fd7bbd8f0&gt;\" class=\"margin-10px-bottom shadow\" height=\"310\" src=\"https://assets.passiton.com/quotes/quote_artwork/7586/medium/20200709_thursday_quote.jpg?1593731309\" width=\"310\"/></a>\n",
       "<h5 class=\"value_on_red\"><a href=\"/inspirational-quotes/7586-the-essence-of-the-beautiful-is-unity-in-variety\">UNITY</a></h5>\n",
       "</div><div class=\"col-6 col-lg-3 text-center margin-30px-bottom sm-margin-30px-top\">\n",
       "<a href=\"/inspirational-quotes/7941-unity-is-strength-when-there-is-teamwork-and\"><img alt=\"Unity is strength…when there is teamwork and collaboration, wonderful things can be achieved. #&lt;Author:0x00007f0fd7be5288&gt;\" class=\"margin-10px-bottom shadow\" height=\"310\" src=\"https://assets.passiton.com/quotes/quote_artwork/7941/medium/20200708_wednesday_quote.jpg?1593731279\" width=\"310\"/></a>\n",
       "<h5 class=\"value_on_red\"><a href=\"/inspirational-quotes/7941-unity-is-strength-when-there-is-teamwork-and\">UNITY</a></h5>\n",
       "</div><div class=\"col-6 col-lg-3 text-center margin-30px-bottom sm-margin-30px-top\">\n",
       "<a href=\"/inspirational-quotes/8096-unity-does-not-mean-sameness-it-means-oneness\"><img alt=\"Unity does not mean sameness. It means oneness of purpose. #&lt;Author:0x000055df8e5cc4c0&gt;\" class=\"margin-10px-bottom shadow\" height=\"310\" src=\"https://assets.passiton.com/quotes/quote_artwork/8096/medium/20200707_tuesday_quote.jpg?1593731221\" width=\"310\"/></a>\n",
       "<h5 class=\"value_on_red\"><a href=\"/inspirational-quotes/8096-unity-does-not-mean-sameness-it-means-oneness\">UNITY</a></h5>\n",
       "</div><div class=\"col-6 col-lg-3 text-center margin-30px-bottom sm-margin-30px-top\">\n",
       "<a href=\"/inspirational-quotes/8095-the-foundation-of-freedom-is-unity\"><img alt=\"The foundation of freedom is unity. #&lt;Author:0x000055df8ee97398&gt;\" class=\"margin-10px-bottom shadow\" height=\"310\" src=\"https://assets.passiton.com/quotes/quote_artwork/8095/medium/20200706_monday_quote.jpg?1593731201\" width=\"310\"/></a>\n",
       "<h5 class=\"value_on_red\"><a href=\"/inspirational-quotes/8095-the-foundation-of-freedom-is-unity\">UNITY</a></h5>\n",
       "</div><div class=\"col-6 col-lg-3 text-center margin-30px-bottom sm-margin-30px-top\">\n",
       "<a href=\"/inspirational-quotes/7780-freedom-lies-in-being-bold\"><img alt=\"Freedom lies in being bold. #&lt;Author:0x000055df8f9e5ab0&gt;\" class=\"margin-10px-bottom shadow\" height=\"310\" src=\"https://assets.passiton.com/quotes/quote_artwork/7780/medium/20200703_friday_quote.jpg?1593310853\" width=\"310\"/></a>\n",
       "<h5 class=\"value_on_red\"><a href=\"/inspirational-quotes/7780-freedom-lies-in-being-bold\">HUMILITY</a></h5>\n",
       "</div><div class=\"col-6 col-lg-3 text-center margin-30px-bottom sm-margin-30px-top\">\n",
       "<a href=\"/inspirational-quotes/8092-there-is-nothing-noble-in-being-superior-to\"><img alt=\"There is nothing noble in being superior to your fellow man; true nobility is being superior to your former self. #&lt;Author:0x000055df8fb226a8&gt;\" class=\"margin-10px-bottom shadow\" height=\"310\" src=\"https://assets.passiton.com/quotes/quote_artwork/8092/medium/20200702_thursday_quote.jpg?1593310767\" width=\"310\"/></a>\n",
       "<h5 class=\"value_on_red\"><a href=\"/inspirational-quotes/8092-there-is-nothing-noble-in-being-superior-to\">HUMILITY</a></h5>\n",
       "</div><div class=\"col-6 col-lg-3 text-center margin-30px-bottom sm-margin-30px-top\">\n",
       "<a href=\"/inspirational-quotes/8094-humility-is-the-solid-foundation-of-all-virtues\"><img alt=\"Humility is the solid foundation of all virtues. #&lt;Author:0x000055df8fcc7800&gt;\" class=\"margin-10px-bottom shadow\" height=\"310\" src=\"https://assets.passiton.com/quotes/quote_artwork/8094/medium/20200701_wednesday_quote.jpg?1593310736\" width=\"310\"/></a>\n",
       "<h5 class=\"value_on_red\"><a href=\"/inspirational-quotes/8094-humility-is-the-solid-foundation-of-all-virtues\">HUMILITY</a></h5>\n",
       "</div><div class=\"col-6 col-lg-3 text-center margin-30px-bottom sm-margin-30px-top\">\n",
       "<a href=\"/inspirational-quotes/8091-every-person-that-you-meet-knows-something-you\"><img alt=\"Every person that you meet knows something you don't; learn from them. #&lt;Author:0x000055df915fb4c0&gt;\" class=\"margin-10px-bottom shadow\" height=\"310\" src=\"https://assets.passiton.com/quotes/quote_artwork/8091/medium/20200630_tuesday_quote.jpg?1593310664\" width=\"310\"/></a>\n",
       "<h5 class=\"value_on_red\"><a href=\"/inspirational-quotes/8091-every-person-that-you-meet-knows-something-you\">HUMILITY</a></h5>\n",
       "</div><div class=\"col-6 col-lg-3 text-center margin-30px-bottom sm-margin-30px-top\">\n",
       "<a href=\"/inspirational-quotes/8090-being-humble-means-recognizing-that-we-are-not\"><img alt=\"Being humble means recognizing that we are not on earth to see how important we can become, but to see how much difference we can make in the lives of others. #&lt;Author:0x000055df9168a080&gt;\" class=\"margin-10px-bottom shadow\" height=\"310\" src=\"https://assets.passiton.com/quotes/quote_artwork/8090/medium/20200629_monday_quote.jpg?1593310636\" width=\"310\"/></a>\n",
       "<h5 class=\"value_on_red\"><a href=\"/inspirational-quotes/8090-being-humble-means-recognizing-that-we-are-not\">HUMILITY</a></h5>\n",
       "</div><div class=\"col-6 col-lg-3 text-center margin-30px-bottom sm-margin-30px-top\">\n",
       "<a href=\"/inspirational-quotes/8088-if-there-is-any-kindness-i-can-show-or-any\"><img alt=\"If there is any kindness I can show, or any good thing I can do to any fellow being, let me do it now, and not deter or neglect it, as I shall not pass this way again. #&lt;Author:0x000055df9170d408&gt;\" class=\"margin-10px-bottom shadow\" height=\"310\" src=\"https://assets.passiton.com/quotes/quote_artwork/8088/medium/20200625_thursday_quote.jpg?1592603953\" width=\"310\"/></a>\n",
       "<h5 class=\"value_on_red\"><a href=\"/inspirational-quotes/8088-if-there-is-any-kindness-i-can-show-or-any\">COMPASSION</a></h5>\n",
       "</div><div class=\"col-6 col-lg-3 text-center margin-30px-bottom sm-margin-30px-top\">\n",
       "<a href=\"/inspirational-quotes/4435-compassion-is-not-just-feeling-with-someone\"><img alt=\"Compassion is not just feeling with someone, but seeking to change the situation… if you are going to be compassionate, be prepared for action! #&lt;Author:0x000055df91787820&gt;\" class=\"margin-10px-bottom shadow\" height=\"310\" src=\"https://assets.passiton.com/quotes/quote_artwork/4435/medium/20200622_monday_quote.jpg?1592603537\" width=\"310\"/></a>\n",
       "<h5 class=\"value_on_red\"><a href=\"/inspirational-quotes/4435-compassion-is-not-just-feeling-with-someone\">COMPASSION</a></h5>\n",
       "</div><div class=\"col-6 col-lg-3 text-center margin-30px-bottom sm-margin-30px-top\">\n",
       "<a href=\"/inspirational-quotes/7416-compassion-is-the-sometimes-fatal-capacity-for\"><img alt=\"Compassion is the sometimes fatal capacity for feeling what it is like to live inside somebody else's skin. It's the knowledge that there can never really be any peace and joy for me until there is peace and joy finally for you too. #&lt;Author:0x000055df917e4548&gt;\" class=\"margin-10px-bottom shadow\" height=\"310\" src=\"https://assets.passiton.com/quotes/quote_artwork/7416/medium/20200624_wednesday_quote.jpg?1592603810\" width=\"310\"/></a>\n",
       "<h5 class=\"value_on_red\"><a href=\"/inspirational-quotes/7416-compassion-is-the-sometimes-fatal-capacity-for\">COMPASSION</a></h5>\n",
       "</div><div class=\"col-6 col-lg-3 text-center margin-30px-bottom sm-margin-30px-top\">\n",
       "<a href=\"/inspirational-quotes/7234-be-kind-for-everyone-you-meet-is-fighting-a\"><img alt=\"Be kind, for everyone you meet is fighting a harder battle. #&lt;Author:0x000055df91838008&gt;\" class=\"margin-10px-bottom shadow\" height=\"310\" src=\"https://assets.passiton.com/quotes/quote_artwork/7234/medium/20200623_tuesday_quote.jpg?1592603574\" width=\"310\"/></a>\n",
       "<h5 class=\"value_on_red\"><a href=\"/inspirational-quotes/7234-be-kind-for-everyone-you-meet-is-fighting-a\">COMPASSION</a></h5>\n",
       "</div><div class=\"col-6 col-lg-3 text-center margin-30px-bottom sm-margin-30px-top\">\n",
       "<a href=\"/inspirational-quotes/8089-true-compassion-means-not-only-feeling-anothers\"><img alt=\"True compassion means not only feeling another's pain but also being moved to help relieve it.  #&lt;Author:0x000055df918e2940&gt;\" class=\"margin-10px-bottom shadow\" height=\"310\" src=\"https://assets.passiton.com/quotes/quote_artwork/8089/medium/20200626_friday_quote.jpg?1592604099\" width=\"310\"/></a>\n",
       "<h5 class=\"value_on_red\"><a href=\"/inspirational-quotes/8089-true-compassion-means-not-only-feeling-anothers\">COMPASSION</a></h5>\n",
       "</div><div class=\"col-6 col-lg-3 text-center margin-30px-bottom sm-margin-30px-top\">\n",
       "<a href=\"/inspirational-quotes/8087-treat-people-the-way-you-want-to-be-treated\"><img alt=\"Treat people the way you want to be treated. Talk to people the way you want to be talked to. Respect is earned, not given. #&lt;Author:0x000055df91979868&gt;\" class=\"margin-10px-bottom shadow\" height=\"310\" src=\"https://assets.passiton.com/quotes/quote_artwork/8087/medium/20200619_friday_quote.jpg?1591992439\" width=\"310\"/></a>\n",
       "<h5 class=\"value_on_red\"><a href=\"/inspirational-quotes/8087-treat-people-the-way-you-want-to-be-treated\">RESPECT</a></h5>\n",
       "</div><div class=\"col-6 col-lg-3 text-center margin-30px-bottom sm-margin-30px-top\">\n",
       "<a href=\"/inspirational-quotes/8086-respect-is-one-of-the-greatest-expressions-of\"><img alt=\"Respect is one of the greatest expressions of love. #&lt;Author:0x000055df91a1d918&gt;\" class=\"margin-10px-bottom shadow\" height=\"310\" src=\"https://assets.passiton.com/quotes/quote_artwork/8086/medium/20200618_thursday_quote.jpg?1591992413\" width=\"310\"/></a>\n",
       "<h5 class=\"value_on_red\"><a href=\"/inspirational-quotes/8086-respect-is-one-of-the-greatest-expressions-of\">RESPECT</a></h5>\n",
       "</div><div class=\"col-6 col-lg-3 text-center margin-30px-bottom sm-margin-30px-top\">\n",
       "<a href=\"/inspirational-quotes/8085-every-human-being-of-whatever-origin-of\"><img alt=\"Every human being, of whatever origin, of whatever station, deserves respect. We must each respect others even as we respect ourselves. #&lt;Author:0x000055df91a87200&gt;\" class=\"margin-10px-bottom shadow\" height=\"310\" src=\"https://assets.passiton.com/quotes/quote_artwork/8085/medium/20200617_wednesday_quote.jpg?1591992357\" width=\"310\"/></a>\n",
       "<h5 class=\"value_on_red\"><a href=\"/inspirational-quotes/8085-every-human-being-of-whatever-origin-of\">RESPECT</a></h5>\n",
       "</div><div class=\"col-6 col-lg-3 text-center margin-30px-bottom sm-margin-30px-top\">\n",
       "<a href=\"/inspirational-quotes/7559-respect-is-love-in-action\"><img alt=\"Respect is love in action. #&lt;Author:0x000055df91b56280&gt;\" class=\"margin-10px-bottom shadow\" height=\"310\" src=\"https://assets.passiton.com/quotes/quote_artwork/7559/medium/20200616_tuesday_quote.jpg?1591992336\" width=\"310\"/></a>\n",
       "<h5 class=\"value_on_red\"><a href=\"/inspirational-quotes/7559-respect-is-love-in-action\">RESPECT</a></h5>\n",
       "</div><div class=\"col-6 col-lg-3 text-center margin-30px-bottom sm-margin-30px-top\">\n",
       "<a href=\"/inspirational-quotes/7276-for-to-be-free-is-not-merely-to-cast-off-ones\"><img alt=\"For to be free is not merely to cast off one's chains, but to live in a way that respects and enhances the freedom of others. #&lt;Author:0x000055df91dd3418&gt;\" class=\"margin-10px-bottom shadow\" height=\"310\" src=\"https://assets.passiton.com/quotes/quote_artwork/7276/medium/20200615_monday_quote.jpg?1591992311\" width=\"310\"/></a>\n",
       "<h5 class=\"value_on_red\"><a href=\"/inspirational-quotes/7276-for-to-be-free-is-not-merely-to-cast-off-ones\">RESPECT</a></h5>\n",
       "</div><div class=\"col-6 col-lg-3 text-center margin-30px-bottom sm-margin-30px-top\">\n",
       "<a href=\"/inspirational-quotes/7883-deep-listening-is-the-kind-of-listening-that\"><img alt=\"Deep listening is the kind of listening that can help relieve the suffering of another person... You listen with only one purpose: to help him or her to empty their heart.  #&lt;Author:0x000055df91e741b0&gt;\" class=\"margin-10px-bottom shadow\" height=\"310\" src=\"https://assets.passiton.com/quotes/quote_artwork/7883/medium/thich_updated_quote_artwork.jpg?1591982830\" width=\"310\"/></a>\n",
       "<h5 class=\"value_on_red\"><a href=\"/inspirational-quotes/7883-deep-listening-is-the-kind-of-listening-that\">LISTENING</a></h5>\n",
       "</div><div class=\"col-6 col-lg-3 text-center margin-30px-bottom sm-margin-30px-top\">\n",
       "<a href=\"/inspirational-quotes/5292-the-most-basic-of-all-human-needs-is-the-need\"><img alt=\"The most basic of all human needs is the need to understand and be understood. The best way to understand people is to listen to them. #&lt;Author:0x000055df91f1f948&gt;\" class=\"margin-10px-bottom shadow\" height=\"310\" src=\"https://assets.passiton.com/quotes/quote_artwork/5292/medium/20200611_thursday_quote.jpg?1591393755\" width=\"310\"/></a>\n",
       "<h5 class=\"value_on_red\"><a href=\"/inspirational-quotes/5292-the-most-basic-of-all-human-needs-is-the-need\">LISTENING</a></h5>\n",
       "</div><div class=\"col-6 col-lg-3 text-center margin-30px-bottom sm-margin-30px-top\">\n",
       "<a href=\"/inspirational-quotes/8081-one-of-the-most-sincere-forms-of-respect-is\"><img alt=\"One of the most sincere forms of respect is actually listening to what another has to say. #&lt;Author:0x000055df91fd77a0&gt;\" class=\"margin-10px-bottom shadow\" height=\"310\" src=\"https://assets.passiton.com/quotes/quote_artwork/8081/medium/20200609_tuesday_quote.jpg?1591393705\" width=\"310\"/></a>\n",
       "<h5 class=\"value_on_red\"><a href=\"/inspirational-quotes/8081-one-of-the-most-sincere-forms-of-respect-is\">LISTENING</a></h5>\n",
       "</div>\n",
       "</div>"
      ]
     },
     "execution_count": 68,
     "metadata": {},
     "output_type": "execute_result"
    }
   ],
   "source": [
    "all_quotes"
   ]
  },
  {
   "cell_type": "code",
   "execution_count": 118,
   "metadata": {},
   "outputs": [],
   "source": [
    "divs = all_quotes.findAll('div')"
   ]
  },
  {
   "cell_type": "code",
   "execution_count": 119,
   "metadata": {},
   "outputs": [
    {
     "data": {
      "text/plain": [
       "32"
      ]
     },
     "execution_count": 119,
     "metadata": {},
     "output_type": "execute_result"
    }
   ],
   "source": [
    "len(divs)"
   ]
  },
  {
   "cell_type": "code",
   "execution_count": 121,
   "metadata": {},
   "outputs": [],
   "source": [
    "div_element = divs[0]"
   ]
  },
  {
   "cell_type": "code",
   "execution_count": 122,
   "metadata": {},
   "outputs": [
    {
     "data": {
      "text/plain": [
       "<a href=\"/inspirational-quotes/8102-just-as-we-develop-our-physical-muscles-through\"><img alt=\"Just as we develop our physical muscles through overcoming opposition – such as lifting weights – we develop our character muscles by overcoming challenges and adversity. #&lt;Author:0x00007f0fd799f488&gt;\" class=\"margin-10px-bottom shadow\" height=\"310\" src=\"https://assets.passiton.com/quotes/quote_artwork/8102/medium/20200723_thursday_quote.jpg?1595011009\" width=\"310\"/></a>"
      ]
     },
     "execution_count": 122,
     "metadata": {},
     "output_type": "execute_result"
    }
   ],
   "source": [
    "div_element.a"
   ]
  },
  {
   "cell_type": "code",
   "execution_count": 123,
   "metadata": {},
   "outputs": [
    {
     "data": {
      "text/plain": [
       "<img alt=\"Just as we develop our physical muscles through overcoming opposition – such as lifting weights – we develop our character muscles by overcoming challenges and adversity. #&lt;Author:0x00007f0fd799f488&gt;\" class=\"margin-10px-bottom shadow\" height=\"310\" src=\"https://assets.passiton.com/quotes/quote_artwork/8102/medium/20200723_thursday_quote.jpg?1595011009\" width=\"310\"/>"
      ]
     },
     "execution_count": 123,
     "metadata": {},
     "output_type": "execute_result"
    }
   ],
   "source": [
    "div_element.img"
   ]
  },
  {
   "cell_type": "code",
   "execution_count": 124,
   "metadata": {},
   "outputs": [
    {
     "data": {
      "text/plain": [
       "{'alt': 'Just as we develop our physical muscles through overcoming opposition – such as lifting weights – we develop our character muscles by overcoming challenges and adversity. #<Author:0x00007f0fd799f488>',\n",
       " 'class': ['margin-10px-bottom', 'shadow'],\n",
       " 'src': 'https://assets.passiton.com/quotes/quote_artwork/8102/medium/20200723_thursday_quote.jpg?1595011009',\n",
       " 'width': '310',\n",
       " 'height': '310'}"
      ]
     },
     "execution_count": 124,
     "metadata": {},
     "output_type": "execute_result"
    }
   ],
   "source": [
    "#soup creates a dictionary of attributes \n",
    "div_element.img.attrs"
   ]
  },
  {
   "cell_type": "code",
   "execution_count": 125,
   "metadata": {},
   "outputs": [
    {
     "data": {
      "text/plain": [
       "'https://assets.passiton.com/quotes/quote_artwork/8102/medium/20200723_thursday_quote.jpg?1595011009'"
      ]
     },
     "execution_count": 125,
     "metadata": {},
     "output_type": "execute_result"
    }
   ],
   "source": [
    "div_element.img.attrs['src']"
   ]
  },
  {
   "cell_type": "code",
   "execution_count": null,
   "metadata": {},
   "outputs": [],
   "source": []
  },
  {
   "cell_type": "code",
   "execution_count": 84,
   "metadata": {},
   "outputs": [],
   "source": [
    "#wb becuase img is in binary format\n",
    "with open('inspiration.jpg','wb') as file:\n",
    "    url = div_element.img.attrs['src']\n",
    "    response = requests.get(url)\n",
    "    \n",
    "    file.write(response.content)"
   ]
  },
  {
   "cell_type": "code",
   "execution_count": null,
   "metadata": {},
   "outputs": [],
   "source": []
  },
  {
   "cell_type": "code",
   "execution_count": 126,
   "metadata": {},
   "outputs": [],
   "source": [
    "for i,div_element in enumerate(divs):\n",
    "    with open('inspiration{}.jpg'.format(i),'wb') as file:\n",
    "        url = div_element.img.attrs['src']\n",
    "        response = requests.get(url)\n",
    "        \n",
    "        file.write(response.content)"
   ]
  },
  {
   "cell_type": "code",
   "execution_count": null,
   "metadata": {},
   "outputs": [],
   "source": [
    "#created 32 pics..amazing"
   ]
  },
  {
   "cell_type": "code",
   "execution_count": null,
   "metadata": {},
   "outputs": [],
   "source": []
  },
  {
   "cell_type": "code",
   "execution_count": null,
   "metadata": {},
   "outputs": [],
   "source": []
  },
  {
   "cell_type": "code",
   "execution_count": null,
   "metadata": {},
   "outputs": [],
   "source": []
  },
  {
   "cell_type": "code",
   "execution_count": null,
   "metadata": {},
   "outputs": [],
   "source": []
  },
  {
   "cell_type": "code",
   "execution_count": null,
   "metadata": {},
   "outputs": [],
   "source": []
  },
  {
   "cell_type": "code",
   "execution_count": null,
   "metadata": {},
   "outputs": [],
   "source": []
  },
  {
   "cell_type": "code",
   "execution_count": null,
   "metadata": {},
   "outputs": [],
   "source": []
  },
  {
   "cell_type": "code",
   "execution_count": null,
   "metadata": {},
   "outputs": [],
   "source": []
  },
  {
   "cell_type": "code",
   "execution_count": null,
   "metadata": {},
   "outputs": [],
   "source": []
  },
  {
   "cell_type": "code",
   "execution_count": null,
   "metadata": {},
   "outputs": [],
   "source": []
  },
  {
   "cell_type": "code",
   "execution_count": null,
   "metadata": {},
   "outputs": [],
   "source": []
  },
  {
   "cell_type": "code",
   "execution_count": null,
   "metadata": {},
   "outputs": [],
   "source": []
  }
 ],
 "metadata": {
  "kernelspec": {
   "display_name": "Python 3",
   "language": "python",
   "name": "python3"
  },
  "language_info": {
   "codemirror_mode": {
    "name": "ipython",
    "version": 3
   },
   "file_extension": ".py",
   "mimetype": "text/x-python",
   "name": "python",
   "nbconvert_exporter": "python",
   "pygments_lexer": "ipython3",
   "version": "3.7.7"
  }
 },
 "nbformat": 4,
 "nbformat_minor": 4
}
