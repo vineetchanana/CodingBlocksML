{
 "cells": [
  {
   "cell_type": "code",
   "execution_count": 1,
   "metadata": {},
   "outputs": [],
   "source": [
    "from urllib.request import urlopen"
   ]
  },
  {
   "cell_type": "code",
   "execution_count": 3,
   "metadata": {},
   "outputs": [],
   "source": [
    "import json"
   ]
  },
  {
   "cell_type": "code",
   "execution_count": 4,
   "metadata": {},
   "outputs": [],
   "source": [
    "url = 'https://samples.openweathermap.org/data/2.5/weather?q=London,uk&appid=439d4b804bc8187953eb36d2a8c26a02'"
   ]
  },
  {
   "cell_type": "code",
   "execution_count": 5,
   "metadata": {},
   "outputs": [],
   "source": [
    "response = urlopen(url)"
   ]
  },
  {
   "cell_type": "code",
   "execution_count": 6,
   "metadata": {},
   "outputs": [
    {
     "data": {
      "text/plain": [
       "<http.client.HTTPResponse at 0x2350115df88>"
      ]
     },
     "execution_count": 6,
     "metadata": {},
     "output_type": "execute_result"
    }
   ],
   "source": [
    "response"
   ]
  },
  {
   "cell_type": "code",
   "execution_count": 8,
   "metadata": {},
   "outputs": [
    {
     "data": {
      "text/plain": [
       "b'{\"coord\":{\"lon\":-0.13,\"lat\":51.51},\"weather\":[{\"id\":300,\"main\":\"Drizzle\",\"description\":\"light intensity drizzle\",\"icon\":\"09d\"}],\"base\":\"stations\",\"main\":{\"temp\":280.32,\"pressure\":1012,\"humidity\":81,\"temp_min\":279.15,\"temp_max\":281.15},\"visibility\":10000,\"wind\":{\"speed\":4.1,\"deg\":80},\"clouds\":{\"all\":90},\"dt\":1485789600,\"sys\":{\"type\":1,\"id\":5091,\"message\":0.0103,\"country\":\"GB\",\"sunrise\":1485762037,\"sunset\":1485794875},\"id\":2643743,\"name\":\"London\",\"cod\":200}'"
      ]
     },
     "execution_count": 8,
     "metadata": {},
     "output_type": "execute_result"
    }
   ],
   "source": [
    "data = response.read()\n",
    "data"
   ]
  },
  {
   "cell_type": "code",
   "execution_count": 9,
   "metadata": {},
   "outputs": [
    {
     "data": {
      "text/plain": [
       "bytes"
      ]
     },
     "execution_count": 9,
     "metadata": {},
     "output_type": "execute_result"
    }
   ],
   "source": [
    "type(data)"
   ]
  },
  {
   "cell_type": "code",
   "execution_count": 10,
   "metadata": {},
   "outputs": [
    {
     "data": {
      "text/plain": [
       "{'coord': {'lon': -0.13, 'lat': 51.51},\n",
       " 'weather': [{'id': 300,\n",
       "   'main': 'Drizzle',\n",
       "   'description': 'light intensity drizzle',\n",
       "   'icon': '09d'}],\n",
       " 'base': 'stations',\n",
       " 'main': {'temp': 280.32,\n",
       "  'pressure': 1012,\n",
       "  'humidity': 81,\n",
       "  'temp_min': 279.15,\n",
       "  'temp_max': 281.15},\n",
       " 'visibility': 10000,\n",
       " 'wind': {'speed': 4.1, 'deg': 80},\n",
       " 'clouds': {'all': 90},\n",
       " 'dt': 1485789600,\n",
       " 'sys': {'type': 1,\n",
       "  'id': 5091,\n",
       "  'message': 0.0103,\n",
       "  'country': 'GB',\n",
       "  'sunrise': 1485762037,\n",
       "  'sunset': 1485794875},\n",
       " 'id': 2643743,\n",
       " 'name': 'London',\n",
       " 'cod': 200}"
      ]
     },
     "execution_count": 10,
     "metadata": {},
     "output_type": "execute_result"
    }
   ],
   "source": [
    "json_data = json.loads(data)\n",
    "json_data"
   ]
  },
  {
   "cell_type": "code",
   "execution_count": 11,
   "metadata": {},
   "outputs": [
    {
     "data": {
      "text/plain": [
       "dict"
      ]
     },
     "execution_count": 11,
     "metadata": {},
     "output_type": "execute_result"
    }
   ],
   "source": [
    "type(json_data)"
   ]
  },
  {
   "cell_type": "code",
   "execution_count": 12,
   "metadata": {},
   "outputs": [
    {
     "data": {
      "text/plain": [
       "{'lon': -0.13, 'lat': 51.51}"
      ]
     },
     "execution_count": 12,
     "metadata": {},
     "output_type": "execute_result"
    }
   ],
   "source": [
    "json_data['coord']"
   ]
  },
  {
   "cell_type": "code",
   "execution_count": 13,
   "metadata": {},
   "outputs": [
    {
     "data": {
      "text/plain": [
       "[{'id': 300,\n",
       "  'main': 'Drizzle',\n",
       "  'description': 'light intensity drizzle',\n",
       "  'icon': '09d'}]"
      ]
     },
     "execution_count": 13,
     "metadata": {},
     "output_type": "execute_result"
    }
   ],
   "source": [
    "json_data['weather']"
   ]
  },
  {
   "cell_type": "code",
   "execution_count": 16,
   "metadata": {},
   "outputs": [
    {
     "name": "stdout",
     "output_type": "stream",
     "text": [
      "<class 'str'>\n"
     ]
    },
    {
     "data": {
      "text/plain": [
       "'{\"coord\": {\"lon\": -0.13, \"lat\": 51.51}, \"weather\": [{\"id\": 300, \"main\": \"Drizzle\", \"description\": \"light intensity drizzle\", \"icon\": \"09d\"}], \"base\": \"stations\", \"main\": {\"temp\": 280.32, \"pressure\": 1012, \"humidity\": 81, \"temp_min\": 279.15, \"temp_max\": 281.15}, \"visibility\": 10000, \"wind\": {\"speed\": 4.1, \"deg\": 80}, \"clouds\": {\"all\": 90}, \"dt\": 1485789600, \"sys\": {\"type\": 1, \"id\": 5091, \"message\": 0.0103, \"country\": \"GB\", \"sunrise\": 1485762037, \"sunset\": 1485794875}, \"id\": 2643743, \"name\": \"London\", \"cod\": 200}'"
      ]
     },
     "execution_count": 16,
     "metadata": {},
     "output_type": "execute_result"
    }
   ],
   "source": [
    "string_data = json.dumps(json_data)\n",
    "print(type(string_data))\n",
    "string_data"
   ]
  },
  {
   "cell_type": "code",
   "execution_count": null,
   "metadata": {},
   "outputs": [],
   "source": []
  },
  {
   "cell_type": "code",
   "execution_count": null,
   "metadata": {},
   "outputs": [],
   "source": []
  },
  {
   "cell_type": "code",
   "execution_count": 17,
   "metadata": {},
   "outputs": [],
   "source": [
    "import requests"
   ]
  },
  {
   "cell_type": "code",
   "execution_count": 31,
   "metadata": {},
   "outputs": [],
   "source": [
    "url = 'https://graph.facebook.com/5/picture?type=large'"
   ]
  },
  {
   "cell_type": "code",
   "execution_count": 32,
   "metadata": {},
   "outputs": [
    {
     "data": {
      "text/plain": [
       "<Response [200]>"
      ]
     },
     "execution_count": 32,
     "metadata": {},
     "output_type": "execute_result"
    }
   ],
   "source": [
    "response = requests.get(url)\n",
    "response"
   ]
  },
  {
   "cell_type": "code",
   "execution_count": 26,
   "metadata": {},
   "outputs": [
    {
     "data": {
      "text/plain": [
       "requests.models.Response"
      ]
     },
     "execution_count": 26,
     "metadata": {},
     "output_type": "execute_result"
    }
   ],
   "source": [
    "type(response)"
   ]
  },
  {
   "cell_type": "code",
   "execution_count": 27,
   "metadata": {},
   "outputs": [
    {
     "data": {
      "text/plain": [
       "'https://graph.facebook.com/3/picture?type=large'"
      ]
     },
     "execution_count": 27,
     "metadata": {},
     "output_type": "execute_result"
    }
   ],
   "source": [
    "response.url"
   ]
  },
  {
   "cell_type": "code",
   "execution_count": 33,
   "metadata": {},
   "outputs": [
    {
     "data": {
      "text/plain": [
       "b'\\xff\\xd8\\xff\\xe0\\x00\\x10JFIF\\x00\\x01\\x01\\x00\\x00\\x01\\x00\\x01\\x00\\x00\\xff\\xed\\x00\\x9cPhotoshop 3.0\\x008BIM\\x04\\x04\\x00\\x00\\x00\\x00\\x00\\x80\\x1c\\x02g\\x00\\x14vqQUHG_USoIT8Qs5wKhJ\\x1c\\x02(\\x00bFBMD0a000a86010000570400001f080000c008000065090000020b0000de0e00008f0f000066100000391100003b180000\\xff\\xdb\\x00C\\x00\\x06\\x04\\x05\\x06\\x05\\x04\\x06\\x06\\x05\\x06\\x07\\x07\\x06\\x08\\n\\x10\\n\\n\\t\\t\\n\\x14\\x0e\\x0f\\x0c\\x10\\x17\\x14\\x18\\x18\\x17\\x14\\x16\\x16\\x1a\\x1d%\\x1f\\x1a\\x1b#\\x1c\\x16\\x16 , #&\\')*)\\x19\\x1f-0-(0%()(\\xff\\xdb\\x00C\\x01\\x07\\x07\\x07\\n\\x08\\n\\x13\\n\\n\\x13(\\x1a\\x16\\x1a((((((((((((((((((((((((((((((((((((((((((((((((((\\xff\\xc2\\x00\\x11\\x08\\x00\\xc8\\x00\\xc8\\x03\\x01\"\\x00\\x02\\x11\\x01\\x03\\x11\\x01\\xff\\xc4\\x00\\x1b\\x00\\x00\\x01\\x05\\x01\\x01\\x00\\x00\\x00\\x00\\x00\\x00\\x00\\x00\\x00\\x00\\x00\\x04\\x00\\x01\\x02\\x03\\x05\\x06\\x07\\xff\\xc4\\x00\\x18\\x01\\x00\\x03\\x01\\x01\\x00\\x00\\x00\\x00\\x00\\x00\\x00\\x00\\x00\\x00\\x00\\x00\\x00\\x01\\x02\\x03\\x04\\xff\\xda\\x00\\x0c\\x03\\x01\\x00\\x02\\x10\\x03\\x10\\x00\\x00\\x01\\xd2\\xbe\\xb6\\x87bt\\x9b4\\x90AI\\x04]DST\\xc5\\x84\\xa1 \\x070(\\r\\x80\\x97\\xa2\\xca\\xec\\xad\\xac]\\x1c\\xed&9b\\x96\\x17\\'B\\xae\\xab`\\xaa\\xb8\\x94J3\\x1fE\\x06z\\xd0L\\xcf\\x91\\xd8h2\\x8f>\\x0c~\\x9b\\xa7\\xe3\\xbbB\\xf4\\x95\\xc9\\xf4\\xcd\\\\)B\\x82\\xae\\xca\\xc3\\x1bG?B\\x94\\x8c\\x0c\\xc4\\xeeN\\x85Td\\xc9\\xc8\\x91\\xc9\\x1du\\x0f\\x91\\x8d\\xee\\xd1\\x87\\xcb\\x8f{\\x93\\x9bk\"3\\xb5)=\\x0c\\x06t|\\xa5\\xe8\\xf6\\x1a8n\\xd1\\'\\x84\\xa0\\xd6Y\\xe0\\x1fJF\\x84jw$\\x85RHr$b\\x91\\x9b\\xcct\\xf9\\x1c\\xfbd\\x00L4@\\xae\\x87R\\x9f\\x12?\\xa4g\\x8f\\x80\\xaf\\xa9\\x18X\\x16\\xeb\\x8c\\xd0\\x1d7:Y>\\x85Zb3t3\\xcf\\xb53B5;\\x93\"kI\\x15\"\\x85)\\x19\\x98\\x1d\\x1f5\\xcf\\xae7G\\xc8\\xf7\\x1aV\\x99\\x14\\xd8\\xb5\\xba\\r\\n\\x9a\\x02\\xd0\\xa6o(\\r|\\xe9|\\xd0Z\\xd8:\\xf3\\xfa\\x19\\xb8\\xfa\\xef,\\xe3\\xc1:\\xe6G\\x80z,I\\n\\t\"\\x9c\\xa1\\x8aO?\\x99\\xea9\\xcc/\\x97\\xef8\\xce\\xe6\\xb5.\\xca\\xe6\\xaeu\\xa8P\\xaa\\xb2\\x84\\xc4\\x0c\\xb1%\\xf3\\xfc\\xff\\x00C\\x83\\xa7?G\\xd4\\xf2\\x9d]d\\x01\\xc1\\x1bs-\\x0c\\xfd\\x04M$\\xd4S\\xa5H\\xa1\\x8aL\\x1e{\\xa2\\xc5\\xc3~o\\xae\\xc1\\xe8\\xea\\x85\\x06\\xec\\xcaZz\\xf9\\x1a\\xea\\xe9\\xc5#0R`\\'Q^7C\\x8c\\x91\\x1d\\xbf\\x1d\\xd89\\x10\\xc1L\\xd3\\x17\\xd0\\x03E\\x0e\\x9d4\\xcc\\xe9R,R\\xd3\\xcf\\x14\\xa0\\xf9z\\x06\\xd0\\x83^\\x85J\\xdb-\\x08\\xd60\\xf9\\xfb\\xe0\\xd3E\\x89\\xad@s\\xb8\\xda\\x99O=\\x1e\\x9f\\x1ff\\xf1\\x0c\\xb1\\x8b\\xd3\\x05\\xa2\\x06\\x88\\xd2t(\\xa9%LX\\xc5\\xa7\\x9a\\x06\\x88\\\\[\\x90\\x1bG]4@\\xae\\xeb\\xa6\\x95\\xc0\\xd2\\x17:\\xeaQ\\xb0\\xe1\\xcd<X\\xdb\\xb2\\xf3\\xb8\\xab\\xe8\\xd3\\x98b\\xc6*\\xe1\\xf4\\x00\\xd1M\\x93\\xa1E\\xd3\\x94\\x8b\\x14\\xc9y\\xe0\\x9e\\x07\\x1e\\xd4FP\\xa7\\xa1]\\x06\\xe9\\xae\\x0e\\xbd\\xf5\\xeae`\\xf5YH\\xa8\\xc9e\\xc2\\x87e\\xca\\xf5\\x9asP)b8\\xa8\\xa1\\xc9\\xb9}\\x004\\x01\\x93\\xa0\\x8b\\xa4\\x9b\\x9a!s@e\\xe9\\x81\\xc7\\xb8\\xaa\\xe6\\x10\\xba\\x02\\x0f\\xae\\x9b\\xd4J\\xedL\\xf1t3U\\x03\\x8a@\\xd3\\x1a\\x9dw#\\xd5\\xe9\\xcf\\x01I\\x12\\xa5\\x8a\\x10\\xaa\\x89\\xe8g\\x9e7I\\t\\x93\\xa5R,R\\xa6\\xb3\\x834n-\\xea\\x85\\xc3\\xa25\\x90\\xfbVl\\xb4\\x84\\xd5\\x05\\x9d\\xa00\\x08\\x8b\\x94\\xd0\\x9d\\x7f\\x1f\\xb7Yh\\x86`Zb\\xc5\\x88U\\xc5\\x9a\\x19\\xfa\\t\\xbaHI\\xd2U2\\xd2\\x9a\\x8b$\\x0c\\xc9\\x0b8t\\xb3\\xdd\\xa8H\\xb0`\\x93\\x1e)MSZR\\x08r]\\x1c\\x9aD\\xa5y\\xd8zI\\xc9$\\xd7\\xff\\xc4\\x00)\\x10\\x00\\x01\\x03\\x03\\x02\\x05\\x05\\x01\\x01\\x01\\x00\\x00\\x00\\x00\\x00\\x00\\x02\\x00\\x01\\x03\\x04\\x111\\x122\\x05\\x10\\x13!3 \"#AB\\x14C4\\xff\\xda\\x00\\x08\\x01\\x01\\x00\\x01\\x05\\x02oE\\xd5\\xf9\\xd9YYY[\\xd3~Rb=\\xfc\\xa2\\xc2\\x1c6}7Z\\x96\\xa6]A]Q]a]u\\xd5u\\xac\\xd7\\xca\\xe8\\x1b\\xb3)q\\x16\\xeeQmC\\x86\\xdcN\\xe2\\xf75\\xf2\\xad2\\xae\\x91\\xae\\x83\\xaf\\xe7e\\xfc\\xe2\\xbaq3\\xf5 \\x17\\n\\x8aw\\x0b7\\xa1\\x93)q\\x0e\\xeeQmC\\x81\\xcf\\xfaz\\xab\\xab\\x86\\x99KW!\\x9e\\xb2Z\\xec\\xa1\\xe2\\x13F\\xa0\\xe2\\xecO\\x11\\xb4\\x82\\x9b\\x94\\xb8\\x87<\\xa2\\xda\\x87h\\xe7\\xfd\\x13\\x932\\xea\\x8a\\xeb\\n:\\xa0\\x05[\\xc4\\xdc\\xd8\\xde\\xea\\xea\\xea\\xebS:ge\\xc3*\\xbaR\\xb3\\xdd\\x99}\\xcb\\xb6\\x1c\\xf2\\x8bjm\\xa0\\xbf\\xd1Ua\\x89\\xafQ/Lg\\x98\\xe5M\\xdd\\xcd\\xbb8\\xab[\\x9b&~\\xf4\\x1cA\\xe1P\\xc82\\x07\\xea]\\xb0\\xe7\\x94{Sm\\x05\\xfe\\x8a\\xaf\\x11\\xc4\\xed-K]\\xca%\\xa1\\xef\\xd3wg\\x89\\xed\\xd1u\\xd2Zl\\xad\\xde\\xcb\\xef\\x84\\x1d\\x8d\\xf7M\\xb2\\x0c\\xf2\\x8fjm\\xb1\\xa6\\xf2*\\xbe\\xccGdes\\x1b\\x93\\xc7N\\xe6\\x82\\x8d\\x97\\xf2\\x85\\xa5\\xa4GM\\xdd\\xe9W\\xf3\"\\x8d\\xc5=\\xd5)\\xf4\\xa6g\\xba\\x9bd\\x1c\\xe3\\xda\\x9bli\\xbc\\xaa\\xaf\\x12]\\x84\\x8fS\\xd1D\\xdaE\\x932\\xb2\\xb3#\\x8d\\x9d\\x14L\\xc8\\x82\\xc8\\xd9\\x94\\xe3d/\\xde\\x84\\xb5A7\\x8e\\x1eq\\xedM\\xb4\\x10\\xf9UB\\xe2\\x0f`\\r\\xd4\\x9e6L\\xae\\xae\\x9d\\x124L\\xaa1\\xf7\\xc2\\x8a\\xf0\\xcd\\xe3\\x87\\x98mM\\xb4\\x10\\xf9UB\\xe2M\\xec\\x0e\\xe7L\\xd6\\x06\\xe6\\xfc\\x8b\\x04\\x8dTapb\\xf9g\\xf1\\xc3\\xcc6\\xa6\\xda\\x08|\\x8a|\\xf1.\\xd0R\\xb5\\xea\\x057+\\xab\\xab\\xa2tH\\xb1&_\\xb1\\xf0ku\\xaa<p\\xf3\\r\\xa9\\xb0\\x08<\\x8a|\\xf1\\x01\\xd7\\x05\\x1b|\\xce\\xf6c\\'G)\\x8a\\x8ei,\\x05\\xacd=-$\\xe6\\xe8H\\x9d{\\x91fM\\xd4$\\xf1\\xcbQ\\xe2\\x87\\x98\\xedM\\xb4\\x10y\\x14\\xd9\\x96=E\\x14z*\\x84n3E!\\x1c\\x94r\\xeb\\x8a\\x02\\x17\\xa6m+\\x89\\x13\\xb3\\x84DjJj\\x86q\\xea\\x0c\\x92\\r\\x98\\x87\\xdf\\x10\\xd9\\xe6\\xf0C\\xccv\\xaf\\xc8(\\xfc\\x8al\\xfd\\xcf\\x1d\\xa7\\x8bj\\xb5\\xd6\\x94\\xdb\\xab\\xbc\\xb0\\xb7g\\x1b\\xae\\x9b\\xbb\\xd4Y}\\xc1\\x1e\\xa9\\xea\\xbcp\\xf3\\x1c/\\xc8\\xa8\\xfc\\x8a|\\xfe\\x8d\\xae\\xd1?ae\\xd9\\x11\\x8d\\xe2n\\xf5\\xa1\\xef\\x80\\xd92\\x97\\x15\\x19\\x7fr\\xe1\\xa3\\xf2Ux\\xe1\\xe6\\xd8_\\x91\\xc4~EQ\\x92C\\xef\\x18\\xfb>\\xb4s9\\xbb\\x17Ha\\xaagU\\xd3\\xb30Ir\\x13vR\\x1a\\x9d\\xee\\xf0\\xb7z\\x01\\xb0U\\xec\\x83\\x9ba~EG\\xe4S\\xee&Mt,\\x8a3v\\x8cXQ\\x05\\xd4\\x90\\xa9#A\\x1e\\x97\\x07F?\\x1c\\x83a\\x82\\x91\\x8e\\x01f\\x15W\\xb2\\x1crl/\\xa0\\xc4[\\xd4\\xdb\\x89vd%c\\x15,M(SA,e\\xd0\\x99\\x94\\x90L\\xedQ\\x1b\\x90p\\xfav\\x81\\xaa\\xcb\\xbc\\x8d\\xd4\\x90[H\\xfe\\xaa\\xf6C\\x8fG\\xd0\\xe2-\\xeal\\x92\\xf7\\'g@WB\\xf7F\\xd7L:T\\xcdqq\\xb2\\x17\\xb2#\\xbb\\xf0\\xefu[\\xaf\\xd5^\\xd8q\\xe8|\\x0e!\\xdc\\xa6\\xdcV\\xd4\\xf9\\xb5\\xd3\\xfbJ\\x12\\xbavN.\\x89\\x9dh\\xbb\\xd5\\x16\\x962\\\\#\\xfe\\x97M\\xba\\xaf\\x10\\xe3\\xd0\\xf8\\x1cC\\xb9M\\xb8\\xb9\\x93{\\xae\\xf1\\x94R16\\xa4n\\xc8\\xa4`R\\x97P\\xdd\\x97\\n\\xedT\\xe9\\xb7U\\xa8v\\xb2ne\\x81\\xc4;\\x94\\xfb\\xac\\xb4\\xb2\\xd2)\\xda\\xc5 \\xddh!]wf)\\xfb\\x1d\\xc9\\xf4\\xad*\\x9c\\xba5.\\x9b5j\\r\\xac\\x9b<\\x8bh\\xe2\\x1c\\xa9\\x99\\xf5Y\\xd1\\x0b\\xda!$mg\\xfa\\xb7c\\x14j\\xcbJ\\xd2\\xa5\\x15G5\\xc1\\xb3V\\xa0\\xda\\xc9\\xb3\\xc8\\xb08\\x87>\\x9a\\xb4\\xcb\\xec\\xd3\\xb2\\xd2\\xb4\\xf2\\x90{\\x00\\xf6\\x96\\xb6JY?\\xb2*\\x96\\x87k&\\xcf/\\xff\\xc4\\x00!\\x11\\x00\\x02\\x01\\x04\\x03\\x01\\x01\\x01\\x01\\x00\\x00\\x00\\x00\\x00\\x00\\x00\\x00\\x01\\x02\\x10\\x11 1\\x03!A\\x1202Q\\xff\\xda\\x00\\x08\\x01\\x03\\x01\\x01?\\x01\\xfc\\xa5\\xf8X\\xb6\\x0f\\x18\\xc2\\xe3\\x8aY\\xbd\\xe3\\x1dS\\xe5\\x9f\\x07\\xc1\\xf2\\xea\\xf7\\x8a\\xd1\\r\\xd5R{=\\x1e\\xf1Z!\\x8f%\\x1e\\xf1\\xe3W#\\xd1\\'j2.\\xe4\\x89\\xc6\\xd6\\x1e\\xf1\\xe3\\xe8\\xb0\\xe9b\\xc3]\\x9c\\x8f\\xbb\\x0fx\":\\x13\\xa5\\xcb\\x97\\x1c\\x92\\xd8\\xdd\\xdd\\xc7\\xbc\\x11\\x1d\\x1at\\xef\\xc2\\xdf\\xe8\\xfa9\\x1fb=\\xc1\\x0bT\\xbd,l\\xe4\\xd8\\x8fpDuETrG\\xd1\\x1e\\xe0\\xab\\rc/\\xe8\\xf6\\xbf\\xff\\xc4\\x00\"\\x11\\x00\\x02\\x01\\x04\\x01\\x05\\x01\\x01\\x00\\x00\\x00\\x00\\x00\\x00\\x00\\x00\\x00\\x01\\x02\\x10\\x11 12\\x12!\"0A\\x03B\\xff\\xda\\x00\\x08\\x01\\x02\\x01\\x01?\\x01~\\xa8\\xea\\xaf\\xd5\\x1dU\\xd2\\x7f\\xa7K\\xb1\\x19JXZ\\xb1\\xd63\\xe4EY\\x17.u\\x1dU\\x8e\\xb1|\\xc6*:G\\xbd\\x16\\xb1|\\xc9c\\n-c\\xfd\\x0c\\x8cn1w%\\x124Z\\xc5\\xcb\\xccdM\\xb3Cb\\x16\\x85\\xacg\\xcc\\xbd\\xc5\\x82W>\\x0bX\\xcf\\x91\\x13B\\x19\\xb24\\xf9\\x8c\\xb9Q\\x08f\\x88hg\\xccf\\xbc\\x8e\\xe4t\"\\xe3 \\xfe\\x0f\\xd1-\\x8a\\xacK\\xc7\\x0f\\xff\\xc4\\x00.\\x10\\x00\\x01\\x02\\x05\\x02\\x06\\x01\\x02\\x07\\x01\\x00\\x00\\x00\\x00\\x00\\x00\\x01\\x00\\x02\\x10\\x11 !1\\x120\\x03\"2AQaqRr\\x13BPb\\x82\\x91\\xb1\\xe1\\xff\\xda\\x00\\x08\\x01\\x01\\x00\\x06?\\x02\\xfd\\x0b++1\\xe9+\\xa4\\xae\\x95|\\xedZ\\xeb\\xa5av]K\\xadu\\x15\\xddK\\xba!\\xf2\\x04-S\\x00o\\x8a\\xc7s\\xe19\\xda\\x8f2\\xe60\\xb3\\xc9\\x1e\\n\\x97\\x15\\xb2\\xf6\\x14\\xdb\\xb8!u\\x98s\\x19\"\\xce\\x05\\x87\\xd4\\xafV\\x97\\x1eB\\xa7\\x13\\xb0 #\\xebd1\\xf7g\\xf8\\xb50\\xcc@\\xed\\x99\\xad!Z6\\x85\\xe9\\xd3x\\x1d\\xbc\"\\xe8a]aZ\\x18\\x86 \\n\\x05\\x1d\\xb35\\xe9j;&Po\\xa4h\\x15\\x04 6LM\\x02\\xb1\\x01\\xb2\\xe89\\xbe\\x91\\xa0l\\r\\xa2\\x8aw\\xc24\\n\\xcc\\xbb&\\xc32]js\\x0e\\x11\\xe56WxY\\x81Z\\x85\"\\xb2<\\xa9B\\xdd(\\xe9&S\\xb4$T\\x82\\x08NjG\\x11\\x92\\x1f\\x14\\n\\r\\rw\\xf7\\x1c\\xd1e\\xff\\x00\\x15\\xd1A4l\\x9a\\r\\x12\\x81r\\x00\\x89Q!\\x95\\xf6\\x8d\\x93\\x1c\\xd1\\xa5\\x8ae\\x1e\\xcaB\\xe56]\\xa9\\x9f\\x93\\xb2c\\x85a$h\\xb0\\x84\\xe0\\xe2\\x82\\xe1\\xbar\\x98\\xba\\x00`l\\x98\\xe5d\\xabaI\\x16\\x92G\\xb0\\x9c\\xce\\'\\x19\\xdf\\xb4\\xf9GK\\xc1\\x12@\\x92\\x04\\xd4\\x9a\\xe9\\xbek\\xcb\\x8eJo\\x0c \\xc6\\xfc \\x07m\\xa7Q\\xd9v^\\xd4\\xe0d\\\\\\x14\\x89%Y|\\';\\xca\\xf8\\x07m\\xd1\\xee\\xb0U\\xdbY\\x02\\x0e\\xfbb6\\x1d\\x1c\\xac\\xac\\xd7\\xea\\x1f\\xc6#a\\xd4\\xda<\\xab\\x98\\x15i\\xab\\xc5\\x8e8\\xef\\x11\\xb0\\xe8\\xe1a\\x19\\x846C\\x1d\\xd41\\xee\\x03a\\xd54m\\t\\xbb\\xf1\\x1a\\x7f)\\xca\\x1a\\x0c\\x8f\\xd2j\\xff\\xc4\\x00%\\x10\\x00\\x02\\x02\\x02\\x01\\x04\\x03\\x01\\x01\\x01\\x01\\x00\\x00\\x00\\x00\\x00\\x00\\x01\\x111\\x10!A Qaq\\x81\\x91\\xa1\\xb10\\xc1\\xd1\\xff\\xda\\x00\\x08\\x01\\x01\\x00\\x01?!]\\x12\\xa0\\x94NM\\x90\\xc9\\x12\\xc3\\xdb\\x08F\\x8da\\xef\\x08\\xb6j?\\xb6o\\xf7\\x84\\xdc}\\x93!\\x10\\x88\\xcc\\x06\\x9d\\xc7\\xda\\x10\\x06\\xa0\\xfb\\xc3N\\x13\\xfa&\\xaf\\xa4\\x96\\x89\\xba\\x84_s\\xa9?\\xdb\\x17\\x97\\x11\\xc4\\x13\\xd3\\x10\\xc2nP\\x96\\xd0\\x96\\xd8\\xef4\\\\\\xb2\\xf9*K\\xe4r\\xc37\\xc8\\x99<i)]\\xc8\\xb8D\\x10A\\xcb\\xfc\\x10^^GX\\xa9\\x13O\\xd3N\\x08+;A<\\xec\\xf6\\xc4\\xed\\xc9\\x1b\\xe5,\\x8a\\xa8O\\xd0\\'\\xb94\\xfb<U\\xfb9E\\xdd[avK\\x94\\ra\\x82iBLlt\\x1d\\xc4\\xbf\\x81\\x8c\\xdd\\xc7\\xcd\\x0b\\xb8\\x8a\\xdaI\\x8a\\xc2\\x86PDw\\x0cs\\xdcD&\\x9a}\\x8a\\xb1\\xb3\\xf9:\\xb6\\xe2\\xcf\\xa0\\x8d2\\x95(\\xda\\xc3\\xf0\\xd3$\\xb72\\xda\\x17j\\xf9$w\\xc9%N\\xc6p\\xe7G\\xbc\\\\\\xbe\\x03\\x19\\x12\\xd7\\xfc\\x1b\\x98\\x06?6%\\x8a\\xf1qqW\\t+\\x166_]\\xc4$!VD\\x13i\\xa6P!h\\xa6\\xc7\\xe44S\\xf0\\xf24H\\x14`\\x84{\\x92\\xd8\\xd6\\xb3\\xdb\\x8e\\x06\\x1f\\x83\\x02\\xc5y,S\\x86\\x85\\x92\\x18\\x98w\\xd8\\xde\\xed\\xc9\\r0\\xf8\"\\xf7\\r\\x90B\\x1ahzi\\x91\\xce\\x82h\\xd2\\x1eln\\x865\\x15x\\x14\\xa8\\xa6~\\x12\\xc2\\xc59-\\x99f(\\x9ah\\xde\\x84B\\xaa@!6\\xeb\\xc0\\x8e1\\xb0\\xc3\\x8a8\\x01\\\\\\x07\\x93\\x93|\\x17j,[\\xd0\\xfc%\\xc5\\xd2\\x8b\\xbe\\x82zJ\\x8a;\\x11\\xc5h6\\x18i(y\\x9a\\x8dFv\\x81\\x0e\\\\\\xa6~R\\xe2\\xbe\\x9c\\\\\\xfeX\\xb2 \\xd5\\xc9$\\xa1\\xb3\\x84\\xack\\x06\\xa4Q\\xcc\\xa1\\xb8F\\xd9\\x0f\\x01\\xc9`\\xdc]X\\xdf\\xeb\\t\\xa1\\xdcN\\xe8\\xdeh\\xd2\\x11\\xe6\\xf2{#Q\\xaf\\x8d\\t+e\\xc6\\xc8b\\xc65n\\xeb\\xf7\\x83v+\\xeaJ\\xdfX\\xa0\\xdc\\xc9\\xb7Z\\xc0\\xb5\\r\\x1c\\x7fp\\xdb\\xff\\x00\\x12}b\\x88\\x06\\x90\\xa9\\x199\\x02\\xeeb\\xd9h\\x95\\x99A\\x9by\\xd0\\x84\\xa1\\xc44\\xb3T\\xd1v,~N\\x81v+\\x1c\\xb2\\x84\\x04)\\xe0\\x12^\\x9d\\x88\\xef\\xdbl\\xbf\\xb6\\x887\\x8d\\xb9\\xb1\\xb2bs\\x80\\xf1\\xc6\\x9c>I\\x0c\\xdcp\\x97\\xdf%\\xceV\\xc7\\x0e}\\x13\\xfb1\\t\\t\\x1e\\xa0\\xb6.\\x80\\xb0~\\x0cV$\\x9c\\x887\\xb4\\r\\xd0\\x8f\"[K\\xe0j\\xa8\\xac\\xd5|\\x08\\xa7C\\x93\\x8f\\x90\\xe6(\\x85\\x84,i\\'y\"\\xaae\\xa2\\xd8\\xaf\\x14\\xe5S\\xf0b\\xb2\\xbd\\x871i\\xa2\\xa0\\xa8\\xdc\\x10\\x88r\\x06\\xdb\\xf0H\\xae\\t;\\x06%\\xb2<Sx\\x1a\\x19\\n\\xdb\\x94\\xe0\\x92oz>K\\x8eb\\xbcU\\xd0\\xbf&)%:\\x89\\x08do\\x88qWG\\xed\\x01\\x0c_\\xd1\\x16\\xdf\\xb1f\\x0e\\xc4\\x05\\xb6\\x17m\\xa6\\x8ds\\xad\\x92c\\x13\\xb8\\xd6w4b\\xc5\\x19W5%\\x04s!\\x95\\xec\\xf4\\x18\\xd7r.\\xd0\\xbc\\x1a\\xfeH5$i\\xb7!\\xceD!\\x9a\\x91-\\xc2rC\\xc3OD\\xc9\\xdb\\xd9(;\\x89\\x04g\\x84B?\\xb9p\\xb1F\\x1dz\\x06\\x823\\xb6\\x1fx\\x15\\xb1,>\\xe5Lh\\xc5\\xd3a\\xa1\\xa3\\xb0\\xa5\\xafB\\x90R\\xdf\"\\x85\\x8d]\\x87\\x99T}!\\xc1O0\\x14\\xe8m\\x8e\\xd9\\x1bi\\x04\\xd2\\x92\\x11\\xc0\\xa3\\xd9p\\xb0\\xa9a\\xf4\\xac\\xceu\\x04\\x03\\x9am\\x1f\\x04m\\xe9\\x08\\x01\\x1a\\xb1\\xc9\\xb6\\xf6e\\x10\\xbb\\xb1/\\x01[\\xf0\\x84\\xebt=\\x99E\\x04(\\xf7\\x8d\\n\\xc5]m\\x85j\\x05\\xef\\x88X6\\x1a\\x10%Z$i\\x92\\xb7G\\xc5\\x11\\xca\\x06F\\xac\\xfd\\xdf\\xea\\xc8\\xfd\\x18\\xd0\\xaf\\xfc;M\\xbe(h\\xa6\\xfb\\t\\x1a\\\\\\xe8^(\\xb6\\xd9\\r\\xef\\x02B^\\xd8\\xf6>\\x18\\xdeU\\xdd\\x87\\xc0\\xda\\xf6\\xcc\\xb2\\xff\\x00\\x06\\x8c[\\xa1\\xf6\\xc5\\xc6\\x16\\x88\\xe5\\x1a\\xc3\\xdb}v4\\x12\\x86\\xb8\\'\\xd0N1\\x10KC\\x9a\\x15\\xa0\\xca>Y4\\xf6\\xca\\xa3\\xae\\xb3\\xda&y\\x83-\\xb0\\x9b\\x90\\x97\\x03\\xa4\\xa65!\\xc9Dr$Q61\\xa24\\x13\\xcfF\\xdd\\x98\\x7f\\xa6U]>\\xa0\\xd6 \\x8c2\\xb9N\\xdca0\\xc9\\x9b\"g\\xbc\\x18\\x89\\xc3\\x97\\xcd\\x10qb\\xb7\\xa6)!\\xcbfuy\\xff\\xda\\x00\\x0c\\x03\\x01\\x00\\x02\\x00\\x03\\x00\\x00\\x00\\x10\\xa4G\\xaa\\xcd\\xd5,\\x1bR\\x82\\xc5d\\xff\\x002\\xa1\\xa35\\xd4u\\xab\\x1a\\xf0\\xf7E\\xce\\xda\\x9c\\xb1V\\xa0\\xa9\\xec\\r\\xff\\x00\\xce \\x8e~\\xd9\\x8f\\xf4<\\xcfG\\xf5u\\xc1h+\\xce\\xd4%\\x98\\xf4\\xdb\\xe4\\xff\\x00\\xe8\\xaf\\xd2|\\x06\\xce\\xc2\\xae\\x97\\xf3A0^\\xa3\\xf0\\x9f\\x94\\xa2\\xf4\\xdd|\\x03\\xcb\\x05\\xa2CP\\xd8\\x90\\xd1Z;\\x06/1b\\xa7\\xec\\xad\\x867\\tdc\\x7f\\x18?m\\xe8\\x9eP\\xc1\\xd2\\x1d\\xac\\xd6{j\\x82\\xda\\xc3z/\\x7f\\x05\\xe8\\xdeu\\xff\\x00}\\x07\\xff\\xc4\\x00\\x1e\\x11\\x00\\x02\\x03\\x01\\x01\\x00\\x03\\x01\\x00\\x00\\x00\\x00\\x00\\x00\\x00\\x00\\x00\\x01\\x10\\x111!A Q\\x91a\\xff\\xda\\x00\\x08\\x01\\x03\\x01\\x01?\\x10Qe\\x96Y\\xd3\\xb1\\xe9\\xa9Be\\x96u\\xc3\\xac\\x1a\\xa8ZnV\\x08B\\xdc\\x05}E\\x97cT-\\xf8K\\x05\\x03\\xeb\\x13\\xbc\\x83q\\xa8k\\xc1o\\xc2X!\\xf2(\\x7f\\xc2\\x98\\x83BPr\\x99\\xe0\\xa0_K\\x12\\x11bv\\xc7\\xb08X!j\\xd3\\x10>\\x94\\xacC\\x8d\\xf0\\xd0\\xad\\x88F\\xf6\\x07\\x0b\\x04d\\xc5\\xd3Bx\\x84\\x92V\\xcaX\\x85\\xd4._\\xa4\\x0e<\\x83r\\x85\\xbe\\r\\xd0\\xd4\\xbb\\x150cb\\xce\\x03,\\xf0\\xc0\\x9c\\t\\xf4eX\\xd5:\\xfd,\\xd5\\xb7\\xe1L\\x16P\\xd0\\xc3\\x8f\\x0c\\x19\\x0c\\\\\\x1a*+\\x1b\\xb0\\x87C\\x0e<02\\xa8\\xeb\\xec\\xc1ma\\xd7\\xa2P\\xe7\\xc1\\xa88\\xf0\\xc4\\xe7\\x08BES$0\\xe3\\xff\\xc4\\x00\\x1c\\x11\\x01\\x01\\x00\\x02\\x03\\x01\\x01\\x00\\x00\\x00\\x00\\x00\\x00\\x00\\x00\\x00\\x01\\x00\\x111\\x10!A Q\\xff\\xda\\x00\\x08\\x01\\x02\\x01\\x01?\\x10\\xe9a\\xb0\\xd8\\xb1`\\xba\\xb2q\\xe7\\x03\\xc9,X\\xba\\xbb\\xbb!\\xbd\\xbc\\xe0x\\xdae\\xc0.\\xf3D\\x17V&\\x1b\\xbc\\xe0xw3r\\x0fl\\x01a\\xc40\\x19\\xbc\\xf8\\x1d\\xccs^\\t~\\xd98\\x0e.\\x8b\\xcf\\x89\\xdc\\xca~`\\xb32_\\x89\\xd7\\xc4\\xeeg\\x19\\xb3\\xccCpF\\xee\\x80\\x91\\x0es\\xf1;\\x9b\\x03\\'\\'\\x12\\xb8,\\xab\\xae\\x17\\x82\\x1b|\\x0e\\xe6\\x1d\\x98\\xc5\\x99f\\x0e\\xe4\\t%\\xe8X\\xc6\\x1f\\x03\\xb9\\x97iC\\x94\\x87R\\tU\\x1c\\x13\\xa8\\xe5\\xec\\xdb\\xe1\\xfc\\xbb\\x87\\x1e\\xfc\\x8d#\\x93\\xb9\\x9b.\\xa0E\\x9e\\xd7I\\xe0\\xc3\\xda\\xd25\\x1c{;\\xf84\\x99\\xe1\\x98\\xad\\xe4E\\xff\\xc4\\x00%\\x10\\x01\\x00\\x02\\x02\\x01\\x03\\x05\\x01\\x01\\x01\\x01\\x00\\x00\\x00\\x00\\x00\\x01\\x00\\x11!1AQaq\\x10\\x81\\x91\\xa1\\xb1\\xc1\\xd1\\xe1\\xf1\\xff\\xda\\x00\\x08\\x01\\x01\\x00\\x01?\\x10\\x15)\\xa6\\x08\\x12=\\tR\\'\\x88\\xdbC\\x15\\xe8}\\x12\\'Z[\\xac:\\xa0\\x07/\\xa4\\x90\\xf4K \\xa3\\xdfa\\x92\\x0bCS\\'\\xe5\\x03R\\xa1\\xf4\\x96Q\\xd6W\\xa2\\x83fv\\x89N\\xd2\\x89a\\xccKi\\x03\\xc2\\x03\\xfd#\\xb0g\\x04\\xf9\\x82p\\x18\\x9d\\xcf\\x11\\xcb\\x90~\\xdeN);\\xb1E\\xff\\x00\\xb2o6\\xf8\\x86\\xdf\\x96\\x1b%bl\\x82c\\xe6\\x82\\xe6Y6p\\x1b\\x87\\xeaS\\x8aO,7 \\xe2\\xef\\x04\\xfeJA?b\\x0fo$):E\\xd3\\x95E\\xfc\\'`u\\x18&VT+J\\xc7\\xb9\\rB\\xf6\\x954\\x12\\x91\\x8d<\\xd9\\xb7\\xbcY\\xf8f^\\xe6\\x1b=?xA!\\x93\\xbcs\\xe2J\\x95+\\xd5\\xe3\\x12\\x8eiW} \\x19\\xf6\\x0e\\xac\\xe0\\xf0@\\xa1\\x07\\x19\\xa1\\x1c\\x80\\xe4\\x85V\\x8ej}\\xaf$\\x1f*\\xab\\x17\\xb3\\xc41\\xb5x\\x18\\xe9\\x9fe\\x16\\x8b\\xbc\\xfa\\xec\\x12l\\xf4\\xfd\\x98L|\\x93s\\xbf\\xa0\\xcd]\\xe58#\\x07\\xa5aV\\x0c\\xab\\x9a\\xba\\x9b\\x9b\\x032\\xed\\xd0w\\xef\\x1eUJ\\xaa\\xda\\xbd`t\\x1e\\xac\\n\\xb3o\\x98\\n\\x9b\\xf6G\\xa8(\\xc7xB\\x82\\xb6\\x93\\ne\\xd0\\x18R\\xbd;\\xc2CK\\x15c\\x07\\xc8\\xcc\\x13\\xbcT\\x9d\\xde\\x81\\xb3\\xd3O\\x96\\x13\\xeeC~h}Q\\x98y\\xa1\\xe7\\x98\\xcc,\\xf8t\\x98fCH)\\xcdk\\xf5\\x95\\xab\\xc6\\x0f\\xfb0\\xd5\\xec\\x7f\\x9f\\xb3\\n\\xaa\\x96L\\x81nV\\x9d&x6i\\x99\\x8bt\\xd4t\\x0e\\xad,\\xd3\\xd3+C\\xcf\\xf8\\x81C\\xa4\\xf2y\\x8a\\xbd\\xf1\\xe4\\xee\\x9f\\x84\\xdb\\xd3\\xeeBc\\xe4\\x9b\\xbc\\xcc\\xbc1\\x8c%KLi\\xe2\\xe1\\xcct\\x9df\\xf0y\\x94\\xd9\\xfc\\xd8\\xa3\\x12\\x12/!\\x86\\x19\\xa3\\x1b\\xa3\\x99\\xb0\\x91WZ&YXm\\x0c\\x11Mxp\\xe6\\x0cd\\xb7\\x96.a\\x07\\xe6T\\xaa\\x19\\xdb\\xd3\\xb7\\x99@\\x9a\\x8c`\\x87`\\x1bv\\xff\\x00W,\\x0fx\\xbew\\xa1\\xb7\\xab77\\xf9\\x9b|\\xcf\\xa4\\xc6^Z%\\x1c\\xc0.\\xe7W\\xed\\xbfg\\x11\\x96\\xb8\\x96\\xa5\\x81\\rG\\x97YI\\x0bP/\\xc6\\xb6\\xa5lW\\xf9\\x08\\xbb\\x03R\\xd3g}\\xc7\\xe6C\\xa9\\x00(\\xd1\\x8a\\x02\\xa3L\\xd1\\x1bUg1\\xf7\\xb1\\x11\\x9cn\\xb9\\xb6,\\xfa\\xf3st\\xdb\\xe6h\\xf1\\x18\\xc6\\x16\\xa6&v\\x80\\xa5\\xe2\\xba\\xcdL\\xc0w\\x85\\xd6I\\xd1\\x00\\x00\\x0cV!)\\x9a\\x83xMD-\\xd3x\\x8f--\\xe20&U\\nV\\x8c\\xa1\\x83/i\\x0e\\xa3\\x8a\\xa85r\\x90\\xd9\\x17\\x1c[\\xfcM\\xa7\\x13\\xe9zn\\xf4\\xd9\\xfb#\\x00\\xb6\\x8a@7,X]\\x9b|ClsWS*\\xbdKX\\x97\\xa6{\\xc6V\\xe3P\\xd4j\\xbbu\\x8cZ\\xe1\\x14Y\\x1e`\\xcd\\xd7x\\xf4\\x8c\\x8c=j\\xdfq?\\xf6:\\x88\\xe7\\xe3\\xd2\\xe2}/M\\xd0d\\xcd\\x90\\xc3s%\\x8e\\xf7x\\xd4!\\xf6\\xa5\\xd4\\x17\\xc5k\\x1d%\\x16\\x81N? \\xd2\\xc7\\xb4\\xa5\\xd6\\xe6\\x82g\\xb4!t\\xabH\\x8c\\x9b\\xc4\"\\xd0\\xc5CS\\xaa\\xfbAv\\xa3&\\xbf@\\x7f\\xec\\xfa\\xd3l\\xdeq>\\x87\\xa6\\xc9\\xb3\\xe9\\x8c\\xbawe\\x18i\\x1a\\x9c\\xeda\\x8e\\x80q\\x88\\x04(<\\xb1kuQ%\\x9fQ\\xee\\xeb\\x87\\x12\\xa1Q\\x17\\x10\\x97\\x01K\\r-\\x8c\\x00q\\xd6\\x0ei\\x9b\\x98\\x87\\x17\\xfd\\x8dk\\xb6\\xfd&\\x1e(=\\t\\xd4\\x1f\\x07\\xa0\\x9ep\\xdc\\x89\\x04r\\x98\\xa49\\xae\\xf1\\xb3\\x19P\\x84\\xb2\\xb80\\\\\\xc8hV\\xd9\\xff\\x00\\xc8aqu\\x9d;\\xe2U\\xe6\\xbb\\x8b\\x16\\xee\\x1cGVF\\t\\x7f\\x01\\x1f\\xa7pg\\x11\\xd2`\\xc5\\r?\\xec\\xa9\\xf6\\xcd\\xcc\\xd7z\\x95G\\xa3U\\xb3\\x92\\x06\\xb4\\x93\\xde\\x08\\x1c\\xc6\\x1f\\x89\\xe86\\x83p|q!\\xf8#\\xda\\x80_\\xb8\\x9f\\xc8\\xad\"\\xae;@%-.\\x88\\xb5T\\x96\\x94\\xd75\\xd1\\xef,eU\\x07\\x11\\xceS\\x83\\xa1\\xb9H\\xaaP0*\\xb2\\xa7<\\xf7\\x8c\\x00j\\x85A\\x16Sk\\xed\\rNX\\xa5\\x87z\\xff\\x00`\\t\\x99M\\x03&[p\\xecBa\\xb7\\x075\\x18!m\\xb4\\x94j^H^\\xe45\\xcec\\t\\xd8/\\xc12@\\xccH~\\x02T5\\'\\x10H\\x93\\x1f\\x04\"\\xaa\\xec>\\xff\\x00\\xf6\\x17_<\\xd5\\x88h\\x1b\\x83\\xdd\\x87\\xa8\\x1f\\xd8\\x05\"z\\x02\\x0e\\xa2\\x83o5\\x08\\x99U\\xa2Z\\xd5\"\\xa2\\xf9\\x81;\\x9a/^\\x18\\xdb\\x91\\rc\\xc9\\x80>\\xa5A\\x8f*\\xd4k\\xf1\\x97\\xe4\\xaa\\xbe\\x1e\\x97\\x08\\x08c\\x1e\\x80\\xc5A^2T\\xe3\\x0c\\x98\\x12\\x0f\\x82\\x18j\\xec\\x00\\xf1{\"0l\\x86\\xbe\\x9e\\xf1\\xa8.\\xd8\\xc5T\\xf7\\x8e\\xc4\\xe9\\x10Ty\\x06\\xbc\\xb2\\x8d\\xa0e\\xb8\\xc4\\xe5F\\\\\\xd1\\xc4o\\x0c\\xa5+T\\xc29\\x0f$\\xb9\\xd6\\xb2\\xee4+\\xa4:V\\xe2i\\x16\\x9e\\xe73\\x0e\\xf2C\\x89\\x11P|r\\xa5c\\x0c\\x19\\x92})f\\x07\\x9c\\x08\\x15\\xbc4\\xe1\\x82\\x9d\\x12?0t\\x03+e\\x94C\\x91\\x12\\xd2Ur\\xb9V\\x8b\\x9aEFn\\x974\\xb4\\x86\\xc0\\x85gc\\\\\\xc1\\x89\\x1d\\xf6\\x86\\xd4\\xa0^\"\\xa3\\x8b\\x88\\x0c\\x99\\x19n\\xcaR\\xbc\\x1f\\xf6\\xe6\\xcf$\\x1f49\\x95\\xa8~/D\\xc2\\x19?\\x04IH\\xe2\\xa0\\xac\\xb5\\xc4~\\x13Y\\xb5\\\\\\x17\\x1ah\\xab\\x9a{&<Q\\xda\\xc6R\\x81\\xfc\\x98\\xa5\\x0e%\\xf0+\\x8e\\xf0P>\\x139\\xaa\\xc6c=\\x80\\x9eI\\x99k\\xacp\\xe9p\\xee\\xe35\\xadW#\\xc6*R\\xb0\\x81\\xd0\\'\\xe0\\x87\\xe4\\x8702A\\xf0D\\x9fJ\\x08?\\x19\\x12`_HS\\xa9\\\\\\x11\\xd4\\xb7:F\\xcfP3\\t\\x7f\\xe9\\xc4/5V\\x8b\\xa8\\xc7\\x14\\xb2w!C|\\xd5\\xcc\\x00\\x80\\'\\x96\\xc8Y\\xd4a\\xa7X\\xa1\\x10\\xdf\\x01y\\xfc\\x83\\xc7LE\\x9e\\x03\\x88\\xeb\\xe0\\xe3\\xfe\\xcb\\x87\\xa7\\x1f\\x13O\\xff\\x00\\xc4\\x15\\x02\\x1fQ\\x0f\\xcd\\x0e`d\\x87\\xe2\\x95\\x0e>=3~\\x02$8\\xd7I\\x9e\\x0f6/\\x85 \\xf4\\x8c\\xa0\\x99F/\\xb4B\\x13\\xc0xe\\x00\\xab\\xe6\\x04\\x08\\xdf\\x0c\\xa9\\x03\\x14\\x04a\\x10Q\\xd0\\x80\\xaa\\xdf\\x10\\xd7T>\\xf1r\\xa6\\xaf\\x18\\xca]\\xb5xp\\x7fc\\xaaL\\xc4\\xfa82\\xf3\\x0e`\\xc3\\xcc\\x18x\\x95\\x06\\x1e \\xfa\\xc1\\xf1\\x12\\xa0>\\x12\\xe3\\xe4H#<\\xa1\\x98\\xfa1V\\xd0\\x1c\\x9d\\xa5\\xd0\\xe9\\xcc.\\x83\\x86%$\\x1d\\xe5\\xe2\\xc7\\xa0\\x96lP|\\\\\\xdf\\x82\\xa9J`\\xb1\\x8e\\t\\x92\\xb03&\"/\\x8b\\x15\\xbf3y\\xab\\xcc4F\\n\\xf6O\\xc6\\x0f\\xa23\\x0fl\\xb9\\x94\\x0e*\"\\xd9|Jt\\x1a\\xf5\\x94\\xc0\\xb0l\\x9c\\xf3\\x9f\\xb41v\\x06.R[\\x0f\\xd8\\xcbEq\\xb3R\\xb1\\x80j\\xf8\\xef\\x03\\xaa\\xa5\\x0c@^Yuq\\xfe\\x11\\xfeG\\x18\\xf0\\xf4+\\xfb\\xc5\\x96}\\xa8h\\xf48\\xf8\\x9f\\x8c?DH\\xa8x\\x8a\\xaa36Rb+ \\xbdF\\x19\\x9a?\\xa4 \\xeb2\\xc6\\xb2\\xca\\xf5r\\xd8>\\xa0\\xb3\\xe65\\xcf\\x90\\x89OJ\\xf2\\xcc\\x00\\x00\\x97F5\\x1ajSt\\x05/\\xd93o\\t\\x1c8_\\xda)\\xf7\\x08B\\x0f\\xa4\\x1fX>b2\\xe6\\x82\\xb8&\\x7f\\xe1\\x08\\x8f\\x86-\\xbchT{ \\xd9\\x93\\xc4\\xe2\\xccj\\x0b\\x03)\\x19t\\x83\\xa2\\xaaY\\xcd\\xc0\\xd1\\xf3\\x0bJx\\xf3\\x1a\\xcaC\\xab\\xa87\\x07\\x1eO\\xb3\\xd2\\xe1\\x81^\\xefG\\xdb!\\t\\x8f\\xb6\\x0f\\xa4w\\xcd)\"F\\x18Ix\\xa8\\xb9\\x19\\xaa\\xab\\x85P\\xe1&\\x18\\xc7\\x130\\x0b\\x8b\\x00\\x94\\xa1\\x8en\\xa2\\xc5V5.jq\\x1b\\x15\\x88\"lf\\xc6a>\\xe8\\xe6\\xbb7\\x11H\\xb7\\x8a\\x7f\\x89\\xe2i\\xf4}\\xd8B\\x7f\\xff\\xd9'"
      ]
     },
     "execution_count": 33,
     "metadata": {},
     "output_type": "execute_result"
    }
   ],
   "source": [
    "response.content"
   ]
  },
  {
   "cell_type": "code",
   "execution_count": 23,
   "metadata": {},
   "outputs": [
    {
     "data": {
      "text/plain": [
       "bytes"
      ]
     },
     "execution_count": 23,
     "metadata": {},
     "output_type": "execute_result"
    }
   ],
   "source": [
    "type(response.content)"
   ]
  },
  {
   "cell_type": "code",
   "execution_count": 34,
   "metadata": {},
   "outputs": [],
   "source": [
    "with open('practice.jpg','wb') as f:\n",
    "    f.write(response.content)"
   ]
  },
  {
   "cell_type": "code",
   "execution_count": null,
   "metadata": {},
   "outputs": [],
   "source": []
  },
  {
   "cell_type": "code",
   "execution_count": null,
   "metadata": {},
   "outputs": [],
   "source": []
  },
  {
   "cell_type": "code",
   "execution_count": null,
   "metadata": {},
   "outputs": [],
   "source": []
  },
  {
   "cell_type": "markdown",
   "metadata": {},
   "source": [
    "## scrapping images"
   ]
  },
  {
   "cell_type": "code",
   "execution_count": 35,
   "metadata": {},
   "outputs": [],
   "source": [
    "url = 'https://www.passiton.com/inspirational-quotes'"
   ]
  },
  {
   "cell_type": "code",
   "execution_count": 36,
   "metadata": {},
   "outputs": [],
   "source": [
    "response = requests.get(url)"
   ]
  },
  {
   "cell_type": "code",
   "execution_count": 37,
   "metadata": {},
   "outputs": [
    {
     "data": {
      "text/plain": [
       "b'<!DOCTYPE html>\\n<html class=\"no-js\" dir=\"ltr\" lang=\"en-US\">\\n    <head>\\n        <title>Inspirational Quotes - Motivational Quotes - Leadership Quotes | PassItOn.com</title>\\n        <meta charset=\"utf-8\">\\n        <meta http-equiv=\"content-type\" content=\"text/html; charset=utf-8\" />\\n        <meta http-equiv=\"X-UA-Compatible\" content=\"IE=edge\" />\\n        <meta name=\"viewport\" content=\"width=device-width,initial-scale=1.0,maximum-scale=1\" />\\n        <meta name=\"description\" content=\"The Foundation for a Better Life | Pass It On.com\">\\n        <link rel=\"apple-touch-icon\" sizes=\"180x180\" href=\"/apple-touch-icon.png\">\\n        <link rel=\"icon\" type=\"image/png\" sizes=\"32x32\" href=\"/favicon-32x32.png\">\\n        <link rel=\"icon\" type=\"image/png\" sizes=\"16x16\" href=\"/favicon-16x16.png\">\\n        <link rel=\"manifest\" href=\"/site.webmanifest\">\\n        <link rel=\"mask-icon\" href=\"/safari-pinned-tab.svg\" color=\"#c8102e\">\\n        <meta name=\"msapplication-TileColor\" content=\"#c8102e\">\\n        <meta name=\"theme-color\" content=\"#ffffff\">\\n        <link rel=\"stylesheet\" href=\"https://stackpath.bootstrapcdn.com/bootstrap/4.3.1/css/bootstrap.min.css\" integrity=\"sha384-ggOyR0iXCbMQv3Xipma34MD+dH/1fQ784/j6cY/iJTQUOhcWr7x9JvoRxT2MZw1T\" crossorigin=\"anonymous\">\\n        <link rel=\"stylesheet\" media=\"all\" href=\"/assets/application-c51dbb9f66e05aed042146423dfccd71.css\" />\\n        <meta name=\"csrf-param\" content=\"authenticity_token\" />\\n<meta name=\"csrf-token\" content=\"bLEraXx85R9zfyb0BsfVEVkvJVL45frsZ8hGx9oWdN/Y9FgtupCLWX+zdUvfaDqJFKOO/JxEMnJlqMlFhXJmZw==\" />\\n        <!-- Global site tag (gtag.js) - Google Analytics -->\\n        <script async src=\"https://www.googletagmanager.com/gtag/js?id=UA-1179606-29\"></script>\\n        <script>\\n          window.dataLayer = window.dataLayer || [];\\n          function gtag(){dataLayer.push(arguments);}\\n          gtag(\\'js\\', new Date());\\n          gtag(\\'config\\', \\'UA-1179606-29\\');\\n        </script>\\n\\n        <script>\\n          window.fbAsyncInit = function() {\\n            FB.init({\\n              appId            : \\'483774921971842\\',\\n              autoLogAppEvents : true,\\n              xfbml            : true,\\n              version          : \\'v6.0\\'\\n            });\\n          };\\n        </script>\\n        <script async defer src=\"https://connect.facebook.net/en_US/sdk.js\"></script>\\n\\n        <meta property=\"og:site_name\" content=\"passiton.com\">\\n        <meta property=\"og:title\" content=\"Inspirational Quotes - Motivational Quotes - Leadership Quotes\" />\\n        <meta property=\"og:type\" content=\"website\" />\\n        <meta property=\"og:image\" content=\"https://www.passiton.com/passiton.jpg\" />\\n        <meta property=\"og:url\" content=\"https://www.passiton.com/inspirational-quotes\" />\\n        <meta property=\"og:description\" content=\"Find the perfect quotation from our hand-picked collection of inspiring quotes by hundreds of authors.\" />\\n        <meta property=\"fb:app_id\" content=\"483774921971842\" />\\n\\n        <meta name=\"twitter:card\" content=\"summary_large_image\" />\\n        <meta name=\"twitter:site\" content=\"@passiton\" />\\n        <meta name=\"twitter:creator\" content=\"@passiton\">\\n        <meta name=\"twitter:title\" content=\"Inspirational Quotes - Motivational Quotes - Leadership Quotes\" />\\n        <meta name=\"twitter:description\" content=\"Find the perfect quotation from our hand-picked collection of inspiring quotes by hundreds of authors.\" />\\n        <meta name=\"twitter:image\" content=\"https://www.passiton.com/passiton.jpg\" />\\n        <meta name=\"twitter:url\" content=\"https://www.passiton.com/inspirational-quotes\" />\\n\\n        <meta itemprop=\"name\" content=\"passiton.com\">\\n        <meta itemprop=\"description\" content=\"Find the perfect quotation from our hand-picked collection of inspiring quotes by hundreds of authors.\">\\n        <meta itemprop=\"image\" content=\"https://www.passiton.com/passiton.jpg\">\\n\\n        <link rel=\"apple-touch-icon\" sizes=\"180x180\" href=\"/apple-touch-icon.png\">\\n        <link rel=\"icon\" type=\"image/png\" sizes=\"32x32\" href=\"/favicon-32x32.png\">\\n        <link rel=\"icon\" type=\"image/png\" sizes=\"16x16\" href=\"/favicon-16x16.png\">\\n        <link rel=\"mask-icon\" href=\"/passiton_arrow.svg\" color=\"#C8102E\">\\n        <link rel=\"manifest\" href=\"/manifest.json\">\\n        <link rel=\"mask-icon\" href=\"/safari-pinned-tab.svg\" color=\"#5bbad5\">\\n        <meta name=\"apple-mobile-web-app-title\" content=\"passiton\">\\n        <meta name=\"application-name\" content=\"passiton\">\\n        <meta name=\"theme-color\" content=\"#f1f1f1\">\\n        \\n    </head>\\n    <body class=\\'no-transition quotes_index\\'>\\n        <header>\\n    <nav class=\"navbar navbar-default bootsnav navbar-fixed-top header-dark white-link background-transparent nav-box-width white-link navbar-expand-lg\">\\n        <div class=\"container-fluid nav-header-container\">\\n            <div class=\"col-auto pl-0\">\\n\\n                    <a class=\"logo\" title=\"Pass It On\\xc2\\xae\" href=\"/\"><img data-rjs=\"/assets/site/logo@2x-77b9f4fa1e4bafa6ff119f8f162b7bd9.png\" class=\"logo-dark\" alt=\"Pass It On\" src=\"/assets/site/logo-6d680decaadef58e4fbb586e147bc135.png\" /><img data-rjs=\"/assets/site/logo-white@2x-82bf2486063a48e9207811cc7f6d5e5f.png\" class=\"logo-light default\" alt=\"Pass It On\" src=\"/assets/site/logo-white-2d99f390ad2f6d3bbf59a52aadb55d60.png\" /></a>\\n\\n            </div>\\n            <div class=\"col accordion-menu pr-0 pr-md-3\">\\n                <button type=\"button\" class=\"navbar-toggler collapsed\" data-toggle=\"collapse\" data-target=\"#navbar-collapse-toggle-1\">\\n                    <span class=\"sr-only\">toggle navigation</span>\\n                    <span class=\"icon-bar\"></span>\\n                    <span class=\"icon-bar\"></span>\\n                    <span class=\"icon-bar\"></span>\\n                </button>\\n                <div class=\"navbar-collapse collapse justify-content-end\" id=\"navbar-collapse-toggle-1\">\\n                    <ul id=\"accordion\" class=\"nav navbar-nav no-margin alt-font text-normal\" data-in=\"fadeIn\" data-out=\"fadeOut\">\\n                        <li><a href=\"/inspirational-quotes\">Quotes</a></li>\\n                        <li><a href=\"/inspirational-stories-tv-spots\">Videos</a></li>\\n                        <li class=\"dropdown simple-dropdown\"><a href=\"/inspirational-sayings-billboards\">Billboards <i class=\\'fas fa-angle-down dropdown-toggle\\' data-toggle=\\'dropdown\\' aria-hidden=\\'true\\'></i></a>\\n                            <ul class=\"dropdown-menu\" role=\"menu\">\\n                                <li><a href=\"/inspirational-sayings-billboards\">Official Billboards</a>\\n                                <li><a href=\"/is-in-you\">Is In You\\xc2\\xae Billboards</a>\\n                                <li><a href=\"/your-billboards\">Create Your Own Billboard</a>\\n                            </ul>\\n                        </li>\\n                        <li><a href=\"/radio\">Radio Ads</a></li>\\n                        <li><a href=\"/passiton-blog\">Blog</a></li>\\n                        <li class=\"dropdown simple-dropdown\"><a href=\"#\">Language <i class=\"fas fa-angle-down dropdown-toggle\" data-toggle=\"dropdown\" aria-hidden=\"true\"></i></a>\\n                            <ul class=\"dropdown-menu\" role=\"menu\">\\n                                <li><a target=\"_blank\" href=\"https://www.pasala.org/\">Spanish | Espa\\xc3\\xb1ol</a>\\n                                <li><a target=\"_blank\" href=\"https://www.umavidamelhor.org/\">Portuguese | Portugu\\xc3\\xaas</a>\\n                                <li><a target=\"_blank\" href=\"https://www.values.cn.com/\">Chinese | \\xe4\\xb8\\xad\\xe6\\x96\\x87</a>\\n                            </ul>\\n                        </li>\\n                    </ul>\\n                </div>\\n            </div>\\n            <div class=\"col-auto pr-0\">\\n                <div class=\"header-searchbar\">\\n                    <a href=\"#search-header\" class=\"header-search-form\"><i class=\"fas fa-search search-button\"></i></a>\\n                    <form id=\"search-header\" method=\"post\" action=\"/search\" name=\"search-header\" class=\"mfp-hide search-form-result\">\\n                        <div class=\"search-form position-relative\">\\n                            <button type=\"submit\" class=\"fas fa-search close-search search-button\"></button>\\n                            <input type=\"text\" name=\"q\" class=\"search-input\" placeholder=\"Search passiton.com...\" autocomplete=\"off\">\\n                        </div>\\n                    </form>\\n                </div>\\n                <div class=\"header-social-icon d-none d-md-inline-block\">\\n                    <a href=\"https://www.facebook.com/valuescom\" title=\"Facebook\" target=\"_blank\"><i class=\"fab fa-facebook-f\" aria-hidden=\"true\"></i></a>\\n                    <a href=\"https://twitter.com/passiton_values\" title=\"Twitter\" target=\"_blank\"><i class=\"fab fa-twitter\"></i></a>\\n                    <a href=\"https://www.instagram.com/passiton_values/\" title=\"Instagram\" target=\"_blank\"><i class=\"fab fa-instagram\" aria-hidden=\"true\"></i></a>\\n                    <a href=\"https://www.pinterest.com/passiton_values/\" title=\"Pinterest\" target=\"_blank\"><i class=\"fab fa-pinterest\" aria-hidden=\"true\"></i></a>\\n                    <a href=\"https://www.youtube.com/c/passiton_values\" title=\"YouTube\" target=\"_blank\"><i class=\"fab fa-youtube no-margin-right\" aria-hidden=\"true\"></i></a>\\n                </div>\\n            </div>\\n        </div>\\n    </nav>\\n</header>\\n        \\n\\n    <section class=\"parallax padding-six-all bg-black\" data-stellar-background-ratio=\"0.2\" style=\"background-image:url(\\'/assets/backgrounds/flowers-8d19415bc3bc371f5beaed468d9a1970.jpg\\');\">\\n        <div class=\"container\">\\n            <div class=\"row justify-content-center\">\\n                <div class=\"col-12 col-lg-10 text-center\">\\n                    <div class=\"shadow bg-extra-dark-gray padding-two-all border-radius-6 width-70 lg-width-80 sm-width-100 mx-auto lg-padding-30px-all sm-padding-15px-all sm-margin-40px-top\">\\n                        <h6 class=\"font-weight-300 text-white-2 margin-20px-bottom sm-margin-15px-bottom\">Get our FREE daily quote emails!</h6>\\n                        <p class=\"text-medium width-70 mx-auto margin-40px-bottom sm-width-100 sm-margin-15px-bottom\">Get a daily inspirational quote in your inbox each weekday! Enter your email below to subscribe.</p>\\n\\n                        <form class=\"simple_form search-box3 margin-10px-bottom\" novalidate=\"novalidate\" id=\"new_user\" action=\"/users\" accept-charset=\"UTF-8\" method=\"post\"><input name=\"utf8\" type=\"hidden\" value=\"&#x2713;\" /><input type=\"hidden\" name=\"authenticity_token\" value=\"3cspkfcSDl5l5azelstmQ7+Uz9cD8xDInwK83q3qqVppjlrVMf5gGGkp/2FPZInb8hhkeWdS2FadYjNc8o674g==\" />\\n                            <div class=\"input-group add-on width-75 mx-auto sm-width-100\">\\n                                <input label=\"false\" class=\"string email optional form-control text-white\" type=\"text\" placeholder=\"you@your-email.com\" name=\"user[email]\" id=\"user_email\" />\\n                                <script src=\"https://www.recaptcha.net/recaptcha/api.js?render=6Ldta8EUAAAAACp3yt76yG8QWMdQkpDBkP1bcHi6\"   ></script>\\n        <script>\\n          // Define function so that we can call it again later if we need to reset it\\n          // This executes reCAPTCHA and then calls our callback.\\n          function executeRecaptchaForQuote() {\\n            grecaptcha.ready(function() {\\n              grecaptcha.execute(\\'6Ldta8EUAAAAACp3yt76yG8QWMdQkpDBkP1bcHi6\\', {action: \\'quote\\'}).then(function(token) {\\n                setInputWithRecaptchaResponseTokenForQuote(\\'g-recaptcha-response-data-quote\\', token)\\n              });\\n            });\\n          };\\n          // Invoke immediately\\n          executeRecaptchaForQuote()\\n\\n          // Async variant so you can await this function from another async function (no need for\\n          // an explicit callback function then!)\\n          // Returns a Promise that resolves with the response token.\\n          async function executeRecaptchaForQuoteAsync() {\\n            return new Promise((resolve, reject) => {\\n              grecaptcha.ready(async function() {\\n                resolve(await grecaptcha.execute(\\'6Ldta8EUAAAAACp3yt76yG8QWMdQkpDBkP1bcHi6\\', {action: \\'quote\\'}))\\n              });\\n            })\\n          };\\n\\n                    var setInputWithRecaptchaResponseTokenForQuote = function(id, token) {\\n            var element = document.getElementById(id);\\n            element.value = token;\\n          }\\n\\n        </script>\\n<input type=\"hidden\" name=\"g-recaptcha-response-data[quote]\" id=\"g-recaptcha-response-data-quote\" data-sitekey=\"6Ldta8EUAAAAACp3yt76yG8QWMdQkpDBkP1bcHi6\" class=\"g-recaptcha g-recaptcha-response \"/>\\n\\n                                <div class=\"input-group-append\">\\n                                    <button type=\"submit\" class=\"btn btn-default\"><i class=\"ti-arrow-right text-small m-0\"></i></button>\\n                                </div>\\n                            </div>\\n</form>\\n\\n                    </div>\\n                </div>\\n            </div>\\n        </div>\\n    </section>\\n\\n\\n<section class=\"half-section bg-extra-dark-gray half-section\">\\n    <div class=\"container\">\\n\\n        <div class=\"row m-0\">\\n            <div class=\"col-12 d-flex flex-column justify-content-center text-center wow fadeIn\" data-wow-delay=\"0.2s\">\\n                <h5 class=\"text-white alt-font font-weight-400 letter-spacing-1 margin-10px-bottom\">INSPIRATIONAL QUOTES</h5>\\n                <span class=\"text-white-2 opacity8 alt-font mb-0 padding-20px-bottom\">Find the perfect quote... and Pass It On\\xc2\\xae</span>\\n\\n                <form class=\"search-box2 margin-30px-bottom\" action=\"/inspirational-quotes\" method=\"get\">\\n                    <div class=\"input-group add-on width-75 mx-auto sm-width-100\">\\n                        <input name=\"q\" type=\"text\" value=\\'\\' placeholder=\"Search our inspiring quotes...\" class=\"form-control\" />\\n                        <div class=\"input-group-append\">\\n                            <button type=\"submit\" class=\"btn btn-default\"><i class=\"ti-search text-small m-0\"></i></button>\\n                        </div>\\n                    </div>\\n                </form>\\n\\n            </div>\\n        </div>\\n\\n        <div class=\\'row\\' id=\\'all_quotes\\'>\\n            <div class=\"col-6 col-lg-3 text-center margin-30px-bottom sm-margin-30px-top\">\\n\\n        <a href=\"/inspirational-quotes/8127-exercise-to-be-fit-not-skinny\"><img alt=\"Exercise to be fit, not skinny. #&lt;Author:0x00007f0fd6fe5870&gt;\" class=\"margin-10px-bottom shadow\" src=\"https://assets.passiton.com/quotes/quote_artwork/8127/medium/20200908_tuesday_quote.jpg?1599169757\" width=\"310\" height=\"310\" /></a>\\n        <h5 class=\\'value_on_red\\'><a href=\"/inspirational-quotes/8127-exercise-to-be-fit-not-skinny\">HEALTH</a></h5>\\n\\n</div><div class=\"col-6 col-lg-3 text-center margin-30px-bottom sm-margin-30px-top\">\\n\\n        <a href=\"/inspirational-quotes/8123-it-s-up-to-you-today-to-start-making-healthy\"><img alt=\"It\\xe2\\x80\\x99s up to you today to start making healthy choices. Not choices that are just healthy for your body, but healthy for your mind. #&lt;Author:0x00007f0fd7020268&gt;\" class=\"margin-10px-bottom shadow\" src=\"https://assets.passiton.com/quotes/quote_artwork/8123/medium/20200907_monday_quote.jpg?1599090027\" width=\"310\" height=\"310\" /></a>\\n        <h5 class=\\'value_on_red\\'><a href=\"/inspirational-quotes/8123-it-s-up-to-you-today-to-start-making-healthy\">HEALTH</a></h5>\\n\\n</div><div class=\"col-6 col-lg-3 text-center margin-30px-bottom sm-margin-30px-top\">\\n\\n        <a href=\"/inspirational-quotes/7808-creativity-involves-breaking-out-of-established\"><img alt=\"Creativity involves breaking out of established patterns in order to look at things in a different way. #&lt;Author:0x00007f0fd7059400&gt;\" class=\"margin-10px-bottom shadow\" src=\"https://assets.passiton.com/quotes/quote_artwork/7808/medium/20200904_friday_quote.jpg?1598565715\" width=\"310\" height=\"310\" /></a>\\n        <h5 class=\\'value_on_red\\'><a href=\"/inspirational-quotes/7808-creativity-involves-breaking-out-of-established\">CREATIVITY</a></h5>\\n\\n</div><div class=\"col-6 col-lg-3 text-center margin-30px-bottom sm-margin-30px-top\">\\n\\n        <a href=\"/inspirational-quotes/7812-curiosity-about-life-in-all-of-its-aspects-i\"><img alt=\"Curiosity about life in all of its aspects, I think, is still the secret of great creative people. #&lt;Author:0x00007f0fd70983a8&gt;\" class=\"margin-10px-bottom shadow\" src=\"https://assets.passiton.com/quotes/quote_artwork/7812/medium/20200903_thursday_quote.jpg?1598565687\" width=\"310\" height=\"310\" /></a>\\n        <h5 class=\\'value_on_red\\'><a href=\"/inspirational-quotes/7812-curiosity-about-life-in-all-of-its-aspects-i\">CREATIVITY</a></h5>\\n\\n</div><div class=\"col-6 col-lg-3 text-center margin-30px-bottom sm-margin-30px-top\">\\n\\n        <a href=\"/inspirational-quotes/8122-happiness-lies-in-the-joy-of-achievement-and\"><img alt=\"Happiness lies in the joy of achievement and the thrill of creative effort. #&lt;Author:0x00007f0fd70d8d40&gt;\" class=\"margin-10px-bottom shadow\" src=\"https://assets.passiton.com/quotes/quote_artwork/8122/medium/20200902_wednesday_quote.jpg?1598565656\" width=\"310\" height=\"310\" /></a>\\n        <h5 class=\\'value_on_red\\'><a href=\"/inspirational-quotes/8122-happiness-lies-in-the-joy-of-achievement-and\">CREATIVITY</a></h5>\\n\\n</div><div class=\"col-6 col-lg-3 text-center margin-30px-bottom sm-margin-30px-top\">\\n\\n        <a href=\"/inspirational-quotes/8121-create-what-sets-your-heart-on-fire-and-it-will\"><img alt=\"Create what sets your heart on fire and it will illuminate the path ahead. #&lt;Author:0x00007f0fd712b900&gt;\" class=\"margin-10px-bottom shadow\" src=\"https://assets.passiton.com/quotes/quote_artwork/8121/medium/20200901_tuesday_quote.jpg?1598565635\" width=\"310\" height=\"310\" /></a>\\n        <h5 class=\\'value_on_red\\'><a href=\"/inspirational-quotes/8121-create-what-sets-your-heart-on-fire-and-it-will\">CREATIVITY</a></h5>\\n\\n</div><div class=\"col-6 col-lg-3 text-center margin-30px-bottom sm-margin-30px-top\">\\n\\n        <a href=\"/inspirational-quotes/8120-creativity-is-the-way-i-share-my-soul-with-the\"><img alt=\"Creativity is the way I share my soul with the world. #&lt;Author:0x00007f0fd7167ea0&gt;\" class=\"margin-10px-bottom shadow\" src=\"https://assets.passiton.com/quotes/quote_artwork/8120/medium/20200831_monday_quote.jpg?1598565613\" width=\"310\" height=\"310\" /></a>\\n        <h5 class=\\'value_on_red\\'><a href=\"/inspirational-quotes/8120-creativity-is-the-way-i-share-my-soul-with-the\">CREATIVITY</a></h5>\\n\\n</div><div class=\"col-6 col-lg-3 text-center margin-30px-bottom sm-margin-30px-top\">\\n\\n        <a href=\"/inspirational-quotes/8118-kindness-isnt-sacrifice-so-much-as-it-is-being\"><img alt=\"Kindness isn&#39;t sacrifice so much as it is being considerate for the feelings of others, sharing happiness, the unselfish thought, the spontaneous and friendly act, forgetfulness of our own present interests.  #&lt;Author:0x00007f0fd71a0458&gt;\" class=\"margin-10px-bottom shadow\" src=\"https://assets.passiton.com/quotes/quote_artwork/8118/medium/20200828_friday_quote.jpg?1597869672\" width=\"310\" height=\"310\" /></a>\\n        <h5 class=\\'value_on_red\\'><a href=\"/inspirational-quotes/8118-kindness-isnt-sacrifice-so-much-as-it-is-being\">COURTESY</a></h5>\\n\\n</div><div class=\"col-6 col-lg-3 text-center margin-30px-bottom sm-margin-30px-top\">\\n\\n        <a href=\"/inspirational-quotes/8117-take-care-be-kind-be-considerate-of-other\"><img alt=\"Take care, be kind, be considerate of other people and other species, and be loving. #&lt;Author:0x00007f0fd71e8cd0&gt;\" class=\"margin-10px-bottom shadow\" src=\"https://assets.passiton.com/quotes/quote_artwork/8117/medium/20200827_thursday_quote.jpg?1597869639\" width=\"310\" height=\"310\" /></a>\\n        <h5 class=\\'value_on_red\\'><a href=\"/inspirational-quotes/8117-take-care-be-kind-be-considerate-of-other\">COURTESY</a></h5>\\n\\n</div><div class=\"col-6 col-lg-3 text-center margin-30px-bottom sm-margin-30px-top\">\\n\\n        <a href=\"/inspirational-quotes/8116-real-strength-entails-being-considerate-and\"><img alt=\"Real strength entails being considerate and supportive of people&#39;s feelings. #&lt;Author:0x00007f0fd7222f20&gt;\" class=\"margin-10px-bottom shadow\" src=\"https://assets.passiton.com/quotes/quote_artwork/8116/medium/20200826_wednesday_quote.jpg?1597869555\" width=\"310\" height=\"310\" /></a>\\n        <h5 class=\\'value_on_red\\'><a href=\"/inspirational-quotes/8116-real-strength-entails-being-considerate-and\">COURTESY</a></h5>\\n\\n</div><div class=\"col-6 col-lg-3 text-center margin-30px-bottom sm-margin-30px-top\">\\n\\n        <a href=\"/inspirational-quotes/8119-life-is-short-but-there-is-always-time-enough\"><img alt=\"Life is short but there is always time enough for courtesy. #&lt;Author:0x00007f0fd7260190&gt;\" class=\"margin-10px-bottom shadow\" src=\"https://assets.passiton.com/quotes/quote_artwork/8119/medium/20200825_tuesday_quote.jpg?1597869487\" width=\"310\" height=\"310\" /></a>\\n        <h5 class=\\'value_on_red\\'><a href=\"/inspirational-quotes/8119-life-is-short-but-there-is-always-time-enough\">COURTESY</a></h5>\\n\\n</div><div class=\"col-6 col-lg-3 text-center margin-30px-bottom sm-margin-30px-top\">\\n\\n        <a href=\"/inspirational-quotes/7795-a-tree-is-known-by-its-fruit-a-person-by-their\"><img alt=\"A tree is known by its fruit; a person by their deeds. A good deed is never lost; whoever sows courtesy reaps friendship, and whoever plants kindness gathers love. #&lt;Author:0x00007f0fd72c6b70&gt;\" class=\"margin-10px-bottom shadow\" src=\"https://assets.passiton.com/quotes/quote_artwork/7795/medium/20200824_monday_quote.jpg?1597868996\" width=\"310\" height=\"310\" /></a>\\n        <h5 class=\\'value_on_red\\'><a href=\"/inspirational-quotes/7795-a-tree-is-known-by-its-fruit-a-person-by-their\">COURTESY</a></h5>\\n\\n</div><div class=\"col-6 col-lg-3 text-center margin-30px-bottom sm-margin-30px-top\">\\n\\n        <a href=\"/inspirational-quotes/8114-if-you-were-born-with-the-weakness-to-fall-you\"><img alt=\"If you were born with the weakness to fall. You were born with the strength to rise. #&lt;Author:0x00007f0fd7312ae8&gt;\" class=\"margin-10px-bottom shadow\" src=\"https://assets.passiton.com/quotes/quote_artwork/8114/medium/20200821_friday_quote.jpg?1597353972\" width=\"310\" height=\"310\" /></a>\\n        <h5 class=\\'value_on_red\\'><a href=\"/inspirational-quotes/8114-if-you-were-born-with-the-weakness-to-fall-you\">STRENGTH</a></h5>\\n\\n</div><div class=\"col-6 col-lg-3 text-center margin-30px-bottom sm-margin-30px-top\">\\n\\n        <a href=\"/inspirational-quotes/6926-maybe-who-we-are-isnt-so-much-about-what-we-do\"><img alt=\"Maybe who we are isn&#39;t so much about what we do, but rather what we&#39;re capable of when we least expect it. #&lt;Author:0x00007f0fd736d7b8&gt;\" class=\"margin-10px-bottom shadow\" src=\"https://assets.passiton.com/quotes/quote_artwork/6926/medium/20200820_thursday_quote.jpg?1597353926\" width=\"310\" height=\"310\" /></a>\\n        <h5 class=\\'value_on_red\\'><a href=\"/inspirational-quotes/6926-maybe-who-we-are-isnt-so-much-about-what-we-do\">STRENGTH</a></h5>\\n\\n</div><div class=\"col-6 col-lg-3 text-center margin-30px-bottom sm-margin-30px-top\">\\n\\n        <a href=\"/inspirational-quotes/8113-for-what-it-s-worth-it-s-never-too-late-to-be\"><img alt=\"For what it\\xe2\\x80\\x99s worth: It\\xe2\\x80\\x99s never too late to be whoever you want to be. I hope you live a life you\\xe2\\x80\\x99re proud of, and if you find you\\xe2\\x80\\x99re not, I hope you have the strength to start over again. #&lt;Author:0x00007f0fd73a87a0&gt;\" class=\"margin-10px-bottom shadow\" src=\"https://assets.passiton.com/quotes/quote_artwork/8113/medium/20200819_wednesday_quote.jpg?1597353876\" width=\"310\" height=\"310\" /></a>\\n        <h5 class=\\'value_on_red\\'><a href=\"/inspirational-quotes/8113-for-what-it-s-worth-it-s-never-too-late-to-be\">STRENGTH</a></h5>\\n\\n</div><div class=\"col-6 col-lg-3 text-center margin-30px-bottom sm-margin-30px-top\">\\n\\n        <a href=\"/inspirational-quotes/8112-when-something-bad-happens-you-have-three\"><img alt=\"When something bad happens you have three choices. You can let it define you, let it destroy you, or you can let it strengthen you. #&lt;Author:0x00007f0fd73f2be8&gt;\" class=\"margin-10px-bottom shadow\" src=\"https://assets.passiton.com/quotes/quote_artwork/8112/medium/20200818_tuesday_quote.jpg?1597353822\" width=\"310\" height=\"310\" /></a>\\n        <h5 class=\\'value_on_red\\'><a href=\"/inspirational-quotes/8112-when-something-bad-happens-you-have-three\">STRENGTH</a></h5>\\n\\n</div><div class=\"col-6 col-lg-3 text-center margin-30px-bottom sm-margin-30px-top\">\\n\\n        <a href=\"/inspirational-quotes/8111-a-true-hero-isn-t-measured-by-the-size-of-their\"><img alt=\"A true hero isn\\xe2\\x80\\x99t measured by the size of their strength, but by the strength of their heart. #&lt;Author:0x00007f0fd743b758&gt;\" class=\"margin-10px-bottom shadow\" src=\"https://assets.passiton.com/quotes/quote_artwork/8111/medium/20200817_monday_quote.jpg?1597353760\" width=\"310\" height=\"310\" /></a>\\n        <h5 class=\\'value_on_red\\'><a href=\"/inspirational-quotes/8111-a-true-hero-isn-t-measured-by-the-size-of-their\">STRENGTH</a></h5>\\n\\n</div><div class=\"col-6 col-lg-3 text-center margin-30px-bottom sm-margin-30px-top\">\\n\\n        <a href=\"/inspirational-quotes/8109-nature-has-been-for-me-for-as-long-as-i\"><img alt=\"Nature has been for me, for as long as I remember, a source of solace, inspiration, adventure, and delight; a home, a teacher, a companion. #&lt;Author:0x00007f0fd74b1e08&gt;\" class=\"margin-10px-bottom shadow\" src=\"https://assets.passiton.com/quotes/quote_artwork/8109/medium/20200814_friday_quote.jpg?1596663210\" width=\"310\" height=\"310\" /></a>\\n        <h5 class=\\'value_on_red\\'><a href=\"/inspirational-quotes/8109-nature-has-been-for-me-for-as-long-as-i\">APPRECIATING NATURE</a></h5>\\n\\n</div><div class=\"col-6 col-lg-3 text-center margin-30px-bottom sm-margin-30px-top\">\\n\\n        <a href=\"/inspirational-quotes/8110-i-took-a-walk-in-the-woods-and-came-out-taller\"><img alt=\"I took a walk in the woods and came out taller than the trees. #&lt;Author:0x00007f0fd7515390&gt;\" class=\"margin-10px-bottom shadow\" src=\"https://assets.passiton.com/quotes/quote_artwork/8110/medium/20200813_thursday_quote_alt2.jpg?1596841457\" width=\"310\" height=\"310\" /></a>\\n        <h5 class=\\'value_on_red\\'><a href=\"/inspirational-quotes/8110-i-took-a-walk-in-the-woods-and-came-out-taller\">APPRECIATING NATURE</a></h5>\\n\\n</div><div class=\"col-6 col-lg-3 text-center margin-30px-bottom sm-margin-30px-top\">\\n\\n        <a href=\"/inspirational-quotes/8108-there-is-something-infinitely-healing-in-the\"><img alt=\"There is something infinitely healing in the repeated refrains of nature \\xe2\\x80\\x93 the assurance that dawn comes after night, and spring after winter. #&lt;Author:0x00007f0fd75614c0&gt;\" class=\"margin-10px-bottom shadow\" src=\"https://assets.passiton.com/quotes/quote_artwork/8108/medium/rachel_carson_fixed.jpg?1597769516\" width=\"310\" height=\"310\" /></a>\\n        <h5 class=\\'value_on_red\\'><a href=\"/inspirational-quotes/8108-there-is-something-infinitely-healing-in-the\">APPRECIATING NATURE</a></h5>\\n\\n</div><div class=\"col-6 col-lg-3 text-center margin-30px-bottom sm-margin-30px-top\">\\n\\n        <a href=\"/inspirational-quotes/8107-a-walk-in-nature-walks-the-soul-back-home\"><img alt=\"A walk in nature, walks the soul back home. #&lt;Author:0x00007f0fd75ce5c0&gt;\" class=\"margin-10px-bottom shadow\" src=\"https://assets.passiton.com/quotes/quote_artwork/8107/medium/20200811_tuesday_quote.jpg?1596663032\" width=\"310\" height=\"310\" /></a>\\n        <h5 class=\\'value_on_red\\'><a href=\"/inspirational-quotes/8107-a-walk-in-nature-walks-the-soul-back-home\">APPRECIATING NATURE</a></h5>\\n\\n</div><div class=\"col-6 col-lg-3 text-center margin-30px-bottom sm-margin-30px-top\">\\n\\n        <a href=\"/inspirational-quotes/7508-i-felt-my-lungs-inflate-with-the-onrush-of\"><img alt=\"I felt my lungs inflate with the onrush of scenery\\xe2\\x80\\x94air, mountains, trees, people. I thought, \\xe2\\x80\\x98This is what it is to be happy.\\xe2\\x80\\x99 #&lt;Author:0x00007f0fd765ba10&gt;\" class=\"margin-10px-bottom shadow\" src=\"https://assets.passiton.com/quotes/quote_artwork/7508/medium/20200810_monday_quote.jpg?1596662943\" width=\"310\" height=\"310\" /></a>\\n        <h5 class=\\'value_on_red\\'><a href=\"/inspirational-quotes/7508-i-felt-my-lungs-inflate-with-the-onrush-of\">APPRECIATING NATURE</a></h5>\\n\\n</div><div class=\"col-6 col-lg-3 text-center margin-30px-bottom sm-margin-30px-top\">\\n\\n        <a href=\"/inspirational-quotes/4746-it-always-seems-impossible-until-its-done\"><img alt=\"It always seems impossible until its done. #&lt;Author:0x00007f0fd76d3f10&gt;\" class=\"margin-10px-bottom shadow\" src=\"https://assets.passiton.com/quotes/quote_artwork/4746/medium/20200807_friday_quote.jpg?1596496094\" width=\"310\" height=\"310\" /></a>\\n        <h5 class=\\'value_on_red\\'><a href=\"/inspirational-quotes/4746-it-always-seems-impossible-until-its-done\">PERSEVERANCE</a></h5>\\n\\n</div><div class=\"col-6 col-lg-3 text-center margin-30px-bottom sm-margin-30px-top\">\\n\\n        <a href=\"/inspirational-quotes/8105-great-things-come-from-hard-work-and\"><img alt=\"Great things come from hard work and perseverance. No excuses. #&lt;Author:0x00007f0fd77296e0&gt;\" class=\"margin-10px-bottom shadow\" src=\"https://assets.passiton.com/quotes/quote_artwork/8105/medium/20200806_thursday_quote.jpg?1596213320\" width=\"310\" height=\"310\" /></a>\\n        <h5 class=\\'value_on_red\\'><a href=\"/inspirational-quotes/8105-great-things-come-from-hard-work-and\">PERSEVERANCE</a></h5>\\n\\n</div><div class=\"col-6 col-lg-3 text-center margin-30px-bottom sm-margin-30px-top\">\\n\\n        <a href=\"/inspirational-quotes/3016-patience-and-perseverance-have-a-magical-effect\"><img alt=\"Patience and perseverance have a magical effect before which difficulties disappear and obstacles vanish. #&lt;Author:0x00007f0fd77d6c00&gt;\" class=\"margin-10px-bottom shadow\" src=\"https://assets.passiton.com/quotes/quote_artwork/3016/medium/20200805_wednesday_quote.jpg?1596213293\" width=\"310\" height=\"310\" /></a>\\n        <h5 class=\\'value_on_red\\'><a href=\"/inspirational-quotes/3016-patience-and-perseverance-have-a-magical-effect\">PERSEVERANCE</a></h5>\\n\\n</div><div class=\"col-6 col-lg-3 text-center margin-30px-bottom sm-margin-30px-top\">\\n\\n        <a href=\"/inspirational-quotes/8104-today-if-anything-is-trying-to-hold-you-back\"><img alt=\"Today if anything is trying to hold you back, give no attention to it. Get your hopes up, get your faith up, look up, and get ready to rise up. #&lt;Author:0x00007f0fd7851d38&gt;\" class=\"margin-10px-bottom shadow\" src=\"https://assets.passiton.com/quotes/quote_artwork/8104/medium/20200804_tuesday_quote.jpg?1596213265\" width=\"310\" height=\"310\" /></a>\\n        <h5 class=\\'value_on_red\\'><a href=\"/inspirational-quotes/8104-today-if-anything-is-trying-to-hold-you-back\">PERSEVERANCE</a></h5>\\n\\n</div><div class=\"col-6 col-lg-3 text-center margin-30px-bottom sm-margin-30px-top\">\\n\\n        <a href=\"/inspirational-quotes/3962-i-think-a-hero-is-an-ordinary-individual-who\"><img alt=\"I think a hero is an ordinary individual who finds strength to persevere and endure in spite of overwhelming obstacles. #&lt;Author:0x00007f0fd78f70a8&gt;\" class=\"margin-10px-bottom shadow\" src=\"https://assets.passiton.com/quotes/quote_artwork/3962/medium/20200803_monday_quote.jpg?1596213242\" width=\"310\" height=\"310\" /></a>\\n        <h5 class=\\'value_on_red\\'><a href=\"/inspirational-quotes/3962-i-think-a-hero-is-an-ordinary-individual-who\">PERSEVERANCE</a></h5>\\n\\n</div><div class=\"col-6 col-lg-3 text-center margin-30px-bottom sm-margin-30px-top\">\\n\\n        <a href=\"/inspirational-quotes/3123-a-smile-starts-on-the-lips-a-grin-spreads-to\"><img alt=\"A smile starts on the lips, A grin spreads to the eyes, A chuckle comes from the belly; But a good laugh bursts forth from the soul, Overflows, and bubbles all around. #&lt;Author:0x00007f0fd7976ec0&gt;\" class=\"margin-10px-bottom shadow\" src=\"https://assets.passiton.com/quotes/quote_artwork/3123/medium/20200331_friday_quote.jpg?1595634378\" width=\"310\" height=\"310\" /></a>\\n        <h5 class=\\'value_on_red\\'><a href=\"/inspirational-quotes/3123-a-smile-starts-on-the-lips-a-grin-spreads-to\">LAUGHTER</a></h5>\\n\\n</div><div class=\"col-6 col-lg-3 text-center margin-30px-bottom sm-margin-30px-top\">\\n\\n        <a href=\"/inspirational-quotes/8051-in-this-world-a-good-time-to-laugh-is-any-time\"><img alt=\"In this world, a good time to laugh is any time you can.  #&lt;Author:0x00007f0fd7a25808&gt;\" class=\"margin-10px-bottom shadow\" src=\"https://assets.passiton.com/quotes/quote_artwork/8051/medium/20200330_thursday_quote.jpg?1595634324\" width=\"310\" height=\"310\" /></a>\\n        <h5 class=\\'value_on_red\\'><a href=\"/inspirational-quotes/8051-in-this-world-a-good-time-to-laugh-is-any-time\">LAUGHTER</a></h5>\\n\\n</div><div class=\"col-6 col-lg-3 text-center margin-30px-bottom sm-margin-30px-top\">\\n\\n        <a href=\"/inspirational-quotes/6829-to-thrive-in-life-you-need-three-bones-a\"><img alt=\"To thrive in life you need three bones. A wishbone. A backbone. And a funny bone. #&lt;Author:0x00007f0fd7abe6e8&gt;\" class=\"margin-10px-bottom shadow\" src=\"https://assets.passiton.com/quotes/quote_artwork/6829/medium/20200329_wednesday_quote.jpg?1595634221\" width=\"310\" height=\"310\" /></a>\\n        <h5 class=\\'value_on_red\\'><a href=\"/inspirational-quotes/6829-to-thrive-in-life-you-need-three-bones-a\">LAUGHTER</a></h5>\\n\\n</div><div class=\"col-6 col-lg-3 text-center margin-30px-bottom sm-margin-30px-top\">\\n\\n        <a href=\"/inspirational-quotes/7465-what-soap-is-to-the-body-laughter-is-to-the-soul\"><img alt=\"What soap is to the body, laughter is to the soul. #&lt;Author:0x00007f0fd7b40418&gt;\" class=\"margin-10px-bottom shadow\" src=\"https://assets.passiton.com/quotes/quote_artwork/7465/medium/20200328_tuesday_quote.jpg?1595634197\" width=\"310\" height=\"310\" /></a>\\n        <h5 class=\\'value_on_red\\'><a href=\"/inspirational-quotes/7465-what-soap-is-to-the-body-laughter-is-to-the-soul\">LAUGHTER</a></h5>\\n\\n</div><div class=\"col-6 col-lg-3 text-center margin-30px-bottom sm-margin-30px-top\">\\n\\n        <a href=\"/inspirational-quotes/8050-i-honestly-think-its-the-thing-i-like-most-to\"><img alt=\"I honestly think it&#39;s the thing I like most, to laugh. It cures a multitude of ills. It&#39;s probably the most important thing in a person. #&lt;Author:0x00007f0fd7bc8e58&gt;\" class=\"margin-10px-bottom shadow\" src=\"https://assets.passiton.com/quotes/quote_artwork/8050/medium/20200327_monday_quote.jpg?1595634171\" width=\"310\" height=\"310\" /></a>\\n        <h5 class=\\'value_on_red\\'><a href=\"/inspirational-quotes/8050-i-honestly-think-its-the-thing-i-like-most-to\">LAUGHTER</a></h5>\\n\\n</div>\\n        </div>\\n\\n        <div class=\"row\">\\n            <div class=\"col-12 text-center\">\\n                <div class=\"quotes_pagination\"><span class=\"previous_page disabled\">&#8592; Previous</span> <em class=\"current\">1</em> <a rel=\"next\" href=\"/inspirational-quotes?page=2\">2</a> <a href=\"/inspirational-quotes?page=3\">3</a> <a href=\"/inspirational-quotes?page=4\">4</a> <a href=\"/inspirational-quotes?page=5\">5</a> <a href=\"/inspirational-quotes?page=6\">6</a> <a href=\"/inspirational-quotes?page=7\">7</a> <a href=\"/inspirational-quotes?page=8\">8</a> <a href=\"/inspirational-quotes?page=9\">9</a> <span class=\"gap\">&hellip;</span> <a href=\"/inspirational-quotes?page=118\">118</a> <a href=\"/inspirational-quotes?page=119\">119</a> <a class=\"next_page\" rel=\"next\" href=\"/inspirational-quotes?page=2\">Next &#8594;</a></div>\\n            </div>\\n        </div>\\n\\n    </div>\\n</section>\\n        <footer class=\"footer-classic-dark bg-extra-dark-gray padding-five-bottom sm-padding-30px-bottom\">\\n    <div class=\"bg-dark-footer padding-50px-tb sm-padding-30px-tb\">\\n        <div class=\"container\">\\n            <div class=\"row align-items-center\">\\n\\n                <div class=\"col-lg-4 col-md-5 text-center alt-font sm-margin-15px-bottom\">\\n                    Pass It On<sup>\\xc2\\xae</sup>\\n                </div>\\n\\n                <div class=\"col-lg-4 col-md-2 text-center sm-margin-10px-bottom\">\\n                    <a href=\"/\"><img class=\"footer-logo\" data-rjs=\"/assets/site/fbl_logo-b50da7cb3567063fca4dec74f28f07c4.png\" alt=\"The Foundation for a Better Life\" src=\"/assets/site/fbl_logo-b50da7cb3567063fca4dec74f28f07c4.png\" /></a>\\n                </div>\\n\\n                <div class=\"col-lg-4 col-md-5 text-center\">\\n                    <span class=\"alt-font margin-20px-right\">Follow us on social</span>\\n                    <div class=\"social-icon-style-8 d-inline-block vertical-align-middle\">\\n                        <ul class=\"small-icon mb-0\">\\n                            <li><a class=\"facebook text-white-2\" href=\"https://www.facebook.com/valuescom\" target=\"_blank\"><i class=\"fab fa-facebook-f\" aria-hidden=\"true\"></i></a></li>\\n                            <li><a class=\"twitter text-white-2\" href=\"https://twitter.com/passiton_values\" target=\"_blank\"><i class=\"fab fa-twitter\"></i></a></li>\\n                            <li><a class=\"instagram text-white-2\" href=\"https://www.instagram.com/passiton_values/\" target=\"_blank\"><i class=\"fab fa-instagram no-margin-right\" aria-hidden=\"true\"></i></a></li>\\n                            <li><a class=\"pinterest text-white-2\" href=\"https://www.pinterest.com/passiton_values/\" target=\"_blank\"><i class=\"fab fa-pinterest no-margin-right\" aria-hidden=\"true\"></i></a></li>\\n                            <li><a class=\"youtube text-white-2\" href=\"https://www.youtube.com/c/passiton_values\" target=\"_blank\"><i class=\"fab fa-youtube no-margin-right\" aria-hidden=\"true\"></i></a></li>\\n                        </ul>\\n                    </div>\\n                </div>\\n\\n            </div>\\n        </div>\\n    </div>\\n    <div class=\"footer-widget-area padding-five-top padding-30px-bottom sm-padding-30px-top\">\\n        <div class=\"container\">\\n            <div class=\"row\">\\n\\n                <div class=\"col-lg-3 col-md-6 widget border-right border-color-medium-dark-gray padding-45px-left md-padding-15px-left md-no-border-right md-margin-30px-bottom text-center text-md-left\">\\n                    <div class=\"widget-title alt-font text-small text-medium-gray text-uppercase margin-10px-bottom font-weight-600\">About Us</div>\\n                    <ul class=\"list-unstyled\">\\n                        <li><a class=\"text-small\" href=\"/who-we-are\">About The Foundation for a Better Life</a></li>\\n                        <li><a class=\"text-small\" href=\"/faqs\">FAQs</a></li>\\n                        <li><a class=\"text-small\" href=\"/foundation-recognition\">Foundation Recognition</a></li>\\n                        <li><a class=\"text-small\" href=\"/contact-us\">Contact Us</a></li>\\n                    </ul>\\n                </div>\\n\\n                <div class=\"col-lg-3 col-md-6 widget border-right border-color-medium-dark-gray padding-45px-left md-padding-15px-left md-no-border-right md-margin-30px-bottom text-center text-md-left\">\\n                    <div class=\"widget-title alt-font text-small text-medium-gray text-uppercase margin-10px-bottom font-weight-600\">Be Inspired</div>\\n                    <ul class=\"list-unstyled\">\\n                        <li><a class=\"text-small\" href=\"/teaching-values\">Teaching Values</a></li>\\n                        <li><a class=\"text-small\" href=\"/inspirational-quotes\">Inspirational Quotations</a></li>\\n                        <li><a class=\"text-small\" href=\"/inspirational-stories-tv-spots\">Pass It On\\xc2\\xae Videos</a></li>\\n                        <li><a class=\"text-small\" href=\"/your-everyday-heroes\">Who&#39;s Your Hero Stories</a></li>\\n                        <li><a class=\"text-small\" href=\"/inspirational-sayings-billboards\">Official Billboard Campaign</a></li>\\n                        <li><a class=\"text-small\" href=\"/your-billboards\">Create Your Own Billboard</a></li>\\n                        <li><a class=\"text-small\" href=\"/radio\">Radio Ads</a></li>\\n                        <li><a class=\"text-small\" href=\"/passiton-blog\">Pass It On\\xc2\\xae Blog</a></li>\\n                        <li><a class=\"text-small\" href=\"/inspirational-audio-stories\">Podcasts</a></li>\\n                        <li><a class=\"text-small\" href=\"/pass-it-on-ecards\">Send an Ecard</a></li>\\n                    </ul>\\n                </div>\\n\\n                <div class=\"col-lg-3 col-md-6 widget border-right border-color-medium-dark-gray padding-45px-left md-padding-15px-left md-no-border-right md-margin-30px-bottom text-center text-md-left\">\\n                    <div class=\"widget-title alt-font text-small text-medium-gray text-uppercase margin-10px-bottom font-weight-600\">For Schools</div>\\n                    <ul class=\"list-unstyled\">\\n                        <li><a class=\"text-small\" href=\"/poster-requests/new\">Free Posters &amp; DVD for Schools</a></li>\\n                        <li><a class=\"text-small\" href=\"/pass-it-on-downloads\">Downloads</a></li>\\n                    </ul>\\n                </div>\\n\\n                <div class=\"col-lg-3 col-md-6 widget padding-45px-left md-padding-15px-left md-no-border-right md-margin-30px-bottom text-center text-md-left\">\\n                    <div class=\"widget-title alt-font text-small text-medium-gray text-uppercase margin-10px-bottom font-weight-600\">For Media Companies</div>\\n                    <ul class=\"list-unstyled\">\\n                        <li><a class=\"text-small\" href=\"/for-media-companies\">For Media Companies</a></li>\\n                        <li><a class=\"text-small\" href=\"https://www.passiton-media.com\">Broadcast Quality PSA Downloads</a></li>\\n                        <li><a class=\"text-small\" href=\"https://www.passiton-media.com\">Pass It On Radio Ads</a></li>\\n                        <li><a class=\"text-small\" href=\"https://www.passiton-media.com\">Live Reads</a></li>\\n                        <li><a class=\"text-small\" href=\"https://www.passiton-media.com\">Out of Home Materials</a></li>\\n                    </ul>\\n                    <div class=\\'row sm-margin-30px-top\\'>\\n                        <div class=\\'col-lg-4\\'>\\n                            <a href=\"/\"><img style=\"max-width: 70px;\" src=\"/assets/site/values_logo-cd29ec5f2f086673ac42962263d07e02.png\" alt=\"Values logo\" /></a>\\n                        </div>\\n                        <div class=\\'col-lg-7\\'>\\n                            <p class=\\'text-medium-gray text-small padding-10px-top\\'>VALUES.COM<small>\\xc2\\xae</small> is now PassItOn.com<small>\\xc2\\xae</small></p>\\n                        </div>\\n                    </div>\\n                </div>\\n\\n            </div>\\n        </div>\\n    </div>\\n    <div class=\"container\">\\n        <div class=\"footer-bottom border-top border-color-medium-dark-gray padding-30px-top\">\\n            <div class=\"row\">\\n                <div class=\"col-lg-6 col-md-6 text-small text-md-left text-center\">\\xc2\\xa92000-2020 The Foundation for a Better Life.</div>\\n                <div class=\"col-lg-6 col-md-6 text-small text-md-right text-center\"><a href=\"/privacy-policy\">Privacy Policy</a>&nbsp;&nbsp;&nbsp;|&nbsp;&nbsp;&nbsp;<a href=\"/terms-of-use\">Terms of Use</a></div>\\n            </div>\\n        </div>\\n    </div>\\n</footer>\\n        <a class=\"scroll-top-arrow\" href=\"javascript:void(0);\"><i class=\"ti-arrow-up\"></i></a>\\n        <script src=\"https://cdnjs.cloudflare.com/ajax/libs/jquery/1.12.4/jquery.js\"></script>\\n        <script src=\"https://cdnjs.cloudflare.com/ajax/libs/popper.js/1.14.7/umd/popper.min.js\" integrity=\"sha384-UO2eT0CpHqdSJQ6hJty5KVphtPhzWj9WO1clHTMGa3JDZwrnQq4sF86dIHNDz0W1\" crossorigin=\"anonymous\"></script>\\n        <script src=\"https://stackpath.bootstrapcdn.com/bootstrap/4.3.1/js/bootstrap.min.js\" integrity=\"sha384-JjSmVgyd0p3pXB1rRibZUAYoIIy6OrQ6VrjIEaFf/nJGzIxFDsf4x0xIM+B07jRM\" crossorigin=\"anonymous\"></script>\\n        <script src=\"/assets/pofo-3d0d89a27285d93c09e0f4c1fc85cead.js\"></script>\\n        \\n    </body>\\n</html>\\n'"
      ]
     },
     "execution_count": 37,
     "metadata": {},
     "output_type": "execute_result"
    }
   ],
   "source": [
    "response.content"
   ]
  },
  {
   "cell_type": "code",
   "execution_count": 38,
   "metadata": {},
   "outputs": [],
   "source": [
    "from bs4 import BeautifulSoup as soup"
   ]
  },
  {
   "cell_type": "code",
   "execution_count": 39,
   "metadata": {},
   "outputs": [],
   "source": [
    "quotes_soup = soup(response.content)"
   ]
  },
  {
   "cell_type": "code",
   "execution_count": 40,
   "metadata": {},
   "outputs": [
    {
     "data": {
      "text/plain": [
       "<!DOCTYPE html>\n",
       "<html class=\"no-js\" dir=\"ltr\" lang=\"en-US\">\n",
       "<head>\n",
       "<title>Inspirational Quotes - Motivational Quotes - Leadership Quotes | PassItOn.com</title>\n",
       "<meta charset=\"utf-8\"/>\n",
       "<meta content=\"text/html; charset=utf-8\" http-equiv=\"content-type\"/>\n",
       "<meta content=\"IE=edge\" http-equiv=\"X-UA-Compatible\"/>\n",
       "<meta content=\"width=device-width,initial-scale=1.0,maximum-scale=1\" name=\"viewport\"/>\n",
       "<meta content=\"The Foundation for a Better Life | Pass It On.com\" name=\"description\"/>\n",
       "<link href=\"/apple-touch-icon.png\" rel=\"apple-touch-icon\" sizes=\"180x180\"/>\n",
       "<link href=\"/favicon-32x32.png\" rel=\"icon\" sizes=\"32x32\" type=\"image/png\"/>\n",
       "<link href=\"/favicon-16x16.png\" rel=\"icon\" sizes=\"16x16\" type=\"image/png\"/>\n",
       "<link href=\"/site.webmanifest\" rel=\"manifest\"/>\n",
       "<link color=\"#c8102e\" href=\"/safari-pinned-tab.svg\" rel=\"mask-icon\"/>\n",
       "<meta content=\"#c8102e\" name=\"msapplication-TileColor\"/>\n",
       "<meta content=\"#ffffff\" name=\"theme-color\"/>\n",
       "<link crossorigin=\"anonymous\" href=\"https://stackpath.bootstrapcdn.com/bootstrap/4.3.1/css/bootstrap.min.css\" integrity=\"sha384-ggOyR0iXCbMQv3Xipma34MD+dH/1fQ784/j6cY/iJTQUOhcWr7x9JvoRxT2MZw1T\" rel=\"stylesheet\"/>\n",
       "<link href=\"/assets/application-c51dbb9f66e05aed042146423dfccd71.css\" media=\"all\" rel=\"stylesheet\"/>\n",
       "<meta content=\"authenticity_token\" name=\"csrf-param\"/>\n",
       "<meta content=\"bLEraXx85R9zfyb0BsfVEVkvJVL45frsZ8hGx9oWdN/Y9FgtupCLWX+zdUvfaDqJFKOO/JxEMnJlqMlFhXJmZw==\" name=\"csrf-token\"/>\n",
       "<!-- Global site tag (gtag.js) - Google Analytics -->\n",
       "<script async=\"\" src=\"https://www.googletagmanager.com/gtag/js?id=UA-1179606-29\"></script>\n",
       "<script>\n",
       "          window.dataLayer = window.dataLayer || [];\n",
       "          function gtag(){dataLayer.push(arguments);}\n",
       "          gtag('js', new Date());\n",
       "          gtag('config', 'UA-1179606-29');\n",
       "        </script>\n",
       "<script>\n",
       "          window.fbAsyncInit = function() {\n",
       "            FB.init({\n",
       "              appId            : '483774921971842',\n",
       "              autoLogAppEvents : true,\n",
       "              xfbml            : true,\n",
       "              version          : 'v6.0'\n",
       "            });\n",
       "          };\n",
       "        </script>\n",
       "<script async=\"\" defer=\"\" src=\"https://connect.facebook.net/en_US/sdk.js\"></script>\n",
       "<meta content=\"passiton.com\" property=\"og:site_name\"/>\n",
       "<meta content=\"Inspirational Quotes - Motivational Quotes - Leadership Quotes\" property=\"og:title\"/>\n",
       "<meta content=\"website\" property=\"og:type\"/>\n",
       "<meta content=\"https://www.passiton.com/passiton.jpg\" property=\"og:image\"/>\n",
       "<meta content=\"https://www.passiton.com/inspirational-quotes\" property=\"og:url\"/>\n",
       "<meta content=\"Find the perfect quotation from our hand-picked collection of inspiring quotes by hundreds of authors.\" property=\"og:description\"/>\n",
       "<meta content=\"483774921971842\" property=\"fb:app_id\"/>\n",
       "<meta content=\"summary_large_image\" name=\"twitter:card\"/>\n",
       "<meta content=\"@passiton\" name=\"twitter:site\"/>\n",
       "<meta content=\"@passiton\" name=\"twitter:creator\"/>\n",
       "<meta content=\"Inspirational Quotes - Motivational Quotes - Leadership Quotes\" name=\"twitter:title\"/>\n",
       "<meta content=\"Find the perfect quotation from our hand-picked collection of inspiring quotes by hundreds of authors.\" name=\"twitter:description\"/>\n",
       "<meta content=\"https://www.passiton.com/passiton.jpg\" name=\"twitter:image\"/>\n",
       "<meta content=\"https://www.passiton.com/inspirational-quotes\" name=\"twitter:url\"/>\n",
       "<meta content=\"passiton.com\" itemprop=\"name\"/>\n",
       "<meta content=\"Find the perfect quotation from our hand-picked collection of inspiring quotes by hundreds of authors.\" itemprop=\"description\"/>\n",
       "<meta content=\"https://www.passiton.com/passiton.jpg\" itemprop=\"image\"/>\n",
       "<link href=\"/apple-touch-icon.png\" rel=\"apple-touch-icon\" sizes=\"180x180\"/>\n",
       "<link href=\"/favicon-32x32.png\" rel=\"icon\" sizes=\"32x32\" type=\"image/png\"/>\n",
       "<link href=\"/favicon-16x16.png\" rel=\"icon\" sizes=\"16x16\" type=\"image/png\"/>\n",
       "<link color=\"#C8102E\" href=\"/passiton_arrow.svg\" rel=\"mask-icon\"/>\n",
       "<link href=\"/manifest.json\" rel=\"manifest\"/>\n",
       "<link color=\"#5bbad5\" href=\"/safari-pinned-tab.svg\" rel=\"mask-icon\"/>\n",
       "<meta content=\"passiton\" name=\"apple-mobile-web-app-title\"/>\n",
       "<meta content=\"passiton\" name=\"application-name\"/>\n",
       "<meta content=\"#f1f1f1\" name=\"theme-color\"/>\n",
       "</head>\n",
       "<body class=\"no-transition quotes_index\">\n",
       "<header>\n",
       "<nav class=\"navbar navbar-default bootsnav navbar-fixed-top header-dark white-link background-transparent nav-box-width white-link navbar-expand-lg\">\n",
       "<div class=\"container-fluid nav-header-container\">\n",
       "<div class=\"col-auto pl-0\">\n",
       "<a class=\"logo\" href=\"/\" title=\"Pass It On®\"><img alt=\"Pass It On\" class=\"logo-dark\" data-rjs=\"/assets/site/logo@2x-77b9f4fa1e4bafa6ff119f8f162b7bd9.png\" src=\"/assets/site/logo-6d680decaadef58e4fbb586e147bc135.png\"/><img alt=\"Pass It On\" class=\"logo-light default\" data-rjs=\"/assets/site/logo-white@2x-82bf2486063a48e9207811cc7f6d5e5f.png\" src=\"/assets/site/logo-white-2d99f390ad2f6d3bbf59a52aadb55d60.png\"/></a>\n",
       "</div>\n",
       "<div class=\"col accordion-menu pr-0 pr-md-3\">\n",
       "<button class=\"navbar-toggler collapsed\" data-target=\"#navbar-collapse-toggle-1\" data-toggle=\"collapse\" type=\"button\">\n",
       "<span class=\"sr-only\">toggle navigation</span>\n",
       "<span class=\"icon-bar\"></span>\n",
       "<span class=\"icon-bar\"></span>\n",
       "<span class=\"icon-bar\"></span>\n",
       "</button>\n",
       "<div class=\"navbar-collapse collapse justify-content-end\" id=\"navbar-collapse-toggle-1\">\n",
       "<ul class=\"nav navbar-nav no-margin alt-font text-normal\" data-in=\"fadeIn\" data-out=\"fadeOut\" id=\"accordion\">\n",
       "<li><a href=\"/inspirational-quotes\">Quotes</a></li>\n",
       "<li><a href=\"/inspirational-stories-tv-spots\">Videos</a></li>\n",
       "<li class=\"dropdown simple-dropdown\"><a href=\"/inspirational-sayings-billboards\">Billboards <i aria-hidden=\"true\" class=\"fas fa-angle-down dropdown-toggle\" data-toggle=\"dropdown\"></i></a>\n",
       "<ul class=\"dropdown-menu\" role=\"menu\">\n",
       "<li><a href=\"/inspirational-sayings-billboards\">Official Billboards</a>\n",
       "</li><li><a href=\"/is-in-you\">Is In You® Billboards</a>\n",
       "</li><li><a href=\"/your-billboards\">Create Your Own Billboard</a>\n",
       "</li></ul>\n",
       "</li>\n",
       "<li><a href=\"/radio\">Radio Ads</a></li>\n",
       "<li><a href=\"/passiton-blog\">Blog</a></li>\n",
       "<li class=\"dropdown simple-dropdown\"><a href=\"#\">Language <i aria-hidden=\"true\" class=\"fas fa-angle-down dropdown-toggle\" data-toggle=\"dropdown\"></i></a>\n",
       "<ul class=\"dropdown-menu\" role=\"menu\">\n",
       "<li><a href=\"https://www.pasala.org/\" target=\"_blank\">Spanish | Español</a>\n",
       "</li><li><a href=\"https://www.umavidamelhor.org/\" target=\"_blank\">Portuguese | Português</a>\n",
       "</li><li><a href=\"https://www.values.cn.com/\" target=\"_blank\">Chinese | 中文</a>\n",
       "</li></ul>\n",
       "</li>\n",
       "</ul>\n",
       "</div>\n",
       "</div>\n",
       "<div class=\"col-auto pr-0\">\n",
       "<div class=\"header-searchbar\">\n",
       "<a class=\"header-search-form\" href=\"#search-header\"><i class=\"fas fa-search search-button\"></i></a>\n",
       "<form action=\"/search\" class=\"mfp-hide search-form-result\" id=\"search-header\" method=\"post\" name=\"search-header\">\n",
       "<div class=\"search-form position-relative\">\n",
       "<button class=\"fas fa-search close-search search-button\" type=\"submit\"></button>\n",
       "<input autocomplete=\"off\" class=\"search-input\" name=\"q\" placeholder=\"Search passiton.com...\" type=\"text\"/>\n",
       "</div>\n",
       "</form>\n",
       "</div>\n",
       "<div class=\"header-social-icon d-none d-md-inline-block\">\n",
       "<a href=\"https://www.facebook.com/valuescom\" target=\"_blank\" title=\"Facebook\"><i aria-hidden=\"true\" class=\"fab fa-facebook-f\"></i></a>\n",
       "<a href=\"https://twitter.com/passiton_values\" target=\"_blank\" title=\"Twitter\"><i class=\"fab fa-twitter\"></i></a>\n",
       "<a href=\"https://www.instagram.com/passiton_values/\" target=\"_blank\" title=\"Instagram\"><i aria-hidden=\"true\" class=\"fab fa-instagram\"></i></a>\n",
       "<a href=\"https://www.pinterest.com/passiton_values/\" target=\"_blank\" title=\"Pinterest\"><i aria-hidden=\"true\" class=\"fab fa-pinterest\"></i></a>\n",
       "<a href=\"https://www.youtube.com/c/passiton_values\" target=\"_blank\" title=\"YouTube\"><i aria-hidden=\"true\" class=\"fab fa-youtube no-margin-right\"></i></a>\n",
       "</div>\n",
       "</div>\n",
       "</div>\n",
       "</nav>\n",
       "</header>\n",
       "<section class=\"parallax padding-six-all bg-black\" data-stellar-background-ratio=\"0.2\" style=\"background-image:url('/assets/backgrounds/flowers-8d19415bc3bc371f5beaed468d9a1970.jpg');\">\n",
       "<div class=\"container\">\n",
       "<div class=\"row justify-content-center\">\n",
       "<div class=\"col-12 col-lg-10 text-center\">\n",
       "<div class=\"shadow bg-extra-dark-gray padding-two-all border-radius-6 width-70 lg-width-80 sm-width-100 mx-auto lg-padding-30px-all sm-padding-15px-all sm-margin-40px-top\">\n",
       "<h6 class=\"font-weight-300 text-white-2 margin-20px-bottom sm-margin-15px-bottom\">Get our FREE daily quote emails!</h6>\n",
       "<p class=\"text-medium width-70 mx-auto margin-40px-bottom sm-width-100 sm-margin-15px-bottom\">Get a daily inspirational quote in your inbox each weekday! Enter your email below to subscribe.</p>\n",
       "<form accept-charset=\"UTF-8\" action=\"/users\" class=\"simple_form search-box3 margin-10px-bottom\" id=\"new_user\" method=\"post\" novalidate=\"novalidate\"><input name=\"utf8\" type=\"hidden\" value=\"✓\"/><input name=\"authenticity_token\" type=\"hidden\" value=\"3cspkfcSDl5l5azelstmQ7+Uz9cD8xDInwK83q3qqVppjlrVMf5gGGkp/2FPZInb8hhkeWdS2FadYjNc8o674g==\"/>\n",
       "<div class=\"input-group add-on width-75 mx-auto sm-width-100\">\n",
       "<input class=\"string email optional form-control text-white\" id=\"user_email\" label=\"false\" name=\"user[email]\" placeholder=\"you@your-email.com\" type=\"text\"/>\n",
       "<script src=\"https://www.recaptcha.net/recaptcha/api.js?render=6Ldta8EUAAAAACp3yt76yG8QWMdQkpDBkP1bcHi6\"></script>\n",
       "<script>\n",
       "          // Define function so that we can call it again later if we need to reset it\n",
       "          // This executes reCAPTCHA and then calls our callback.\n",
       "          function executeRecaptchaForQuote() {\n",
       "            grecaptcha.ready(function() {\n",
       "              grecaptcha.execute('6Ldta8EUAAAAACp3yt76yG8QWMdQkpDBkP1bcHi6', {action: 'quote'}).then(function(token) {\n",
       "                setInputWithRecaptchaResponseTokenForQuote('g-recaptcha-response-data-quote', token)\n",
       "              });\n",
       "            });\n",
       "          };\n",
       "          // Invoke immediately\n",
       "          executeRecaptchaForQuote()\n",
       "\n",
       "          // Async variant so you can await this function from another async function (no need for\n",
       "          // an explicit callback function then!)\n",
       "          // Returns a Promise that resolves with the response token.\n",
       "          async function executeRecaptchaForQuoteAsync() {\n",
       "            return new Promise((resolve, reject) => {\n",
       "              grecaptcha.ready(async function() {\n",
       "                resolve(await grecaptcha.execute('6Ldta8EUAAAAACp3yt76yG8QWMdQkpDBkP1bcHi6', {action: 'quote'}))\n",
       "              });\n",
       "            })\n",
       "          };\n",
       "\n",
       "                    var setInputWithRecaptchaResponseTokenForQuote = function(id, token) {\n",
       "            var element = document.getElementById(id);\n",
       "            element.value = token;\n",
       "          }\n",
       "\n",
       "        </script>\n",
       "<input class=\"g-recaptcha g-recaptcha-response\" data-sitekey=\"6Ldta8EUAAAAACp3yt76yG8QWMdQkpDBkP1bcHi6\" id=\"g-recaptcha-response-data-quote\" name=\"g-recaptcha-response-data[quote]\" type=\"hidden\"/>\n",
       "<div class=\"input-group-append\">\n",
       "<button class=\"btn btn-default\" type=\"submit\"><i class=\"ti-arrow-right text-small m-0\"></i></button>\n",
       "</div>\n",
       "</div>\n",
       "</form>\n",
       "</div>\n",
       "</div>\n",
       "</div>\n",
       "</div>\n",
       "</section>\n",
       "<section class=\"half-section bg-extra-dark-gray half-section\">\n",
       "<div class=\"container\">\n",
       "<div class=\"row m-0\">\n",
       "<div class=\"col-12 d-flex flex-column justify-content-center text-center wow fadeIn\" data-wow-delay=\"0.2s\">\n",
       "<h5 class=\"text-white alt-font font-weight-400 letter-spacing-1 margin-10px-bottom\">INSPIRATIONAL QUOTES</h5>\n",
       "<span class=\"text-white-2 opacity8 alt-font mb-0 padding-20px-bottom\">Find the perfect quote... and Pass It On®</span>\n",
       "<form action=\"/inspirational-quotes\" class=\"search-box2 margin-30px-bottom\" method=\"get\">\n",
       "<div class=\"input-group add-on width-75 mx-auto sm-width-100\">\n",
       "<input class=\"form-control\" name=\"q\" placeholder=\"Search our inspiring quotes...\" type=\"text\" value=\"\"/>\n",
       "<div class=\"input-group-append\">\n",
       "<button class=\"btn btn-default\" type=\"submit\"><i class=\"ti-search text-small m-0\"></i></button>\n",
       "</div>\n",
       "</div>\n",
       "</form>\n",
       "</div>\n",
       "</div>\n",
       "<div class=\"row\" id=\"all_quotes\">\n",
       "<div class=\"col-6 col-lg-3 text-center margin-30px-bottom sm-margin-30px-top\">\n",
       "<a href=\"/inspirational-quotes/8127-exercise-to-be-fit-not-skinny\"><img alt=\"Exercise to be fit, not skinny. #&lt;Author:0x00007f0fd6fe5870&gt;\" class=\"margin-10px-bottom shadow\" height=\"310\" src=\"https://assets.passiton.com/quotes/quote_artwork/8127/medium/20200908_tuesday_quote.jpg?1599169757\" width=\"310\"/></a>\n",
       "<h5 class=\"value_on_red\"><a href=\"/inspirational-quotes/8127-exercise-to-be-fit-not-skinny\">HEALTH</a></h5>\n",
       "</div><div class=\"col-6 col-lg-3 text-center margin-30px-bottom sm-margin-30px-top\">\n",
       "<a href=\"/inspirational-quotes/8123-it-s-up-to-you-today-to-start-making-healthy\"><img alt=\"It’s up to you today to start making healthy choices. Not choices that are just healthy for your body, but healthy for your mind. #&lt;Author:0x00007f0fd7020268&gt;\" class=\"margin-10px-bottom shadow\" height=\"310\" src=\"https://assets.passiton.com/quotes/quote_artwork/8123/medium/20200907_monday_quote.jpg?1599090027\" width=\"310\"/></a>\n",
       "<h5 class=\"value_on_red\"><a href=\"/inspirational-quotes/8123-it-s-up-to-you-today-to-start-making-healthy\">HEALTH</a></h5>\n",
       "</div><div class=\"col-6 col-lg-3 text-center margin-30px-bottom sm-margin-30px-top\">\n",
       "<a href=\"/inspirational-quotes/7808-creativity-involves-breaking-out-of-established\"><img alt=\"Creativity involves breaking out of established patterns in order to look at things in a different way. #&lt;Author:0x00007f0fd7059400&gt;\" class=\"margin-10px-bottom shadow\" height=\"310\" src=\"https://assets.passiton.com/quotes/quote_artwork/7808/medium/20200904_friday_quote.jpg?1598565715\" width=\"310\"/></a>\n",
       "<h5 class=\"value_on_red\"><a href=\"/inspirational-quotes/7808-creativity-involves-breaking-out-of-established\">CREATIVITY</a></h5>\n",
       "</div><div class=\"col-6 col-lg-3 text-center margin-30px-bottom sm-margin-30px-top\">\n",
       "<a href=\"/inspirational-quotes/7812-curiosity-about-life-in-all-of-its-aspects-i\"><img alt=\"Curiosity about life in all of its aspects, I think, is still the secret of great creative people. #&lt;Author:0x00007f0fd70983a8&gt;\" class=\"margin-10px-bottom shadow\" height=\"310\" src=\"https://assets.passiton.com/quotes/quote_artwork/7812/medium/20200903_thursday_quote.jpg?1598565687\" width=\"310\"/></a>\n",
       "<h5 class=\"value_on_red\"><a href=\"/inspirational-quotes/7812-curiosity-about-life-in-all-of-its-aspects-i\">CREATIVITY</a></h5>\n",
       "</div><div class=\"col-6 col-lg-3 text-center margin-30px-bottom sm-margin-30px-top\">\n",
       "<a href=\"/inspirational-quotes/8122-happiness-lies-in-the-joy-of-achievement-and\"><img alt=\"Happiness lies in the joy of achievement and the thrill of creative effort. #&lt;Author:0x00007f0fd70d8d40&gt;\" class=\"margin-10px-bottom shadow\" height=\"310\" src=\"https://assets.passiton.com/quotes/quote_artwork/8122/medium/20200902_wednesday_quote.jpg?1598565656\" width=\"310\"/></a>\n",
       "<h5 class=\"value_on_red\"><a href=\"/inspirational-quotes/8122-happiness-lies-in-the-joy-of-achievement-and\">CREATIVITY</a></h5>\n",
       "</div><div class=\"col-6 col-lg-3 text-center margin-30px-bottom sm-margin-30px-top\">\n",
       "<a href=\"/inspirational-quotes/8121-create-what-sets-your-heart-on-fire-and-it-will\"><img alt=\"Create what sets your heart on fire and it will illuminate the path ahead. #&lt;Author:0x00007f0fd712b900&gt;\" class=\"margin-10px-bottom shadow\" height=\"310\" src=\"https://assets.passiton.com/quotes/quote_artwork/8121/medium/20200901_tuesday_quote.jpg?1598565635\" width=\"310\"/></a>\n",
       "<h5 class=\"value_on_red\"><a href=\"/inspirational-quotes/8121-create-what-sets-your-heart-on-fire-and-it-will\">CREATIVITY</a></h5>\n",
       "</div><div class=\"col-6 col-lg-3 text-center margin-30px-bottom sm-margin-30px-top\">\n",
       "<a href=\"/inspirational-quotes/8120-creativity-is-the-way-i-share-my-soul-with-the\"><img alt=\"Creativity is the way I share my soul with the world. #&lt;Author:0x00007f0fd7167ea0&gt;\" class=\"margin-10px-bottom shadow\" height=\"310\" src=\"https://assets.passiton.com/quotes/quote_artwork/8120/medium/20200831_monday_quote.jpg?1598565613\" width=\"310\"/></a>\n",
       "<h5 class=\"value_on_red\"><a href=\"/inspirational-quotes/8120-creativity-is-the-way-i-share-my-soul-with-the\">CREATIVITY</a></h5>\n",
       "</div><div class=\"col-6 col-lg-3 text-center margin-30px-bottom sm-margin-30px-top\">\n",
       "<a href=\"/inspirational-quotes/8118-kindness-isnt-sacrifice-so-much-as-it-is-being\"><img alt=\"Kindness isn't sacrifice so much as it is being considerate for the feelings of others, sharing happiness, the unselfish thought, the spontaneous and friendly act, forgetfulness of our own present interests.  #&lt;Author:0x00007f0fd71a0458&gt;\" class=\"margin-10px-bottom shadow\" height=\"310\" src=\"https://assets.passiton.com/quotes/quote_artwork/8118/medium/20200828_friday_quote.jpg?1597869672\" width=\"310\"/></a>\n",
       "<h5 class=\"value_on_red\"><a href=\"/inspirational-quotes/8118-kindness-isnt-sacrifice-so-much-as-it-is-being\">COURTESY</a></h5>\n",
       "</div><div class=\"col-6 col-lg-3 text-center margin-30px-bottom sm-margin-30px-top\">\n",
       "<a href=\"/inspirational-quotes/8117-take-care-be-kind-be-considerate-of-other\"><img alt=\"Take care, be kind, be considerate of other people and other species, and be loving. #&lt;Author:0x00007f0fd71e8cd0&gt;\" class=\"margin-10px-bottom shadow\" height=\"310\" src=\"https://assets.passiton.com/quotes/quote_artwork/8117/medium/20200827_thursday_quote.jpg?1597869639\" width=\"310\"/></a>\n",
       "<h5 class=\"value_on_red\"><a href=\"/inspirational-quotes/8117-take-care-be-kind-be-considerate-of-other\">COURTESY</a></h5>\n",
       "</div><div class=\"col-6 col-lg-3 text-center margin-30px-bottom sm-margin-30px-top\">\n",
       "<a href=\"/inspirational-quotes/8116-real-strength-entails-being-considerate-and\"><img alt=\"Real strength entails being considerate and supportive of people's feelings. #&lt;Author:0x00007f0fd7222f20&gt;\" class=\"margin-10px-bottom shadow\" height=\"310\" src=\"https://assets.passiton.com/quotes/quote_artwork/8116/medium/20200826_wednesday_quote.jpg?1597869555\" width=\"310\"/></a>\n",
       "<h5 class=\"value_on_red\"><a href=\"/inspirational-quotes/8116-real-strength-entails-being-considerate-and\">COURTESY</a></h5>\n",
       "</div><div class=\"col-6 col-lg-3 text-center margin-30px-bottom sm-margin-30px-top\">\n",
       "<a href=\"/inspirational-quotes/8119-life-is-short-but-there-is-always-time-enough\"><img alt=\"Life is short but there is always time enough for courtesy. #&lt;Author:0x00007f0fd7260190&gt;\" class=\"margin-10px-bottom shadow\" height=\"310\" src=\"https://assets.passiton.com/quotes/quote_artwork/8119/medium/20200825_tuesday_quote.jpg?1597869487\" width=\"310\"/></a>\n",
       "<h5 class=\"value_on_red\"><a href=\"/inspirational-quotes/8119-life-is-short-but-there-is-always-time-enough\">COURTESY</a></h5>\n",
       "</div><div class=\"col-6 col-lg-3 text-center margin-30px-bottom sm-margin-30px-top\">\n",
       "<a href=\"/inspirational-quotes/7795-a-tree-is-known-by-its-fruit-a-person-by-their\"><img alt=\"A tree is known by its fruit; a person by their deeds. A good deed is never lost; whoever sows courtesy reaps friendship, and whoever plants kindness gathers love. #&lt;Author:0x00007f0fd72c6b70&gt;\" class=\"margin-10px-bottom shadow\" height=\"310\" src=\"https://assets.passiton.com/quotes/quote_artwork/7795/medium/20200824_monday_quote.jpg?1597868996\" width=\"310\"/></a>\n",
       "<h5 class=\"value_on_red\"><a href=\"/inspirational-quotes/7795-a-tree-is-known-by-its-fruit-a-person-by-their\">COURTESY</a></h5>\n",
       "</div><div class=\"col-6 col-lg-3 text-center margin-30px-bottom sm-margin-30px-top\">\n",
       "<a href=\"/inspirational-quotes/8114-if-you-were-born-with-the-weakness-to-fall-you\"><img alt=\"If you were born with the weakness to fall. You were born with the strength to rise. #&lt;Author:0x00007f0fd7312ae8&gt;\" class=\"margin-10px-bottom shadow\" height=\"310\" src=\"https://assets.passiton.com/quotes/quote_artwork/8114/medium/20200821_friday_quote.jpg?1597353972\" width=\"310\"/></a>\n",
       "<h5 class=\"value_on_red\"><a href=\"/inspirational-quotes/8114-if-you-were-born-with-the-weakness-to-fall-you\">STRENGTH</a></h5>\n",
       "</div><div class=\"col-6 col-lg-3 text-center margin-30px-bottom sm-margin-30px-top\">\n",
       "<a href=\"/inspirational-quotes/6926-maybe-who-we-are-isnt-so-much-about-what-we-do\"><img alt=\"Maybe who we are isn't so much about what we do, but rather what we're capable of when we least expect it. #&lt;Author:0x00007f0fd736d7b8&gt;\" class=\"margin-10px-bottom shadow\" height=\"310\" src=\"https://assets.passiton.com/quotes/quote_artwork/6926/medium/20200820_thursday_quote.jpg?1597353926\" width=\"310\"/></a>\n",
       "<h5 class=\"value_on_red\"><a href=\"/inspirational-quotes/6926-maybe-who-we-are-isnt-so-much-about-what-we-do\">STRENGTH</a></h5>\n",
       "</div><div class=\"col-6 col-lg-3 text-center margin-30px-bottom sm-margin-30px-top\">\n",
       "<a href=\"/inspirational-quotes/8113-for-what-it-s-worth-it-s-never-too-late-to-be\"><img alt=\"For what it’s worth: It’s never too late to be whoever you want to be. I hope you live a life you’re proud of, and if you find you’re not, I hope you have the strength to start over again. #&lt;Author:0x00007f0fd73a87a0&gt;\" class=\"margin-10px-bottom shadow\" height=\"310\" src=\"https://assets.passiton.com/quotes/quote_artwork/8113/medium/20200819_wednesday_quote.jpg?1597353876\" width=\"310\"/></a>\n",
       "<h5 class=\"value_on_red\"><a href=\"/inspirational-quotes/8113-for-what-it-s-worth-it-s-never-too-late-to-be\">STRENGTH</a></h5>\n",
       "</div><div class=\"col-6 col-lg-3 text-center margin-30px-bottom sm-margin-30px-top\">\n",
       "<a href=\"/inspirational-quotes/8112-when-something-bad-happens-you-have-three\"><img alt=\"When something bad happens you have three choices. You can let it define you, let it destroy you, or you can let it strengthen you. #&lt;Author:0x00007f0fd73f2be8&gt;\" class=\"margin-10px-bottom shadow\" height=\"310\" src=\"https://assets.passiton.com/quotes/quote_artwork/8112/medium/20200818_tuesday_quote.jpg?1597353822\" width=\"310\"/></a>\n",
       "<h5 class=\"value_on_red\"><a href=\"/inspirational-quotes/8112-when-something-bad-happens-you-have-three\">STRENGTH</a></h5>\n",
       "</div><div class=\"col-6 col-lg-3 text-center margin-30px-bottom sm-margin-30px-top\">\n",
       "<a href=\"/inspirational-quotes/8111-a-true-hero-isn-t-measured-by-the-size-of-their\"><img alt=\"A true hero isn’t measured by the size of their strength, but by the strength of their heart. #&lt;Author:0x00007f0fd743b758&gt;\" class=\"margin-10px-bottom shadow\" height=\"310\" src=\"https://assets.passiton.com/quotes/quote_artwork/8111/medium/20200817_monday_quote.jpg?1597353760\" width=\"310\"/></a>\n",
       "<h5 class=\"value_on_red\"><a href=\"/inspirational-quotes/8111-a-true-hero-isn-t-measured-by-the-size-of-their\">STRENGTH</a></h5>\n",
       "</div><div class=\"col-6 col-lg-3 text-center margin-30px-bottom sm-margin-30px-top\">\n",
       "<a href=\"/inspirational-quotes/8109-nature-has-been-for-me-for-as-long-as-i\"><img alt=\"Nature has been for me, for as long as I remember, a source of solace, inspiration, adventure, and delight; a home, a teacher, a companion. #&lt;Author:0x00007f0fd74b1e08&gt;\" class=\"margin-10px-bottom shadow\" height=\"310\" src=\"https://assets.passiton.com/quotes/quote_artwork/8109/medium/20200814_friday_quote.jpg?1596663210\" width=\"310\"/></a>\n",
       "<h5 class=\"value_on_red\"><a href=\"/inspirational-quotes/8109-nature-has-been-for-me-for-as-long-as-i\">APPRECIATING NATURE</a></h5>\n",
       "</div><div class=\"col-6 col-lg-3 text-center margin-30px-bottom sm-margin-30px-top\">\n",
       "<a href=\"/inspirational-quotes/8110-i-took-a-walk-in-the-woods-and-came-out-taller\"><img alt=\"I took a walk in the woods and came out taller than the trees. #&lt;Author:0x00007f0fd7515390&gt;\" class=\"margin-10px-bottom shadow\" height=\"310\" src=\"https://assets.passiton.com/quotes/quote_artwork/8110/medium/20200813_thursday_quote_alt2.jpg?1596841457\" width=\"310\"/></a>\n",
       "<h5 class=\"value_on_red\"><a href=\"/inspirational-quotes/8110-i-took-a-walk-in-the-woods-and-came-out-taller\">APPRECIATING NATURE</a></h5>\n",
       "</div><div class=\"col-6 col-lg-3 text-center margin-30px-bottom sm-margin-30px-top\">\n",
       "<a href=\"/inspirational-quotes/8108-there-is-something-infinitely-healing-in-the\"><img alt=\"There is something infinitely healing in the repeated refrains of nature – the assurance that dawn comes after night, and spring after winter. #&lt;Author:0x00007f0fd75614c0&gt;\" class=\"margin-10px-bottom shadow\" height=\"310\" src=\"https://assets.passiton.com/quotes/quote_artwork/8108/medium/rachel_carson_fixed.jpg?1597769516\" width=\"310\"/></a>\n",
       "<h5 class=\"value_on_red\"><a href=\"/inspirational-quotes/8108-there-is-something-infinitely-healing-in-the\">APPRECIATING NATURE</a></h5>\n",
       "</div><div class=\"col-6 col-lg-3 text-center margin-30px-bottom sm-margin-30px-top\">\n",
       "<a href=\"/inspirational-quotes/8107-a-walk-in-nature-walks-the-soul-back-home\"><img alt=\"A walk in nature, walks the soul back home. #&lt;Author:0x00007f0fd75ce5c0&gt;\" class=\"margin-10px-bottom shadow\" height=\"310\" src=\"https://assets.passiton.com/quotes/quote_artwork/8107/medium/20200811_tuesday_quote.jpg?1596663032\" width=\"310\"/></a>\n",
       "<h5 class=\"value_on_red\"><a href=\"/inspirational-quotes/8107-a-walk-in-nature-walks-the-soul-back-home\">APPRECIATING NATURE</a></h5>\n",
       "</div><div class=\"col-6 col-lg-3 text-center margin-30px-bottom sm-margin-30px-top\">\n",
       "<a href=\"/inspirational-quotes/7508-i-felt-my-lungs-inflate-with-the-onrush-of\"><img alt=\"I felt my lungs inflate with the onrush of scenery—air, mountains, trees, people. I thought, ‘This is what it is to be happy.’ #&lt;Author:0x00007f0fd765ba10&gt;\" class=\"margin-10px-bottom shadow\" height=\"310\" src=\"https://assets.passiton.com/quotes/quote_artwork/7508/medium/20200810_monday_quote.jpg?1596662943\" width=\"310\"/></a>\n",
       "<h5 class=\"value_on_red\"><a href=\"/inspirational-quotes/7508-i-felt-my-lungs-inflate-with-the-onrush-of\">APPRECIATING NATURE</a></h5>\n",
       "</div><div class=\"col-6 col-lg-3 text-center margin-30px-bottom sm-margin-30px-top\">\n",
       "<a href=\"/inspirational-quotes/4746-it-always-seems-impossible-until-its-done\"><img alt=\"It always seems impossible until its done. #&lt;Author:0x00007f0fd76d3f10&gt;\" class=\"margin-10px-bottom shadow\" height=\"310\" src=\"https://assets.passiton.com/quotes/quote_artwork/4746/medium/20200807_friday_quote.jpg?1596496094\" width=\"310\"/></a>\n",
       "<h5 class=\"value_on_red\"><a href=\"/inspirational-quotes/4746-it-always-seems-impossible-until-its-done\">PERSEVERANCE</a></h5>\n",
       "</div><div class=\"col-6 col-lg-3 text-center margin-30px-bottom sm-margin-30px-top\">\n",
       "<a href=\"/inspirational-quotes/8105-great-things-come-from-hard-work-and\"><img alt=\"Great things come from hard work and perseverance. No excuses. #&lt;Author:0x00007f0fd77296e0&gt;\" class=\"margin-10px-bottom shadow\" height=\"310\" src=\"https://assets.passiton.com/quotes/quote_artwork/8105/medium/20200806_thursday_quote.jpg?1596213320\" width=\"310\"/></a>\n",
       "<h5 class=\"value_on_red\"><a href=\"/inspirational-quotes/8105-great-things-come-from-hard-work-and\">PERSEVERANCE</a></h5>\n",
       "</div><div class=\"col-6 col-lg-3 text-center margin-30px-bottom sm-margin-30px-top\">\n",
       "<a href=\"/inspirational-quotes/3016-patience-and-perseverance-have-a-magical-effect\"><img alt=\"Patience and perseverance have a magical effect before which difficulties disappear and obstacles vanish. #&lt;Author:0x00007f0fd77d6c00&gt;\" class=\"margin-10px-bottom shadow\" height=\"310\" src=\"https://assets.passiton.com/quotes/quote_artwork/3016/medium/20200805_wednesday_quote.jpg?1596213293\" width=\"310\"/></a>\n",
       "<h5 class=\"value_on_red\"><a href=\"/inspirational-quotes/3016-patience-and-perseverance-have-a-magical-effect\">PERSEVERANCE</a></h5>\n",
       "</div><div class=\"col-6 col-lg-3 text-center margin-30px-bottom sm-margin-30px-top\">\n",
       "<a href=\"/inspirational-quotes/8104-today-if-anything-is-trying-to-hold-you-back\"><img alt=\"Today if anything is trying to hold you back, give no attention to it. Get your hopes up, get your faith up, look up, and get ready to rise up. #&lt;Author:0x00007f0fd7851d38&gt;\" class=\"margin-10px-bottom shadow\" height=\"310\" src=\"https://assets.passiton.com/quotes/quote_artwork/8104/medium/20200804_tuesday_quote.jpg?1596213265\" width=\"310\"/></a>\n",
       "<h5 class=\"value_on_red\"><a href=\"/inspirational-quotes/8104-today-if-anything-is-trying-to-hold-you-back\">PERSEVERANCE</a></h5>\n",
       "</div><div class=\"col-6 col-lg-3 text-center margin-30px-bottom sm-margin-30px-top\">\n",
       "<a href=\"/inspirational-quotes/3962-i-think-a-hero-is-an-ordinary-individual-who\"><img alt=\"I think a hero is an ordinary individual who finds strength to persevere and endure in spite of overwhelming obstacles. #&lt;Author:0x00007f0fd78f70a8&gt;\" class=\"margin-10px-bottom shadow\" height=\"310\" src=\"https://assets.passiton.com/quotes/quote_artwork/3962/medium/20200803_monday_quote.jpg?1596213242\" width=\"310\"/></a>\n",
       "<h5 class=\"value_on_red\"><a href=\"/inspirational-quotes/3962-i-think-a-hero-is-an-ordinary-individual-who\">PERSEVERANCE</a></h5>\n",
       "</div><div class=\"col-6 col-lg-3 text-center margin-30px-bottom sm-margin-30px-top\">\n",
       "<a href=\"/inspirational-quotes/3123-a-smile-starts-on-the-lips-a-grin-spreads-to\"><img alt=\"A smile starts on the lips, A grin spreads to the eyes, A chuckle comes from the belly; But a good laugh bursts forth from the soul, Overflows, and bubbles all around. #&lt;Author:0x00007f0fd7976ec0&gt;\" class=\"margin-10px-bottom shadow\" height=\"310\" src=\"https://assets.passiton.com/quotes/quote_artwork/3123/medium/20200331_friday_quote.jpg?1595634378\" width=\"310\"/></a>\n",
       "<h5 class=\"value_on_red\"><a href=\"/inspirational-quotes/3123-a-smile-starts-on-the-lips-a-grin-spreads-to\">LAUGHTER</a></h5>\n",
       "</div><div class=\"col-6 col-lg-3 text-center margin-30px-bottom sm-margin-30px-top\">\n",
       "<a href=\"/inspirational-quotes/8051-in-this-world-a-good-time-to-laugh-is-any-time\"><img alt=\"In this world, a good time to laugh is any time you can.  #&lt;Author:0x00007f0fd7a25808&gt;\" class=\"margin-10px-bottom shadow\" height=\"310\" src=\"https://assets.passiton.com/quotes/quote_artwork/8051/medium/20200330_thursday_quote.jpg?1595634324\" width=\"310\"/></a>\n",
       "<h5 class=\"value_on_red\"><a href=\"/inspirational-quotes/8051-in-this-world-a-good-time-to-laugh-is-any-time\">LAUGHTER</a></h5>\n",
       "</div><div class=\"col-6 col-lg-3 text-center margin-30px-bottom sm-margin-30px-top\">\n",
       "<a href=\"/inspirational-quotes/6829-to-thrive-in-life-you-need-three-bones-a\"><img alt=\"To thrive in life you need three bones. A wishbone. A backbone. And a funny bone. #&lt;Author:0x00007f0fd7abe6e8&gt;\" class=\"margin-10px-bottom shadow\" height=\"310\" src=\"https://assets.passiton.com/quotes/quote_artwork/6829/medium/20200329_wednesday_quote.jpg?1595634221\" width=\"310\"/></a>\n",
       "<h5 class=\"value_on_red\"><a href=\"/inspirational-quotes/6829-to-thrive-in-life-you-need-three-bones-a\">LAUGHTER</a></h5>\n",
       "</div><div class=\"col-6 col-lg-3 text-center margin-30px-bottom sm-margin-30px-top\">\n",
       "<a href=\"/inspirational-quotes/7465-what-soap-is-to-the-body-laughter-is-to-the-soul\"><img alt=\"What soap is to the body, laughter is to the soul. #&lt;Author:0x00007f0fd7b40418&gt;\" class=\"margin-10px-bottom shadow\" height=\"310\" src=\"https://assets.passiton.com/quotes/quote_artwork/7465/medium/20200328_tuesday_quote.jpg?1595634197\" width=\"310\"/></a>\n",
       "<h5 class=\"value_on_red\"><a href=\"/inspirational-quotes/7465-what-soap-is-to-the-body-laughter-is-to-the-soul\">LAUGHTER</a></h5>\n",
       "</div><div class=\"col-6 col-lg-3 text-center margin-30px-bottom sm-margin-30px-top\">\n",
       "<a href=\"/inspirational-quotes/8050-i-honestly-think-its-the-thing-i-like-most-to\"><img alt=\"I honestly think it's the thing I like most, to laugh. It cures a multitude of ills. It's probably the most important thing in a person. #&lt;Author:0x00007f0fd7bc8e58&gt;\" class=\"margin-10px-bottom shadow\" height=\"310\" src=\"https://assets.passiton.com/quotes/quote_artwork/8050/medium/20200327_monday_quote.jpg?1595634171\" width=\"310\"/></a>\n",
       "<h5 class=\"value_on_red\"><a href=\"/inspirational-quotes/8050-i-honestly-think-its-the-thing-i-like-most-to\">LAUGHTER</a></h5>\n",
       "</div>\n",
       "</div>\n",
       "<div class=\"row\">\n",
       "<div class=\"col-12 text-center\">\n",
       "<div class=\"quotes_pagination\"><span class=\"previous_page disabled\">← Previous</span> <em class=\"current\">1</em> <a href=\"/inspirational-quotes?page=2\" rel=\"next\">2</a> <a href=\"/inspirational-quotes?page=3\">3</a> <a href=\"/inspirational-quotes?page=4\">4</a> <a href=\"/inspirational-quotes?page=5\">5</a> <a href=\"/inspirational-quotes?page=6\">6</a> <a href=\"/inspirational-quotes?page=7\">7</a> <a href=\"/inspirational-quotes?page=8\">8</a> <a href=\"/inspirational-quotes?page=9\">9</a> <span class=\"gap\">…</span> <a href=\"/inspirational-quotes?page=118\">118</a> <a href=\"/inspirational-quotes?page=119\">119</a> <a class=\"next_page\" href=\"/inspirational-quotes?page=2\" rel=\"next\">Next →</a></div>\n",
       "</div>\n",
       "</div>\n",
       "</div>\n",
       "</section>\n",
       "<footer class=\"footer-classic-dark bg-extra-dark-gray padding-five-bottom sm-padding-30px-bottom\">\n",
       "<div class=\"bg-dark-footer padding-50px-tb sm-padding-30px-tb\">\n",
       "<div class=\"container\">\n",
       "<div class=\"row align-items-center\">\n",
       "<div class=\"col-lg-4 col-md-5 text-center alt-font sm-margin-15px-bottom\">\n",
       "                    Pass It On<sup>®</sup>\n",
       "</div>\n",
       "<div class=\"col-lg-4 col-md-2 text-center sm-margin-10px-bottom\">\n",
       "<a href=\"/\"><img alt=\"The Foundation for a Better Life\" class=\"footer-logo\" data-rjs=\"/assets/site/fbl_logo-b50da7cb3567063fca4dec74f28f07c4.png\" src=\"/assets/site/fbl_logo-b50da7cb3567063fca4dec74f28f07c4.png\"/></a>\n",
       "</div>\n",
       "<div class=\"col-lg-4 col-md-5 text-center\">\n",
       "<span class=\"alt-font margin-20px-right\">Follow us on social</span>\n",
       "<div class=\"social-icon-style-8 d-inline-block vertical-align-middle\">\n",
       "<ul class=\"small-icon mb-0\">\n",
       "<li><a class=\"facebook text-white-2\" href=\"https://www.facebook.com/valuescom\" target=\"_blank\"><i aria-hidden=\"true\" class=\"fab fa-facebook-f\"></i></a></li>\n",
       "<li><a class=\"twitter text-white-2\" href=\"https://twitter.com/passiton_values\" target=\"_blank\"><i class=\"fab fa-twitter\"></i></a></li>\n",
       "<li><a class=\"instagram text-white-2\" href=\"https://www.instagram.com/passiton_values/\" target=\"_blank\"><i aria-hidden=\"true\" class=\"fab fa-instagram no-margin-right\"></i></a></li>\n",
       "<li><a class=\"pinterest text-white-2\" href=\"https://www.pinterest.com/passiton_values/\" target=\"_blank\"><i aria-hidden=\"true\" class=\"fab fa-pinterest no-margin-right\"></i></a></li>\n",
       "<li><a class=\"youtube text-white-2\" href=\"https://www.youtube.com/c/passiton_values\" target=\"_blank\"><i aria-hidden=\"true\" class=\"fab fa-youtube no-margin-right\"></i></a></li>\n",
       "</ul>\n",
       "</div>\n",
       "</div>\n",
       "</div>\n",
       "</div>\n",
       "</div>\n",
       "<div class=\"footer-widget-area padding-five-top padding-30px-bottom sm-padding-30px-top\">\n",
       "<div class=\"container\">\n",
       "<div class=\"row\">\n",
       "<div class=\"col-lg-3 col-md-6 widget border-right border-color-medium-dark-gray padding-45px-left md-padding-15px-left md-no-border-right md-margin-30px-bottom text-center text-md-left\">\n",
       "<div class=\"widget-title alt-font text-small text-medium-gray text-uppercase margin-10px-bottom font-weight-600\">About Us</div>\n",
       "<ul class=\"list-unstyled\">\n",
       "<li><a class=\"text-small\" href=\"/who-we-are\">About The Foundation for a Better Life</a></li>\n",
       "<li><a class=\"text-small\" href=\"/faqs\">FAQs</a></li>\n",
       "<li><a class=\"text-small\" href=\"/foundation-recognition\">Foundation Recognition</a></li>\n",
       "<li><a class=\"text-small\" href=\"/contact-us\">Contact Us</a></li>\n",
       "</ul>\n",
       "</div>\n",
       "<div class=\"col-lg-3 col-md-6 widget border-right border-color-medium-dark-gray padding-45px-left md-padding-15px-left md-no-border-right md-margin-30px-bottom text-center text-md-left\">\n",
       "<div class=\"widget-title alt-font text-small text-medium-gray text-uppercase margin-10px-bottom font-weight-600\">Be Inspired</div>\n",
       "<ul class=\"list-unstyled\">\n",
       "<li><a class=\"text-small\" href=\"/teaching-values\">Teaching Values</a></li>\n",
       "<li><a class=\"text-small\" href=\"/inspirational-quotes\">Inspirational Quotations</a></li>\n",
       "<li><a class=\"text-small\" href=\"/inspirational-stories-tv-spots\">Pass It On® Videos</a></li>\n",
       "<li><a class=\"text-small\" href=\"/your-everyday-heroes\">Who's Your Hero Stories</a></li>\n",
       "<li><a class=\"text-small\" href=\"/inspirational-sayings-billboards\">Official Billboard Campaign</a></li>\n",
       "<li><a class=\"text-small\" href=\"/your-billboards\">Create Your Own Billboard</a></li>\n",
       "<li><a class=\"text-small\" href=\"/radio\">Radio Ads</a></li>\n",
       "<li><a class=\"text-small\" href=\"/passiton-blog\">Pass It On® Blog</a></li>\n",
       "<li><a class=\"text-small\" href=\"/inspirational-audio-stories\">Podcasts</a></li>\n",
       "<li><a class=\"text-small\" href=\"/pass-it-on-ecards\">Send an Ecard</a></li>\n",
       "</ul>\n",
       "</div>\n",
       "<div class=\"col-lg-3 col-md-6 widget border-right border-color-medium-dark-gray padding-45px-left md-padding-15px-left md-no-border-right md-margin-30px-bottom text-center text-md-left\">\n",
       "<div class=\"widget-title alt-font text-small text-medium-gray text-uppercase margin-10px-bottom font-weight-600\">For Schools</div>\n",
       "<ul class=\"list-unstyled\">\n",
       "<li><a class=\"text-small\" href=\"/poster-requests/new\">Free Posters &amp; DVD for Schools</a></li>\n",
       "<li><a class=\"text-small\" href=\"/pass-it-on-downloads\">Downloads</a></li>\n",
       "</ul>\n",
       "</div>\n",
       "<div class=\"col-lg-3 col-md-6 widget padding-45px-left md-padding-15px-left md-no-border-right md-margin-30px-bottom text-center text-md-left\">\n",
       "<div class=\"widget-title alt-font text-small text-medium-gray text-uppercase margin-10px-bottom font-weight-600\">For Media Companies</div>\n",
       "<ul class=\"list-unstyled\">\n",
       "<li><a class=\"text-small\" href=\"/for-media-companies\">For Media Companies</a></li>\n",
       "<li><a class=\"text-small\" href=\"https://www.passiton-media.com\">Broadcast Quality PSA Downloads</a></li>\n",
       "<li><a class=\"text-small\" href=\"https://www.passiton-media.com\">Pass It On Radio Ads</a></li>\n",
       "<li><a class=\"text-small\" href=\"https://www.passiton-media.com\">Live Reads</a></li>\n",
       "<li><a class=\"text-small\" href=\"https://www.passiton-media.com\">Out of Home Materials</a></li>\n",
       "</ul>\n",
       "<div class=\"row sm-margin-30px-top\">\n",
       "<div class=\"col-lg-4\">\n",
       "<a href=\"/\"><img alt=\"Values logo\" src=\"/assets/site/values_logo-cd29ec5f2f086673ac42962263d07e02.png\" style=\"max-width: 70px;\"/></a>\n",
       "</div>\n",
       "<div class=\"col-lg-7\">\n",
       "<p class=\"text-medium-gray text-small padding-10px-top\">VALUES.COM<small>®</small> is now PassItOn.com<small>®</small></p>\n",
       "</div>\n",
       "</div>\n",
       "</div>\n",
       "</div>\n",
       "</div>\n",
       "</div>\n",
       "<div class=\"container\">\n",
       "<div class=\"footer-bottom border-top border-color-medium-dark-gray padding-30px-top\">\n",
       "<div class=\"row\">\n",
       "<div class=\"col-lg-6 col-md-6 text-small text-md-left text-center\">©2000-2020 The Foundation for a Better Life.</div>\n",
       "<div class=\"col-lg-6 col-md-6 text-small text-md-right text-center\"><a href=\"/privacy-policy\">Privacy Policy</a>   |   <a href=\"/terms-of-use\">Terms of Use</a></div>\n",
       "</div>\n",
       "</div>\n",
       "</div>\n",
       "</footer>\n",
       "<a class=\"scroll-top-arrow\" href=\"javascript:void(0);\"><i class=\"ti-arrow-up\"></i></a>\n",
       "<script src=\"https://cdnjs.cloudflare.com/ajax/libs/jquery/1.12.4/jquery.js\"></script>\n",
       "<script crossorigin=\"anonymous\" integrity=\"sha384-UO2eT0CpHqdSJQ6hJty5KVphtPhzWj9WO1clHTMGa3JDZwrnQq4sF86dIHNDz0W1\" src=\"https://cdnjs.cloudflare.com/ajax/libs/popper.js/1.14.7/umd/popper.min.js\"></script>\n",
       "<script crossorigin=\"anonymous\" integrity=\"sha384-JjSmVgyd0p3pXB1rRibZUAYoIIy6OrQ6VrjIEaFf/nJGzIxFDsf4x0xIM+B07jRM\" src=\"https://stackpath.bootstrapcdn.com/bootstrap/4.3.1/js/bootstrap.min.js\"></script>\n",
       "<script src=\"/assets/pofo-3d0d89a27285d93c09e0f4c1fc85cead.js\"></script>\n",
       "</body>\n",
       "</html>"
      ]
     },
     "execution_count": 40,
     "metadata": {},
     "output_type": "execute_result"
    }
   ],
   "source": [
    "quotes_soup"
   ]
  },
  {
   "cell_type": "code",
   "execution_count": 41,
   "metadata": {},
   "outputs": [],
   "source": [
    "all_quotes = quotes_soup.find('div',{'id':'all_quotes'})"
   ]
  },
  {
   "cell_type": "code",
   "execution_count": 42,
   "metadata": {},
   "outputs": [
    {
     "data": {
      "text/plain": [
       "<div class=\"row\" id=\"all_quotes\">\n",
       "<div class=\"col-6 col-lg-3 text-center margin-30px-bottom sm-margin-30px-top\">\n",
       "<a href=\"/inspirational-quotes/8127-exercise-to-be-fit-not-skinny\"><img alt=\"Exercise to be fit, not skinny. #&lt;Author:0x00007f0fd6fe5870&gt;\" class=\"margin-10px-bottom shadow\" height=\"310\" src=\"https://assets.passiton.com/quotes/quote_artwork/8127/medium/20200908_tuesday_quote.jpg?1599169757\" width=\"310\"/></a>\n",
       "<h5 class=\"value_on_red\"><a href=\"/inspirational-quotes/8127-exercise-to-be-fit-not-skinny\">HEALTH</a></h5>\n",
       "</div><div class=\"col-6 col-lg-3 text-center margin-30px-bottom sm-margin-30px-top\">\n",
       "<a href=\"/inspirational-quotes/8123-it-s-up-to-you-today-to-start-making-healthy\"><img alt=\"It’s up to you today to start making healthy choices. Not choices that are just healthy for your body, but healthy for your mind. #&lt;Author:0x00007f0fd7020268&gt;\" class=\"margin-10px-bottom shadow\" height=\"310\" src=\"https://assets.passiton.com/quotes/quote_artwork/8123/medium/20200907_monday_quote.jpg?1599090027\" width=\"310\"/></a>\n",
       "<h5 class=\"value_on_red\"><a href=\"/inspirational-quotes/8123-it-s-up-to-you-today-to-start-making-healthy\">HEALTH</a></h5>\n",
       "</div><div class=\"col-6 col-lg-3 text-center margin-30px-bottom sm-margin-30px-top\">\n",
       "<a href=\"/inspirational-quotes/7808-creativity-involves-breaking-out-of-established\"><img alt=\"Creativity involves breaking out of established patterns in order to look at things in a different way. #&lt;Author:0x00007f0fd7059400&gt;\" class=\"margin-10px-bottom shadow\" height=\"310\" src=\"https://assets.passiton.com/quotes/quote_artwork/7808/medium/20200904_friday_quote.jpg?1598565715\" width=\"310\"/></a>\n",
       "<h5 class=\"value_on_red\"><a href=\"/inspirational-quotes/7808-creativity-involves-breaking-out-of-established\">CREATIVITY</a></h5>\n",
       "</div><div class=\"col-6 col-lg-3 text-center margin-30px-bottom sm-margin-30px-top\">\n",
       "<a href=\"/inspirational-quotes/7812-curiosity-about-life-in-all-of-its-aspects-i\"><img alt=\"Curiosity about life in all of its aspects, I think, is still the secret of great creative people. #&lt;Author:0x00007f0fd70983a8&gt;\" class=\"margin-10px-bottom shadow\" height=\"310\" src=\"https://assets.passiton.com/quotes/quote_artwork/7812/medium/20200903_thursday_quote.jpg?1598565687\" width=\"310\"/></a>\n",
       "<h5 class=\"value_on_red\"><a href=\"/inspirational-quotes/7812-curiosity-about-life-in-all-of-its-aspects-i\">CREATIVITY</a></h5>\n",
       "</div><div class=\"col-6 col-lg-3 text-center margin-30px-bottom sm-margin-30px-top\">\n",
       "<a href=\"/inspirational-quotes/8122-happiness-lies-in-the-joy-of-achievement-and\"><img alt=\"Happiness lies in the joy of achievement and the thrill of creative effort. #&lt;Author:0x00007f0fd70d8d40&gt;\" class=\"margin-10px-bottom shadow\" height=\"310\" src=\"https://assets.passiton.com/quotes/quote_artwork/8122/medium/20200902_wednesday_quote.jpg?1598565656\" width=\"310\"/></a>\n",
       "<h5 class=\"value_on_red\"><a href=\"/inspirational-quotes/8122-happiness-lies-in-the-joy-of-achievement-and\">CREATIVITY</a></h5>\n",
       "</div><div class=\"col-6 col-lg-3 text-center margin-30px-bottom sm-margin-30px-top\">\n",
       "<a href=\"/inspirational-quotes/8121-create-what-sets-your-heart-on-fire-and-it-will\"><img alt=\"Create what sets your heart on fire and it will illuminate the path ahead. #&lt;Author:0x00007f0fd712b900&gt;\" class=\"margin-10px-bottom shadow\" height=\"310\" src=\"https://assets.passiton.com/quotes/quote_artwork/8121/medium/20200901_tuesday_quote.jpg?1598565635\" width=\"310\"/></a>\n",
       "<h5 class=\"value_on_red\"><a href=\"/inspirational-quotes/8121-create-what-sets-your-heart-on-fire-and-it-will\">CREATIVITY</a></h5>\n",
       "</div><div class=\"col-6 col-lg-3 text-center margin-30px-bottom sm-margin-30px-top\">\n",
       "<a href=\"/inspirational-quotes/8120-creativity-is-the-way-i-share-my-soul-with-the\"><img alt=\"Creativity is the way I share my soul with the world. #&lt;Author:0x00007f0fd7167ea0&gt;\" class=\"margin-10px-bottom shadow\" height=\"310\" src=\"https://assets.passiton.com/quotes/quote_artwork/8120/medium/20200831_monday_quote.jpg?1598565613\" width=\"310\"/></a>\n",
       "<h5 class=\"value_on_red\"><a href=\"/inspirational-quotes/8120-creativity-is-the-way-i-share-my-soul-with-the\">CREATIVITY</a></h5>\n",
       "</div><div class=\"col-6 col-lg-3 text-center margin-30px-bottom sm-margin-30px-top\">\n",
       "<a href=\"/inspirational-quotes/8118-kindness-isnt-sacrifice-so-much-as-it-is-being\"><img alt=\"Kindness isn't sacrifice so much as it is being considerate for the feelings of others, sharing happiness, the unselfish thought, the spontaneous and friendly act, forgetfulness of our own present interests.  #&lt;Author:0x00007f0fd71a0458&gt;\" class=\"margin-10px-bottom shadow\" height=\"310\" src=\"https://assets.passiton.com/quotes/quote_artwork/8118/medium/20200828_friday_quote.jpg?1597869672\" width=\"310\"/></a>\n",
       "<h5 class=\"value_on_red\"><a href=\"/inspirational-quotes/8118-kindness-isnt-sacrifice-so-much-as-it-is-being\">COURTESY</a></h5>\n",
       "</div><div class=\"col-6 col-lg-3 text-center margin-30px-bottom sm-margin-30px-top\">\n",
       "<a href=\"/inspirational-quotes/8117-take-care-be-kind-be-considerate-of-other\"><img alt=\"Take care, be kind, be considerate of other people and other species, and be loving. #&lt;Author:0x00007f0fd71e8cd0&gt;\" class=\"margin-10px-bottom shadow\" height=\"310\" src=\"https://assets.passiton.com/quotes/quote_artwork/8117/medium/20200827_thursday_quote.jpg?1597869639\" width=\"310\"/></a>\n",
       "<h5 class=\"value_on_red\"><a href=\"/inspirational-quotes/8117-take-care-be-kind-be-considerate-of-other\">COURTESY</a></h5>\n",
       "</div><div class=\"col-6 col-lg-3 text-center margin-30px-bottom sm-margin-30px-top\">\n",
       "<a href=\"/inspirational-quotes/8116-real-strength-entails-being-considerate-and\"><img alt=\"Real strength entails being considerate and supportive of people's feelings. #&lt;Author:0x00007f0fd7222f20&gt;\" class=\"margin-10px-bottom shadow\" height=\"310\" src=\"https://assets.passiton.com/quotes/quote_artwork/8116/medium/20200826_wednesday_quote.jpg?1597869555\" width=\"310\"/></a>\n",
       "<h5 class=\"value_on_red\"><a href=\"/inspirational-quotes/8116-real-strength-entails-being-considerate-and\">COURTESY</a></h5>\n",
       "</div><div class=\"col-6 col-lg-3 text-center margin-30px-bottom sm-margin-30px-top\">\n",
       "<a href=\"/inspirational-quotes/8119-life-is-short-but-there-is-always-time-enough\"><img alt=\"Life is short but there is always time enough for courtesy. #&lt;Author:0x00007f0fd7260190&gt;\" class=\"margin-10px-bottom shadow\" height=\"310\" src=\"https://assets.passiton.com/quotes/quote_artwork/8119/medium/20200825_tuesday_quote.jpg?1597869487\" width=\"310\"/></a>\n",
       "<h5 class=\"value_on_red\"><a href=\"/inspirational-quotes/8119-life-is-short-but-there-is-always-time-enough\">COURTESY</a></h5>\n",
       "</div><div class=\"col-6 col-lg-3 text-center margin-30px-bottom sm-margin-30px-top\">\n",
       "<a href=\"/inspirational-quotes/7795-a-tree-is-known-by-its-fruit-a-person-by-their\"><img alt=\"A tree is known by its fruit; a person by their deeds. A good deed is never lost; whoever sows courtesy reaps friendship, and whoever plants kindness gathers love. #&lt;Author:0x00007f0fd72c6b70&gt;\" class=\"margin-10px-bottom shadow\" height=\"310\" src=\"https://assets.passiton.com/quotes/quote_artwork/7795/medium/20200824_monday_quote.jpg?1597868996\" width=\"310\"/></a>\n",
       "<h5 class=\"value_on_red\"><a href=\"/inspirational-quotes/7795-a-tree-is-known-by-its-fruit-a-person-by-their\">COURTESY</a></h5>\n",
       "</div><div class=\"col-6 col-lg-3 text-center margin-30px-bottom sm-margin-30px-top\">\n",
       "<a href=\"/inspirational-quotes/8114-if-you-were-born-with-the-weakness-to-fall-you\"><img alt=\"If you were born with the weakness to fall. You were born with the strength to rise. #&lt;Author:0x00007f0fd7312ae8&gt;\" class=\"margin-10px-bottom shadow\" height=\"310\" src=\"https://assets.passiton.com/quotes/quote_artwork/8114/medium/20200821_friday_quote.jpg?1597353972\" width=\"310\"/></a>\n",
       "<h5 class=\"value_on_red\"><a href=\"/inspirational-quotes/8114-if-you-were-born-with-the-weakness-to-fall-you\">STRENGTH</a></h5>\n",
       "</div><div class=\"col-6 col-lg-3 text-center margin-30px-bottom sm-margin-30px-top\">\n",
       "<a href=\"/inspirational-quotes/6926-maybe-who-we-are-isnt-so-much-about-what-we-do\"><img alt=\"Maybe who we are isn't so much about what we do, but rather what we're capable of when we least expect it. #&lt;Author:0x00007f0fd736d7b8&gt;\" class=\"margin-10px-bottom shadow\" height=\"310\" src=\"https://assets.passiton.com/quotes/quote_artwork/6926/medium/20200820_thursday_quote.jpg?1597353926\" width=\"310\"/></a>\n",
       "<h5 class=\"value_on_red\"><a href=\"/inspirational-quotes/6926-maybe-who-we-are-isnt-so-much-about-what-we-do\">STRENGTH</a></h5>\n",
       "</div><div class=\"col-6 col-lg-3 text-center margin-30px-bottom sm-margin-30px-top\">\n",
       "<a href=\"/inspirational-quotes/8113-for-what-it-s-worth-it-s-never-too-late-to-be\"><img alt=\"For what it’s worth: It’s never too late to be whoever you want to be. I hope you live a life you’re proud of, and if you find you’re not, I hope you have the strength to start over again. #&lt;Author:0x00007f0fd73a87a0&gt;\" class=\"margin-10px-bottom shadow\" height=\"310\" src=\"https://assets.passiton.com/quotes/quote_artwork/8113/medium/20200819_wednesday_quote.jpg?1597353876\" width=\"310\"/></a>\n",
       "<h5 class=\"value_on_red\"><a href=\"/inspirational-quotes/8113-for-what-it-s-worth-it-s-never-too-late-to-be\">STRENGTH</a></h5>\n",
       "</div><div class=\"col-6 col-lg-3 text-center margin-30px-bottom sm-margin-30px-top\">\n",
       "<a href=\"/inspirational-quotes/8112-when-something-bad-happens-you-have-three\"><img alt=\"When something bad happens you have three choices. You can let it define you, let it destroy you, or you can let it strengthen you. #&lt;Author:0x00007f0fd73f2be8&gt;\" class=\"margin-10px-bottom shadow\" height=\"310\" src=\"https://assets.passiton.com/quotes/quote_artwork/8112/medium/20200818_tuesday_quote.jpg?1597353822\" width=\"310\"/></a>\n",
       "<h5 class=\"value_on_red\"><a href=\"/inspirational-quotes/8112-when-something-bad-happens-you-have-three\">STRENGTH</a></h5>\n",
       "</div><div class=\"col-6 col-lg-3 text-center margin-30px-bottom sm-margin-30px-top\">\n",
       "<a href=\"/inspirational-quotes/8111-a-true-hero-isn-t-measured-by-the-size-of-their\"><img alt=\"A true hero isn’t measured by the size of their strength, but by the strength of their heart. #&lt;Author:0x00007f0fd743b758&gt;\" class=\"margin-10px-bottom shadow\" height=\"310\" src=\"https://assets.passiton.com/quotes/quote_artwork/8111/medium/20200817_monday_quote.jpg?1597353760\" width=\"310\"/></a>\n",
       "<h5 class=\"value_on_red\"><a href=\"/inspirational-quotes/8111-a-true-hero-isn-t-measured-by-the-size-of-their\">STRENGTH</a></h5>\n",
       "</div><div class=\"col-6 col-lg-3 text-center margin-30px-bottom sm-margin-30px-top\">\n",
       "<a href=\"/inspirational-quotes/8109-nature-has-been-for-me-for-as-long-as-i\"><img alt=\"Nature has been for me, for as long as I remember, a source of solace, inspiration, adventure, and delight; a home, a teacher, a companion. #&lt;Author:0x00007f0fd74b1e08&gt;\" class=\"margin-10px-bottom shadow\" height=\"310\" src=\"https://assets.passiton.com/quotes/quote_artwork/8109/medium/20200814_friday_quote.jpg?1596663210\" width=\"310\"/></a>\n",
       "<h5 class=\"value_on_red\"><a href=\"/inspirational-quotes/8109-nature-has-been-for-me-for-as-long-as-i\">APPRECIATING NATURE</a></h5>\n",
       "</div><div class=\"col-6 col-lg-3 text-center margin-30px-bottom sm-margin-30px-top\">\n",
       "<a href=\"/inspirational-quotes/8110-i-took-a-walk-in-the-woods-and-came-out-taller\"><img alt=\"I took a walk in the woods and came out taller than the trees. #&lt;Author:0x00007f0fd7515390&gt;\" class=\"margin-10px-bottom shadow\" height=\"310\" src=\"https://assets.passiton.com/quotes/quote_artwork/8110/medium/20200813_thursday_quote_alt2.jpg?1596841457\" width=\"310\"/></a>\n",
       "<h5 class=\"value_on_red\"><a href=\"/inspirational-quotes/8110-i-took-a-walk-in-the-woods-and-came-out-taller\">APPRECIATING NATURE</a></h5>\n",
       "</div><div class=\"col-6 col-lg-3 text-center margin-30px-bottom sm-margin-30px-top\">\n",
       "<a href=\"/inspirational-quotes/8108-there-is-something-infinitely-healing-in-the\"><img alt=\"There is something infinitely healing in the repeated refrains of nature – the assurance that dawn comes after night, and spring after winter. #&lt;Author:0x00007f0fd75614c0&gt;\" class=\"margin-10px-bottom shadow\" height=\"310\" src=\"https://assets.passiton.com/quotes/quote_artwork/8108/medium/rachel_carson_fixed.jpg?1597769516\" width=\"310\"/></a>\n",
       "<h5 class=\"value_on_red\"><a href=\"/inspirational-quotes/8108-there-is-something-infinitely-healing-in-the\">APPRECIATING NATURE</a></h5>\n",
       "</div><div class=\"col-6 col-lg-3 text-center margin-30px-bottom sm-margin-30px-top\">\n",
       "<a href=\"/inspirational-quotes/8107-a-walk-in-nature-walks-the-soul-back-home\"><img alt=\"A walk in nature, walks the soul back home. #&lt;Author:0x00007f0fd75ce5c0&gt;\" class=\"margin-10px-bottom shadow\" height=\"310\" src=\"https://assets.passiton.com/quotes/quote_artwork/8107/medium/20200811_tuesday_quote.jpg?1596663032\" width=\"310\"/></a>\n",
       "<h5 class=\"value_on_red\"><a href=\"/inspirational-quotes/8107-a-walk-in-nature-walks-the-soul-back-home\">APPRECIATING NATURE</a></h5>\n",
       "</div><div class=\"col-6 col-lg-3 text-center margin-30px-bottom sm-margin-30px-top\">\n",
       "<a href=\"/inspirational-quotes/7508-i-felt-my-lungs-inflate-with-the-onrush-of\"><img alt=\"I felt my lungs inflate with the onrush of scenery—air, mountains, trees, people. I thought, ‘This is what it is to be happy.’ #&lt;Author:0x00007f0fd765ba10&gt;\" class=\"margin-10px-bottom shadow\" height=\"310\" src=\"https://assets.passiton.com/quotes/quote_artwork/7508/medium/20200810_monday_quote.jpg?1596662943\" width=\"310\"/></a>\n",
       "<h5 class=\"value_on_red\"><a href=\"/inspirational-quotes/7508-i-felt-my-lungs-inflate-with-the-onrush-of\">APPRECIATING NATURE</a></h5>\n",
       "</div><div class=\"col-6 col-lg-3 text-center margin-30px-bottom sm-margin-30px-top\">\n",
       "<a href=\"/inspirational-quotes/4746-it-always-seems-impossible-until-its-done\"><img alt=\"It always seems impossible until its done. #&lt;Author:0x00007f0fd76d3f10&gt;\" class=\"margin-10px-bottom shadow\" height=\"310\" src=\"https://assets.passiton.com/quotes/quote_artwork/4746/medium/20200807_friday_quote.jpg?1596496094\" width=\"310\"/></a>\n",
       "<h5 class=\"value_on_red\"><a href=\"/inspirational-quotes/4746-it-always-seems-impossible-until-its-done\">PERSEVERANCE</a></h5>\n",
       "</div><div class=\"col-6 col-lg-3 text-center margin-30px-bottom sm-margin-30px-top\">\n",
       "<a href=\"/inspirational-quotes/8105-great-things-come-from-hard-work-and\"><img alt=\"Great things come from hard work and perseverance. No excuses. #&lt;Author:0x00007f0fd77296e0&gt;\" class=\"margin-10px-bottom shadow\" height=\"310\" src=\"https://assets.passiton.com/quotes/quote_artwork/8105/medium/20200806_thursday_quote.jpg?1596213320\" width=\"310\"/></a>\n",
       "<h5 class=\"value_on_red\"><a href=\"/inspirational-quotes/8105-great-things-come-from-hard-work-and\">PERSEVERANCE</a></h5>\n",
       "</div><div class=\"col-6 col-lg-3 text-center margin-30px-bottom sm-margin-30px-top\">\n",
       "<a href=\"/inspirational-quotes/3016-patience-and-perseverance-have-a-magical-effect\"><img alt=\"Patience and perseverance have a magical effect before which difficulties disappear and obstacles vanish. #&lt;Author:0x00007f0fd77d6c00&gt;\" class=\"margin-10px-bottom shadow\" height=\"310\" src=\"https://assets.passiton.com/quotes/quote_artwork/3016/medium/20200805_wednesday_quote.jpg?1596213293\" width=\"310\"/></a>\n",
       "<h5 class=\"value_on_red\"><a href=\"/inspirational-quotes/3016-patience-and-perseverance-have-a-magical-effect\">PERSEVERANCE</a></h5>\n",
       "</div><div class=\"col-6 col-lg-3 text-center margin-30px-bottom sm-margin-30px-top\">\n",
       "<a href=\"/inspirational-quotes/8104-today-if-anything-is-trying-to-hold-you-back\"><img alt=\"Today if anything is trying to hold you back, give no attention to it. Get your hopes up, get your faith up, look up, and get ready to rise up. #&lt;Author:0x00007f0fd7851d38&gt;\" class=\"margin-10px-bottom shadow\" height=\"310\" src=\"https://assets.passiton.com/quotes/quote_artwork/8104/medium/20200804_tuesday_quote.jpg?1596213265\" width=\"310\"/></a>\n",
       "<h5 class=\"value_on_red\"><a href=\"/inspirational-quotes/8104-today-if-anything-is-trying-to-hold-you-back\">PERSEVERANCE</a></h5>\n",
       "</div><div class=\"col-6 col-lg-3 text-center margin-30px-bottom sm-margin-30px-top\">\n",
       "<a href=\"/inspirational-quotes/3962-i-think-a-hero-is-an-ordinary-individual-who\"><img alt=\"I think a hero is an ordinary individual who finds strength to persevere and endure in spite of overwhelming obstacles. #&lt;Author:0x00007f0fd78f70a8&gt;\" class=\"margin-10px-bottom shadow\" height=\"310\" src=\"https://assets.passiton.com/quotes/quote_artwork/3962/medium/20200803_monday_quote.jpg?1596213242\" width=\"310\"/></a>\n",
       "<h5 class=\"value_on_red\"><a href=\"/inspirational-quotes/3962-i-think-a-hero-is-an-ordinary-individual-who\">PERSEVERANCE</a></h5>\n",
       "</div><div class=\"col-6 col-lg-3 text-center margin-30px-bottom sm-margin-30px-top\">\n",
       "<a href=\"/inspirational-quotes/3123-a-smile-starts-on-the-lips-a-grin-spreads-to\"><img alt=\"A smile starts on the lips, A grin spreads to the eyes, A chuckle comes from the belly; But a good laugh bursts forth from the soul, Overflows, and bubbles all around. #&lt;Author:0x00007f0fd7976ec0&gt;\" class=\"margin-10px-bottom shadow\" height=\"310\" src=\"https://assets.passiton.com/quotes/quote_artwork/3123/medium/20200331_friday_quote.jpg?1595634378\" width=\"310\"/></a>\n",
       "<h5 class=\"value_on_red\"><a href=\"/inspirational-quotes/3123-a-smile-starts-on-the-lips-a-grin-spreads-to\">LAUGHTER</a></h5>\n",
       "</div><div class=\"col-6 col-lg-3 text-center margin-30px-bottom sm-margin-30px-top\">\n",
       "<a href=\"/inspirational-quotes/8051-in-this-world-a-good-time-to-laugh-is-any-time\"><img alt=\"In this world, a good time to laugh is any time you can.  #&lt;Author:0x00007f0fd7a25808&gt;\" class=\"margin-10px-bottom shadow\" height=\"310\" src=\"https://assets.passiton.com/quotes/quote_artwork/8051/medium/20200330_thursday_quote.jpg?1595634324\" width=\"310\"/></a>\n",
       "<h5 class=\"value_on_red\"><a href=\"/inspirational-quotes/8051-in-this-world-a-good-time-to-laugh-is-any-time\">LAUGHTER</a></h5>\n",
       "</div><div class=\"col-6 col-lg-3 text-center margin-30px-bottom sm-margin-30px-top\">\n",
       "<a href=\"/inspirational-quotes/6829-to-thrive-in-life-you-need-three-bones-a\"><img alt=\"To thrive in life you need three bones. A wishbone. A backbone. And a funny bone. #&lt;Author:0x00007f0fd7abe6e8&gt;\" class=\"margin-10px-bottom shadow\" height=\"310\" src=\"https://assets.passiton.com/quotes/quote_artwork/6829/medium/20200329_wednesday_quote.jpg?1595634221\" width=\"310\"/></a>\n",
       "<h5 class=\"value_on_red\"><a href=\"/inspirational-quotes/6829-to-thrive-in-life-you-need-three-bones-a\">LAUGHTER</a></h5>\n",
       "</div><div class=\"col-6 col-lg-3 text-center margin-30px-bottom sm-margin-30px-top\">\n",
       "<a href=\"/inspirational-quotes/7465-what-soap-is-to-the-body-laughter-is-to-the-soul\"><img alt=\"What soap is to the body, laughter is to the soul. #&lt;Author:0x00007f0fd7b40418&gt;\" class=\"margin-10px-bottom shadow\" height=\"310\" src=\"https://assets.passiton.com/quotes/quote_artwork/7465/medium/20200328_tuesday_quote.jpg?1595634197\" width=\"310\"/></a>\n",
       "<h5 class=\"value_on_red\"><a href=\"/inspirational-quotes/7465-what-soap-is-to-the-body-laughter-is-to-the-soul\">LAUGHTER</a></h5>\n",
       "</div><div class=\"col-6 col-lg-3 text-center margin-30px-bottom sm-margin-30px-top\">\n",
       "<a href=\"/inspirational-quotes/8050-i-honestly-think-its-the-thing-i-like-most-to\"><img alt=\"I honestly think it's the thing I like most, to laugh. It cures a multitude of ills. It's probably the most important thing in a person. #&lt;Author:0x00007f0fd7bc8e58&gt;\" class=\"margin-10px-bottom shadow\" height=\"310\" src=\"https://assets.passiton.com/quotes/quote_artwork/8050/medium/20200327_monday_quote.jpg?1595634171\" width=\"310\"/></a>\n",
       "<h5 class=\"value_on_red\"><a href=\"/inspirational-quotes/8050-i-honestly-think-its-the-thing-i-like-most-to\">LAUGHTER</a></h5>\n",
       "</div>\n",
       "</div>"
      ]
     },
     "execution_count": 42,
     "metadata": {},
     "output_type": "execute_result"
    }
   ],
   "source": [
    "all_quotes"
   ]
  },
  {
   "cell_type": "code",
   "execution_count": 44,
   "metadata": {},
   "outputs": [],
   "source": [
    "all_quotes = all_quotes.findAll('div')"
   ]
  },
  {
   "cell_type": "code",
   "execution_count": 45,
   "metadata": {},
   "outputs": [
    {
     "data": {
      "text/plain": [
       "[<div class=\"col-6 col-lg-3 text-center margin-30px-bottom sm-margin-30px-top\">\n",
       " <a href=\"/inspirational-quotes/8127-exercise-to-be-fit-not-skinny\"><img alt=\"Exercise to be fit, not skinny. #&lt;Author:0x00007f0fd6fe5870&gt;\" class=\"margin-10px-bottom shadow\" height=\"310\" src=\"https://assets.passiton.com/quotes/quote_artwork/8127/medium/20200908_tuesday_quote.jpg?1599169757\" width=\"310\"/></a>\n",
       " <h5 class=\"value_on_red\"><a href=\"/inspirational-quotes/8127-exercise-to-be-fit-not-skinny\">HEALTH</a></h5>\n",
       " </div>,\n",
       " <div class=\"col-6 col-lg-3 text-center margin-30px-bottom sm-margin-30px-top\">\n",
       " <a href=\"/inspirational-quotes/8123-it-s-up-to-you-today-to-start-making-healthy\"><img alt=\"It’s up to you today to start making healthy choices. Not choices that are just healthy for your body, but healthy for your mind. #&lt;Author:0x00007f0fd7020268&gt;\" class=\"margin-10px-bottom shadow\" height=\"310\" src=\"https://assets.passiton.com/quotes/quote_artwork/8123/medium/20200907_monday_quote.jpg?1599090027\" width=\"310\"/></a>\n",
       " <h5 class=\"value_on_red\"><a href=\"/inspirational-quotes/8123-it-s-up-to-you-today-to-start-making-healthy\">HEALTH</a></h5>\n",
       " </div>,\n",
       " <div class=\"col-6 col-lg-3 text-center margin-30px-bottom sm-margin-30px-top\">\n",
       " <a href=\"/inspirational-quotes/7808-creativity-involves-breaking-out-of-established\"><img alt=\"Creativity involves breaking out of established patterns in order to look at things in a different way. #&lt;Author:0x00007f0fd7059400&gt;\" class=\"margin-10px-bottom shadow\" height=\"310\" src=\"https://assets.passiton.com/quotes/quote_artwork/7808/medium/20200904_friday_quote.jpg?1598565715\" width=\"310\"/></a>\n",
       " <h5 class=\"value_on_red\"><a href=\"/inspirational-quotes/7808-creativity-involves-breaking-out-of-established\">CREATIVITY</a></h5>\n",
       " </div>,\n",
       " <div class=\"col-6 col-lg-3 text-center margin-30px-bottom sm-margin-30px-top\">\n",
       " <a href=\"/inspirational-quotes/7812-curiosity-about-life-in-all-of-its-aspects-i\"><img alt=\"Curiosity about life in all of its aspects, I think, is still the secret of great creative people. #&lt;Author:0x00007f0fd70983a8&gt;\" class=\"margin-10px-bottom shadow\" height=\"310\" src=\"https://assets.passiton.com/quotes/quote_artwork/7812/medium/20200903_thursday_quote.jpg?1598565687\" width=\"310\"/></a>\n",
       " <h5 class=\"value_on_red\"><a href=\"/inspirational-quotes/7812-curiosity-about-life-in-all-of-its-aspects-i\">CREATIVITY</a></h5>\n",
       " </div>,\n",
       " <div class=\"col-6 col-lg-3 text-center margin-30px-bottom sm-margin-30px-top\">\n",
       " <a href=\"/inspirational-quotes/8122-happiness-lies-in-the-joy-of-achievement-and\"><img alt=\"Happiness lies in the joy of achievement and the thrill of creative effort. #&lt;Author:0x00007f0fd70d8d40&gt;\" class=\"margin-10px-bottom shadow\" height=\"310\" src=\"https://assets.passiton.com/quotes/quote_artwork/8122/medium/20200902_wednesday_quote.jpg?1598565656\" width=\"310\"/></a>\n",
       " <h5 class=\"value_on_red\"><a href=\"/inspirational-quotes/8122-happiness-lies-in-the-joy-of-achievement-and\">CREATIVITY</a></h5>\n",
       " </div>,\n",
       " <div class=\"col-6 col-lg-3 text-center margin-30px-bottom sm-margin-30px-top\">\n",
       " <a href=\"/inspirational-quotes/8121-create-what-sets-your-heart-on-fire-and-it-will\"><img alt=\"Create what sets your heart on fire and it will illuminate the path ahead. #&lt;Author:0x00007f0fd712b900&gt;\" class=\"margin-10px-bottom shadow\" height=\"310\" src=\"https://assets.passiton.com/quotes/quote_artwork/8121/medium/20200901_tuesday_quote.jpg?1598565635\" width=\"310\"/></a>\n",
       " <h5 class=\"value_on_red\"><a href=\"/inspirational-quotes/8121-create-what-sets-your-heart-on-fire-and-it-will\">CREATIVITY</a></h5>\n",
       " </div>,\n",
       " <div class=\"col-6 col-lg-3 text-center margin-30px-bottom sm-margin-30px-top\">\n",
       " <a href=\"/inspirational-quotes/8120-creativity-is-the-way-i-share-my-soul-with-the\"><img alt=\"Creativity is the way I share my soul with the world. #&lt;Author:0x00007f0fd7167ea0&gt;\" class=\"margin-10px-bottom shadow\" height=\"310\" src=\"https://assets.passiton.com/quotes/quote_artwork/8120/medium/20200831_monday_quote.jpg?1598565613\" width=\"310\"/></a>\n",
       " <h5 class=\"value_on_red\"><a href=\"/inspirational-quotes/8120-creativity-is-the-way-i-share-my-soul-with-the\">CREATIVITY</a></h5>\n",
       " </div>,\n",
       " <div class=\"col-6 col-lg-3 text-center margin-30px-bottom sm-margin-30px-top\">\n",
       " <a href=\"/inspirational-quotes/8118-kindness-isnt-sacrifice-so-much-as-it-is-being\"><img alt=\"Kindness isn't sacrifice so much as it is being considerate for the feelings of others, sharing happiness, the unselfish thought, the spontaneous and friendly act, forgetfulness of our own present interests.  #&lt;Author:0x00007f0fd71a0458&gt;\" class=\"margin-10px-bottom shadow\" height=\"310\" src=\"https://assets.passiton.com/quotes/quote_artwork/8118/medium/20200828_friday_quote.jpg?1597869672\" width=\"310\"/></a>\n",
       " <h5 class=\"value_on_red\"><a href=\"/inspirational-quotes/8118-kindness-isnt-sacrifice-so-much-as-it-is-being\">COURTESY</a></h5>\n",
       " </div>,\n",
       " <div class=\"col-6 col-lg-3 text-center margin-30px-bottom sm-margin-30px-top\">\n",
       " <a href=\"/inspirational-quotes/8117-take-care-be-kind-be-considerate-of-other\"><img alt=\"Take care, be kind, be considerate of other people and other species, and be loving. #&lt;Author:0x00007f0fd71e8cd0&gt;\" class=\"margin-10px-bottom shadow\" height=\"310\" src=\"https://assets.passiton.com/quotes/quote_artwork/8117/medium/20200827_thursday_quote.jpg?1597869639\" width=\"310\"/></a>\n",
       " <h5 class=\"value_on_red\"><a href=\"/inspirational-quotes/8117-take-care-be-kind-be-considerate-of-other\">COURTESY</a></h5>\n",
       " </div>,\n",
       " <div class=\"col-6 col-lg-3 text-center margin-30px-bottom sm-margin-30px-top\">\n",
       " <a href=\"/inspirational-quotes/8116-real-strength-entails-being-considerate-and\"><img alt=\"Real strength entails being considerate and supportive of people's feelings. #&lt;Author:0x00007f0fd7222f20&gt;\" class=\"margin-10px-bottom shadow\" height=\"310\" src=\"https://assets.passiton.com/quotes/quote_artwork/8116/medium/20200826_wednesday_quote.jpg?1597869555\" width=\"310\"/></a>\n",
       " <h5 class=\"value_on_red\"><a href=\"/inspirational-quotes/8116-real-strength-entails-being-considerate-and\">COURTESY</a></h5>\n",
       " </div>,\n",
       " <div class=\"col-6 col-lg-3 text-center margin-30px-bottom sm-margin-30px-top\">\n",
       " <a href=\"/inspirational-quotes/8119-life-is-short-but-there-is-always-time-enough\"><img alt=\"Life is short but there is always time enough for courtesy. #&lt;Author:0x00007f0fd7260190&gt;\" class=\"margin-10px-bottom shadow\" height=\"310\" src=\"https://assets.passiton.com/quotes/quote_artwork/8119/medium/20200825_tuesday_quote.jpg?1597869487\" width=\"310\"/></a>\n",
       " <h5 class=\"value_on_red\"><a href=\"/inspirational-quotes/8119-life-is-short-but-there-is-always-time-enough\">COURTESY</a></h5>\n",
       " </div>,\n",
       " <div class=\"col-6 col-lg-3 text-center margin-30px-bottom sm-margin-30px-top\">\n",
       " <a href=\"/inspirational-quotes/7795-a-tree-is-known-by-its-fruit-a-person-by-their\"><img alt=\"A tree is known by its fruit; a person by their deeds. A good deed is never lost; whoever sows courtesy reaps friendship, and whoever plants kindness gathers love. #&lt;Author:0x00007f0fd72c6b70&gt;\" class=\"margin-10px-bottom shadow\" height=\"310\" src=\"https://assets.passiton.com/quotes/quote_artwork/7795/medium/20200824_monday_quote.jpg?1597868996\" width=\"310\"/></a>\n",
       " <h5 class=\"value_on_red\"><a href=\"/inspirational-quotes/7795-a-tree-is-known-by-its-fruit-a-person-by-their\">COURTESY</a></h5>\n",
       " </div>,\n",
       " <div class=\"col-6 col-lg-3 text-center margin-30px-bottom sm-margin-30px-top\">\n",
       " <a href=\"/inspirational-quotes/8114-if-you-were-born-with-the-weakness-to-fall-you\"><img alt=\"If you were born with the weakness to fall. You were born with the strength to rise. #&lt;Author:0x00007f0fd7312ae8&gt;\" class=\"margin-10px-bottom shadow\" height=\"310\" src=\"https://assets.passiton.com/quotes/quote_artwork/8114/medium/20200821_friday_quote.jpg?1597353972\" width=\"310\"/></a>\n",
       " <h5 class=\"value_on_red\"><a href=\"/inspirational-quotes/8114-if-you-were-born-with-the-weakness-to-fall-you\">STRENGTH</a></h5>\n",
       " </div>,\n",
       " <div class=\"col-6 col-lg-3 text-center margin-30px-bottom sm-margin-30px-top\">\n",
       " <a href=\"/inspirational-quotes/6926-maybe-who-we-are-isnt-so-much-about-what-we-do\"><img alt=\"Maybe who we are isn't so much about what we do, but rather what we're capable of when we least expect it. #&lt;Author:0x00007f0fd736d7b8&gt;\" class=\"margin-10px-bottom shadow\" height=\"310\" src=\"https://assets.passiton.com/quotes/quote_artwork/6926/medium/20200820_thursday_quote.jpg?1597353926\" width=\"310\"/></a>\n",
       " <h5 class=\"value_on_red\"><a href=\"/inspirational-quotes/6926-maybe-who-we-are-isnt-so-much-about-what-we-do\">STRENGTH</a></h5>\n",
       " </div>,\n",
       " <div class=\"col-6 col-lg-3 text-center margin-30px-bottom sm-margin-30px-top\">\n",
       " <a href=\"/inspirational-quotes/8113-for-what-it-s-worth-it-s-never-too-late-to-be\"><img alt=\"For what it’s worth: It’s never too late to be whoever you want to be. I hope you live a life you’re proud of, and if you find you’re not, I hope you have the strength to start over again. #&lt;Author:0x00007f0fd73a87a0&gt;\" class=\"margin-10px-bottom shadow\" height=\"310\" src=\"https://assets.passiton.com/quotes/quote_artwork/8113/medium/20200819_wednesday_quote.jpg?1597353876\" width=\"310\"/></a>\n",
       " <h5 class=\"value_on_red\"><a href=\"/inspirational-quotes/8113-for-what-it-s-worth-it-s-never-too-late-to-be\">STRENGTH</a></h5>\n",
       " </div>,\n",
       " <div class=\"col-6 col-lg-3 text-center margin-30px-bottom sm-margin-30px-top\">\n",
       " <a href=\"/inspirational-quotes/8112-when-something-bad-happens-you-have-three\"><img alt=\"When something bad happens you have three choices. You can let it define you, let it destroy you, or you can let it strengthen you. #&lt;Author:0x00007f0fd73f2be8&gt;\" class=\"margin-10px-bottom shadow\" height=\"310\" src=\"https://assets.passiton.com/quotes/quote_artwork/8112/medium/20200818_tuesday_quote.jpg?1597353822\" width=\"310\"/></a>\n",
       " <h5 class=\"value_on_red\"><a href=\"/inspirational-quotes/8112-when-something-bad-happens-you-have-three\">STRENGTH</a></h5>\n",
       " </div>,\n",
       " <div class=\"col-6 col-lg-3 text-center margin-30px-bottom sm-margin-30px-top\">\n",
       " <a href=\"/inspirational-quotes/8111-a-true-hero-isn-t-measured-by-the-size-of-their\"><img alt=\"A true hero isn’t measured by the size of their strength, but by the strength of their heart. #&lt;Author:0x00007f0fd743b758&gt;\" class=\"margin-10px-bottom shadow\" height=\"310\" src=\"https://assets.passiton.com/quotes/quote_artwork/8111/medium/20200817_monday_quote.jpg?1597353760\" width=\"310\"/></a>\n",
       " <h5 class=\"value_on_red\"><a href=\"/inspirational-quotes/8111-a-true-hero-isn-t-measured-by-the-size-of-their\">STRENGTH</a></h5>\n",
       " </div>,\n",
       " <div class=\"col-6 col-lg-3 text-center margin-30px-bottom sm-margin-30px-top\">\n",
       " <a href=\"/inspirational-quotes/8109-nature-has-been-for-me-for-as-long-as-i\"><img alt=\"Nature has been for me, for as long as I remember, a source of solace, inspiration, adventure, and delight; a home, a teacher, a companion. #&lt;Author:0x00007f0fd74b1e08&gt;\" class=\"margin-10px-bottom shadow\" height=\"310\" src=\"https://assets.passiton.com/quotes/quote_artwork/8109/medium/20200814_friday_quote.jpg?1596663210\" width=\"310\"/></a>\n",
       " <h5 class=\"value_on_red\"><a href=\"/inspirational-quotes/8109-nature-has-been-for-me-for-as-long-as-i\">APPRECIATING NATURE</a></h5>\n",
       " </div>,\n",
       " <div class=\"col-6 col-lg-3 text-center margin-30px-bottom sm-margin-30px-top\">\n",
       " <a href=\"/inspirational-quotes/8110-i-took-a-walk-in-the-woods-and-came-out-taller\"><img alt=\"I took a walk in the woods and came out taller than the trees. #&lt;Author:0x00007f0fd7515390&gt;\" class=\"margin-10px-bottom shadow\" height=\"310\" src=\"https://assets.passiton.com/quotes/quote_artwork/8110/medium/20200813_thursday_quote_alt2.jpg?1596841457\" width=\"310\"/></a>\n",
       " <h5 class=\"value_on_red\"><a href=\"/inspirational-quotes/8110-i-took-a-walk-in-the-woods-and-came-out-taller\">APPRECIATING NATURE</a></h5>\n",
       " </div>,\n",
       " <div class=\"col-6 col-lg-3 text-center margin-30px-bottom sm-margin-30px-top\">\n",
       " <a href=\"/inspirational-quotes/8108-there-is-something-infinitely-healing-in-the\"><img alt=\"There is something infinitely healing in the repeated refrains of nature – the assurance that dawn comes after night, and spring after winter. #&lt;Author:0x00007f0fd75614c0&gt;\" class=\"margin-10px-bottom shadow\" height=\"310\" src=\"https://assets.passiton.com/quotes/quote_artwork/8108/medium/rachel_carson_fixed.jpg?1597769516\" width=\"310\"/></a>\n",
       " <h5 class=\"value_on_red\"><a href=\"/inspirational-quotes/8108-there-is-something-infinitely-healing-in-the\">APPRECIATING NATURE</a></h5>\n",
       " </div>,\n",
       " <div class=\"col-6 col-lg-3 text-center margin-30px-bottom sm-margin-30px-top\">\n",
       " <a href=\"/inspirational-quotes/8107-a-walk-in-nature-walks-the-soul-back-home\"><img alt=\"A walk in nature, walks the soul back home. #&lt;Author:0x00007f0fd75ce5c0&gt;\" class=\"margin-10px-bottom shadow\" height=\"310\" src=\"https://assets.passiton.com/quotes/quote_artwork/8107/medium/20200811_tuesday_quote.jpg?1596663032\" width=\"310\"/></a>\n",
       " <h5 class=\"value_on_red\"><a href=\"/inspirational-quotes/8107-a-walk-in-nature-walks-the-soul-back-home\">APPRECIATING NATURE</a></h5>\n",
       " </div>,\n",
       " <div class=\"col-6 col-lg-3 text-center margin-30px-bottom sm-margin-30px-top\">\n",
       " <a href=\"/inspirational-quotes/7508-i-felt-my-lungs-inflate-with-the-onrush-of\"><img alt=\"I felt my lungs inflate with the onrush of scenery—air, mountains, trees, people. I thought, ‘This is what it is to be happy.’ #&lt;Author:0x00007f0fd765ba10&gt;\" class=\"margin-10px-bottom shadow\" height=\"310\" src=\"https://assets.passiton.com/quotes/quote_artwork/7508/medium/20200810_monday_quote.jpg?1596662943\" width=\"310\"/></a>\n",
       " <h5 class=\"value_on_red\"><a href=\"/inspirational-quotes/7508-i-felt-my-lungs-inflate-with-the-onrush-of\">APPRECIATING NATURE</a></h5>\n",
       " </div>,\n",
       " <div class=\"col-6 col-lg-3 text-center margin-30px-bottom sm-margin-30px-top\">\n",
       " <a href=\"/inspirational-quotes/4746-it-always-seems-impossible-until-its-done\"><img alt=\"It always seems impossible until its done. #&lt;Author:0x00007f0fd76d3f10&gt;\" class=\"margin-10px-bottom shadow\" height=\"310\" src=\"https://assets.passiton.com/quotes/quote_artwork/4746/medium/20200807_friday_quote.jpg?1596496094\" width=\"310\"/></a>\n",
       " <h5 class=\"value_on_red\"><a href=\"/inspirational-quotes/4746-it-always-seems-impossible-until-its-done\">PERSEVERANCE</a></h5>\n",
       " </div>,\n",
       " <div class=\"col-6 col-lg-3 text-center margin-30px-bottom sm-margin-30px-top\">\n",
       " <a href=\"/inspirational-quotes/8105-great-things-come-from-hard-work-and\"><img alt=\"Great things come from hard work and perseverance. No excuses. #&lt;Author:0x00007f0fd77296e0&gt;\" class=\"margin-10px-bottom shadow\" height=\"310\" src=\"https://assets.passiton.com/quotes/quote_artwork/8105/medium/20200806_thursday_quote.jpg?1596213320\" width=\"310\"/></a>\n",
       " <h5 class=\"value_on_red\"><a href=\"/inspirational-quotes/8105-great-things-come-from-hard-work-and\">PERSEVERANCE</a></h5>\n",
       " </div>,\n",
       " <div class=\"col-6 col-lg-3 text-center margin-30px-bottom sm-margin-30px-top\">\n",
       " <a href=\"/inspirational-quotes/3016-patience-and-perseverance-have-a-magical-effect\"><img alt=\"Patience and perseverance have a magical effect before which difficulties disappear and obstacles vanish. #&lt;Author:0x00007f0fd77d6c00&gt;\" class=\"margin-10px-bottom shadow\" height=\"310\" src=\"https://assets.passiton.com/quotes/quote_artwork/3016/medium/20200805_wednesday_quote.jpg?1596213293\" width=\"310\"/></a>\n",
       " <h5 class=\"value_on_red\"><a href=\"/inspirational-quotes/3016-patience-and-perseverance-have-a-magical-effect\">PERSEVERANCE</a></h5>\n",
       " </div>,\n",
       " <div class=\"col-6 col-lg-3 text-center margin-30px-bottom sm-margin-30px-top\">\n",
       " <a href=\"/inspirational-quotes/8104-today-if-anything-is-trying-to-hold-you-back\"><img alt=\"Today if anything is trying to hold you back, give no attention to it. Get your hopes up, get your faith up, look up, and get ready to rise up. #&lt;Author:0x00007f0fd7851d38&gt;\" class=\"margin-10px-bottom shadow\" height=\"310\" src=\"https://assets.passiton.com/quotes/quote_artwork/8104/medium/20200804_tuesday_quote.jpg?1596213265\" width=\"310\"/></a>\n",
       " <h5 class=\"value_on_red\"><a href=\"/inspirational-quotes/8104-today-if-anything-is-trying-to-hold-you-back\">PERSEVERANCE</a></h5>\n",
       " </div>,\n",
       " <div class=\"col-6 col-lg-3 text-center margin-30px-bottom sm-margin-30px-top\">\n",
       " <a href=\"/inspirational-quotes/3962-i-think-a-hero-is-an-ordinary-individual-who\"><img alt=\"I think a hero is an ordinary individual who finds strength to persevere and endure in spite of overwhelming obstacles. #&lt;Author:0x00007f0fd78f70a8&gt;\" class=\"margin-10px-bottom shadow\" height=\"310\" src=\"https://assets.passiton.com/quotes/quote_artwork/3962/medium/20200803_monday_quote.jpg?1596213242\" width=\"310\"/></a>\n",
       " <h5 class=\"value_on_red\"><a href=\"/inspirational-quotes/3962-i-think-a-hero-is-an-ordinary-individual-who\">PERSEVERANCE</a></h5>\n",
       " </div>,\n",
       " <div class=\"col-6 col-lg-3 text-center margin-30px-bottom sm-margin-30px-top\">\n",
       " <a href=\"/inspirational-quotes/3123-a-smile-starts-on-the-lips-a-grin-spreads-to\"><img alt=\"A smile starts on the lips, A grin spreads to the eyes, A chuckle comes from the belly; But a good laugh bursts forth from the soul, Overflows, and bubbles all around. #&lt;Author:0x00007f0fd7976ec0&gt;\" class=\"margin-10px-bottom shadow\" height=\"310\" src=\"https://assets.passiton.com/quotes/quote_artwork/3123/medium/20200331_friday_quote.jpg?1595634378\" width=\"310\"/></a>\n",
       " <h5 class=\"value_on_red\"><a href=\"/inspirational-quotes/3123-a-smile-starts-on-the-lips-a-grin-spreads-to\">LAUGHTER</a></h5>\n",
       " </div>,\n",
       " <div class=\"col-6 col-lg-3 text-center margin-30px-bottom sm-margin-30px-top\">\n",
       " <a href=\"/inspirational-quotes/8051-in-this-world-a-good-time-to-laugh-is-any-time\"><img alt=\"In this world, a good time to laugh is any time you can.  #&lt;Author:0x00007f0fd7a25808&gt;\" class=\"margin-10px-bottom shadow\" height=\"310\" src=\"https://assets.passiton.com/quotes/quote_artwork/8051/medium/20200330_thursday_quote.jpg?1595634324\" width=\"310\"/></a>\n",
       " <h5 class=\"value_on_red\"><a href=\"/inspirational-quotes/8051-in-this-world-a-good-time-to-laugh-is-any-time\">LAUGHTER</a></h5>\n",
       " </div>,\n",
       " <div class=\"col-6 col-lg-3 text-center margin-30px-bottom sm-margin-30px-top\">\n",
       " <a href=\"/inspirational-quotes/6829-to-thrive-in-life-you-need-three-bones-a\"><img alt=\"To thrive in life you need three bones. A wishbone. A backbone. And a funny bone. #&lt;Author:0x00007f0fd7abe6e8&gt;\" class=\"margin-10px-bottom shadow\" height=\"310\" src=\"https://assets.passiton.com/quotes/quote_artwork/6829/medium/20200329_wednesday_quote.jpg?1595634221\" width=\"310\"/></a>\n",
       " <h5 class=\"value_on_red\"><a href=\"/inspirational-quotes/6829-to-thrive-in-life-you-need-three-bones-a\">LAUGHTER</a></h5>\n",
       " </div>,\n",
       " <div class=\"col-6 col-lg-3 text-center margin-30px-bottom sm-margin-30px-top\">\n",
       " <a href=\"/inspirational-quotes/7465-what-soap-is-to-the-body-laughter-is-to-the-soul\"><img alt=\"What soap is to the body, laughter is to the soul. #&lt;Author:0x00007f0fd7b40418&gt;\" class=\"margin-10px-bottom shadow\" height=\"310\" src=\"https://assets.passiton.com/quotes/quote_artwork/7465/medium/20200328_tuesday_quote.jpg?1595634197\" width=\"310\"/></a>\n",
       " <h5 class=\"value_on_red\"><a href=\"/inspirational-quotes/7465-what-soap-is-to-the-body-laughter-is-to-the-soul\">LAUGHTER</a></h5>\n",
       " </div>,\n",
       " <div class=\"col-6 col-lg-3 text-center margin-30px-bottom sm-margin-30px-top\">\n",
       " <a href=\"/inspirational-quotes/8050-i-honestly-think-its-the-thing-i-like-most-to\"><img alt=\"I honestly think it's the thing I like most, to laugh. It cures a multitude of ills. It's probably the most important thing in a person. #&lt;Author:0x00007f0fd7bc8e58&gt;\" class=\"margin-10px-bottom shadow\" height=\"310\" src=\"https://assets.passiton.com/quotes/quote_artwork/8050/medium/20200327_monday_quote.jpg?1595634171\" width=\"310\"/></a>\n",
       " <h5 class=\"value_on_red\"><a href=\"/inspirational-quotes/8050-i-honestly-think-its-the-thing-i-like-most-to\">LAUGHTER</a></h5>\n",
       " </div>]"
      ]
     },
     "execution_count": 45,
     "metadata": {},
     "output_type": "execute_result"
    }
   ],
   "source": [
    "all_quotes"
   ]
  },
  {
   "cell_type": "code",
   "execution_count": 46,
   "metadata": {},
   "outputs": [],
   "source": [
    "first_quote = all_quotes[0]"
   ]
  },
  {
   "cell_type": "code",
   "execution_count": 47,
   "metadata": {},
   "outputs": [
    {
     "data": {
      "text/plain": [
       "<div class=\"col-6 col-lg-3 text-center margin-30px-bottom sm-margin-30px-top\">\n",
       "<a href=\"/inspirational-quotes/8127-exercise-to-be-fit-not-skinny\"><img alt=\"Exercise to be fit, not skinny. #&lt;Author:0x00007f0fd6fe5870&gt;\" class=\"margin-10px-bottom shadow\" height=\"310\" src=\"https://assets.passiton.com/quotes/quote_artwork/8127/medium/20200908_tuesday_quote.jpg?1599169757\" width=\"310\"/></a>\n",
       "<h5 class=\"value_on_red\"><a href=\"/inspirational-quotes/8127-exercise-to-be-fit-not-skinny\">HEALTH</a></h5>\n",
       "</div>"
      ]
     },
     "execution_count": 47,
     "metadata": {},
     "output_type": "execute_result"
    }
   ],
   "source": [
    "first_quote"
   ]
  },
  {
   "cell_type": "code",
   "execution_count": 48,
   "metadata": {},
   "outputs": [
    {
     "data": {
      "text/plain": [
       "<a href=\"/inspirational-quotes/8127-exercise-to-be-fit-not-skinny\"><img alt=\"Exercise to be fit, not skinny. #&lt;Author:0x00007f0fd6fe5870&gt;\" class=\"margin-10px-bottom shadow\" height=\"310\" src=\"https://assets.passiton.com/quotes/quote_artwork/8127/medium/20200908_tuesday_quote.jpg?1599169757\" width=\"310\"/></a>"
      ]
     },
     "execution_count": 48,
     "metadata": {},
     "output_type": "execute_result"
    }
   ],
   "source": [
    "first_quote.a"
   ]
  },
  {
   "cell_type": "code",
   "execution_count": 49,
   "metadata": {},
   "outputs": [
    {
     "data": {
      "text/plain": [
       "<img alt=\"Exercise to be fit, not skinny. #&lt;Author:0x00007f0fd6fe5870&gt;\" class=\"margin-10px-bottom shadow\" height=\"310\" src=\"https://assets.passiton.com/quotes/quote_artwork/8127/medium/20200908_tuesday_quote.jpg?1599169757\" width=\"310\"/>"
      ]
     },
     "execution_count": 49,
     "metadata": {},
     "output_type": "execute_result"
    }
   ],
   "source": [
    "first_quote.img"
   ]
  },
  {
   "cell_type": "code",
   "execution_count": 50,
   "metadata": {},
   "outputs": [
    {
     "data": {
      "text/plain": [
       "{'alt': 'Exercise to be fit, not skinny. #<Author:0x00007f0fd6fe5870>',\n",
       " 'class': ['margin-10px-bottom', 'shadow'],\n",
       " 'src': 'https://assets.passiton.com/quotes/quote_artwork/8127/medium/20200908_tuesday_quote.jpg?1599169757',\n",
       " 'width': '310',\n",
       " 'height': '310'}"
      ]
     },
     "execution_count": 50,
     "metadata": {},
     "output_type": "execute_result"
    }
   ],
   "source": [
    "first_quote.img.attrs"
   ]
  },
  {
   "cell_type": "code",
   "execution_count": 55,
   "metadata": {},
   "outputs": [
    {
     "data": {
      "text/plain": [
       "'https://assets.passiton.com/quotes/quote_artwork/8127/medium/20200908_tuesday_quote.jpg?1599169757'"
      ]
     },
     "execution_count": 55,
     "metadata": {},
     "output_type": "execute_result"
    }
   ],
   "source": [
    "img_url = first_quote.img.attrs['src']\n",
    "img_url"
   ]
  },
  {
   "cell_type": "code",
   "execution_count": 57,
   "metadata": {},
   "outputs": [],
   "source": [
    "with open('practiceQuote.jpg','wb') as f:\n",
    "    img = requests.get(img_url)\n",
    "    f.write(img.content)"
   ]
  },
  {
   "cell_type": "code",
   "execution_count": null,
   "metadata": {},
   "outputs": [],
   "source": []
  },
  {
   "cell_type": "code",
   "execution_count": null,
   "metadata": {},
   "outputs": [],
   "source": []
  },
  {
   "cell_type": "code",
   "execution_count": 59,
   "metadata": {},
   "outputs": [
    {
     "data": {
      "text/plain": [
       "<a href=\"/inspirational-quotes/8127-exercise-to-be-fit-not-skinny\"><img alt=\"Exercise to be fit, not skinny. #&lt;Author:0x00007f0fd6fe5870&gt;\" class=\"margin-10px-bottom shadow\" height=\"310\" src=\"https://assets.passiton.com/quotes/quote_artwork/8127/medium/20200908_tuesday_quote.jpg?1599169757\" width=\"310\"/></a>"
      ]
     },
     "execution_count": 59,
     "metadata": {},
     "output_type": "execute_result"
    }
   ],
   "source": [
    "a  = first_quote.find('a')\n",
    "a"
   ]
  },
  {
   "cell_type": "code",
   "execution_count": 61,
   "metadata": {},
   "outputs": [
    {
     "data": {
      "text/plain": [
       "'https://assets.passiton.com/quotes/quote_artwork/8127/medium/20200908_tuesday_quote.jpg?1599169757'"
      ]
     },
     "execution_count": 61,
     "metadata": {},
     "output_type": "execute_result"
    }
   ],
   "source": [
    "a.img.attrs['src']"
   ]
  },
  {
   "cell_type": "code",
   "execution_count": 63,
   "metadata": {},
   "outputs": [
    {
     "data": {
      "text/plain": [
       "<img alt=\"Exercise to be fit, not skinny. #&lt;Author:0x00007f0fd6fe5870&gt;\" class=\"margin-10px-bottom shadow\" height=\"310\" src=\"https://assets.passiton.com/quotes/quote_artwork/8127/medium/20200908_tuesday_quote.jpg?1599169757\" width=\"310\"/>"
      ]
     },
     "execution_count": 63,
     "metadata": {},
     "output_type": "execute_result"
    }
   ],
   "source": [
    "img = a.find('img')\n",
    "img"
   ]
  },
  {
   "cell_type": "code",
   "execution_count": 64,
   "metadata": {},
   "outputs": [
    {
     "data": {
      "text/plain": [
       "{'alt': 'Exercise to be fit, not skinny. #<Author:0x00007f0fd6fe5870>',\n",
       " 'class': ['margin-10px-bottom', 'shadow'],\n",
       " 'src': 'https://assets.passiton.com/quotes/quote_artwork/8127/medium/20200908_tuesday_quote.jpg?1599169757',\n",
       " 'width': '310',\n",
       " 'height': '310'}"
      ]
     },
     "execution_count": 64,
     "metadata": {},
     "output_type": "execute_result"
    }
   ],
   "source": [
    "img.attrs"
   ]
  },
  {
   "cell_type": "code",
   "execution_count": 66,
   "metadata": {},
   "outputs": [
    {
     "data": {
      "text/plain": [
       "<div class=\"col-6 col-lg-3 text-center margin-30px-bottom sm-margin-30px-top\">\n",
       "<a href=\"/inspirational-quotes/8127-exercise-to-be-fit-not-skinny\"><img alt=\"Exercise to be fit, not skinny. #&lt;Author:0x00007f0fd6fe5870&gt;\" class=\"margin-10px-bottom shadow\" height=\"310\" src=\"https://assets.passiton.com/quotes/quote_artwork/8127/medium/20200908_tuesday_quote.jpg?1599169757\" width=\"310\"/></a>\n",
       "<h5 class=\"value_on_red\"><a href=\"/inspirational-quotes/8127-exercise-to-be-fit-not-skinny\">HEALTH</a></h5>\n",
       "</div>"
      ]
     },
     "execution_count": 66,
     "metadata": {},
     "output_type": "execute_result"
    }
   ],
   "source": [
    "first_quote"
   ]
  },
  {
   "cell_type": "code",
   "execution_count": null,
   "metadata": {},
   "outputs": [],
   "source": []
  }
 ],
 "metadata": {
  "kernelspec": {
   "display_name": "Python 3",
   "language": "python",
   "name": "python3"
  },
  "language_info": {
   "codemirror_mode": {
    "name": "ipython",
    "version": 3
   },
   "file_extension": ".py",
   "mimetype": "text/x-python",
   "name": "python",
   "nbconvert_exporter": "python",
   "pygments_lexer": "ipython3",
   "version": "3.7.7"
  }
 },
 "nbformat": 4,
 "nbformat_minor": 4
}
