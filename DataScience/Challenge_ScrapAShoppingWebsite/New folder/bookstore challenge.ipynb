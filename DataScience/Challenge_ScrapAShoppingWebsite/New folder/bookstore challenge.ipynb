{
 "cells": [
  {
   "cell_type": "code",
   "execution_count": 1,
   "metadata": {},
   "outputs": [],
   "source": [
    "import pandas as pd"
   ]
  },
  {
   "cell_type": "code",
   "execution_count": 2,
   "metadata": {},
   "outputs": [],
   "source": [
    "sample = pd.read_csv('sample_submission.csv')"
   ]
  },
  {
   "cell_type": "code",
   "execution_count": 4,
   "metadata": {},
   "outputs": [
    {
     "data": {
      "text/plain": [
       "(1, 3)"
      ]
     },
     "execution_count": 4,
     "metadata": {},
     "output_type": "execute_result"
    }
   ],
   "source": [
    "sample.shape"
   ]
  },
  {
   "cell_type": "code",
   "execution_count": 5,
   "metadata": {},
   "outputs": [
    {
     "data": {
      "text/html": [
       "<div>\n",
       "<style scoped>\n",
       "    .dataframe tbody tr th:only-of-type {\n",
       "        vertical-align: middle;\n",
       "    }\n",
       "\n",
       "    .dataframe tbody tr th {\n",
       "        vertical-align: top;\n",
       "    }\n",
       "\n",
       "    .dataframe thead th {\n",
       "        text-align: right;\n",
       "    }\n",
       "</style>\n",
       "<table border=\"1\" class=\"dataframe\">\n",
       "  <thead>\n",
       "    <tr style=\"text-align: right;\">\n",
       "      <th></th>\n",
       "      <th>image_url</th>\n",
       "      <th>book_title</th>\n",
       "      <th>product_price</th>\n",
       "    </tr>\n",
       "  </thead>\n",
       "  <tbody>\n",
       "    <tr>\n",
       "      <th>0</th>\n",
       "      <td>../media/cache/5d/72/5d72709c6a7a9584a4d1cf076...</td>\n",
       "      <td>In Her Wake</td>\n",
       "      <td>£12.84</td>\n",
       "    </tr>\n",
       "  </tbody>\n",
       "</table>\n",
       "</div>"
      ],
      "text/plain": [
       "                                           image_url   book_title  \\\n",
       "0  ../media/cache/5d/72/5d72709c6a7a9584a4d1cf076...  In Her Wake   \n",
       "\n",
       "  product_price  \n",
       "0        £12.84  "
      ]
     },
     "execution_count": 5,
     "metadata": {},
     "output_type": "execute_result"
    }
   ],
   "source": [
    "sample"
   ]
  },
  {
   "cell_type": "code",
   "execution_count": null,
   "metadata": {},
   "outputs": [],
   "source": []
  },
  {
   "cell_type": "code",
   "execution_count": 6,
   "metadata": {},
   "outputs": [
    {
     "name": "stdout",
     "output_type": "stream",
     "text": [
      "New Scrapy project 'bookstore', using template directory 'c:\\users\\vinee\\anaconda3\\lib\\site-packages\\scrapy\\templates\\project', created in:\n",
      "    C:\\Users\\vinee\\CodingBlocks\\DataScience\\Challenge_ScrapAShoppingWebsite\\bookstore\n",
      "\n",
      "You can start your first spider with:\n",
      "    cd bookstore\n",
      "    scrapy genspider example example.com\n"
     ]
    }
   ],
   "source": [
    "!scrapy startproject bookstore"
   ]
  },
  {
   "cell_type": "code",
   "execution_count": 8,
   "metadata": {},
   "outputs": [
    {
     "data": {
      "text/plain": [
       "'C:\\\\Users\\\\vinee\\\\CodingBlocks\\\\DataScience\\\\Challenge_ScrapAShoppingWebsite'"
      ]
     },
     "execution_count": 8,
     "metadata": {},
     "output_type": "execute_result"
    }
   ],
   "source": [
    "pwd"
   ]
  },
  {
   "cell_type": "code",
   "execution_count": 7,
   "metadata": {},
   "outputs": [],
   "source": [
    "import os"
   ]
  },
  {
   "cell_type": "code",
   "execution_count": 9,
   "metadata": {},
   "outputs": [],
   "source": [
    "df = pd.read_csv(r'C:\\\\Users\\\\vinee\\\\CodingBlocks\\\\DataScience\\\\Challenge_ScrapAShoppingWebsite\\bookstore\\book.csv')"
   ]
  },
  {
   "cell_type": "code",
   "execution_count": null,
   "metadata": {},
   "outputs": [],
   "source": []
  },
  {
   "cell_type": "code",
   "execution_count": 11,
   "metadata": {},
   "outputs": [
    {
     "data": {
      "text/html": [
       "<div>\n",
       "<style scoped>\n",
       "    .dataframe tbody tr th:only-of-type {\n",
       "        vertical-align: middle;\n",
       "    }\n",
       "\n",
       "    .dataframe tbody tr th {\n",
       "        vertical-align: top;\n",
       "    }\n",
       "\n",
       "    .dataframe thead th {\n",
       "        text-align: right;\n",
       "    }\n",
       "</style>\n",
       "<table border=\"1\" class=\"dataframe\">\n",
       "  <thead>\n",
       "    <tr style=\"text-align: right;\">\n",
       "      <th></th>\n",
       "      <th>image_url</th>\n",
       "      <th>product_title</th>\n",
       "      <th>book_price</th>\n",
       "    </tr>\n",
       "  </thead>\n",
       "  <tbody>\n",
       "    <tr>\n",
       "      <th>0</th>\n",
       "      <td>media/cache/2c/da/2cdad67c44b002e7ead0cc35693c...</td>\n",
       "      <td>A Light in the ...</td>\n",
       "      <td>£51.77</td>\n",
       "    </tr>\n",
       "  </tbody>\n",
       "</table>\n",
       "</div>"
      ],
      "text/plain": [
       "                                           image_url       product_title  \\\n",
       "0  media/cache/2c/da/2cdad67c44b002e7ead0cc35693c...  A Light in the ...   \n",
       "\n",
       "  book_price  \n",
       "0     £51.77  "
      ]
     },
     "execution_count": 11,
     "metadata": {},
     "output_type": "execute_result"
    }
   ],
   "source": [
    "df"
   ]
  },
  {
   "cell_type": "code",
   "execution_count": null,
   "metadata": {},
   "outputs": [],
   "source": []
  },
  {
   "cell_type": "code",
   "execution_count": 64,
   "metadata": {},
   "outputs": [],
   "source": [
    "df1 = pd.read_csv(r'C:\\\\Users\\\\vinee\\\\CodingBlocks\\\\DataScience\\\\Challenge_ScrapAShoppingWebsite\\bookstore\\books.csv',names=tits)"
   ]
  },
  {
   "cell_type": "code",
   "execution_count": 65,
   "metadata": {},
   "outputs": [
    {
     "data": {
      "text/html": [
       "<div>\n",
       "<style scoped>\n",
       "    .dataframe tbody tr th:only-of-type {\n",
       "        vertical-align: middle;\n",
       "    }\n",
       "\n",
       "    .dataframe tbody tr th {\n",
       "        vertical-align: top;\n",
       "    }\n",
       "\n",
       "    .dataframe thead th {\n",
       "        text-align: right;\n",
       "    }\n",
       "</style>\n",
       "<table border=\"1\" class=\"dataframe\">\n",
       "  <thead>\n",
       "    <tr style=\"text-align: right;\">\n",
       "      <th></th>\n",
       "      <th>image_url</th>\n",
       "      <th>book_title</th>\n",
       "      <th>product_price</th>\n",
       "    </tr>\n",
       "  </thead>\n",
       "  <tbody>\n",
       "    <tr>\n",
       "      <th>0</th>\n",
       "      <td>../media/cache/2c/da/2cdad67c44b002e7ead0cc356...</td>\n",
       "      <td>A Light in the Attic</td>\n",
       "      <td>£51.77</td>\n",
       "    </tr>\n",
       "    <tr>\n",
       "      <th>1</th>\n",
       "      <td>../media/cache/26/0c/260c6ae16bce31c8f8c95dadd...</td>\n",
       "      <td>Tipping the Velvet</td>\n",
       "      <td>£53.74</td>\n",
       "    </tr>\n",
       "    <tr>\n",
       "      <th>2</th>\n",
       "      <td>../media/cache/3e/ef/3eef99c9d9adef34639f51066...</td>\n",
       "      <td>Soumission</td>\n",
       "      <td>£50.10</td>\n",
       "    </tr>\n",
       "    <tr>\n",
       "      <th>3</th>\n",
       "      <td>../media/cache/32/51/3251cf3a3412f53f339e42cac...</td>\n",
       "      <td>Sharp Objects</td>\n",
       "      <td>£47.82</td>\n",
       "    </tr>\n",
       "    <tr>\n",
       "      <th>4</th>\n",
       "      <td>../media/cache/be/a5/bea5697f2534a2f86a3ef27b5...</td>\n",
       "      <td>Sapiens: A Brief History of Humankind</td>\n",
       "      <td>£54.23</td>\n",
       "    </tr>\n",
       "    <tr>\n",
       "      <th>...</th>\n",
       "      <td>...</td>\n",
       "      <td>...</td>\n",
       "      <td>...</td>\n",
       "    </tr>\n",
       "    <tr>\n",
       "      <th>995</th>\n",
       "      <td>../media/cache/96/ee/96ee77d71a31b7694dac6855f...</td>\n",
       "      <td>Alice in Wonderland (Alice's Adventures in Won...</td>\n",
       "      <td>£55.53</td>\n",
       "    </tr>\n",
       "    <tr>\n",
       "      <th>996</th>\n",
       "      <td>../media/cache/09/7c/097cb5ecc6fb3fbe1690cf0cb...</td>\n",
       "      <td>Ajin: Demi-Human Volume 1 (Ajin: Demi-Human #1)</td>\n",
       "      <td>£57.06</td>\n",
       "    </tr>\n",
       "    <tr>\n",
       "      <th>997</th>\n",
       "      <td>../media/cache/1b/5f/1b5ff86f3c75e51e24c573d3f...</td>\n",
       "      <td>A Spy's Devotion (The Regency Spies of London #1)</td>\n",
       "      <td>£16.97</td>\n",
       "    </tr>\n",
       "    <tr>\n",
       "      <th>998</th>\n",
       "      <td>../media/cache/2b/41/2b4161c5b72a4ae386b644682...</td>\n",
       "      <td>1st to Die (Women's Murder Club #1)</td>\n",
       "      <td>£53.98</td>\n",
       "    </tr>\n",
       "    <tr>\n",
       "      <th>999</th>\n",
       "      <td>../media/cache/d7/0f/d70f7edd92705c45a82118c3f...</td>\n",
       "      <td>1000 Places to See Before You Die</td>\n",
       "      <td>£26.08</td>\n",
       "    </tr>\n",
       "  </tbody>\n",
       "</table>\n",
       "<p>1000 rows × 3 columns</p>\n",
       "</div>"
      ],
      "text/plain": [
       "                                             image_url  \\\n",
       "0    ../media/cache/2c/da/2cdad67c44b002e7ead0cc356...   \n",
       "1    ../media/cache/26/0c/260c6ae16bce31c8f8c95dadd...   \n",
       "2    ../media/cache/3e/ef/3eef99c9d9adef34639f51066...   \n",
       "3    ../media/cache/32/51/3251cf3a3412f53f339e42cac...   \n",
       "4    ../media/cache/be/a5/bea5697f2534a2f86a3ef27b5...   \n",
       "..                                                 ...   \n",
       "995  ../media/cache/96/ee/96ee77d71a31b7694dac6855f...   \n",
       "996  ../media/cache/09/7c/097cb5ecc6fb3fbe1690cf0cb...   \n",
       "997  ../media/cache/1b/5f/1b5ff86f3c75e51e24c573d3f...   \n",
       "998  ../media/cache/2b/41/2b4161c5b72a4ae386b644682...   \n",
       "999  ../media/cache/d7/0f/d70f7edd92705c45a82118c3f...   \n",
       "\n",
       "                                            book_title product_price  \n",
       "0                                 A Light in the Attic        £51.77  \n",
       "1                                   Tipping the Velvet        £53.74  \n",
       "2                                           Soumission        £50.10  \n",
       "3                                        Sharp Objects        £47.82  \n",
       "4                Sapiens: A Brief History of Humankind        £54.23  \n",
       "..                                                 ...           ...  \n",
       "995  Alice in Wonderland (Alice's Adventures in Won...        £55.53  \n",
       "996    Ajin: Demi-Human Volume 1 (Ajin: Demi-Human #1)        £57.06  \n",
       "997  A Spy's Devotion (The Regency Spies of London #1)        £16.97  \n",
       "998                1st to Die (Women's Murder Club #1)        £53.98  \n",
       "999                  1000 Places to See Before You Die        £26.08  \n",
       "\n",
       "[1000 rows x 3 columns]"
      ]
     },
     "execution_count": 65,
     "metadata": {},
     "output_type": "execute_result"
    }
   ],
   "source": [
    "df1"
   ]
  },
  {
   "cell_type": "code",
   "execution_count": 18,
   "metadata": {},
   "outputs": [
    {
     "data": {
      "text/plain": [
       "False"
      ]
     },
     "execution_count": 18,
     "metadata": {},
     "output_type": "execute_result"
    }
   ],
   "source": [
    "os.path.getsize(r'C:\\\\Users\\\\vinee\\\\CodingBlocks\\\\DataScience\\\\Challenge_ScrapAShoppingWebsite\\bookstore\\books.csv') > 0"
   ]
  },
  {
   "cell_type": "code",
   "execution_count": 49,
   "metadata": {},
   "outputs": [
    {
     "name": "stdout",
     "output_type": "stream",
     "text": [
      "\n"
     ]
    }
   ],
   "source": [
    "with open(r'bookstore\\books.csv','w+') as f:\n",
    "    print(f.read())\n",
    "#     print(f.seek(0))\n",
    "#     first = f.read(1)\n",
    "#     print('f' + first)"
   ]
  },
  {
   "cell_type": "code",
   "execution_count": 57,
   "metadata": {},
   "outputs": [
    {
     "ename": "SyntaxError",
     "evalue": "unexpected EOF while parsing (<ipython-input-57-70701f062444>, line 1)",
     "output_type": "error",
     "traceback": [
      "\u001b[1;36m  File \u001b[1;32m\"<ipython-input-57-70701f062444>\"\u001b[1;36m, line \u001b[1;32m1\u001b[0m\n\u001b[1;33m    if os.path.getsize(r'C:\\Users\\vinee\\CodingBlocks\\DataScience\\Challenge_ScrapAShoppingWebsite\\books.csv') <= 0:\u001b[0m\n\u001b[1;37m                                                                                                                  ^\u001b[0m\n\u001b[1;31mSyntaxError\u001b[0m\u001b[1;31m:\u001b[0m unexpected EOF while parsing\n"
     ]
    }
   ],
   "source": [
    " if os.path.getsize(r'C:\\Users\\vinee\\CodingBlocks\\DataScience\\Challenge_ScrapAShoppingWebsite\\books.csv') <= 0:"
   ]
  },
  {
   "cell_type": "code",
   "execution_count": 58,
   "metadata": {},
   "outputs": [
    {
     "data": {
      "text/html": [
       "<div>\n",
       "<style scoped>\n",
       "    .dataframe tbody tr th:only-of-type {\n",
       "        vertical-align: middle;\n",
       "    }\n",
       "\n",
       "    .dataframe tbody tr th {\n",
       "        vertical-align: top;\n",
       "    }\n",
       "\n",
       "    .dataframe thead th {\n",
       "        text-align: right;\n",
       "    }\n",
       "</style>\n",
       "<table border=\"1\" class=\"dataframe\">\n",
       "  <thead>\n",
       "    <tr style=\"text-align: right;\">\n",
       "      <th></th>\n",
       "      <th>../media/cache/2c/da/2cdad67c44b002e7ead0cc35693c0e8b.jpg</th>\n",
       "      <th>A Light in the Attic</th>\n",
       "      <th>£51.77</th>\n",
       "    </tr>\n",
       "  </thead>\n",
       "  <tbody>\n",
       "    <tr>\n",
       "      <th>0</th>\n",
       "      <td>../media/cache/26/0c/260c6ae16bce31c8f8c95dadd...</td>\n",
       "      <td>Tipping the Velvet</td>\n",
       "      <td>£53.74</td>\n",
       "    </tr>\n",
       "    <tr>\n",
       "      <th>1</th>\n",
       "      <td>../media/cache/3e/ef/3eef99c9d9adef34639f51066...</td>\n",
       "      <td>Soumission</td>\n",
       "      <td>£50.10</td>\n",
       "    </tr>\n",
       "    <tr>\n",
       "      <th>2</th>\n",
       "      <td>../media/cache/32/51/3251cf3a3412f53f339e42cac...</td>\n",
       "      <td>Sharp Objects</td>\n",
       "      <td>£47.82</td>\n",
       "    </tr>\n",
       "    <tr>\n",
       "      <th>3</th>\n",
       "      <td>../media/cache/be/a5/bea5697f2534a2f86a3ef27b5...</td>\n",
       "      <td>Sapiens: A Brief History of Humankind</td>\n",
       "      <td>£54.23</td>\n",
       "    </tr>\n",
       "    <tr>\n",
       "      <th>4</th>\n",
       "      <td>../media/cache/68/33/68339b4c9bc034267e1da611a...</td>\n",
       "      <td>The Requiem Red</td>\n",
       "      <td>£22.65</td>\n",
       "    </tr>\n",
       "  </tbody>\n",
       "</table>\n",
       "</div>"
      ],
      "text/plain": [
       "  ../media/cache/2c/da/2cdad67c44b002e7ead0cc35693c0e8b.jpg  \\\n",
       "0  ../media/cache/26/0c/260c6ae16bce31c8f8c95dadd...          \n",
       "1  ../media/cache/3e/ef/3eef99c9d9adef34639f51066...          \n",
       "2  ../media/cache/32/51/3251cf3a3412f53f339e42cac...          \n",
       "3  ../media/cache/be/a5/bea5697f2534a2f86a3ef27b5...          \n",
       "4  ../media/cache/68/33/68339b4c9bc034267e1da611a...          \n",
       "\n",
       "                    A Light in the Attic  £51.77  \n",
       "0                     Tipping the Velvet  £53.74  \n",
       "1                             Soumission  £50.10  \n",
       "2                          Sharp Objects  £47.82  \n",
       "3  Sapiens: A Brief History of Humankind  £54.23  \n",
       "4                        The Requiem Red  £22.65  "
      ]
     },
     "execution_count": 58,
     "metadata": {},
     "output_type": "execute_result"
    }
   ],
   "source": [
    "df1.head()"
   ]
  },
  {
   "cell_type": "code",
   "execution_count": 59,
   "metadata": {},
   "outputs": [
    {
     "data": {
      "text/plain": [
       "(999, 3)"
      ]
     },
     "execution_count": 59,
     "metadata": {},
     "output_type": "execute_result"
    }
   ],
   "source": [
    "df1.shape"
   ]
  },
  {
   "cell_type": "code",
   "execution_count": 62,
   "metadata": {},
   "outputs": [],
   "source": [
    "tits = ['image_url','book_title','product_price']\n"
   ]
  },
  {
   "cell_type": "code",
   "execution_count": 66,
   "metadata": {},
   "outputs": [],
   "source": [
    "df1.to_csv('bookstore.csv')"
   ]
  },
  {
   "cell_type": "code",
   "execution_count": 67,
   "metadata": {},
   "outputs": [],
   "source": [
    "df2 = pd.read_csv('bookstore.csv')"
   ]
  },
  {
   "cell_type": "code",
   "execution_count": 71,
   "metadata": {},
   "outputs": [
    {
     "ename": "KeyError",
     "evalue": "'Unnamed:0'",
     "output_type": "error",
     "traceback": [
      "\u001b[1;31m---------------------------------------------------------------------------\u001b[0m",
      "\u001b[1;31mKeyError\u001b[0m                                  Traceback (most recent call last)",
      "\u001b[1;32m~\\Anaconda3\\lib\\site-packages\\pandas\\core\\indexes\\base.py\u001b[0m in \u001b[0;36mget_loc\u001b[1;34m(self, key, method, tolerance)\u001b[0m\n\u001b[0;32m   2645\u001b[0m             \u001b[1;32mtry\u001b[0m\u001b[1;33m:\u001b[0m\u001b[1;33m\u001b[0m\u001b[1;33m\u001b[0m\u001b[0m\n\u001b[1;32m-> 2646\u001b[1;33m                 \u001b[1;32mreturn\u001b[0m \u001b[0mself\u001b[0m\u001b[1;33m.\u001b[0m\u001b[0m_engine\u001b[0m\u001b[1;33m.\u001b[0m\u001b[0mget_loc\u001b[0m\u001b[1;33m(\u001b[0m\u001b[0mkey\u001b[0m\u001b[1;33m)\u001b[0m\u001b[1;33m\u001b[0m\u001b[1;33m\u001b[0m\u001b[0m\n\u001b[0m\u001b[0;32m   2647\u001b[0m             \u001b[1;32mexcept\u001b[0m \u001b[0mKeyError\u001b[0m\u001b[1;33m:\u001b[0m\u001b[1;33m\u001b[0m\u001b[1;33m\u001b[0m\u001b[0m\n",
      "\u001b[1;32mpandas\\_libs\\index.pyx\u001b[0m in \u001b[0;36mpandas._libs.index.IndexEngine.get_loc\u001b[1;34m()\u001b[0m\n",
      "\u001b[1;32mpandas\\_libs\\index.pyx\u001b[0m in \u001b[0;36mpandas._libs.index.IndexEngine.get_loc\u001b[1;34m()\u001b[0m\n",
      "\u001b[1;32mpandas\\_libs\\hashtable_class_helper.pxi\u001b[0m in \u001b[0;36mpandas._libs.hashtable.PyObjectHashTable.get_item\u001b[1;34m()\u001b[0m\n",
      "\u001b[1;32mpandas\\_libs\\hashtable_class_helper.pxi\u001b[0m in \u001b[0;36mpandas._libs.hashtable.PyObjectHashTable.get_item\u001b[1;34m()\u001b[0m\n",
      "\u001b[1;31mKeyError\u001b[0m: 'Unnamed:0'",
      "\nDuring handling of the above exception, another exception occurred:\n",
      "\u001b[1;31mKeyError\u001b[0m                                  Traceback (most recent call last)",
      "\u001b[1;32m<ipython-input-71-d8fd0e609bc6>\u001b[0m in \u001b[0;36m<module>\u001b[1;34m\u001b[0m\n\u001b[1;32m----> 1\u001b[1;33m \u001b[0mdf2\u001b[0m\u001b[1;33m[\u001b[0m\u001b[1;34m'Unnamed:0'\u001b[0m\u001b[1;33m]\u001b[0m\u001b[1;33m.\u001b[0m\u001b[0mdrop\u001b[0m\u001b[1;33m(\u001b[0m\u001b[0minplace\u001b[0m\u001b[1;33m=\u001b[0m\u001b[1;32mTrue\u001b[0m\u001b[1;33m)\u001b[0m\u001b[1;33m\u001b[0m\u001b[1;33m\u001b[0m\u001b[0m\n\u001b[0m",
      "\u001b[1;32m~\\Anaconda3\\lib\\site-packages\\pandas\\core\\frame.py\u001b[0m in \u001b[0;36m__getitem__\u001b[1;34m(self, key)\u001b[0m\n\u001b[0;32m   2798\u001b[0m             \u001b[1;32mif\u001b[0m \u001b[0mself\u001b[0m\u001b[1;33m.\u001b[0m\u001b[0mcolumns\u001b[0m\u001b[1;33m.\u001b[0m\u001b[0mnlevels\u001b[0m \u001b[1;33m>\u001b[0m \u001b[1;36m1\u001b[0m\u001b[1;33m:\u001b[0m\u001b[1;33m\u001b[0m\u001b[1;33m\u001b[0m\u001b[0m\n\u001b[0;32m   2799\u001b[0m                 \u001b[1;32mreturn\u001b[0m \u001b[0mself\u001b[0m\u001b[1;33m.\u001b[0m\u001b[0m_getitem_multilevel\u001b[0m\u001b[1;33m(\u001b[0m\u001b[0mkey\u001b[0m\u001b[1;33m)\u001b[0m\u001b[1;33m\u001b[0m\u001b[1;33m\u001b[0m\u001b[0m\n\u001b[1;32m-> 2800\u001b[1;33m             \u001b[0mindexer\u001b[0m \u001b[1;33m=\u001b[0m \u001b[0mself\u001b[0m\u001b[1;33m.\u001b[0m\u001b[0mcolumns\u001b[0m\u001b[1;33m.\u001b[0m\u001b[0mget_loc\u001b[0m\u001b[1;33m(\u001b[0m\u001b[0mkey\u001b[0m\u001b[1;33m)\u001b[0m\u001b[1;33m\u001b[0m\u001b[1;33m\u001b[0m\u001b[0m\n\u001b[0m\u001b[0;32m   2801\u001b[0m             \u001b[1;32mif\u001b[0m \u001b[0mis_integer\u001b[0m\u001b[1;33m(\u001b[0m\u001b[0mindexer\u001b[0m\u001b[1;33m)\u001b[0m\u001b[1;33m:\u001b[0m\u001b[1;33m\u001b[0m\u001b[1;33m\u001b[0m\u001b[0m\n\u001b[0;32m   2802\u001b[0m                 \u001b[0mindexer\u001b[0m \u001b[1;33m=\u001b[0m \u001b[1;33m[\u001b[0m\u001b[0mindexer\u001b[0m\u001b[1;33m]\u001b[0m\u001b[1;33m\u001b[0m\u001b[1;33m\u001b[0m\u001b[0m\n",
      "\u001b[1;32m~\\Anaconda3\\lib\\site-packages\\pandas\\core\\indexes\\base.py\u001b[0m in \u001b[0;36mget_loc\u001b[1;34m(self, key, method, tolerance)\u001b[0m\n\u001b[0;32m   2646\u001b[0m                 \u001b[1;32mreturn\u001b[0m \u001b[0mself\u001b[0m\u001b[1;33m.\u001b[0m\u001b[0m_engine\u001b[0m\u001b[1;33m.\u001b[0m\u001b[0mget_loc\u001b[0m\u001b[1;33m(\u001b[0m\u001b[0mkey\u001b[0m\u001b[1;33m)\u001b[0m\u001b[1;33m\u001b[0m\u001b[1;33m\u001b[0m\u001b[0m\n\u001b[0;32m   2647\u001b[0m             \u001b[1;32mexcept\u001b[0m \u001b[0mKeyError\u001b[0m\u001b[1;33m:\u001b[0m\u001b[1;33m\u001b[0m\u001b[1;33m\u001b[0m\u001b[0m\n\u001b[1;32m-> 2648\u001b[1;33m                 \u001b[1;32mreturn\u001b[0m \u001b[0mself\u001b[0m\u001b[1;33m.\u001b[0m\u001b[0m_engine\u001b[0m\u001b[1;33m.\u001b[0m\u001b[0mget_loc\u001b[0m\u001b[1;33m(\u001b[0m\u001b[0mself\u001b[0m\u001b[1;33m.\u001b[0m\u001b[0m_maybe_cast_indexer\u001b[0m\u001b[1;33m(\u001b[0m\u001b[0mkey\u001b[0m\u001b[1;33m)\u001b[0m\u001b[1;33m)\u001b[0m\u001b[1;33m\u001b[0m\u001b[1;33m\u001b[0m\u001b[0m\n\u001b[0m\u001b[0;32m   2649\u001b[0m         \u001b[0mindexer\u001b[0m \u001b[1;33m=\u001b[0m \u001b[0mself\u001b[0m\u001b[1;33m.\u001b[0m\u001b[0mget_indexer\u001b[0m\u001b[1;33m(\u001b[0m\u001b[1;33m[\u001b[0m\u001b[0mkey\u001b[0m\u001b[1;33m]\u001b[0m\u001b[1;33m,\u001b[0m \u001b[0mmethod\u001b[0m\u001b[1;33m=\u001b[0m\u001b[0mmethod\u001b[0m\u001b[1;33m,\u001b[0m \u001b[0mtolerance\u001b[0m\u001b[1;33m=\u001b[0m\u001b[0mtolerance\u001b[0m\u001b[1;33m)\u001b[0m\u001b[1;33m\u001b[0m\u001b[1;33m\u001b[0m\u001b[0m\n\u001b[0;32m   2650\u001b[0m         \u001b[1;32mif\u001b[0m \u001b[0mindexer\u001b[0m\u001b[1;33m.\u001b[0m\u001b[0mndim\u001b[0m \u001b[1;33m>\u001b[0m \u001b[1;36m1\u001b[0m \u001b[1;32mor\u001b[0m \u001b[0mindexer\u001b[0m\u001b[1;33m.\u001b[0m\u001b[0msize\u001b[0m \u001b[1;33m>\u001b[0m \u001b[1;36m1\u001b[0m\u001b[1;33m:\u001b[0m\u001b[1;33m\u001b[0m\u001b[1;33m\u001b[0m\u001b[0m\n",
      "\u001b[1;32mpandas\\_libs\\index.pyx\u001b[0m in \u001b[0;36mpandas._libs.index.IndexEngine.get_loc\u001b[1;34m()\u001b[0m\n",
      "\u001b[1;32mpandas\\_libs\\index.pyx\u001b[0m in \u001b[0;36mpandas._libs.index.IndexEngine.get_loc\u001b[1;34m()\u001b[0m\n",
      "\u001b[1;32mpandas\\_libs\\hashtable_class_helper.pxi\u001b[0m in \u001b[0;36mpandas._libs.hashtable.PyObjectHashTable.get_item\u001b[1;34m()\u001b[0m\n",
      "\u001b[1;32mpandas\\_libs\\hashtable_class_helper.pxi\u001b[0m in \u001b[0;36mpandas._libs.hashtable.PyObjectHashTable.get_item\u001b[1;34m()\u001b[0m\n",
      "\u001b[1;31mKeyError\u001b[0m: 'Unnamed:0'"
     ]
    }
   ],
   "source": [
    "df2['Unnamed:0'].drop(inplace=True)"
   ]
  },
  {
   "cell_type": "code",
   "execution_count": 70,
   "metadata": {},
   "outputs": [
    {
     "data": {
      "text/html": [
       "<div>\n",
       "<style scoped>\n",
       "    .dataframe tbody tr th:only-of-type {\n",
       "        vertical-align: middle;\n",
       "    }\n",
       "\n",
       "    .dataframe tbody tr th {\n",
       "        vertical-align: top;\n",
       "    }\n",
       "\n",
       "    .dataframe thead th {\n",
       "        text-align: right;\n",
       "    }\n",
       "</style>\n",
       "<table border=\"1\" class=\"dataframe\">\n",
       "  <thead>\n",
       "    <tr style=\"text-align: right;\">\n",
       "      <th></th>\n",
       "      <th>Unnamed: 0</th>\n",
       "      <th>image_url</th>\n",
       "      <th>book_title</th>\n",
       "      <th>product_price</th>\n",
       "    </tr>\n",
       "  </thead>\n",
       "  <tbody>\n",
       "    <tr>\n",
       "      <th>0</th>\n",
       "      <td>0</td>\n",
       "      <td>../media/cache/2c/da/2cdad67c44b002e7ead0cc356...</td>\n",
       "      <td>A Light in the Attic</td>\n",
       "      <td>£51.77</td>\n",
       "    </tr>\n",
       "    <tr>\n",
       "      <th>1</th>\n",
       "      <td>1</td>\n",
       "      <td>../media/cache/26/0c/260c6ae16bce31c8f8c95dadd...</td>\n",
       "      <td>Tipping the Velvet</td>\n",
       "      <td>£53.74</td>\n",
       "    </tr>\n",
       "    <tr>\n",
       "      <th>2</th>\n",
       "      <td>2</td>\n",
       "      <td>../media/cache/3e/ef/3eef99c9d9adef34639f51066...</td>\n",
       "      <td>Soumission</td>\n",
       "      <td>£50.10</td>\n",
       "    </tr>\n",
       "    <tr>\n",
       "      <th>3</th>\n",
       "      <td>3</td>\n",
       "      <td>../media/cache/32/51/3251cf3a3412f53f339e42cac...</td>\n",
       "      <td>Sharp Objects</td>\n",
       "      <td>£47.82</td>\n",
       "    </tr>\n",
       "    <tr>\n",
       "      <th>4</th>\n",
       "      <td>4</td>\n",
       "      <td>../media/cache/be/a5/bea5697f2534a2f86a3ef27b5...</td>\n",
       "      <td>Sapiens: A Brief History of Humankind</td>\n",
       "      <td>£54.23</td>\n",
       "    </tr>\n",
       "    <tr>\n",
       "      <th>...</th>\n",
       "      <td>...</td>\n",
       "      <td>...</td>\n",
       "      <td>...</td>\n",
       "      <td>...</td>\n",
       "    </tr>\n",
       "    <tr>\n",
       "      <th>995</th>\n",
       "      <td>995</td>\n",
       "      <td>../media/cache/96/ee/96ee77d71a31b7694dac6855f...</td>\n",
       "      <td>Alice in Wonderland (Alice's Adventures in Won...</td>\n",
       "      <td>£55.53</td>\n",
       "    </tr>\n",
       "    <tr>\n",
       "      <th>996</th>\n",
       "      <td>996</td>\n",
       "      <td>../media/cache/09/7c/097cb5ecc6fb3fbe1690cf0cb...</td>\n",
       "      <td>Ajin: Demi-Human Volume 1 (Ajin: Demi-Human #1)</td>\n",
       "      <td>£57.06</td>\n",
       "    </tr>\n",
       "    <tr>\n",
       "      <th>997</th>\n",
       "      <td>997</td>\n",
       "      <td>../media/cache/1b/5f/1b5ff86f3c75e51e24c573d3f...</td>\n",
       "      <td>A Spy's Devotion (The Regency Spies of London #1)</td>\n",
       "      <td>£16.97</td>\n",
       "    </tr>\n",
       "    <tr>\n",
       "      <th>998</th>\n",
       "      <td>998</td>\n",
       "      <td>../media/cache/2b/41/2b4161c5b72a4ae386b644682...</td>\n",
       "      <td>1st to Die (Women's Murder Club #1)</td>\n",
       "      <td>£53.98</td>\n",
       "    </tr>\n",
       "    <tr>\n",
       "      <th>999</th>\n",
       "      <td>999</td>\n",
       "      <td>../media/cache/d7/0f/d70f7edd92705c45a82118c3f...</td>\n",
       "      <td>1000 Places to See Before You Die</td>\n",
       "      <td>£26.08</td>\n",
       "    </tr>\n",
       "  </tbody>\n",
       "</table>\n",
       "<p>1000 rows × 4 columns</p>\n",
       "</div>"
      ],
      "text/plain": [
       "     Unnamed: 0                                          image_url  \\\n",
       "0             0  ../media/cache/2c/da/2cdad67c44b002e7ead0cc356...   \n",
       "1             1  ../media/cache/26/0c/260c6ae16bce31c8f8c95dadd...   \n",
       "2             2  ../media/cache/3e/ef/3eef99c9d9adef34639f51066...   \n",
       "3             3  ../media/cache/32/51/3251cf3a3412f53f339e42cac...   \n",
       "4             4  ../media/cache/be/a5/bea5697f2534a2f86a3ef27b5...   \n",
       "..          ...                                                ...   \n",
       "995         995  ../media/cache/96/ee/96ee77d71a31b7694dac6855f...   \n",
       "996         996  ../media/cache/09/7c/097cb5ecc6fb3fbe1690cf0cb...   \n",
       "997         997  ../media/cache/1b/5f/1b5ff86f3c75e51e24c573d3f...   \n",
       "998         998  ../media/cache/2b/41/2b4161c5b72a4ae386b644682...   \n",
       "999         999  ../media/cache/d7/0f/d70f7edd92705c45a82118c3f...   \n",
       "\n",
       "                                            book_title product_price  \n",
       "0                                 A Light in the Attic        £51.77  \n",
       "1                                   Tipping the Velvet        £53.74  \n",
       "2                                           Soumission        £50.10  \n",
       "3                                        Sharp Objects        £47.82  \n",
       "4                Sapiens: A Brief History of Humankind        £54.23  \n",
       "..                                                 ...           ...  \n",
       "995  Alice in Wonderland (Alice's Adventures in Won...        £55.53  \n",
       "996    Ajin: Demi-Human Volume 1 (Ajin: Demi-Human #1)        £57.06  \n",
       "997  A Spy's Devotion (The Regency Spies of London #1)        £16.97  \n",
       "998                1st to Die (Women's Murder Club #1)        £53.98  \n",
       "999                  1000 Places to See Before You Die        £26.08  \n",
       "\n",
       "[1000 rows x 4 columns]"
      ]
     },
     "execution_count": 70,
     "metadata": {},
     "output_type": "execute_result"
    }
   ],
   "source": [
    "df2"
   ]
  },
  {
   "cell_type": "code",
   "execution_count": 77,
   "metadata": {},
   "outputs": [],
   "source": [
    "df2.drop('Unnamed: 0',axis=1,inplace=True)"
   ]
  },
  {
   "cell_type": "code",
   "execution_count": 78,
   "metadata": {},
   "outputs": [
    {
     "data": {
      "text/html": [
       "<div>\n",
       "<style scoped>\n",
       "    .dataframe tbody tr th:only-of-type {\n",
       "        vertical-align: middle;\n",
       "    }\n",
       "\n",
       "    .dataframe tbody tr th {\n",
       "        vertical-align: top;\n",
       "    }\n",
       "\n",
       "    .dataframe thead th {\n",
       "        text-align: right;\n",
       "    }\n",
       "</style>\n",
       "<table border=\"1\" class=\"dataframe\">\n",
       "  <thead>\n",
       "    <tr style=\"text-align: right;\">\n",
       "      <th></th>\n",
       "      <th>image_url</th>\n",
       "      <th>book_title</th>\n",
       "      <th>product_price</th>\n",
       "    </tr>\n",
       "  </thead>\n",
       "  <tbody>\n",
       "    <tr>\n",
       "      <th>0</th>\n",
       "      <td>../media/cache/2c/da/2cdad67c44b002e7ead0cc356...</td>\n",
       "      <td>A Light in the Attic</td>\n",
       "      <td>£51.77</td>\n",
       "    </tr>\n",
       "    <tr>\n",
       "      <th>1</th>\n",
       "      <td>../media/cache/26/0c/260c6ae16bce31c8f8c95dadd...</td>\n",
       "      <td>Tipping the Velvet</td>\n",
       "      <td>£53.74</td>\n",
       "    </tr>\n",
       "    <tr>\n",
       "      <th>2</th>\n",
       "      <td>../media/cache/3e/ef/3eef99c9d9adef34639f51066...</td>\n",
       "      <td>Soumission</td>\n",
       "      <td>£50.10</td>\n",
       "    </tr>\n",
       "    <tr>\n",
       "      <th>3</th>\n",
       "      <td>../media/cache/32/51/3251cf3a3412f53f339e42cac...</td>\n",
       "      <td>Sharp Objects</td>\n",
       "      <td>£47.82</td>\n",
       "    </tr>\n",
       "    <tr>\n",
       "      <th>4</th>\n",
       "      <td>../media/cache/be/a5/bea5697f2534a2f86a3ef27b5...</td>\n",
       "      <td>Sapiens: A Brief History of Humankind</td>\n",
       "      <td>£54.23</td>\n",
       "    </tr>\n",
       "    <tr>\n",
       "      <th>...</th>\n",
       "      <td>...</td>\n",
       "      <td>...</td>\n",
       "      <td>...</td>\n",
       "    </tr>\n",
       "    <tr>\n",
       "      <th>995</th>\n",
       "      <td>../media/cache/96/ee/96ee77d71a31b7694dac6855f...</td>\n",
       "      <td>Alice in Wonderland (Alice's Adventures in Won...</td>\n",
       "      <td>£55.53</td>\n",
       "    </tr>\n",
       "    <tr>\n",
       "      <th>996</th>\n",
       "      <td>../media/cache/09/7c/097cb5ecc6fb3fbe1690cf0cb...</td>\n",
       "      <td>Ajin: Demi-Human Volume 1 (Ajin: Demi-Human #1)</td>\n",
       "      <td>£57.06</td>\n",
       "    </tr>\n",
       "    <tr>\n",
       "      <th>997</th>\n",
       "      <td>../media/cache/1b/5f/1b5ff86f3c75e51e24c573d3f...</td>\n",
       "      <td>A Spy's Devotion (The Regency Spies of London #1)</td>\n",
       "      <td>£16.97</td>\n",
       "    </tr>\n",
       "    <tr>\n",
       "      <th>998</th>\n",
       "      <td>../media/cache/2b/41/2b4161c5b72a4ae386b644682...</td>\n",
       "      <td>1st to Die (Women's Murder Club #1)</td>\n",
       "      <td>£53.98</td>\n",
       "    </tr>\n",
       "    <tr>\n",
       "      <th>999</th>\n",
       "      <td>../media/cache/d7/0f/d70f7edd92705c45a82118c3f...</td>\n",
       "      <td>1000 Places to See Before You Die</td>\n",
       "      <td>£26.08</td>\n",
       "    </tr>\n",
       "  </tbody>\n",
       "</table>\n",
       "<p>1000 rows × 3 columns</p>\n",
       "</div>"
      ],
      "text/plain": [
       "                                             image_url  \\\n",
       "0    ../media/cache/2c/da/2cdad67c44b002e7ead0cc356...   \n",
       "1    ../media/cache/26/0c/260c6ae16bce31c8f8c95dadd...   \n",
       "2    ../media/cache/3e/ef/3eef99c9d9adef34639f51066...   \n",
       "3    ../media/cache/32/51/3251cf3a3412f53f339e42cac...   \n",
       "4    ../media/cache/be/a5/bea5697f2534a2f86a3ef27b5...   \n",
       "..                                                 ...   \n",
       "995  ../media/cache/96/ee/96ee77d71a31b7694dac6855f...   \n",
       "996  ../media/cache/09/7c/097cb5ecc6fb3fbe1690cf0cb...   \n",
       "997  ../media/cache/1b/5f/1b5ff86f3c75e51e24c573d3f...   \n",
       "998  ../media/cache/2b/41/2b4161c5b72a4ae386b644682...   \n",
       "999  ../media/cache/d7/0f/d70f7edd92705c45a82118c3f...   \n",
       "\n",
       "                                            book_title product_price  \n",
       "0                                 A Light in the Attic        £51.77  \n",
       "1                                   Tipping the Velvet        £53.74  \n",
       "2                                           Soumission        £50.10  \n",
       "3                                        Sharp Objects        £47.82  \n",
       "4                Sapiens: A Brief History of Humankind        £54.23  \n",
       "..                                                 ...           ...  \n",
       "995  Alice in Wonderland (Alice's Adventures in Won...        £55.53  \n",
       "996    Ajin: Demi-Human Volume 1 (Ajin: Demi-Human #1)        £57.06  \n",
       "997  A Spy's Devotion (The Regency Spies of London #1)        £16.97  \n",
       "998                1st to Die (Women's Murder Club #1)        £53.98  \n",
       "999                  1000 Places to See Before You Die        £26.08  \n",
       "\n",
       "[1000 rows x 3 columns]"
      ]
     },
     "execution_count": 78,
     "metadata": {},
     "output_type": "execute_result"
    }
   ],
   "source": [
    "df2"
   ]
  },
  {
   "cell_type": "code",
   "execution_count": 84,
   "metadata": {},
   "outputs": [],
   "source": [
    "df2.to_csv('fake.csv',index=False)"
   ]
  },
  {
   "cell_type": "code",
   "execution_count": 85,
   "metadata": {},
   "outputs": [],
   "source": [
    "df3 = pd.read_csv('fake.csv')"
   ]
  },
  {
   "cell_type": "code",
   "execution_count": 87,
   "metadata": {},
   "outputs": [
    {
     "data": {
      "text/html": [
       "<div>\n",
       "<style scoped>\n",
       "    .dataframe tbody tr th:only-of-type {\n",
       "        vertical-align: middle;\n",
       "    }\n",
       "\n",
       "    .dataframe tbody tr th {\n",
       "        vertical-align: top;\n",
       "    }\n",
       "\n",
       "    .dataframe thead th {\n",
       "        text-align: right;\n",
       "    }\n",
       "</style>\n",
       "<table border=\"1\" class=\"dataframe\">\n",
       "  <thead>\n",
       "    <tr style=\"text-align: right;\">\n",
       "      <th></th>\n",
       "      <th>image_url</th>\n",
       "      <th>book_title</th>\n",
       "      <th>product_price</th>\n",
       "    </tr>\n",
       "  </thead>\n",
       "  <tbody>\n",
       "    <tr>\n",
       "      <th>0</th>\n",
       "      <td>../media/cache/2c/da/2cdad67c44b002e7ead0cc356...</td>\n",
       "      <td>A Light in the Attic</td>\n",
       "      <td>£51.77</td>\n",
       "    </tr>\n",
       "    <tr>\n",
       "      <th>1</th>\n",
       "      <td>../media/cache/26/0c/260c6ae16bce31c8f8c95dadd...</td>\n",
       "      <td>Tipping the Velvet</td>\n",
       "      <td>£53.74</td>\n",
       "    </tr>\n",
       "    <tr>\n",
       "      <th>2</th>\n",
       "      <td>../media/cache/3e/ef/3eef99c9d9adef34639f51066...</td>\n",
       "      <td>Soumission</td>\n",
       "      <td>£50.10</td>\n",
       "    </tr>\n",
       "    <tr>\n",
       "      <th>3</th>\n",
       "      <td>../media/cache/32/51/3251cf3a3412f53f339e42cac...</td>\n",
       "      <td>Sharp Objects</td>\n",
       "      <td>£47.82</td>\n",
       "    </tr>\n",
       "    <tr>\n",
       "      <th>4</th>\n",
       "      <td>../media/cache/be/a5/bea5697f2534a2f86a3ef27b5...</td>\n",
       "      <td>Sapiens: A Brief History of Humankind</td>\n",
       "      <td>£54.23</td>\n",
       "    </tr>\n",
       "    <tr>\n",
       "      <th>...</th>\n",
       "      <td>...</td>\n",
       "      <td>...</td>\n",
       "      <td>...</td>\n",
       "    </tr>\n",
       "    <tr>\n",
       "      <th>995</th>\n",
       "      <td>../media/cache/96/ee/96ee77d71a31b7694dac6855f...</td>\n",
       "      <td>Alice in Wonderland (Alice's Adventures in Won...</td>\n",
       "      <td>£55.53</td>\n",
       "    </tr>\n",
       "    <tr>\n",
       "      <th>996</th>\n",
       "      <td>../media/cache/09/7c/097cb5ecc6fb3fbe1690cf0cb...</td>\n",
       "      <td>Ajin: Demi-Human Volume 1 (Ajin: Demi-Human #1)</td>\n",
       "      <td>£57.06</td>\n",
       "    </tr>\n",
       "    <tr>\n",
       "      <th>997</th>\n",
       "      <td>../media/cache/1b/5f/1b5ff86f3c75e51e24c573d3f...</td>\n",
       "      <td>A Spy's Devotion (The Regency Spies of London #1)</td>\n",
       "      <td>£16.97</td>\n",
       "    </tr>\n",
       "    <tr>\n",
       "      <th>998</th>\n",
       "      <td>../media/cache/2b/41/2b4161c5b72a4ae386b644682...</td>\n",
       "      <td>1st to Die (Women's Murder Club #1)</td>\n",
       "      <td>£53.98</td>\n",
       "    </tr>\n",
       "    <tr>\n",
       "      <th>999</th>\n",
       "      <td>../media/cache/d7/0f/d70f7edd92705c45a82118c3f...</td>\n",
       "      <td>1000 Places to See Before You Die</td>\n",
       "      <td>£26.08</td>\n",
       "    </tr>\n",
       "  </tbody>\n",
       "</table>\n",
       "<p>1000 rows × 3 columns</p>\n",
       "</div>"
      ],
      "text/plain": [
       "                                             image_url  \\\n",
       "0    ../media/cache/2c/da/2cdad67c44b002e7ead0cc356...   \n",
       "1    ../media/cache/26/0c/260c6ae16bce31c8f8c95dadd...   \n",
       "2    ../media/cache/3e/ef/3eef99c9d9adef34639f51066...   \n",
       "3    ../media/cache/32/51/3251cf3a3412f53f339e42cac...   \n",
       "4    ../media/cache/be/a5/bea5697f2534a2f86a3ef27b5...   \n",
       "..                                                 ...   \n",
       "995  ../media/cache/96/ee/96ee77d71a31b7694dac6855f...   \n",
       "996  ../media/cache/09/7c/097cb5ecc6fb3fbe1690cf0cb...   \n",
       "997  ../media/cache/1b/5f/1b5ff86f3c75e51e24c573d3f...   \n",
       "998  ../media/cache/2b/41/2b4161c5b72a4ae386b644682...   \n",
       "999  ../media/cache/d7/0f/d70f7edd92705c45a82118c3f...   \n",
       "\n",
       "                                            book_title product_price  \n",
       "0                                 A Light in the Attic        £51.77  \n",
       "1                                   Tipping the Velvet        £53.74  \n",
       "2                                           Soumission        £50.10  \n",
       "3                                        Sharp Objects        £47.82  \n",
       "4                Sapiens: A Brief History of Humankind        £54.23  \n",
       "..                                                 ...           ...  \n",
       "995  Alice in Wonderland (Alice's Adventures in Won...        £55.53  \n",
       "996    Ajin: Demi-Human Volume 1 (Ajin: Demi-Human #1)        £57.06  \n",
       "997  A Spy's Devotion (The Regency Spies of London #1)        £16.97  \n",
       "998                1st to Die (Women's Murder Club #1)        £53.98  \n",
       "999                  1000 Places to See Before You Die        £26.08  \n",
       "\n",
       "[1000 rows x 3 columns]"
      ]
     },
     "execution_count": 87,
     "metadata": {},
     "output_type": "execute_result"
    }
   ],
   "source": [
    "df3"
   ]
  },
  {
   "cell_type": "code",
   "execution_count": null,
   "metadata": {},
   "outputs": [],
   "source": []
  },
  {
   "cell_type": "code",
   "execution_count": null,
   "metadata": {},
   "outputs": [],
   "source": []
  },
  {
   "cell_type": "code",
   "execution_count": 93,
   "metadata": {},
   "outputs": [],
   "source": [
    "df4 = pd.read_csv(r'bookstore/books2.csv',names=tits)"
   ]
  },
  {
   "cell_type": "code",
   "execution_count": 94,
   "metadata": {},
   "outputs": [
    {
     "data": {
      "text/html": [
       "<div>\n",
       "<style scoped>\n",
       "    .dataframe tbody tr th:only-of-type {\n",
       "        vertical-align: middle;\n",
       "    }\n",
       "\n",
       "    .dataframe tbody tr th {\n",
       "        vertical-align: top;\n",
       "    }\n",
       "\n",
       "    .dataframe thead th {\n",
       "        text-align: right;\n",
       "    }\n",
       "</style>\n",
       "<table border=\"1\" class=\"dataframe\">\n",
       "  <thead>\n",
       "    <tr style=\"text-align: right;\">\n",
       "      <th></th>\n",
       "      <th>image_url</th>\n",
       "      <th>book_title</th>\n",
       "      <th>product_price</th>\n",
       "    </tr>\n",
       "  </thead>\n",
       "  <tbody>\n",
       "    <tr>\n",
       "      <th>0</th>\n",
       "      <td>../media/cache/2c/da/2cdad67c44b002e7ead0cc356...</td>\n",
       "      <td>A Light in the ...</td>\n",
       "      <td>£51.77</td>\n",
       "    </tr>\n",
       "    <tr>\n",
       "      <th>1</th>\n",
       "      <td>../media/cache/26/0c/260c6ae16bce31c8f8c95dadd...</td>\n",
       "      <td>Tipping the Velvet</td>\n",
       "      <td>£53.74</td>\n",
       "    </tr>\n",
       "    <tr>\n",
       "      <th>2</th>\n",
       "      <td>../media/cache/3e/ef/3eef99c9d9adef34639f51066...</td>\n",
       "      <td>Soumission</td>\n",
       "      <td>£50.10</td>\n",
       "    </tr>\n",
       "    <tr>\n",
       "      <th>3</th>\n",
       "      <td>../media/cache/32/51/3251cf3a3412f53f339e42cac...</td>\n",
       "      <td>Sharp Objects</td>\n",
       "      <td>£47.82</td>\n",
       "    </tr>\n",
       "    <tr>\n",
       "      <th>4</th>\n",
       "      <td>../media/cache/be/a5/bea5697f2534a2f86a3ef27b5...</td>\n",
       "      <td>Sapiens: A Brief History ...</td>\n",
       "      <td>£54.23</td>\n",
       "    </tr>\n",
       "    <tr>\n",
       "      <th>...</th>\n",
       "      <td>...</td>\n",
       "      <td>...</td>\n",
       "      <td>...</td>\n",
       "    </tr>\n",
       "    <tr>\n",
       "      <th>995</th>\n",
       "      <td>../media/cache/96/ee/96ee77d71a31b7694dac6855f...</td>\n",
       "      <td>Alice in Wonderland (Alice's ...</td>\n",
       "      <td>£55.53</td>\n",
       "    </tr>\n",
       "    <tr>\n",
       "      <th>996</th>\n",
       "      <td>../media/cache/09/7c/097cb5ecc6fb3fbe1690cf0cb...</td>\n",
       "      <td>Ajin: Demi-Human Volume 1 ...</td>\n",
       "      <td>£57.06</td>\n",
       "    </tr>\n",
       "    <tr>\n",
       "      <th>997</th>\n",
       "      <td>../media/cache/1b/5f/1b5ff86f3c75e51e24c573d3f...</td>\n",
       "      <td>A Spy's Devotion (The ...</td>\n",
       "      <td>£16.97</td>\n",
       "    </tr>\n",
       "    <tr>\n",
       "      <th>998</th>\n",
       "      <td>../media/cache/2b/41/2b4161c5b72a4ae386b644682...</td>\n",
       "      <td>1st to Die (Women's ...</td>\n",
       "      <td>£53.98</td>\n",
       "    </tr>\n",
       "    <tr>\n",
       "      <th>999</th>\n",
       "      <td>../media/cache/d7/0f/d70f7edd92705c45a82118c3f...</td>\n",
       "      <td>1000 Places to See ...</td>\n",
       "      <td>£26.08</td>\n",
       "    </tr>\n",
       "  </tbody>\n",
       "</table>\n",
       "<p>1000 rows × 3 columns</p>\n",
       "</div>"
      ],
      "text/plain": [
       "                                             image_url  \\\n",
       "0    ../media/cache/2c/da/2cdad67c44b002e7ead0cc356...   \n",
       "1    ../media/cache/26/0c/260c6ae16bce31c8f8c95dadd...   \n",
       "2    ../media/cache/3e/ef/3eef99c9d9adef34639f51066...   \n",
       "3    ../media/cache/32/51/3251cf3a3412f53f339e42cac...   \n",
       "4    ../media/cache/be/a5/bea5697f2534a2f86a3ef27b5...   \n",
       "..                                                 ...   \n",
       "995  ../media/cache/96/ee/96ee77d71a31b7694dac6855f...   \n",
       "996  ../media/cache/09/7c/097cb5ecc6fb3fbe1690cf0cb...   \n",
       "997  ../media/cache/1b/5f/1b5ff86f3c75e51e24c573d3f...   \n",
       "998  ../media/cache/2b/41/2b4161c5b72a4ae386b644682...   \n",
       "999  ../media/cache/d7/0f/d70f7edd92705c45a82118c3f...   \n",
       "\n",
       "                           book_title product_price  \n",
       "0                  A Light in the ...        £51.77  \n",
       "1                  Tipping the Velvet        £53.74  \n",
       "2                          Soumission        £50.10  \n",
       "3                       Sharp Objects        £47.82  \n",
       "4        Sapiens: A Brief History ...        £54.23  \n",
       "..                                ...           ...  \n",
       "995  Alice in Wonderland (Alice's ...        £55.53  \n",
       "996     Ajin: Demi-Human Volume 1 ...        £57.06  \n",
       "997         A Spy's Devotion (The ...        £16.97  \n",
       "998           1st to Die (Women's ...        £53.98  \n",
       "999            1000 Places to See ...        £26.08  \n",
       "\n",
       "[1000 rows x 3 columns]"
      ]
     },
     "execution_count": 94,
     "metadata": {},
     "output_type": "execute_result"
    }
   ],
   "source": [
    "df4"
   ]
  },
  {
   "cell_type": "code",
   "execution_count": 95,
   "metadata": {},
   "outputs": [],
   "source": [
    "df4.to_csv('bookstore2.csv',index=False)"
   ]
  },
  {
   "cell_type": "code",
   "execution_count": 96,
   "metadata": {},
   "outputs": [],
   "source": [
    "fuck = pd.read_csv('bookstore2.csv')"
   ]
  },
  {
   "cell_type": "code",
   "execution_count": 97,
   "metadata": {},
   "outputs": [
    {
     "data": {
      "text/html": [
       "<div>\n",
       "<style scoped>\n",
       "    .dataframe tbody tr th:only-of-type {\n",
       "        vertical-align: middle;\n",
       "    }\n",
       "\n",
       "    .dataframe tbody tr th {\n",
       "        vertical-align: top;\n",
       "    }\n",
       "\n",
       "    .dataframe thead th {\n",
       "        text-align: right;\n",
       "    }\n",
       "</style>\n",
       "<table border=\"1\" class=\"dataframe\">\n",
       "  <thead>\n",
       "    <tr style=\"text-align: right;\">\n",
       "      <th></th>\n",
       "      <th>image_url</th>\n",
       "      <th>book_title</th>\n",
       "      <th>product_price</th>\n",
       "    </tr>\n",
       "  </thead>\n",
       "  <tbody>\n",
       "    <tr>\n",
       "      <th>0</th>\n",
       "      <td>../media/cache/2c/da/2cdad67c44b002e7ead0cc356...</td>\n",
       "      <td>A Light in the ...</td>\n",
       "      <td>£51.77</td>\n",
       "    </tr>\n",
       "    <tr>\n",
       "      <th>1</th>\n",
       "      <td>../media/cache/26/0c/260c6ae16bce31c8f8c95dadd...</td>\n",
       "      <td>Tipping the Velvet</td>\n",
       "      <td>£53.74</td>\n",
       "    </tr>\n",
       "    <tr>\n",
       "      <th>2</th>\n",
       "      <td>../media/cache/3e/ef/3eef99c9d9adef34639f51066...</td>\n",
       "      <td>Soumission</td>\n",
       "      <td>£50.10</td>\n",
       "    </tr>\n",
       "    <tr>\n",
       "      <th>3</th>\n",
       "      <td>../media/cache/32/51/3251cf3a3412f53f339e42cac...</td>\n",
       "      <td>Sharp Objects</td>\n",
       "      <td>£47.82</td>\n",
       "    </tr>\n",
       "    <tr>\n",
       "      <th>4</th>\n",
       "      <td>../media/cache/be/a5/bea5697f2534a2f86a3ef27b5...</td>\n",
       "      <td>Sapiens: A Brief History ...</td>\n",
       "      <td>£54.23</td>\n",
       "    </tr>\n",
       "    <tr>\n",
       "      <th>...</th>\n",
       "      <td>...</td>\n",
       "      <td>...</td>\n",
       "      <td>...</td>\n",
       "    </tr>\n",
       "    <tr>\n",
       "      <th>995</th>\n",
       "      <td>../media/cache/96/ee/96ee77d71a31b7694dac6855f...</td>\n",
       "      <td>Alice in Wonderland (Alice's ...</td>\n",
       "      <td>£55.53</td>\n",
       "    </tr>\n",
       "    <tr>\n",
       "      <th>996</th>\n",
       "      <td>../media/cache/09/7c/097cb5ecc6fb3fbe1690cf0cb...</td>\n",
       "      <td>Ajin: Demi-Human Volume 1 ...</td>\n",
       "      <td>£57.06</td>\n",
       "    </tr>\n",
       "    <tr>\n",
       "      <th>997</th>\n",
       "      <td>../media/cache/1b/5f/1b5ff86f3c75e51e24c573d3f...</td>\n",
       "      <td>A Spy's Devotion (The ...</td>\n",
       "      <td>£16.97</td>\n",
       "    </tr>\n",
       "    <tr>\n",
       "      <th>998</th>\n",
       "      <td>../media/cache/2b/41/2b4161c5b72a4ae386b644682...</td>\n",
       "      <td>1st to Die (Women's ...</td>\n",
       "      <td>£53.98</td>\n",
       "    </tr>\n",
       "    <tr>\n",
       "      <th>999</th>\n",
       "      <td>../media/cache/d7/0f/d70f7edd92705c45a82118c3f...</td>\n",
       "      <td>1000 Places to See ...</td>\n",
       "      <td>£26.08</td>\n",
       "    </tr>\n",
       "  </tbody>\n",
       "</table>\n",
       "<p>1000 rows × 3 columns</p>\n",
       "</div>"
      ],
      "text/plain": [
       "                                             image_url  \\\n",
       "0    ../media/cache/2c/da/2cdad67c44b002e7ead0cc356...   \n",
       "1    ../media/cache/26/0c/260c6ae16bce31c8f8c95dadd...   \n",
       "2    ../media/cache/3e/ef/3eef99c9d9adef34639f51066...   \n",
       "3    ../media/cache/32/51/3251cf3a3412f53f339e42cac...   \n",
       "4    ../media/cache/be/a5/bea5697f2534a2f86a3ef27b5...   \n",
       "..                                                 ...   \n",
       "995  ../media/cache/96/ee/96ee77d71a31b7694dac6855f...   \n",
       "996  ../media/cache/09/7c/097cb5ecc6fb3fbe1690cf0cb...   \n",
       "997  ../media/cache/1b/5f/1b5ff86f3c75e51e24c573d3f...   \n",
       "998  ../media/cache/2b/41/2b4161c5b72a4ae386b644682...   \n",
       "999  ../media/cache/d7/0f/d70f7edd92705c45a82118c3f...   \n",
       "\n",
       "                           book_title product_price  \n",
       "0                  A Light in the ...        £51.77  \n",
       "1                  Tipping the Velvet        £53.74  \n",
       "2                          Soumission        £50.10  \n",
       "3                       Sharp Objects        £47.82  \n",
       "4        Sapiens: A Brief History ...        £54.23  \n",
       "..                                ...           ...  \n",
       "995  Alice in Wonderland (Alice's ...        £55.53  \n",
       "996     Ajin: Demi-Human Volume 1 ...        £57.06  \n",
       "997         A Spy's Devotion (The ...        £16.97  \n",
       "998           1st to Die (Women's ...        £53.98  \n",
       "999            1000 Places to See ...        £26.08  \n",
       "\n",
       "[1000 rows x 3 columns]"
      ]
     },
     "execution_count": 97,
     "metadata": {},
     "output_type": "execute_result"
    }
   ],
   "source": [
    "fuck"
   ]
  },
  {
   "cell_type": "code",
   "execution_count": null,
   "metadata": {},
   "outputs": [],
   "source": []
  }
 ],
 "metadata": {
  "kernelspec": {
   "display_name": "Python 3",
   "language": "python",
   "name": "python3"
  },
  "language_info": {
   "codemirror_mode": {
    "name": "ipython",
    "version": 3
   },
   "file_extension": ".py",
   "mimetype": "text/x-python",
   "name": "python",
   "nbconvert_exporter": "python",
   "pygments_lexer": "ipython3",
   "version": "3.7.7"
  }
 },
 "nbformat": 4,
 "nbformat_minor": 4
}
