{
 "cells": [
  {
   "cell_type": "code",
   "execution_count": 3,
   "metadata": {},
   "outputs": [],
   "source": [
    "import numpy as np"
   ]
  },
  {
   "cell_type": "markdown",
   "metadata": {},
   "source": [
    "Compute the infinite norm of the following matrix\n",
    "\n",
    "2\t-2\t1\n",
    "\n",
    "-1\t2\t-1\n",
    "\n",
    "2\t-4\t1\n"
   ]
  },
  {
   "cell_type": "code",
   "execution_count": 4,
   "metadata": {},
   "outputs": [
    {
     "name": "stdout",
     "output_type": "stream",
     "text": [
      "[[ 2 -2  1]\n",
      " [-1  2 -1]\n",
      " [ 2 -4  1]]\n"
     ]
    }
   ],
   "source": [
    "a = np.array([[2,-2,1],[-1,2,-1],[2,-4,1]])\n",
    "print(a)"
   ]
  },
  {
   "cell_type": "code",
   "execution_count": 6,
   "metadata": {},
   "outputs": [
    {
     "data": {
      "text/plain": [
       "7.0"
      ]
     },
     "execution_count": 6,
     "metadata": {},
     "output_type": "execute_result"
    }
   ],
   "source": [
    "#i guess first row gives 5, 2nd-> 4 and 3rd gives 7\n",
    "lpinf = np.linalg.norm(a,ord=np.inf)\n",
    "lpinf"
   ]
  },
  {
   "cell_type": "code",
   "execution_count": null,
   "metadata": {},
   "outputs": [],
   "source": []
  },
  {
   "cell_type": "markdown",
   "metadata": {},
   "source": [
    "The L2 norm is also called as Frobenius norm. Compute the Frobenius norm of the following matrix\n",
    "\n",
    "2\t-2\t1\n",
    "\n",
    "-1\t2\t-1\n",
    "\n",
    "2\t-4\t1"
   ]
  },
  {
   "cell_type": "code",
   "execution_count": 8,
   "metadata": {},
   "outputs": [
    {
     "data": {
      "text/plain": [
       "6.0"
      ]
     },
     "execution_count": 8,
     "metadata": {},
     "output_type": "execute_result"
    }
   ],
   "source": [
    "#calculate norm of each row then calculate combined values of norm of each rows\n",
    "lp2 = np.linalg.norm(a)\n",
    "lp2"
   ]
  },
  {
   "cell_type": "code",
   "execution_count": null,
   "metadata": {},
   "outputs": [],
   "source": []
  },
  {
   "cell_type": "code",
   "execution_count": null,
   "metadata": {},
   "outputs": [],
   "source": []
  },
  {
   "cell_type": "markdown",
   "metadata": {},
   "source": [
    "Q3. Matrix Multiplication\n",
    "Let A matrix be\n",
    "\n",
    "1\t-3\t4\n",
    "\n",
    "-2\t10\t-7\n",
    "\n",
    "0\t1\t0\n",
    "\n",
    "0\t0\t0\n",
    "\n",
    "Let B matrix be\n",
    "\n",
    "5\t0\n",
    "\n",
    "-2\t11\n",
    "\n",
    "-3\t12\n",
    "\n",
    "Which of the following matrices is equal to the matrix AB ?"
   ]
  },
  {
   "cell_type": "code",
   "execution_count": 11,
   "metadata": {},
   "outputs": [
    {
     "name": "stdout",
     "output_type": "stream",
     "text": [
      "[[ 1 -3  4]\n",
      " [-2 10 -7]\n",
      " [ 0  1  0]\n",
      " [ 0  0  0]]\n",
      "[[ 5  0]\n",
      " [-2 11]\n",
      " [-3 12]]\n",
      "\n",
      "[[-1 15]\n",
      " [-9 26]\n",
      " [-2 11]\n",
      " [ 0  0]]\n"
     ]
    }
   ],
   "source": [
    "A = np.array([[1,-3,4],[-2,10,-7],[0, 1, 0],[0, 0, 0 ]])\n",
    "B = np.array([[5, 0 ],[-2, 11],[-3, 12]])\n",
    "print(A)\n",
    "print(B)\n",
    "print()\n",
    "print(A.dot(B))"
   ]
  },
  {
   "cell_type": "code",
   "execution_count": null,
   "metadata": {},
   "outputs": [],
   "source": []
  }
 ],
 "metadata": {
  "kernelspec": {
   "display_name": "Python 3",
   "language": "python",
   "name": "python3"
  },
  "language_info": {
   "codemirror_mode": {
    "name": "ipython",
    "version": 3
   },
   "file_extension": ".py",
   "mimetype": "text/x-python",
   "name": "python",
   "nbconvert_exporter": "python",
   "pygments_lexer": "ipython3",
   "version": "3.7.7"
  }
 },
 "nbformat": 4,
 "nbformat_minor": 4
}
