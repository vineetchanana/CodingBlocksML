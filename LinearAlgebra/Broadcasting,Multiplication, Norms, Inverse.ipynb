{
 "cells": [
  {
   "cell_type": "code",
   "execution_count": 1,
   "metadata": {},
   "outputs": [],
   "source": [
    "import numpy as np"
   ]
  },
  {
   "cell_type": "code",
   "execution_count": 2,
   "metadata": {},
   "outputs": [
    {
     "name": "stdout",
     "output_type": "stream",
     "text": [
      "[1 2 3 4]\n",
      "[5 6 7 8]\n"
     ]
    }
   ],
   "source": [
    "x = np.array([1,2,3,4])\n",
    "print(x)\n",
    "print(x+4)"
   ]
  },
  {
   "cell_type": "code",
   "execution_count": 7,
   "metadata": {},
   "outputs": [
    {
     "name": "stdout",
     "output_type": "stream",
     "text": [
      "[[10 20 30 40]\n",
      " [50 60 70 80]]\n",
      "[[11 22 33 44]\n",
      " [51 62 73 84]]\n"
     ]
    }
   ],
   "source": [
    "X = np.array([[10,40],[20,50],[30,60],[40,70]])\n",
    "Y = np.array([[10, 20, 30, 40],[50,60,70,80]])\n",
    "print(Y)\n",
    "print(Y+x)\n",
    "# element of x got broadcasted to another row\n",
    "#1 2 3 4    10 20 30 40\n",
    "#1 2 3 4    50 60 70 80"
   ]
  },
  {
   "cell_type": "code",
   "execution_count": null,
   "metadata": {},
   "outputs": [],
   "source": []
  },
  {
   "cell_type": "code",
   "execution_count": 10,
   "metadata": {},
   "outputs": [
    {
     "name": "stdout",
     "output_type": "stream",
     "text": [
      "[[5 2]\n",
      " [8 6]]\n",
      "[[1 7]\n",
      " [9 8]]\n"
     ]
    }
   ],
   "source": [
    "#Element-wise Multiplication\n",
    "#dimension of matrix should be same\n",
    "A = np.random.randint(1,10,(2,2))\n",
    "B = np.random.randint(1,10,(2,2))\n",
    "print(A)\n",
    "print(B)"
   ]
  },
  {
   "cell_type": "code",
   "execution_count": 11,
   "metadata": {},
   "outputs": [
    {
     "name": "stdout",
     "output_type": "stream",
     "text": [
      "[[ 5 14]\n",
      " [72 48]]\n"
     ]
    }
   ],
   "source": [
    "print(A*B)"
   ]
  },
  {
   "cell_type": "code",
   "execution_count": null,
   "metadata": {},
   "outputs": [],
   "source": []
  },
  {
   "cell_type": "code",
   "execution_count": 13,
   "metadata": {},
   "outputs": [
    {
     "name": "stdout",
     "output_type": "stream",
     "text": [
      "[[ 23  51]\n",
      " [ 62 104]]\n",
      "[[ 23  51]\n",
      " [ 62 104]]\n"
     ]
    }
   ],
   "source": [
    "#Matrix Multiplication\n",
    "print(A.dot(B))\n",
    "print(np.dot(A,B))"
   ]
  },
  {
   "cell_type": "code",
   "execution_count": null,
   "metadata": {},
   "outputs": [],
   "source": []
  },
  {
   "cell_type": "code",
   "execution_count": null,
   "metadata": {},
   "outputs": [],
   "source": []
  },
  {
   "cell_type": "markdown",
   "metadata": {},
   "source": [
    "## Norms\n",
    "\n",
    "- Norms can be thought of a proxy for size of a vector   (can think of as a magnitude of a vector)\n",
    "    - 3i + 2j , L^2 = sqrt(3^2 + 2^2)\n",
    "    - f(x) => x=0\n",
    "    - f(x+y) < f(x) + f(y)\n",
    "    - f(alpha*x) = alpha * f(x)\n",
    "    \n",
    "- $L{^2}$ is also kwown as Eucledian Norm, often ||x||\n",
    "- $L{^2}$ is also equal to $x{^T}$x\n",
    "- $L{^2}$, deriavtive is 2*x (as it is similar to $x{^2}$)\n",
    "\n",
    "- $L{^1}$ norm is absolute sum of all values of a vector\n",
    "-  Max-Norm -  $L{^\\infty}$ is absolute value of the element with the highest magnitude"
   ]
  },
  {
   "cell_type": "code",
   "execution_count": 17,
   "metadata": {},
   "outputs": [
    {
     "name": "stdout",
     "output_type": "stream",
     "text": [
      "5.0\n",
      "7.0\n",
      "4.0\n"
     ]
    }
   ],
   "source": [
    "a = np.array([3,4])\n",
    "\n",
    "#by default it gives lp2 norm\n",
    "lp2 = np.linalg.norm(a)\n",
    "print(lp2)\n",
    "\n",
    "lp1 = np.linalg.norm(a,ord=1)\n",
    "print(lp1)\n",
    "\n",
    "lpinf = np.linalg.norm(a,ord=np.inf)\n",
    "print(lpinf)"
   ]
  },
  {
   "cell_type": "code",
   "execution_count": null,
   "metadata": {},
   "outputs": [],
   "source": []
  },
  {
   "cell_type": "markdown",
   "metadata": {},
   "source": [
    "## Determinants"
   ]
  },
  {
   "cell_type": "code",
   "execution_count": 21,
   "metadata": {},
   "outputs": [
    {
     "name": "stdout",
     "output_type": "stream",
     "text": [
      "[[1 2]\n",
      " [3 4]]\n",
      "-2.0000000000000004\n"
     ]
    }
   ],
   "source": [
    "X = np.array([[1,2],[3,4]])\n",
    "print(X)\n",
    "det = np.linalg.det(X)\n",
    "print(det)"
   ]
  },
  {
   "cell_type": "markdown",
   "metadata": {},
   "source": [
    "## Inverse"
   ]
  },
  {
   "cell_type": "code",
   "execution_count": 19,
   "metadata": {},
   "outputs": [
    {
     "name": "stdout",
     "output_type": "stream",
     "text": [
      "[[3 2]\n",
      " [4 1]]\n",
      "[[-0.2  0.4]\n",
      " [ 0.8 -0.6]]\n"
     ]
    }
   ],
   "source": [
    "A = np.array([[3,2],[4,1]])\n",
    "print(A)\n",
    "inv = np.linalg.inv(A)\n",
    "print(inv)"
   ]
  },
  {
   "cell_type": "code",
   "execution_count": 30,
   "metadata": {},
   "outputs": [
    {
     "name": "stdout",
     "output_type": "stream",
     "text": [
      "[[1.00000000e+00 2.22044605e-16]\n",
      " [0.00000000e+00 1.00000000e+00]]\n"
     ]
    }
   ],
   "source": [
    "# A*Ainv gives identity matrix\n",
    "print(A.dot(inv))"
   ]
  },
  {
   "cell_type": "code",
   "execution_count": null,
   "metadata": {},
   "outputs": [],
   "source": []
  },
  {
   "cell_type": "markdown",
   "metadata": {},
   "source": [
    "## Pseudoinverse\n",
    "- when det is zero, we calculate pseudo inverse\n",
    "- if matrix is invertible (det is not equal to zero), pinv = inv"
   ]
  },
  {
   "cell_type": "code",
   "execution_count": 32,
   "metadata": {},
   "outputs": [
    {
     "name": "stdout",
     "output_type": "stream",
     "text": [
      "[[-0.2  0.4]\n",
      " [ 0.8 -0.6]]\n",
      "[[-0.2  0.4]\n",
      " [ 0.8 -0.6]]\n"
     ]
    }
   ],
   "source": [
    "print(np.linalg.inv(A))\n",
    "print(np.linalg.pinv(A))"
   ]
  },
  {
   "cell_type": "code",
   "execution_count": 37,
   "metadata": {},
   "outputs": [
    {
     "name": "stdout",
     "output_type": "stream",
     "text": [
      "[[2 3]\n",
      " [2 3]]\n",
      "[[0.07692308 0.07692308]\n",
      " [0.11538462 0.11538462]]\n"
     ]
    }
   ],
   "source": [
    "B = np.array([[2,3],[2,3]])\n",
    "print(B)\n",
    "#print(np.linalg.inv(B))  will give error\n",
    "print(np.linalg.pinv(B))"
   ]
  },
  {
   "cell_type": "code",
   "execution_count": null,
   "metadata": {},
   "outputs": [],
   "source": []
  },
  {
   "cell_type": "markdown",
   "metadata": {},
   "source": [
    "## Solve a system of equations"
   ]
  },
  {
   "cell_type": "markdown",
   "metadata": {},
   "source": [
    "3x + 2y = 8\n",
    "4x + 5y = 18\n",
    "\n",
    "[[3,2], [4,5]] = [[8],[18]]"
   ]
  },
  {
   "cell_type": "code",
   "execution_count": 45,
   "metadata": {},
   "outputs": [
    {
     "name": "stdout",
     "output_type": "stream",
     "text": [
      "[[2 3]\n",
      " [3 1]]\n",
      "[8 5]\n"
     ]
    }
   ],
   "source": [
    "a = np.array([[2,3],[3,1]])\n",
    "b = np.array([8,5])\n",
    "print(a)\n",
    "print(b)"
   ]
  },
  {
   "cell_type": "code",
   "execution_count": 46,
   "metadata": {},
   "outputs": [
    {
     "data": {
      "text/plain": [
       "array([1., 2.])"
      ]
     },
     "execution_count": 46,
     "metadata": {},
     "output_type": "execute_result"
    }
   ],
   "source": [
    "np.linalg.solve(a,b)"
   ]
  },
  {
   "cell_type": "code",
   "execution_count": null,
   "metadata": {},
   "outputs": [],
   "source": []
  }
 ],
 "metadata": {
  "kernelspec": {
   "display_name": "Python 3",
   "language": "python",
   "name": "python3"
  },
  "language_info": {
   "codemirror_mode": {
    "name": "ipython",
    "version": 3
   },
   "file_extension": ".py",
   "mimetype": "text/x-python",
   "name": "python",
   "nbconvert_exporter": "python",
   "pygments_lexer": "ipython3",
   "version": "3.7.7"
  }
 },
 "nbformat": 4,
 "nbformat_minor": 4
}
