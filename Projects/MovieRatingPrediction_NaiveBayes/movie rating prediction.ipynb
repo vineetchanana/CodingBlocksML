{
 "cells": [
  {
   "cell_type": "code",
   "execution_count": 71,
   "metadata": {},
   "outputs": [],
   "source": [
    "import numpy as np\n",
    "import pandas as pd\n",
    "import matplotlib.pyplot as plt\n",
    "import nltk\n",
    "from nltk.tokenize import word_tokenize\n",
    "from sklearn.feature_extraction.text import CountVectorizer"
   ]
  },
  {
   "cell_type": "code",
   "execution_count": 2,
   "metadata": {},
   "outputs": [],
   "source": [
    "df = pd.read_csv('./Dataset/Train.csv')"
   ]
  },
  {
   "cell_type": "code",
   "execution_count": 12,
   "metadata": {},
   "outputs": [
    {
     "data": {
      "text/plain": [
       "(10000, 1)"
      ]
     },
     "execution_count": 12,
     "metadata": {},
     "output_type": "execute_result"
    }
   ],
   "source": [
    "test_data = pd.read_csv('./Dataset/Test.csv')\n",
    "test_data.shape"
   ]
  },
  {
   "cell_type": "code",
   "execution_count": 3,
   "metadata": {},
   "outputs": [
    {
     "data": {
      "text/html": [
       "<div>\n",
       "<style scoped>\n",
       "    .dataframe tbody tr th:only-of-type {\n",
       "        vertical-align: middle;\n",
       "    }\n",
       "\n",
       "    .dataframe tbody tr th {\n",
       "        vertical-align: top;\n",
       "    }\n",
       "\n",
       "    .dataframe thead th {\n",
       "        text-align: right;\n",
       "    }\n",
       "</style>\n",
       "<table border=\"1\" class=\"dataframe\">\n",
       "  <thead>\n",
       "    <tr style=\"text-align: right;\">\n",
       "      <th></th>\n",
       "      <th>review</th>\n",
       "      <th>label</th>\n",
       "    </tr>\n",
       "  </thead>\n",
       "  <tbody>\n",
       "    <tr>\n",
       "      <th>0</th>\n",
       "      <td>mature intelligent and highly charged melodram...</td>\n",
       "      <td>pos</td>\n",
       "    </tr>\n",
       "    <tr>\n",
       "      <th>1</th>\n",
       "      <td>http://video.google.com/videoplay?docid=211772...</td>\n",
       "      <td>pos</td>\n",
       "    </tr>\n",
       "    <tr>\n",
       "      <th>2</th>\n",
       "      <td>Title: Opera (1987) Director: Dario Argento Ca...</td>\n",
       "      <td>pos</td>\n",
       "    </tr>\n",
       "    <tr>\n",
       "      <th>3</th>\n",
       "      <td>I think a lot of people just wrote this off as...</td>\n",
       "      <td>pos</td>\n",
       "    </tr>\n",
       "    <tr>\n",
       "      <th>4</th>\n",
       "      <td>This is a story of two dogs and a cat looking ...</td>\n",
       "      <td>pos</td>\n",
       "    </tr>\n",
       "  </tbody>\n",
       "</table>\n",
       "</div>"
      ],
      "text/plain": [
       "                                              review label\n",
       "0  mature intelligent and highly charged melodram...   pos\n",
       "1  http://video.google.com/videoplay?docid=211772...   pos\n",
       "2  Title: Opera (1987) Director: Dario Argento Ca...   pos\n",
       "3  I think a lot of people just wrote this off as...   pos\n",
       "4  This is a story of two dogs and a cat looking ...   pos"
      ]
     },
     "execution_count": 3,
     "metadata": {},
     "output_type": "execute_result"
    }
   ],
   "source": [
    "df.head()"
   ]
  },
  {
   "cell_type": "code",
   "execution_count": 4,
   "metadata": {},
   "outputs": [
    {
     "data": {
      "text/plain": [
       "(40000, 2)"
      ]
     },
     "execution_count": 4,
     "metadata": {},
     "output_type": "execute_result"
    }
   ],
   "source": [
    "df.shape"
   ]
  },
  {
   "cell_type": "code",
   "execution_count": 8,
   "metadata": {},
   "outputs": [
    {
     "name": "stdout",
     "output_type": "stream",
     "text": [
      "Steve Martin looks like he's had a face lift. Something very strange about his face. I usually like anything Steve does, but this movie comes off as trashy not funny. Didn't think Charlene encouraging him to be rough with his wife was a good message to be sending out to teens watching this film.\n",
      "==================================================\n",
      "neg\n"
     ]
    }
   ],
   "source": [
    "print(df['review'][10])\n",
    "print('='*50)\n",
    "print(df['label'][10])"
   ]
  },
  {
   "cell_type": "code",
   "execution_count": 13,
   "metadata": {},
   "outputs": [
    {
     "data": {
      "text/html": [
       "<div>\n",
       "<style scoped>\n",
       "    .dataframe tbody tr th:only-of-type {\n",
       "        vertical-align: middle;\n",
       "    }\n",
       "\n",
       "    .dataframe tbody tr th {\n",
       "        vertical-align: top;\n",
       "    }\n",
       "\n",
       "    .dataframe thead th {\n",
       "        text-align: right;\n",
       "    }\n",
       "</style>\n",
       "<table border=\"1\" class=\"dataframe\">\n",
       "  <thead>\n",
       "    <tr style=\"text-align: right;\">\n",
       "      <th></th>\n",
       "      <th>review</th>\n",
       "    </tr>\n",
       "  </thead>\n",
       "  <tbody>\n",
       "    <tr>\n",
       "      <th>0</th>\n",
       "      <td>Remember those old kung fu movies we used to w...</td>\n",
       "    </tr>\n",
       "    <tr>\n",
       "      <th>1</th>\n",
       "      <td>This movie is another one on my List of Movies...</td>\n",
       "    </tr>\n",
       "    <tr>\n",
       "      <th>2</th>\n",
       "      <td>How in the world does a thing like this get in...</td>\n",
       "    </tr>\n",
       "    <tr>\n",
       "      <th>3</th>\n",
       "      <td>\"Queen of the Damned\" is one of the best vampi...</td>\n",
       "    </tr>\n",
       "    <tr>\n",
       "      <th>4</th>\n",
       "      <td>The Caprica episode (S01E01) is well done as a...</td>\n",
       "    </tr>\n",
       "  </tbody>\n",
       "</table>\n",
       "</div>"
      ],
      "text/plain": [
       "                                              review\n",
       "0  Remember those old kung fu movies we used to w...\n",
       "1  This movie is another one on my List of Movies...\n",
       "2  How in the world does a thing like this get in...\n",
       "3  \"Queen of the Damned\" is one of the best vampi...\n",
       "4  The Caprica episode (S01E01) is well done as a..."
      ]
     },
     "execution_count": 13,
     "metadata": {},
     "output_type": "execute_result"
    }
   ],
   "source": [
    "test_data.head()"
   ]
  },
  {
   "cell_type": "code",
   "execution_count": 68,
   "metadata": {},
   "outputs": [],
   "source": [
    "review = df['review'][10]\n",
    "review = review.lower()"
   ]
  },
  {
   "cell_type": "code",
   "execution_count": 54,
   "metadata": {},
   "outputs": [],
   "source": [
    "token = word_tokenize(review)"
   ]
  },
  {
   "cell_type": "code",
   "execution_count": 55,
   "metadata": {},
   "outputs": [
    {
     "name": "stdout",
     "output_type": "stream",
     "text": [
      "['steve', 'martin', 'looks', 'like', 'he', \"'s\", 'had', 'a', 'face', 'lift', '.', 'something', 'very', 'strange', 'about', 'his', 'face', '.', 'i', 'usually', 'like', 'anything', 'steve', 'does', ',', 'but', 'this', 'movie', 'comes', 'off', 'as', 'trashy', 'not', 'funny', '.', 'did', \"n't\", 'think', 'charlene', 'encouraging', 'him', 'to', 'be', 'rough', 'with', 'his', 'wife', 'was', 'a', 'good', 'message', 'to', 'be', 'sending', 'out', 'to', 'teens', 'watching', 'this', 'film', '.']\n"
     ]
    }
   ],
   "source": [
    "print(token)"
   ]
  },
  {
   "cell_type": "code",
   "execution_count": 30,
   "metadata": {},
   "outputs": [],
   "source": [
    "from nltk.corpus import stopwords"
   ]
  },
  {
   "cell_type": "code",
   "execution_count": 31,
   "metadata": {},
   "outputs": [
    {
     "name": "stdout",
     "output_type": "stream",
     "text": [
      "{'until', 'of', 'or', 'few', 'needn', \"you'll\", 'hers', 'is', 'him', 'they', 'theirs', 'has', 'where', 'o', 'wouldn', 'couldn', 'were', 'out', 'but', \"wasn't\", 'won', 'me', 'ain', 'should', 'whom', 'and', 'a', 'those', 'i', 'why', 'them', 'down', 've', 'under', 'yours', 'doing', \"don't\", 'yourself', 'as', 'too', 'm', 'didn', 'she', 'itself', \"doesn't\", \"mightn't\", 'being', 'if', 'be', 'both', 'most', 'the', 'very', \"you've\", 'been', 'doesn', 'hadn', \"she's\", \"it's\", 'these', 'off', 'was', 'yourselves', \"needn't\", 'other', \"haven't\", \"shouldn't\", 'against', 'each', 'so', \"aren't\", \"weren't\", 'your', 'how', \"hadn't\", \"isn't\", 'shan', \"that'll\", 'while', 'aren', 'after', 'does', \"you'd\", 'will', 'having', 'hasn', 'ma', 'am', 'with', 'haven', 'what', 'which', 'herself', \"couldn't\", 'because', 'are', 'up', 'their', 'here', 'themselves', \"you're\", 'shouldn', 'd', 'this', 'more', \"didn't\", 'below', 'on', 'about', 'again', \"hasn't\", 'don', 'ourselves', 'can', 'wasn', 'only', 'ours', 'all', 'y', 'before', 'weren', 'same', 'mightn', 'then', \"won't\", 's', 'some', \"shan't\", 'have', 'above', 'such', 'll', 'further', 'into', 'an', \"mustn't\", 'not', 'its', 'did', 'mustn', 'during', 'through', 'it', 'there', 'my', 'now', 't', 'at', 'do', 'he', 're', 'from', 'own', 'to', 'just', 'once', \"wouldn't\", 'that', 'nor', 'myself', 'we', 'our', 'isn', 'by', \"should've\", 'over', 'any', 'his', 'her', 'when', 'you', 'had', 'for', 'who', 'than', 'no', 'between', 'in', 'himself'}\n"
     ]
    }
   ],
   "source": [
    "sw = set(stopwords.words('english'))\n",
    "print(sw)"
   ]
  },
  {
   "cell_type": "code",
   "execution_count": 56,
   "metadata": {},
   "outputs": [],
   "source": [
    "review = review.lower().split()\n"
   ]
  },
  {
   "cell_type": "code",
   "execution_count": 57,
   "metadata": {},
   "outputs": [
    {
     "name": "stdout",
     "output_type": "stream",
     "text": [
      "['steve', 'martin', 'looks', 'like', \"he's\", 'had', 'a', 'face', 'lift.', 'something', 'very', 'strange', 'about', 'his', 'face.', 'i', 'usually', 'like', 'anything', 'steve', 'does,', 'but', 'this', 'movie', 'comes', 'off', 'as', 'trashy', 'not', 'funny.', \"didn't\", 'think', 'charlene', 'encouraging', 'him', 'to', 'be', 'rough', 'with', 'his', 'wife', 'was', 'a', 'good', 'message', 'to', 'be', 'sending', 'out', 'to', 'teens', 'watching', 'this', 'film.']\n"
     ]
    },
    {
     "data": {
      "text/plain": [
       "54"
      ]
     },
     "execution_count": 57,
     "metadata": {},
     "output_type": "execute_result"
    }
   ],
   "source": [
    "print(review)\n",
    "len(review)"
   ]
  },
  {
   "cell_type": "code",
   "execution_count": 63,
   "metadata": {},
   "outputs": [],
   "source": [
    "def remove_stopwords(text,sw):\n",
    "    return [w for w in text if w not in sw or w == 'not']"
   ]
  },
  {
   "cell_type": "code",
   "execution_count": 64,
   "metadata": {},
   "outputs": [],
   "source": [
    "useful_words = remove_stopwords(review,sw)"
   ]
  },
  {
   "cell_type": "code",
   "execution_count": 65,
   "metadata": {},
   "outputs": [
    {
     "name": "stdout",
     "output_type": "stream",
     "text": [
      "['steve', 'martin', 'looks', 'like', \"he's\", 'face', 'lift.', 'something', 'strange', 'face.', 'usually', 'like', 'anything', 'steve', 'does,', 'movie', 'comes', 'trashy', 'not', 'funny.', 'think', 'charlene', 'encouraging', 'rough', 'wife', 'good', 'message', 'sending', 'teens', 'watching', 'film.']\n"
     ]
    },
    {
     "data": {
      "text/plain": [
       "31"
      ]
     },
     "execution_count": 65,
     "metadata": {},
     "output_type": "execute_result"
    }
   ],
   "source": [
    "print(useful_words)\n",
    "len(useful_words)"
   ]
  },
  {
   "cell_type": "code",
   "execution_count": 66,
   "metadata": {},
   "outputs": [],
   "source": [
    "# https://stackoverflow.com/a/47091490/4084039\n",
    "import re\n",
    "\n",
    "def decontracted(phrase):\n",
    "    # specific\n",
    "    phrase = re.sub(r\"won't\", \"will not\", phrase)\n",
    "    phrase = re.sub(r\"can\\'t\", \"can not\", phrase)\n",
    "\n",
    "    # general\n",
    "    phrase = re.sub(r\"n\\'t\", \" not\", phrase)\n",
    "    phrase = re.sub(r\"\\'re\", \" are\", phrase)\n",
    "    phrase = re.sub(r\"\\'s\", \" is\", phrase)\n",
    "    phrase = re.sub(r\"\\'d\", \" would\", phrase)\n",
    "    phrase = re.sub(r\"\\'ll\", \" will\", phrase)\n",
    "    phrase = re.sub(r\"\\'t\", \" not\", phrase)\n",
    "    phrase = re.sub(r\"\\'ve\", \" have\", phrase)\n",
    "    phrase = re.sub(r\"\\'m\", \" am\", phrase)\n",
    "    return phrase"
   ]
  },
  {
   "cell_type": "code",
   "execution_count": 73,
   "metadata": {},
   "outputs": [
    {
     "name": "stdout",
     "output_type": "stream",
     "text": [
      "steve martin looks like he's had a face lift. something very strange about his face. i usually like anything steve does, but this movie comes off as trashy not funny. didn't think charlene encouraging him to be rough with his wife was a good message to be sending out to teens watching this film.\n"
     ]
    },
    {
     "data": {
      "text/plain": [
       "'steve martin looks like he is had a face lift. something very strange about his face. i usually like anything steve does, but this movie comes off as trashy not funny. did not think charlene encouraging him to be rough with his wife was a good message to be sending out to teens watching this film.'"
      ]
     },
     "execution_count": 73,
     "metadata": {},
     "output_type": "execute_result"
    }
   ],
   "source": [
    "print(review)\n",
    "rev = decontracted(review)\n",
    "rev"
   ]
  },
  {
   "cell_type": "code",
   "execution_count": 77,
   "metadata": {},
   "outputs": [
    {
     "name": "stdout",
     "output_type": "stream",
     "text": [
      "['steve', 'martin', 'looks', 'like', 'face', 'lift.', 'something', 'strange', 'face.', 'usually', 'like', 'anything', 'steve', 'does,', 'movie', 'comes', 'trashy', 'not', 'funny.', 'not', 'think', 'charlene', 'encouraging', 'rough', 'wife', 'good', 'message', 'sending', 'teens', 'watching', 'film.']\n"
     ]
    },
    {
     "data": {
      "text/plain": [
       "31"
      ]
     },
     "execution_count": 77,
     "metadata": {},
     "output_type": "execute_result"
    }
   ],
   "source": [
    "usef_rev = remove_stopwords(rev.split(),sw)\n",
    "print(usef_rev)\n",
    "len(usef_rev)"
   ]
  },
  {
   "cell_type": "code",
   "execution_count": 72,
   "metadata": {},
   "outputs": [],
   "source": [
    "cv = CountVectorizer()"
   ]
  },
  {
   "cell_type": "code",
   "execution_count": null,
   "metadata": {},
   "outputs": [],
   "source": [
    "vectorized_corpus"
   ]
  }
 ],
 "metadata": {
  "kernelspec": {
   "display_name": "Python 3",
   "language": "python",
   "name": "python3"
  },
  "language_info": {
   "codemirror_mode": {
    "name": "ipython",
    "version": 3
   },
   "file_extension": ".py",
   "mimetype": "text/x-python",
   "name": "python",
   "nbconvert_exporter": "python",
   "pygments_lexer": "ipython3",
   "version": "3.7.7"
  }
 },
 "nbformat": 4,
 "nbformat_minor": 4
}
