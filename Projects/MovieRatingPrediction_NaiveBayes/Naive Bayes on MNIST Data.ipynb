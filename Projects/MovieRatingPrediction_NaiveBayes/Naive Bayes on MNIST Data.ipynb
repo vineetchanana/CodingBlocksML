{
 "cells": [
  {
   "cell_type": "code",
   "execution_count": 1,
   "metadata": {},
   "outputs": [],
   "source": [
    "from sklearn.datasets import load_digits\n",
    "from sklearn.model_selection import cross_val_score\n",
    "import numpy as np\n",
    "import matplotlib.pyplot as plt"
   ]
  },
  {
   "cell_type": "code",
   "execution_count": 5,
   "metadata": {},
   "outputs": [],
   "source": [
    "X = load_digits().data\n",
    "Y = load_digits().target"
   ]
  },
  {
   "cell_type": "code",
   "execution_count": 6,
   "metadata": {},
   "outputs": [
    {
     "name": "stdout",
     "output_type": "stream",
     "text": [
      "(1797, 64)\n",
      "(1797,)\n"
     ]
    }
   ],
   "source": [
    "print(X.shape)\n",
    "print(Y.shape)"
   ]
  },
  {
   "cell_type": "code",
   "execution_count": null,
   "metadata": {},
   "outputs": [],
   "source": []
  },
  {
   "cell_type": "code",
   "execution_count": 14,
   "metadata": {},
   "outputs": [
    {
     "data": {
      "image/png": "[encoded data removed]",
      "text/plain": [
       "<Figure size 432x288 with 1 Axes>"
      ]
     },
     "metadata": {
      "needs_background": "light"
     },
     "output_type": "display_data"
    }
   ],
   "source": [
    "plt.imshow(X[130].reshape(8,-1),cmap='gray')\n",
    "plt.title(Y[130])\n",
    "plt.show()"
   ]
  },
  {
   "cell_type": "code",
   "execution_count": 16,
   "metadata": {},
   "outputs": [
    {
     "name": "stdout",
     "output_type": "stream",
     "text": [
      "[ 0.  0.  2. 12.  9.  0.  0.  0.  0.  0. 11. 15. 12.  5.  0.  0.  0.  0.\n",
      " 15.  5.  0. 14.  0.  0.  0.  2. 15.  1.  0.  9.  7.  0.  0.  4. 10.  0.\n",
      "  0.  7.  8.  0.  0.  0. 12.  0.  0.  8. 10.  0.  0.  2. 15.  5. 10. 16.\n",
      "  1.  0.  0.  0.  5. 14. 12.  4.  0.  0.]\n"
     ]
    }
   ],
   "source": [
    "print(X[130])"
   ]
  },
  {
   "cell_type": "markdown",
   "metadata": {},
   "source": [
    "- As this is a gray image, it has only 1 channel\n",
    "- Values are from 0-15\n",
    "    - 0 - Black\n",
    "    - 1 - White\n",
    "    - In between are the shades of gray"
   ]
  },
  {
   "cell_type": "markdown",
   "metadata": {},
   "source": [
    "- As these are discrete values, it makes sense to use Multinomial model, we will train both Gausian and Multinomial and then compare accuracies"
   ]
  },
  {
   "cell_type": "code",
   "execution_count": null,
   "metadata": {},
   "outputs": [],
   "source": []
  },
  {
   "cell_type": "markdown",
   "metadata": {},
   "source": [
    "## Train Models"
   ]
  },
  {
   "cell_type": "code",
   "execution_count": 18,
   "metadata": {},
   "outputs": [],
   "source": [
    "from sklearn.naive_bayes import GaussianNB,MultinomialNB"
   ]
  },
  {
   "cell_type": "code",
   "execution_count": 19,
   "metadata": {},
   "outputs": [],
   "source": [
    "gnb = GaussianNB()\n",
    "mnb = MultinomialNB()"
   ]
  },
  {
   "cell_type": "code",
   "execution_count": 20,
   "metadata": {},
   "outputs": [
    {
     "data": {
      "text/plain": [
       "GaussianNB(priors=None, var_smoothing=1e-09)"
      ]
     },
     "execution_count": 20,
     "metadata": {},
     "output_type": "execute_result"
    }
   ],
   "source": [
    "mnb.fit(X,Y)\n",
    "gnb.fit(X,Y)"
   ]
  },
  {
   "cell_type": "code",
   "execution_count": 21,
   "metadata": {},
   "outputs": [
    {
     "name": "stdout",
     "output_type": "stream",
     "text": [
      "0.9053978853644964\n",
      "0.8580968280467446\n"
     ]
    }
   ],
   "source": [
    "#score\n",
    "print(mnb.score(X,Y))\n",
    "print(gnb.score(X,Y))"
   ]
  },
  {
   "cell_type": "markdown",
   "metadata": {},
   "source": [
    "- Multinomial is giving 90% accuracy\n",
    "- Gaussian is giving us 85% accuracy"
   ]
  },
  {
   "cell_type": "code",
   "execution_count": 26,
   "metadata": {},
   "outputs": [
    {
     "data": {
      "text/plain": [
       "0.8797858472998138"
      ]
     },
     "execution_count": 26,
     "metadata": {},
     "output_type": "execute_result"
    }
   ],
   "source": [
    "cross_val_score(mnb,X,Y,scoring='accuracy',cv=10).mean()"
   ]
  },
  {
   "cell_type": "code",
   "execution_count": 27,
   "metadata": {},
   "outputs": [
    {
     "data": {
      "text/plain": [
       "0.8113904407200497"
      ]
     },
     "execution_count": 27,
     "metadata": {},
     "output_type": "execute_result"
    }
   ],
   "source": [
    "cross_val_score(gnb,X,Y,scoring='accuracy',cv=10).mean()"
   ]
  },
  {
   "cell_type": "markdown",
   "metadata": {},
   "source": [
    "- As thought Multinomial works well on MNIST dataset"
   ]
  },
  {
   "cell_type": "code",
   "execution_count": null,
   "metadata": {},
   "outputs": [],
   "source": []
  },
  {
   "cell_type": "markdown",
   "metadata": {},
   "source": [
    "## Generate Confusion Matrix"
   ]
  },
  {
   "cell_type": "code",
   "execution_count": 29,
   "metadata": {},
   "outputs": [],
   "source": [
    "from sklearn.metrics import confusion_matrix\n",
    "from sklearn.metrics import plot_confusion_matrix"
   ]
  },
  {
   "cell_type": "code",
   "execution_count": 32,
   "metadata": {},
   "outputs": [
    {
     "name": "stdout",
     "output_type": "stream",
     "text": [
      "[[175   0   0   0   3   0   0   0   0   0]\n",
      " [  0 137  14   0   0   1   2   0  13  15]\n",
      " [  0   7 160   0   0   0   0   0   8   2]\n",
      " [  0   0   2 159   0   2   0   5   8   7]\n",
      " [  1   0   0   0 173   0   0   4   3   0]\n",
      " [  0   0   0   0   1 157   1   1   2  20]\n",
      " [  0   2   0   0   1   1 176   0   1   0]\n",
      " [  0   0   0   0   0   0   0 178   1   0]\n",
      " [  0  11   1   0   1   0   1   1 154   5]\n",
      " [  0   1   0   1   1   1   0  11   7 158]]\n"
     ]
    }
   ],
   "source": [
    "Y_mnb = mnb.predict(X)\n",
    "cnf_mnb = confusion_matrix(Y,Y_mnb)\n",
    "print(cnf_mnb)"
   ]
  },
  {
   "cell_type": "code",
   "execution_count": 41,
   "metadata": {},
   "outputs": [
    {
     "data": {
      "image/png": "[encoded data removed]",
      "text/plain": [
       "<Figure size 720x432 with 2 Axes>"
      ]
     },
     "metadata": {
      "needs_background": "light"
     },
     "output_type": "display_data"
    }
   ],
   "source": [
    "fig = plt.figure(figsize=(10,6))\n",
    "axes = fig.add_axes([0,0,1,1])\n",
    "plot_confusion_matrix(mnb,X,Y,ax=axes,cmap=plt.cm.Accent,values_format='.4g')\n",
    "\n",
    "plt.show()"
   ]
  },
  {
   "cell_type": "markdown",
   "metadata": {},
   "source": [
    "### Diagonal entries represents #Number of elements where predicted class == Actual class"
   ]
  },
  {
   "cell_type": "code",
   "execution_count": null,
   "metadata": {},
   "outputs": [],
   "source": []
  }
 ],
 "metadata": {
  "kernelspec": {
   "display_name": "Python 3",
   "language": "python",
   "name": "python3"
  },
  "language_info": {
   "codemirror_mode": {
    "name": "ipython",
    "version": 3
   },
   "file_extension": ".py",
   "mimetype": "text/x-python",
   "name": "python",
   "nbconvert_exporter": "python",
   "pygments_lexer": "ipython3",
   "version": "3.7.7"
  }
 },
 "nbformat": 4,
 "nbformat_minor": 4
}
