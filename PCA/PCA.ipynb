{
 "cells": [
  {
   "cell_type": "code",
   "execution_count": 3,
   "metadata": {},
   "outputs": [],
   "source": [
    "import numpy as np\n",
    "import pandas as pd"
   ]
  },
  {
   "cell_type": "code",
   "execution_count": 11,
   "metadata": {},
   "outputs": [],
   "source": [
    "import matplotlib.pyplot as plt"
   ]
  },
  {
   "cell_type": "code",
   "execution_count": 4,
   "metadata": {},
   "outputs": [],
   "source": [
    "data = pd.read_csv('../Datasets/mnist_train.csv')"
   ]
  },
  {
   "cell_type": "code",
   "execution_count": 5,
   "metadata": {},
   "outputs": [
    {
     "data": {
      "text/plain": [
       "(42000, 785)"
      ]
     },
     "execution_count": 5,
     "metadata": {},
     "output_type": "execute_result"
    }
   ],
   "source": [
    "data.shape"
   ]
  },
  {
   "cell_type": "code",
   "execution_count": 6,
   "metadata": {},
   "outputs": [
    {
     "data": {
      "text/html": [
       "<div>\n",
       "<style scoped>\n",
       "    .dataframe tbody tr th:only-of-type {\n",
       "        vertical-align: middle;\n",
       "    }\n",
       "\n",
       "    .dataframe tbody tr th {\n",
       "        vertical-align: top;\n",
       "    }\n",
       "\n",
       "    .dataframe thead th {\n",
       "        text-align: right;\n",
       "    }\n",
       "</style>\n",
       "<table border=\"1\" class=\"dataframe\">\n",
       "  <thead>\n",
       "    <tr style=\"text-align: right;\">\n",
       "      <th></th>\n",
       "      <th>label</th>\n",
       "      <th>pixel0</th>\n",
       "      <th>pixel1</th>\n",
       "      <th>pixel2</th>\n",
       "      <th>pixel3</th>\n",
       "      <th>pixel4</th>\n",
       "      <th>pixel5</th>\n",
       "      <th>pixel6</th>\n",
       "      <th>pixel7</th>\n",
       "      <th>pixel8</th>\n",
       "      <th>...</th>\n",
       "      <th>pixel774</th>\n",
       "      <th>pixel775</th>\n",
       "      <th>pixel776</th>\n",
       "      <th>pixel777</th>\n",
       "      <th>pixel778</th>\n",
       "      <th>pixel779</th>\n",
       "      <th>pixel780</th>\n",
       "      <th>pixel781</th>\n",
       "      <th>pixel782</th>\n",
       "      <th>pixel783</th>\n",
       "    </tr>\n",
       "  </thead>\n",
       "  <tbody>\n",
       "    <tr>\n",
       "      <th>0</th>\n",
       "      <td>1</td>\n",
       "      <td>0</td>\n",
       "      <td>0</td>\n",
       "      <td>0</td>\n",
       "      <td>0</td>\n",
       "      <td>0</td>\n",
       "      <td>0</td>\n",
       "      <td>0</td>\n",
       "      <td>0</td>\n",
       "      <td>0</td>\n",
       "      <td>...</td>\n",
       "      <td>0</td>\n",
       "      <td>0</td>\n",
       "      <td>0</td>\n",
       "      <td>0</td>\n",
       "      <td>0</td>\n",
       "      <td>0</td>\n",
       "      <td>0</td>\n",
       "      <td>0</td>\n",
       "      <td>0</td>\n",
       "      <td>0</td>\n",
       "    </tr>\n",
       "    <tr>\n",
       "      <th>1</th>\n",
       "      <td>0</td>\n",
       "      <td>0</td>\n",
       "      <td>0</td>\n",
       "      <td>0</td>\n",
       "      <td>0</td>\n",
       "      <td>0</td>\n",
       "      <td>0</td>\n",
       "      <td>0</td>\n",
       "      <td>0</td>\n",
       "      <td>0</td>\n",
       "      <td>...</td>\n",
       "      <td>0</td>\n",
       "      <td>0</td>\n",
       "      <td>0</td>\n",
       "      <td>0</td>\n",
       "      <td>0</td>\n",
       "      <td>0</td>\n",
       "      <td>0</td>\n",
       "      <td>0</td>\n",
       "      <td>0</td>\n",
       "      <td>0</td>\n",
       "    </tr>\n",
       "    <tr>\n",
       "      <th>2</th>\n",
       "      <td>1</td>\n",
       "      <td>0</td>\n",
       "      <td>0</td>\n",
       "      <td>0</td>\n",
       "      <td>0</td>\n",
       "      <td>0</td>\n",
       "      <td>0</td>\n",
       "      <td>0</td>\n",
       "      <td>0</td>\n",
       "      <td>0</td>\n",
       "      <td>...</td>\n",
       "      <td>0</td>\n",
       "      <td>0</td>\n",
       "      <td>0</td>\n",
       "      <td>0</td>\n",
       "      <td>0</td>\n",
       "      <td>0</td>\n",
       "      <td>0</td>\n",
       "      <td>0</td>\n",
       "      <td>0</td>\n",
       "      <td>0</td>\n",
       "    </tr>\n",
       "    <tr>\n",
       "      <th>3</th>\n",
       "      <td>4</td>\n",
       "      <td>0</td>\n",
       "      <td>0</td>\n",
       "      <td>0</td>\n",
       "      <td>0</td>\n",
       "      <td>0</td>\n",
       "      <td>0</td>\n",
       "      <td>0</td>\n",
       "      <td>0</td>\n",
       "      <td>0</td>\n",
       "      <td>...</td>\n",
       "      <td>0</td>\n",
       "      <td>0</td>\n",
       "      <td>0</td>\n",
       "      <td>0</td>\n",
       "      <td>0</td>\n",
       "      <td>0</td>\n",
       "      <td>0</td>\n",
       "      <td>0</td>\n",
       "      <td>0</td>\n",
       "      <td>0</td>\n",
       "    </tr>\n",
       "    <tr>\n",
       "      <th>4</th>\n",
       "      <td>0</td>\n",
       "      <td>0</td>\n",
       "      <td>0</td>\n",
       "      <td>0</td>\n",
       "      <td>0</td>\n",
       "      <td>0</td>\n",
       "      <td>0</td>\n",
       "      <td>0</td>\n",
       "      <td>0</td>\n",
       "      <td>0</td>\n",
       "      <td>...</td>\n",
       "      <td>0</td>\n",
       "      <td>0</td>\n",
       "      <td>0</td>\n",
       "      <td>0</td>\n",
       "      <td>0</td>\n",
       "      <td>0</td>\n",
       "      <td>0</td>\n",
       "      <td>0</td>\n",
       "      <td>0</td>\n",
       "      <td>0</td>\n",
       "    </tr>\n",
       "  </tbody>\n",
       "</table>\n",
       "<p>5 rows × 785 columns</p>\n",
       "</div>"
      ],
      "text/plain": [
       "   label  pixel0  pixel1  pixel2  pixel3  pixel4  pixel5  pixel6  pixel7  \\\n",
       "0      1       0       0       0       0       0       0       0       0   \n",
       "1      0       0       0       0       0       0       0       0       0   \n",
       "2      1       0       0       0       0       0       0       0       0   \n",
       "3      4       0       0       0       0       0       0       0       0   \n",
       "4      0       0       0       0       0       0       0       0       0   \n",
       "\n",
       "   pixel8  ...  pixel774  pixel775  pixel776  pixel777  pixel778  pixel779  \\\n",
       "0       0  ...         0         0         0         0         0         0   \n",
       "1       0  ...         0         0         0         0         0         0   \n",
       "2       0  ...         0         0         0         0         0         0   \n",
       "3       0  ...         0         0         0         0         0         0   \n",
       "4       0  ...         0         0         0         0         0         0   \n",
       "\n",
       "   pixel780  pixel781  pixel782  pixel783  \n",
       "0         0         0         0         0  \n",
       "1         0         0         0         0  \n",
       "2         0         0         0         0  \n",
       "3         0         0         0         0  \n",
       "4         0         0         0         0  \n",
       "\n",
       "[5 rows x 785 columns]"
      ]
     },
     "execution_count": 6,
     "metadata": {},
     "output_type": "execute_result"
    }
   ],
   "source": [
    "data.head()"
   ]
  },
  {
   "cell_type": "code",
   "execution_count": 28,
   "metadata": {},
   "outputs": [],
   "source": [
    "X = data.values[:,1:]\n",
    "Y = data.values[:,0]"
   ]
  },
  {
   "cell_type": "code",
   "execution_count": 29,
   "metadata": {},
   "outputs": [
    {
     "data": {
      "text/plain": [
       "(42000, 784)"
      ]
     },
     "execution_count": 29,
     "metadata": {},
     "output_type": "execute_result"
    }
   ],
   "source": [
    "X.shape"
   ]
  },
  {
   "cell_type": "code",
   "execution_count": 30,
   "metadata": {},
   "outputs": [
    {
     "data": {
      "text/plain": [
       "(42000,)"
      ]
     },
     "execution_count": 30,
     "metadata": {},
     "output_type": "execute_result"
    }
   ],
   "source": [
    "Y.shape"
   ]
  },
  {
   "cell_type": "code",
   "execution_count": 31,
   "metadata": {},
   "outputs": [
    {
     "data": {
      "image/png": "[encoded data removed]",
      "text/plain": [
       "<Figure size 432x288 with 1 Axes>"
      ]
     },
     "metadata": {
      "needs_background": "light"
     },
     "output_type": "display_data"
    }
   ],
   "source": [
    "plt.imshow(X[8500].reshape(28,28),cmap='gray')\n",
    "plt.axis('off')\n",
    "plt.show()"
   ]
  },
  {
   "cell_type": "code",
   "execution_count": 33,
   "metadata": {},
   "outputs": [
    {
     "data": {
      "text/plain": [
       "4"
      ]
     },
     "execution_count": 33,
     "metadata": {},
     "output_type": "execute_result"
    }
   ],
   "source": [
    "Y[8500]"
   ]
  },
  {
   "cell_type": "code",
   "execution_count": 35,
   "metadata": {},
   "outputs": [],
   "source": [
    "X = X[:10000]\n",
    "Y = Y[:10000]"
   ]
  },
  {
   "cell_type": "code",
   "execution_count": null,
   "metadata": {},
   "outputs": [],
   "source": []
  },
  {
   "cell_type": "markdown",
   "metadata": {},
   "source": [
    "## Step-1 Prepreocessing"
   ]
  },
  {
   "cell_type": "code",
   "execution_count": 38,
   "metadata": {},
   "outputs": [],
   "source": [
    "from sklearn.preprocessing import StandardScaler"
   ]
  },
  {
   "cell_type": "code",
   "execution_count": 39,
   "metadata": {},
   "outputs": [],
   "source": [
    "#make an object\n",
    "sc = StandardScaler()"
   ]
  },
  {
   "cell_type": "code",
   "execution_count": 41,
   "metadata": {},
   "outputs": [],
   "source": [
    "# will standardised the data, make mean = 0 and variance = 1\n",
    "X_ = sc.fit_transform(X)"
   ]
  },
  {
   "cell_type": "code",
   "execution_count": 42,
   "metadata": {},
   "outputs": [
    {
     "data": {
      "text/plain": [
       "(10000, 784)"
      ]
     },
     "execution_count": 42,
     "metadata": {},
     "output_type": "execute_result"
    }
   ],
   "source": [
    "X_.shape"
   ]
  },
  {
   "cell_type": "code",
   "execution_count": 43,
   "metadata": {},
   "outputs": [
    {
     "data": {
      "image/png": "[encoded data removed]",
      "text/plain": [
       "<Figure size 432x288 with 1 Axes>"
      ]
     },
     "metadata": {
      "needs_background": "light"
     },
     "output_type": "display_data"
    }
   ],
   "source": [
    "plt.imshow(X[8500].reshape(28,28),cmap='gray')\n",
    "plt.axis('off')\n",
    "plt.show()"
   ]
  },
  {
   "cell_type": "code",
   "execution_count": null,
   "metadata": {},
   "outputs": [],
   "source": []
  },
  {
   "cell_type": "markdown",
   "metadata": {},
   "source": [
    "## Sklearn PCA"
   ]
  },
  {
   "cell_type": "code",
   "execution_count": 44,
   "metadata": {},
   "outputs": [],
   "source": [
    "from sklearn.decomposition import PCA"
   ]
  },
  {
   "cell_type": "code",
   "execution_count": 50,
   "metadata": {},
   "outputs": [],
   "source": [
    "# make an object of PCA class\n",
    "# n_components is the number of final components that we want to extract\n",
    "pca = PCA(n_components=2)"
   ]
  },
  {
   "cell_type": "code",
   "execution_count": 53,
   "metadata": {},
   "outputs": [],
   "source": [
    "z_pca = pca.fit_transform(X_)"
   ]
  },
  {
   "cell_type": "code",
   "execution_count": 54,
   "metadata": {},
   "outputs": [
    {
     "data": {
      "text/plain": [
       "(10000, 2)"
      ]
     },
     "execution_count": 54,
     "metadata": {},
     "output_type": "execute_result"
    }
   ],
   "source": [
    "z_pca.shape"
   ]
  },
  {
   "cell_type": "code",
   "execution_count": 57,
   "metadata": {},
   "outputs": [
    {
     "data": {
      "text/plain": [
       "array([[-4.94973018, -5.44730704],\n",
       "       [18.96638749,  6.83381405],\n",
       "       [-7.52791743, -2.05161747],\n",
       "       ...,\n",
       "       [-1.54623882, -5.23542787],\n",
       "       [ 2.42572032, 18.98287676],\n",
       "       [-0.22647822,  9.90092434]])"
      ]
     },
     "execution_count": 57,
     "metadata": {},
     "output_type": "execute_result"
    }
   ],
   "source": [
    "z_pca"
   ]
  },
  {
   "cell_type": "code",
   "execution_count": 59,
   "metadata": {},
   "outputs": [
    {
     "data": {
      "text/plain": [
       "array([40.71864956, 28.79299251])"
      ]
     },
     "execution_count": 59,
     "metadata": {},
     "output_type": "execute_result"
    }
   ],
   "source": [
    "pca.explained_variance_"
   ]
  },
  {
   "cell_type": "markdown",
   "metadata": {},
   "source": [
    "- Our original data has 100 percent variance, our first new feature is explaining 40% of variance\n",
    "- total both features are explaining 70% of our data, means we lost around 30% of our information"
   ]
  },
  {
   "cell_type": "code",
   "execution_count": null,
   "metadata": {},
   "outputs": [],
   "source": []
  },
  {
   "cell_type": "markdown",
   "metadata": {},
   "source": [
    "# Custom PCA"
   ]
  },
  {
   "cell_type": "markdown",
   "metadata": {},
   "source": [
    "## Step-2 Covariance\n",
    "- can use the covariance formula to calculate it\n",
    "- easy way - np.dot(X.T,X) result will be 784,784 and it gives covariance"
   ]
  },
  {
   "cell_type": "code",
   "execution_count": 79,
   "metadata": {},
   "outputs": [],
   "source": [
    "covar = np.dot(X_.T,X_)"
   ]
  },
  {
   "cell_type": "code",
   "execution_count": 80,
   "metadata": {},
   "outputs": [
    {
     "data": {
      "text/plain": [
       "(784, 784)"
      ]
     },
     "execution_count": 80,
     "metadata": {},
     "output_type": "execute_result"
    }
   ],
   "source": [
    "covar.shape"
   ]
  },
  {
   "cell_type": "code",
   "execution_count": null,
   "metadata": {},
   "outputs": [],
   "source": []
  },
  {
   "cell_type": "markdown",
   "metadata": {},
   "source": [
    "## Step-3 Compute eigen vectors using svd"
   ]
  },
  {
   "cell_type": "code",
   "execution_count": 65,
   "metadata": {},
   "outputs": [],
   "source": [
    "from numpy.linalg import svd"
   ]
  },
  {
   "cell_type": "code",
   "execution_count": 81,
   "metadata": {},
   "outputs": [],
   "source": [
    "u,s,v = svd(covar)"
   ]
  },
  {
   "cell_type": "code",
   "execution_count": 82,
   "metadata": {},
   "outputs": [
    {
     "data": {
      "text/plain": [
       "(784, 784)"
      ]
     },
     "execution_count": 82,
     "metadata": {},
     "output_type": "execute_result"
    }
   ],
   "source": [
    "u.shape"
   ]
  },
  {
   "cell_type": "markdown",
   "metadata": {},
   "source": [
    "- we are getting all the eigen vectors but we want only first 2"
   ]
  },
  {
   "cell_type": "code",
   "execution_count": 83,
   "metadata": {},
   "outputs": [
    {
     "data": {
      "text/plain": [
       "(784, 2)"
      ]
     },
     "execution_count": 83,
     "metadata": {},
     "output_type": "execute_result"
    }
   ],
   "source": [
    "u_red = u[:,:2]\n",
    "u_red.shape"
   ]
  },
  {
   "cell_type": "code",
   "execution_count": null,
   "metadata": {},
   "outputs": [],
   "source": []
  },
  {
   "cell_type": "code",
   "execution_count": null,
   "metadata": {},
   "outputs": [],
   "source": []
  },
  {
   "cell_type": "markdown",
   "metadata": {},
   "source": [
    "## Step-4 Projection"
   ]
  },
  {
   "cell_type": "markdown",
   "metadata": {},
   "source": [
    "- x is of (10000,784) , we want z to be (10000,2), u is of 784,2"
   ]
  },
  {
   "cell_type": "code",
   "execution_count": 70,
   "metadata": {},
   "outputs": [
    {
     "data": {
      "text/plain": [
       "(10000, 784)"
      ]
     },
     "execution_count": 70,
     "metadata": {},
     "output_type": "execute_result"
    }
   ],
   "source": [
    "X_.shape"
   ]
  },
  {
   "cell_type": "code",
   "execution_count": 84,
   "metadata": {},
   "outputs": [],
   "source": [
    "z = np.dot(X_,u_red)"
   ]
  },
  {
   "cell_type": "code",
   "execution_count": 85,
   "metadata": {},
   "outputs": [
    {
     "data": {
      "text/plain": [
       "(10000, 2)"
      ]
     },
     "execution_count": 85,
     "metadata": {},
     "output_type": "execute_result"
    }
   ],
   "source": [
    "z.shape"
   ]
  },
  {
   "cell_type": "code",
   "execution_count": 86,
   "metadata": {},
   "outputs": [
    {
     "data": {
      "text/plain": [
       "array([[  4.94972512,   5.44806854],\n",
       "       [-18.96637194,  -6.83397157],\n",
       "       [  7.52793502,   2.05100764],\n",
       "       ...,\n",
       "       [  1.54624293,   5.23560819],\n",
       "       [ -2.42572751, -18.98113797],\n",
       "       [  0.22648625,  -9.90093373]])"
      ]
     },
     "execution_count": 86,
     "metadata": {},
     "output_type": "execute_result"
    }
   ],
   "source": [
    "z"
   ]
  },
  {
   "cell_type": "markdown",
   "metadata": {},
   "source": [
    "- we can see we are getting almost similar values from both methods\n",
    "- there is a difference of negative sign that's just because of direction, we are getting mirror image in this method"
   ]
  },
  {
   "cell_type": "code",
   "execution_count": null,
   "metadata": {},
   "outputs": [],
   "source": []
  },
  {
   "cell_type": "code",
   "execution_count": null,
   "metadata": {},
   "outputs": [],
   "source": []
  },
  {
   "cell_type": "markdown",
   "metadata": {},
   "source": [
    "# Visulaise Dataset"
   ]
  },
  {
   "cell_type": "code",
   "execution_count": 89,
   "metadata": {},
   "outputs": [
    {
     "data": {
      "text/plain": [
       "array([[  4.94972512,   5.44806854],\n",
       "       [-18.96637194,  -6.83397157],\n",
       "       [  7.52793502,   2.05100764],\n",
       "       ...,\n",
       "       [  1.54624293,   5.23560819],\n",
       "       [ -2.42572751, -18.98113797],\n",
       "       [  0.22648625,  -9.90093373]])"
      ]
     },
     "execution_count": 89,
     "metadata": {},
     "output_type": "execute_result"
    }
   ],
   "source": [
    "z"
   ]
  },
  {
   "cell_type": "code",
   "execution_count": 92,
   "metadata": {},
   "outputs": [],
   "source": [
    "new_dataset = np.hstack((z,Y.reshape(-1,1)))"
   ]
  },
  {
   "cell_type": "code",
   "execution_count": 93,
   "metadata": {},
   "outputs": [
    {
     "data": {
      "text/plain": [
       "array([[  4.94972512,   5.44806854,   1.        ],\n",
       "       [-18.96637194,  -6.83397157,   0.        ],\n",
       "       [  7.52793502,   2.05100764,   1.        ],\n",
       "       ...,\n",
       "       [  1.54624293,   5.23560819,   4.        ],\n",
       "       [ -2.42572751, -18.98113797,   7.        ],\n",
       "       [  0.22648625,  -9.90093373,   9.        ]])"
      ]
     },
     "execution_count": 93,
     "metadata": {},
     "output_type": "execute_result"
    }
   ],
   "source": [
    "new_dataset"
   ]
  },
  {
   "cell_type": "code",
   "execution_count": 94,
   "metadata": {},
   "outputs": [],
   "source": [
    "dataframe = pd.DataFrame(new_dataset,columns=['PCA1','PCA2','label'])"
   ]
  },
  {
   "cell_type": "code",
   "execution_count": 96,
   "metadata": {},
   "outputs": [
    {
     "data": {
      "text/html": [
       "<div>\n",
       "<style scoped>\n",
       "    .dataframe tbody tr th:only-of-type {\n",
       "        vertical-align: middle;\n",
       "    }\n",
       "\n",
       "    .dataframe tbody tr th {\n",
       "        vertical-align: top;\n",
       "    }\n",
       "\n",
       "    .dataframe thead th {\n",
       "        text-align: right;\n",
       "    }\n",
       "</style>\n",
       "<table border=\"1\" class=\"dataframe\">\n",
       "  <thead>\n",
       "    <tr style=\"text-align: right;\">\n",
       "      <th></th>\n",
       "      <th>PCA1</th>\n",
       "      <th>PCA2</th>\n",
       "      <th>label</th>\n",
       "    </tr>\n",
       "  </thead>\n",
       "  <tbody>\n",
       "    <tr>\n",
       "      <th>0</th>\n",
       "      <td>4.949725</td>\n",
       "      <td>5.448069</td>\n",
       "      <td>1.0</td>\n",
       "    </tr>\n",
       "    <tr>\n",
       "      <th>1</th>\n",
       "      <td>-18.966372</td>\n",
       "      <td>-6.833972</td>\n",
       "      <td>0.0</td>\n",
       "    </tr>\n",
       "    <tr>\n",
       "      <th>2</th>\n",
       "      <td>7.527935</td>\n",
       "      <td>2.051008</td>\n",
       "      <td>1.0</td>\n",
       "    </tr>\n",
       "    <tr>\n",
       "      <th>3</th>\n",
       "      <td>0.715448</td>\n",
       "      <td>-5.555069</td>\n",
       "      <td>4.0</td>\n",
       "    </tr>\n",
       "    <tr>\n",
       "      <th>4</th>\n",
       "      <td>-26.253689</td>\n",
       "      <td>-7.291958</td>\n",
       "      <td>0.0</td>\n",
       "    </tr>\n",
       "  </tbody>\n",
       "</table>\n",
       "</div>"
      ],
      "text/plain": [
       "        PCA1      PCA2  label\n",
       "0   4.949725  5.448069    1.0\n",
       "1 -18.966372 -6.833972    0.0\n",
       "2   7.527935  2.051008    1.0\n",
       "3   0.715448 -5.555069    4.0\n",
       "4 -26.253689 -7.291958    0.0"
      ]
     },
     "execution_count": 96,
     "metadata": {},
     "output_type": "execute_result"
    }
   ],
   "source": [
    "dataframe.head()"
   ]
  },
  {
   "cell_type": "code",
   "execution_count": null,
   "metadata": {},
   "outputs": [],
   "source": []
  },
  {
   "cell_type": "code",
   "execution_count": 98,
   "metadata": {},
   "outputs": [],
   "source": [
    "import seaborn as sns"
   ]
  },
  {
   "cell_type": "code",
   "execution_count": 110,
   "metadata": {},
   "outputs": [
    {
     "data": {
      "image/png": "[encoded data removed]",
      "text/plain": [
       "<Figure size 771.875x720 with 1 Axes>"
      ]
     },
     "metadata": {
      "needs_background": "light"
     },
     "output_type": "display_data"
    }
   ],
   "source": [
    "fg = sns.FacetGrid(dataframe,hue='label',height=10)\n",
    "fg.map(plt.scatter,'PCA1','PCA2')\n",
    "fg.add_legend()\n",
    "plt.show()"
   ]
  },
  {
   "cell_type": "markdown",
   "metadata": {},
   "source": [
    "- all the members of same class are grouped together\n",
    "- this is how we can visualise our data by converting into 2 dimensions\n",
    "- there is so much noise because we converted direct from 784 to 2 dimensions "
   ]
  },
  {
   "cell_type": "code",
   "execution_count": null,
   "metadata": {},
   "outputs": [],
   "source": []
  },
  {
   "cell_type": "code",
   "execution_count": null,
   "metadata": {},
   "outputs": [],
   "source": []
  },
  {
   "cell_type": "markdown",
   "metadata": {},
   "source": [
    "## PCA with 784"
   ]
  },
  {
   "cell_type": "code",
   "execution_count": 111,
   "metadata": {},
   "outputs": [],
   "source": [
    "pca = PCA() # if we donot provide any default argument we get 784 principal componenets"
   ]
  },
  {
   "cell_type": "code",
   "execution_count": 112,
   "metadata": {},
   "outputs": [],
   "source": [
    "z_pca = pca.fit_transform(X_)"
   ]
  },
  {
   "cell_type": "code",
   "execution_count": 114,
   "metadata": {},
   "outputs": [
    {
     "data": {
      "text/plain": [
       "(10000, 784)"
      ]
     },
     "execution_count": 114,
     "metadata": {},
     "output_type": "execute_result"
    }
   ],
   "source": [
    "z_pca.shape"
   ]
  },
  {
   "cell_type": "markdown",
   "metadata": {},
   "source": [
    "- these are not our old features, these are principal componnets (new dimensions)"
   ]
  },
  {
   "cell_type": "code",
   "execution_count": 115,
   "metadata": {},
   "outputs": [
    {
     "data": {
      "text/plain": [
       "array([4.07186496e+01, 2.87929927e+01, 2.72040371e+01, 2.09933366e+01,\n",
       "       1.80427386e+01, 1.58413873e+01, 1.35664377e+01, 1.25476412e+01,\n",
       "       1.11691525e+01, 9.89909873e+00, 9.58543081e+00, 8.62882716e+00,\n",
       "       8.10111086e+00, 8.03397716e+00, 7.56956712e+00, 7.26881025e+00,\n",
       "       6.74924500e+00, 6.54616502e+00, 6.46388225e+00, 6.29322630e+00,\n",
       "       6.05867380e+00, 5.73014042e+00, 5.57365254e+00, 5.36725542e+00,\n",
       "       5.23964003e+00, 4.97165174e+00, 4.94901180e+00, 4.76696080e+00,\n",
       "       4.62832917e+00, 4.48981653e+00, 4.41695884e+00, 4.36410204e+00,\n",
       "       4.27126867e+00, 4.17041876e+00, 4.07899573e+00, 3.99495911e+00,\n",
       "       3.96758413e+00, 3.91330523e+00, 3.74677990e+00, 3.63041195e+00,\n",
       "       3.59557266e+00, 3.57750588e+00, 3.49891188e+00, 3.42791563e+00,\n",
       "       3.33077306e+00, 3.25082405e+00, 3.21173152e+00, 3.16237356e+00,\n",
       "       3.09358262e+00, 3.06239500e+00, 3.02011172e+00, 2.99703207e+00,\n",
       "       2.91356254e+00, 2.85346918e+00, 2.81972202e+00, 2.74284452e+00,\n",
       "       2.72066700e+00, 2.68777631e+00, 2.65469218e+00, 2.60693897e+00,\n",
       "       2.54530303e+00, 2.49473447e+00, 2.45483482e+00, 2.45147289e+00,\n",
       "       2.42009629e+00, 2.35072041e+00, 2.33527849e+00, 2.30348087e+00,\n",
       "       2.27421013e+00, 2.24991996e+00, 2.21146649e+00, 2.20141557e+00,\n",
       "       2.19565703e+00, 2.17362613e+00, 2.09588963e+00, 2.08930886e+00,\n",
       "       2.06440121e+00, 2.03979503e+00, 2.01444279e+00, 1.99624754e+00,\n",
       "       1.98056495e+00, 1.96576371e+00, 1.95123498e+00, 1.93461379e+00,\n",
       "       1.91663170e+00, 1.87753516e+00, 1.86283601e+00, 1.84347371e+00,\n",
       "       1.82484740e+00, 1.81197368e+00, 1.79339001e+00, 1.75983544e+00,\n",
       "       1.74688152e+00, 1.73493029e+00, 1.72596923e+00, 1.68145008e+00,\n",
       "       1.66907649e+00, 1.64820855e+00, 1.64097630e+00, 1.61264613e+00,\n",
       "       1.59059483e+00, 1.56670215e+00, 1.54161685e+00, 1.52814413e+00,\n",
       "       1.50221992e+00, 1.49564911e+00, 1.49223476e+00, 1.48634983e+00,\n",
       "       1.46635142e+00, 1.45740194e+00, 1.44152754e+00, 1.41857298e+00,\n",
       "       1.40842690e+00, 1.37137039e+00, 1.36216860e+00, 1.34662451e+00,\n",
       "       1.33401568e+00, 1.32377456e+00, 1.30825803e+00, 1.29398120e+00,\n",
       "       1.27148409e+00, 1.25665745e+00, 1.25056807e+00, 1.23856950e+00,\n",
       "       1.22473678e+00, 1.21973232e+00, 1.20802299e+00, 1.18024281e+00,\n",
       "       1.15748549e+00, 1.14803524e+00, 1.13940706e+00, 1.13229036e+00,\n",
       "       1.12337465e+00, 1.10575928e+00, 1.09480622e+00, 1.07782093e+00,\n",
       "       1.07310846e+00, 1.06545007e+00, 1.05483114e+00, 1.04136962e+00,\n",
       "       1.03298031e+00, 1.02546659e+00, 1.01300551e+00, 1.00560447e+00,\n",
       "       9.99446318e-01, 9.90148388e-01, 9.86596794e-01, 9.73488916e-01,\n",
       "       9.68496535e-01, 9.59404954e-01, 9.50966697e-01, 9.41699466e-01,\n",
       "       9.37039879e-01, 9.32037957e-01, 9.25808429e-01, 9.09030698e-01,\n",
       "       8.99512801e-01, 8.91939706e-01, 8.82083948e-01, 8.74004205e-01,\n",
       "       8.63575275e-01, 8.61258858e-01, 8.52397335e-01, 8.47750220e-01,\n",
       "       8.28953832e-01, 8.17523014e-01, 8.08059556e-01, 8.02595689e-01,\n",
       "       7.96428487e-01, 7.85369398e-01, 7.71814881e-01, 7.71047783e-01,\n",
       "       7.60020237e-01, 7.54851830e-01, 7.46721190e-01, 7.33973698e-01,\n",
       "       7.31664941e-01, 7.18569611e-01, 7.11210002e-01, 7.08451784e-01,\n",
       "       7.02598166e-01, 6.92470763e-01, 6.81427676e-01, 6.72366549e-01,\n",
       "       6.69660603e-01, 6.67798822e-01, 6.57434031e-01, 6.47457977e-01,\n",
       "       6.45811006e-01, 6.41284998e-01, 6.34135200e-01, 6.24189716e-01,\n",
       "       6.20784354e-01, 6.16792754e-01, 6.13673110e-01, 5.98966049e-01,\n",
       "       5.95046489e-01, 5.89160934e-01, 5.87944708e-01, 5.81453256e-01,\n",
       "       5.72848069e-01, 5.69276899e-01, 5.65393153e-01, 5.56618817e-01,\n",
       "       5.52733454e-01, 5.47598202e-01, 5.45292464e-01, 5.36320933e-01,\n",
       "       5.29907835e-01, 5.24637578e-01, 5.22917735e-01, 5.17315203e-01,\n",
       "       5.11414326e-01, 5.06632043e-01, 4.99226476e-01, 4.92746536e-01,\n",
       "       4.91108980e-01, 4.85038762e-01, 4.83358724e-01, 4.76839366e-01,\n",
       "       4.73889699e-01, 4.69564021e-01, 4.64089181e-01, 4.63971267e-01,\n",
       "       4.58635346e-01, 4.44171457e-01, 4.41266826e-01, 4.33494877e-01,\n",
       "       4.31565082e-01, 4.28384698e-01, 4.25734368e-01, 4.22455876e-01,\n",
       "       4.15992950e-01, 4.09345681e-01, 4.03822772e-01, 4.02088163e-01,\n",
       "       4.00344605e-01, 3.95772089e-01, 3.91967393e-01, 3.91099873e-01,\n",
       "       3.88447245e-01, 3.86024115e-01, 3.81294680e-01, 3.77550686e-01,\n",
       "       3.76303345e-01, 3.70803293e-01, 3.67388444e-01, 3.62130984e-01,\n",
       "       3.60941992e-01, 3.54119484e-01, 3.53658272e-01, 3.51739112e-01,\n",
       "       3.45398192e-01, 3.42542724e-01, 3.40237913e-01, 3.37446078e-01,\n",
       "       3.34506570e-01, 3.31885040e-01, 3.30787201e-01, 3.25860269e-01,\n",
       "       3.22577552e-01, 3.19379879e-01, 3.15855425e-01, 3.13922143e-01,\n",
       "       3.07263975e-01, 3.05649310e-01, 3.00786876e-01, 2.98825602e-01,\n",
       "       2.98250294e-01, 2.95656505e-01, 2.95142369e-01, 2.89310362e-01,\n",
       "       2.86256654e-01, 2.84229183e-01, 2.82456185e-01, 2.80311736e-01,\n",
       "       2.76594202e-01, 2.76024349e-01, 2.72377421e-01, 2.69716886e-01,\n",
       "       2.69424423e-01, 2.67019843e-01, 2.64042285e-01, 2.62743651e-01,\n",
       "       2.59217699e-01, 2.57667088e-01, 2.56401667e-01, 2.50783482e-01,\n",
       "       2.50155137e-01, 2.49095040e-01, 2.48006438e-01, 2.44558921e-01,\n",
       "       2.42207812e-01, 2.42032689e-01, 2.40006962e-01, 2.37379035e-01,\n",
       "       2.34814004e-01, 2.31078819e-01, 2.28983442e-01, 2.28774584e-01,\n",
       "       2.27364660e-01, 2.23727033e-01, 2.22312451e-01, 2.20087488e-01,\n",
       "       2.18487186e-01, 2.16792765e-01, 2.14989350e-01, 2.13521450e-01,\n",
       "       2.12304401e-01, 2.09625789e-01, 2.08344735e-01, 2.05725809e-01,\n",
       "       2.04127483e-01, 2.03605310e-01, 2.00840827e-01, 1.99602985e-01,\n",
       "       1.98850437e-01, 1.97198563e-01, 1.95793368e-01, 1.94393379e-01,\n",
       "       1.92264644e-01, 1.91267030e-01, 1.89524892e-01, 1.88364460e-01,\n",
       "       1.87677585e-01, 1.87204448e-01, 1.83814789e-01, 1.82277149e-01,\n",
       "       1.81834741e-01, 1.79895129e-01, 1.79705671e-01, 1.76358411e-01,\n",
       "       1.75682527e-01, 1.73692968e-01, 1.72162068e-01, 1.70442145e-01,\n",
       "       1.70086467e-01, 1.68893868e-01, 1.66897286e-01, 1.65871412e-01,\n",
       "       1.64816280e-01, 1.64068072e-01, 1.62366349e-01, 1.62230499e-01,\n",
       "       1.60591138e-01, 1.58009376e-01, 1.57183128e-01, 1.56754858e-01,\n",
       "       1.55553988e-01, 1.54778113e-01, 1.53894204e-01, 1.52072235e-01,\n",
       "       1.51596095e-01, 1.49964654e-01, 1.48277441e-01, 1.47443564e-01,\n",
       "       1.45600825e-01, 1.45041857e-01, 1.43416066e-01, 1.43132894e-01,\n",
       "       1.42456531e-01, 1.40409570e-01, 1.40251529e-01, 1.38964961e-01,\n",
       "       1.38374529e-01, 1.37368932e-01, 1.35662974e-01, 1.34730480e-01,\n",
       "       1.33499001e-01, 1.32770299e-01, 1.31910132e-01, 1.30897496e-01,\n",
       "       1.29992319e-01, 1.29163694e-01, 1.27870937e-01, 1.26942560e-01,\n",
       "       1.26510610e-01, 1.25374292e-01, 1.24584479e-01, 1.23736121e-01,\n",
       "       1.23678452e-01, 1.22263807e-01, 1.21550596e-01, 1.20854005e-01,\n",
       "       1.20749810e-01, 1.18726372e-01, 1.18628138e-01, 1.17698546e-01,\n",
       "       1.17405662e-01, 1.17122044e-01, 1.16152769e-01, 1.14852587e-01,\n",
       "       1.14432490e-01, 1.13739211e-01, 1.13085268e-01, 1.12188988e-01,\n",
       "       1.11984628e-01, 1.11266913e-01, 1.10369847e-01, 1.08997589e-01,\n",
       "       1.08375727e-01, 1.08036283e-01, 1.06646656e-01, 1.06532325e-01,\n",
       "       1.06070330e-01, 1.05003214e-01, 1.04700101e-01, 1.03819960e-01,\n",
       "       1.03316291e-01, 1.02805447e-01, 1.01992445e-01, 1.01313434e-01,\n",
       "       1.00438974e-01, 1.00009473e-01, 9.90558292e-02, 9.83183952e-02,\n",
       "       9.74011057e-02, 9.70758905e-02, 9.66211377e-02, 9.62949125e-02,\n",
       "       9.52804957e-02, 9.51677308e-02, 9.45945489e-02, 9.38804105e-02,\n",
       "       9.36989291e-02, 9.27783800e-02, 9.24598766e-02, 9.19562404e-02,\n",
       "       9.07879064e-02, 9.04965713e-02, 8.98812699e-02, 8.97269689e-02,\n",
       "       8.90932817e-02, 8.86135696e-02, 8.83520132e-02, 8.74846936e-02,\n",
       "       8.71736030e-02, 8.66460797e-02, 8.61099062e-02, 8.56492426e-02,\n",
       "       8.50773016e-02, 8.46194431e-02, 8.43062061e-02, 8.33391081e-02,\n",
       "       8.30970851e-02, 8.24431683e-02, 8.16865137e-02, 8.13940533e-02,\n",
       "       8.06860204e-02, 8.02680676e-02, 8.01093614e-02, 7.98819288e-02,\n",
       "       7.92397368e-02, 7.88485541e-02, 7.82126538e-02, 7.81528646e-02,\n",
       "       7.77335708e-02, 7.69483459e-02, 7.64666962e-02, 7.55766007e-02,\n",
       "       7.54650875e-02, 7.47795545e-02, 7.46330205e-02, 7.44388330e-02,\n",
       "       7.41850771e-02, 7.36243961e-02, 7.29880987e-02, 7.28426974e-02,\n",
       "       7.25137957e-02, 7.23964297e-02, 7.19249761e-02, 7.15122002e-02,\n",
       "       7.08893748e-02, 7.02672572e-02, 7.02462601e-02, 6.95276493e-02,\n",
       "       6.90596444e-02, 6.87018478e-02, 6.85393360e-02, 6.82896671e-02,\n",
       "       6.79200112e-02, 6.71119666e-02, 6.66465196e-02, 6.62027937e-02,\n",
       "       6.60327207e-02, 6.57226994e-02, 6.53479144e-02, 6.50752053e-02,\n",
       "       6.45817108e-02, 6.42923180e-02, 6.36937448e-02, 6.31181548e-02,\n",
       "       6.29292185e-02, 6.27453780e-02, 6.24637253e-02, 6.23194722e-02,\n",
       "       6.20066703e-02, 6.11911197e-02, 6.08434087e-02, 6.05009351e-02,\n",
       "       6.03784882e-02, 6.02811960e-02, 5.97472471e-02, 5.95827445e-02,\n",
       "       5.92335563e-02, 5.88032244e-02, 5.84229973e-02, 5.80262877e-02,\n",
       "       5.76417151e-02, 5.73768572e-02, 5.71949406e-02, 5.69359391e-02,\n",
       "       5.67442855e-02, 5.64717114e-02, 5.59735006e-02, 5.58063707e-02,\n",
       "       5.52509658e-02, 5.49307653e-02, 5.44590420e-02, 5.40718032e-02,\n",
       "       5.34134200e-02, 5.32199704e-02, 5.31830323e-02, 5.28064450e-02,\n",
       "       5.26880454e-02, 5.24188375e-02, 5.20338363e-02, 5.16389252e-02,\n",
       "       5.10478575e-02, 5.09666833e-02, 5.05907935e-02, 5.03860746e-02,\n",
       "       5.01716400e-02, 5.00921124e-02, 4.95725339e-02, 4.94244179e-02,\n",
       "       4.91725781e-02, 4.87959571e-02, 4.85769290e-02, 4.82652469e-02,\n",
       "       4.78880572e-02, 4.77321296e-02, 4.72267142e-02, 4.70851570e-02,\n",
       "       4.68924087e-02, 4.66731884e-02, 4.62496731e-02, 4.60421783e-02,\n",
       "       4.55565300e-02, 4.52566878e-02, 4.50527757e-02, 4.47165213e-02,\n",
       "       4.44996878e-02, 4.38956725e-02, 4.38336917e-02, 4.35798633e-02,\n",
       "       4.33422359e-02, 4.31404318e-02, 4.30523193e-02, 4.28418297e-02,\n",
       "       4.25490525e-02, 4.22214306e-02, 4.19648672e-02, 4.16517432e-02,\n",
       "       4.15547720e-02, 4.10268017e-02, 4.09091684e-02, 4.06746709e-02,\n",
       "       4.01977790e-02, 4.01013179e-02, 3.99374801e-02, 3.97591217e-02,\n",
       "       3.91456819e-02, 3.90411708e-02, 3.88545313e-02, 3.86346784e-02,\n",
       "       3.84376455e-02, 3.83817947e-02, 3.78557060e-02, 3.77802304e-02,\n",
       "       3.75617166e-02, 3.73658332e-02, 3.71095728e-02, 3.70109419e-02,\n",
       "       3.68384855e-02, 3.63653151e-02, 3.61702110e-02, 3.59644784e-02,\n",
       "       3.58779550e-02, 3.55246539e-02, 3.52349639e-02, 3.50480994e-02,\n",
       "       3.48178688e-02, 3.47499572e-02, 3.44700855e-02, 3.43156141e-02,\n",
       "       3.41471300e-02, 3.36628388e-02, 3.35838249e-02, 3.34090404e-02,\n",
       "       3.32151866e-02, 3.31019834e-02, 3.26513719e-02, 3.24728688e-02,\n",
       "       3.23704107e-02, 3.20533948e-02, 3.16822324e-02, 3.16379468e-02,\n",
       "       3.14222008e-02, 3.09370933e-02, 3.06881003e-02, 3.05100443e-02,\n",
       "       3.03506451e-02, 3.01472968e-02, 3.00495916e-02, 2.97717386e-02,\n",
       "       2.96861986e-02, 2.93615539e-02, 2.92432187e-02, 2.89611385e-02,\n",
       "       2.85805196e-02, 2.85377812e-02, 2.81549702e-02, 2.80011262e-02,\n",
       "       2.78763758e-02, 2.77191406e-02, 2.71985332e-02, 2.71017307e-02,\n",
       "       2.68176111e-02, 2.67394402e-02, 2.65063986e-02, 2.60310242e-02,\n",
       "       2.59305253e-02, 2.59107392e-02, 2.55914240e-02, 2.53855789e-02,\n",
       "       2.51760677e-02, 2.47768712e-02, 2.44114046e-02, 2.43294052e-02,\n",
       "       2.42396365e-02, 2.37434767e-02, 2.33919983e-02, 2.33059277e-02,\n",
       "       2.31064977e-02, 2.25401327e-02, 2.24055994e-02, 2.22520071e-02,\n",
       "       2.19206603e-02, 2.14761210e-02, 2.13585582e-02, 2.10565364e-02,\n",
       "       2.08638434e-02, 2.05754844e-02, 2.01604838e-02, 1.93439263e-02,\n",
       "       1.89960975e-02, 1.87551004e-02, 1.81837267e-02, 1.79379848e-02,\n",
       "       1.72188958e-02, 1.63877237e-02, 1.25982728e-02, 6.02328176e-05,\n",
       "       3.39568662e-05, 9.15794574e-30, 2.26330257e-30, 1.08426082e-30,\n",
       "       8.65324212e-31, 8.63193572e-31, 7.27416348e-31, 7.19485529e-31,\n",
       "       6.60362615e-31, 6.04207408e-31, 5.55005233e-31, 5.11163204e-31,\n",
       "       4.66212442e-31, 4.31847640e-31, 3.69581451e-31, 3.38406226e-31,\n",
       "       2.25688063e-31, 1.93355076e-31, 1.44729775e-31, 1.36991195e-31,\n",
       "       1.36991195e-31, 1.36991195e-31, 1.36991195e-31, 1.36991195e-31,\n",
       "       1.36991195e-31, 1.36991195e-31, 1.36991195e-31, 1.36991195e-31,\n",
       "       1.36991195e-31, 1.36991195e-31, 1.36991195e-31, 1.36991195e-31,\n",
       "       1.36991195e-31, 1.36991195e-31, 1.36991195e-31, 1.36991195e-31,\n",
       "       1.36991195e-31, 1.36991195e-31, 1.36991195e-31, 1.36991195e-31,\n",
       "       1.36991195e-31, 1.36991195e-31, 1.36991195e-31, 1.36991195e-31,\n",
       "       1.36991195e-31, 1.36991195e-31, 1.36991195e-31, 1.36991195e-31,\n",
       "       1.36991195e-31, 1.36991195e-31, 1.36991195e-31, 1.36991195e-31,\n",
       "       1.36991195e-31, 1.36991195e-31, 1.36991195e-31, 1.36991195e-31,\n",
       "       1.36991195e-31, 1.36991195e-31, 1.36991195e-31, 1.36991195e-31,\n",
       "       1.36991195e-31, 1.36991195e-31, 1.36991195e-31, 1.36991195e-31,\n",
       "       1.36991195e-31, 1.36991195e-31, 1.36991195e-31, 1.36991195e-31,\n",
       "       1.36991195e-31, 1.36991195e-31, 1.36991195e-31, 1.36991195e-31,\n",
       "       1.36991195e-31, 1.36991195e-31, 1.36991195e-31, 1.36991195e-31,\n",
       "       1.36991195e-31, 1.36991195e-31, 1.36991195e-31, 1.36991195e-31,\n",
       "       1.36991195e-31, 1.36991195e-31, 1.36991195e-31, 1.36991195e-31,\n",
       "       1.36991195e-31, 1.36991195e-31, 1.36991195e-31, 1.36991195e-31,\n",
       "       1.36991195e-31, 1.36991195e-31, 1.36991195e-31, 1.36991195e-31,\n",
       "       1.36991195e-31, 1.36991195e-31, 1.36991195e-31, 1.36991195e-31,\n",
       "       1.36991195e-31, 1.36991195e-31, 1.36991195e-31, 1.36991195e-31,\n",
       "       1.36991195e-31, 1.36991195e-31, 1.36991195e-31, 1.36991195e-31,\n",
       "       1.36991195e-31, 1.36991195e-31, 1.36991195e-31, 1.36991195e-31,\n",
       "       1.36991195e-31, 1.36991195e-31, 1.36991195e-31, 1.36991195e-31,\n",
       "       1.36991195e-31, 1.19480183e-31, 1.14187513e-31, 7.63455665e-32,\n",
       "       5.16918633e-32, 3.83145700e-32, 9.99320396e-33, 4.94394262e-33])"
      ]
     },
     "execution_count": 115,
     "metadata": {},
     "output_type": "execute_result"
    }
   ],
   "source": [
    "pca.explained_variance_"
   ]
  },
  {
   "cell_type": "markdown",
   "metadata": {},
   "source": [
    "- first Principal component is explaining 40% of variance\n",
    "- as we are going down,it's reducing\n",
    "- last features are almost zero, therfore we will not take these features"
   ]
  },
  {
   "cell_type": "code",
   "execution_count": 117,
   "metadata": {},
   "outputs": [
    {
     "data": {
      "text/plain": [
       "675.0675067506752"
      ]
     },
     "execution_count": 117,
     "metadata": {},
     "output_type": "execute_result"
    }
   ],
   "source": [
    "np.sum(pca.explained_variance_)"
   ]
  },
  {
   "cell_type": "markdown",
   "metadata": {},
   "source": [
    "ratio = explained_variance/np.sum(pca.explained_variance_)"
   ]
  },
  {
   "cell_type": "code",
   "execution_count": 118,
   "metadata": {},
   "outputs": [
    {
     "data": {
      "text/plain": [
       "array([6.03178929e-02, 4.26520199e-02, 4.02982470e-02, 3.10981294e-02,\n",
       "       2.67273101e-02, 2.34663750e-02, 2.00964164e-02, 1.85872392e-02,\n",
       "       1.65452379e-02, 1.46638649e-02, 1.41992182e-02, 1.27821693e-02,\n",
       "       1.20004455e-02, 1.19009982e-02, 1.12130521e-02, 1.07675309e-02,\n",
       "       9.99788159e-03, 9.69705244e-03, 9.57516424e-03, 9.32236590e-03,\n",
       "       8.97491546e-03, 8.48824801e-03, 8.25643729e-03, 7.95069437e-03,\n",
       "       7.76165343e-03, 7.36467344e-03, 7.33113614e-03, 7.06145793e-03,\n",
       "       6.85609827e-03, 6.65091488e-03, 6.54298836e-03, 6.46468982e-03,\n",
       "       6.32717265e-03, 6.17778033e-03, 6.04235235e-03, 5.91786610e-03,\n",
       "       5.87731462e-03, 5.79690949e-03, 5.55022996e-03, 5.37785024e-03,\n",
       "       5.32624163e-03, 5.29947871e-03, 5.18305480e-03, 5.07788568e-03,\n",
       "       4.93398516e-03, 4.81555402e-03, 4.75764497e-03, 4.68452936e-03,\n",
       "       4.58262705e-03, 4.53642780e-03, 4.47379216e-03, 4.43960351e-03,\n",
       "       4.31595731e-03, 4.22693902e-03, 4.17694822e-03, 4.06306702e-03,\n",
       "       4.03021472e-03, 3.98149264e-03, 3.93248401e-03, 3.86174559e-03,\n",
       "       3.77044222e-03, 3.69553333e-03, 3.63642864e-03, 3.63144851e-03,\n",
       "       3.58496931e-03, 3.48220051e-03, 3.45932587e-03, 3.41222300e-03,\n",
       "       3.36886327e-03, 3.33288144e-03, 3.27591903e-03, 3.26103026e-03,\n",
       "       3.25249995e-03, 3.21986484e-03, 3.10471118e-03, 3.09496285e-03,\n",
       "       3.05806632e-03, 3.02161638e-03, 2.98406125e-03, 2.95710802e-03,\n",
       "       2.93387688e-03, 2.91195130e-03, 2.89042942e-03, 2.86580789e-03,\n",
       "       2.83917043e-03, 2.78125542e-03, 2.75948107e-03, 2.73079905e-03,\n",
       "       2.70320728e-03, 2.68413702e-03, 2.65660841e-03, 2.60690289e-03,\n",
       "       2.58771383e-03, 2.57001007e-03, 2.55673575e-03, 2.49078805e-03,\n",
       "       2.47245864e-03, 2.44154627e-03, 2.43083289e-03, 2.38886646e-03,\n",
       "       2.35620114e-03, 2.32080812e-03, 2.28364842e-03, 2.26369085e-03,\n",
       "       2.22528844e-03, 2.21555488e-03, 2.21049708e-03, 2.20177955e-03,\n",
       "       2.17215524e-03, 2.15889808e-03, 2.13538279e-03, 2.10137945e-03,\n",
       "       2.08634971e-03, 2.03145667e-03, 2.01782576e-03, 1.99479977e-03,\n",
       "       1.97612189e-03, 1.96095138e-03, 1.93796623e-03, 1.91681748e-03,\n",
       "       1.88349176e-03, 1.86152857e-03, 1.85250816e-03, 1.83473429e-03,\n",
       "       1.81424342e-03, 1.80683015e-03, 1.78948472e-03, 1.74833302e-03,\n",
       "       1.71462184e-03, 1.70062286e-03, 1.68784166e-03, 1.67729945e-03,\n",
       "       1.66409231e-03, 1.63799808e-03, 1.62177294e-03, 1.59661207e-03,\n",
       "       1.58963133e-03, 1.57828670e-03, 1.56255653e-03, 1.54261553e-03,\n",
       "       1.53018816e-03, 1.51905784e-03, 1.50059883e-03, 1.48963542e-03,\n",
       "       1.48051315e-03, 1.46673981e-03, 1.46147872e-03, 1.44206158e-03,\n",
       "       1.43466620e-03, 1.42119854e-03, 1.40869867e-03, 1.39497081e-03,\n",
       "       1.38806841e-03, 1.38065889e-03, 1.37143089e-03, 1.34657747e-03,\n",
       "       1.33247830e-03, 1.32126002e-03, 1.30666036e-03, 1.29469156e-03,\n",
       "       1.27924284e-03, 1.27581146e-03, 1.26268459e-03, 1.25580066e-03,\n",
       "       1.22795694e-03, 1.21102409e-03, 1.19700556e-03, 1.18891175e-03,\n",
       "       1.17977607e-03, 1.16339387e-03, 1.14331511e-03, 1.14217878e-03,\n",
       "       1.12584331e-03, 1.11818718e-03, 1.10614299e-03, 1.08725970e-03,\n",
       "       1.08383967e-03, 1.06444112e-03, 1.05353908e-03, 1.04945324e-03,\n",
       "       1.04078208e-03, 1.02578002e-03, 1.00942153e-03, 9.95998981e-04,\n",
       "       9.91990573e-04, 9.89232654e-04, 9.73878944e-04, 9.59101083e-04,\n",
       "       9.56661371e-04, 9.49956844e-04, 9.39365610e-04, 9.24633032e-04,\n",
       "       9.19588556e-04, 9.13675666e-04, 9.09054434e-04, 8.87268375e-04,\n",
       "       8.81462199e-04, 8.72743730e-04, 8.70942095e-04, 8.61326090e-04,\n",
       "       8.48578940e-04, 8.43288846e-04, 8.37535724e-04, 8.24538008e-04,\n",
       "       8.18782490e-04, 8.11175470e-04, 8.07759904e-04, 7.94470076e-04,\n",
       "       7.84970139e-04, 7.77163132e-04, 7.74615472e-04, 7.66316255e-04,\n",
       "       7.57575088e-04, 7.50490934e-04, 7.39520820e-04, 7.29921868e-04,\n",
       "       7.27496103e-04, 7.18504086e-04, 7.16015390e-04, 7.06358047e-04,\n",
       "       7.01988608e-04, 6.95580836e-04, 6.87470774e-04, 6.87296104e-04,\n",
       "       6.79391826e-04, 6.57965985e-04, 6.53663259e-04, 6.42150411e-04,\n",
       "       6.39291741e-04, 6.34580533e-04, 6.30654510e-04, 6.25797971e-04,\n",
       "       6.16224224e-04, 6.06377402e-04, 5.98196134e-04, 5.95626599e-04,\n",
       "       5.93043808e-04, 5.86270388e-04, 5.80634365e-04, 5.79349278e-04,\n",
       "       5.75419852e-04, 5.71830389e-04, 5.64824520e-04, 5.59278417e-04,\n",
       "       5.57430688e-04, 5.49283279e-04, 5.44224748e-04, 5.36436697e-04,\n",
       "       5.34675405e-04, 5.24568996e-04, 5.23885786e-04, 5.21042871e-04,\n",
       "       5.11649855e-04, 5.07419956e-04, 5.04005762e-04, 4.99870124e-04,\n",
       "       4.95515732e-04, 4.91632372e-04, 4.90006108e-04, 4.82707678e-04,\n",
       "       4.77844880e-04, 4.73108061e-04, 4.67887170e-04, 4.65023334e-04,\n",
       "       4.55160368e-04, 4.52768511e-04, 4.45565626e-04, 4.42660325e-04,\n",
       "       4.41808102e-04, 4.37965836e-04, 4.37204229e-04, 4.28565082e-04,\n",
       "       4.24041523e-04, 4.21038163e-04, 4.18411762e-04, 4.15235118e-04,\n",
       "       4.09728212e-04, 4.08884069e-04, 4.03481754e-04, 3.99540614e-04,\n",
       "       3.99107379e-04, 3.95545394e-04, 3.91134638e-04, 3.89210929e-04,\n",
       "       3.83987818e-04, 3.81690846e-04, 3.79816336e-04, 3.71493932e-04,\n",
       "       3.70563143e-04, 3.68992786e-04, 3.67380203e-04, 3.62273282e-04,\n",
       "       3.58790505e-04, 3.58531089e-04, 3.55530313e-04, 3.51637477e-04,\n",
       "       3.47837811e-04, 3.42304757e-04, 3.39200806e-04, 3.38891417e-04,\n",
       "       3.36802850e-04, 3.31414311e-04, 3.29318843e-04, 3.26022932e-04,\n",
       "       3.23652352e-04, 3.21142349e-04, 3.18470890e-04, 3.16296442e-04,\n",
       "       3.14493587e-04, 3.10525669e-04, 3.08628001e-04, 3.04748499e-04,\n",
       "       3.02380845e-04, 3.01607333e-04, 2.97512211e-04, 2.95678555e-04,\n",
       "       2.94563781e-04, 2.92116804e-04, 2.90035242e-04, 2.87961392e-04,\n",
       "       2.84808026e-04, 2.83330228e-04, 2.80749540e-04, 2.79030553e-04,\n",
       "       2.78013063e-04, 2.77312188e-04, 2.72290974e-04, 2.70013217e-04,\n",
       "       2.69357863e-04, 2.66484652e-04, 2.66204000e-04, 2.61245592e-04,\n",
       "       2.60244383e-04, 2.57297183e-04, 2.55029410e-04, 2.52481631e-04,\n",
       "       2.51954753e-04, 2.50188117e-04, 2.47230514e-04, 2.45710851e-04,\n",
       "       2.44147849e-04, 2.43039504e-04, 2.40518685e-04, 2.40317446e-04,\n",
       "       2.37889005e-04, 2.34064555e-04, 2.32840606e-04, 2.32206196e-04,\n",
       "       2.30427308e-04, 2.29277977e-04, 2.27968615e-04, 2.25269671e-04,\n",
       "       2.24564348e-04, 2.22147641e-04, 2.19648316e-04, 2.18413066e-04,\n",
       "       2.15683356e-04, 2.14855337e-04, 2.12446999e-04, 2.12027527e-04,\n",
       "       2.11025608e-04, 2.07993376e-04, 2.07759266e-04, 2.05853428e-04,\n",
       "       2.04978802e-04, 2.03489178e-04, 2.00962085e-04, 1.99580751e-04,\n",
       "       1.97756520e-04, 1.96677070e-04, 1.95402875e-04, 1.93902824e-04,\n",
       "       1.92561955e-04, 1.91334486e-04, 1.89419481e-04, 1.88044246e-04,\n",
       "       1.87404384e-04, 1.85721118e-04, 1.84551141e-04, 1.83294440e-04,\n",
       "       1.83209014e-04, 1.81113453e-04, 1.80056949e-04, 1.79025066e-04,\n",
       "       1.78870719e-04, 1.75873332e-04, 1.75727815e-04, 1.74350779e-04,\n",
       "       1.73916921e-04, 1.73496788e-04, 1.72060968e-04, 1.70134965e-04,\n",
       "       1.69512662e-04, 1.68485685e-04, 1.67516977e-04, 1.66189288e-04,\n",
       "       1.65886562e-04, 1.64823387e-04, 1.63494534e-04, 1.61461761e-04,\n",
       "       1.60540577e-04, 1.60037748e-04, 1.57979246e-04, 1.57809885e-04,\n",
       "       1.57125516e-04, 1.55544761e-04, 1.55095750e-04, 1.53791967e-04,\n",
       "       1.53045866e-04, 1.52289135e-04, 1.51084808e-04, 1.50078967e-04,\n",
       "       1.48783600e-04, 1.48147365e-04, 1.46734702e-04, 1.45642316e-04,\n",
       "       1.44283505e-04, 1.43801752e-04, 1.43128112e-04, 1.42644864e-04,\n",
       "       1.41142174e-04, 1.40975132e-04, 1.40126058e-04, 1.39068181e-04,\n",
       "       1.38799347e-04, 1.37435707e-04, 1.36963897e-04, 1.36217844e-04,\n",
       "       1.34487152e-04, 1.34055588e-04, 1.33144121e-04, 1.32915550e-04,\n",
       "       1.31976848e-04, 1.31266234e-04, 1.30878782e-04, 1.29593993e-04,\n",
       "       1.29133164e-04, 1.28351726e-04, 1.27557474e-04, 1.26875078e-04,\n",
       "       1.26027843e-04, 1.25349602e-04, 1.24885593e-04, 1.23452999e-04,\n",
       "       1.23094482e-04, 1.22125813e-04, 1.21004956e-04, 1.20571724e-04,\n",
       "       1.19522891e-04, 1.18903764e-04, 1.18668667e-04, 1.18331764e-04,\n",
       "       1.17380464e-04, 1.16800991e-04, 1.15859011e-04, 1.15770443e-04,\n",
       "       1.15149330e-04, 1.13986150e-04, 1.13272666e-04, 1.11954138e-04,\n",
       "       1.11788950e-04, 1.10773447e-04, 1.10556381e-04, 1.10268725e-04,\n",
       "       1.09892827e-04, 1.09062272e-04, 1.08119704e-04, 1.07904316e-04,\n",
       "       1.07417103e-04, 1.07243245e-04, 1.06544865e-04, 1.05933406e-04,\n",
       "       1.05010794e-04, 1.04089230e-04, 1.04058127e-04, 1.02993625e-04,\n",
       "       1.02300353e-04, 1.01770337e-04, 1.01529603e-04, 1.01159760e-04,\n",
       "       1.00612177e-04, 9.94151932e-05, 9.87257110e-05, 9.80684051e-05,\n",
       "       9.78164703e-05, 9.73572254e-05, 9.68020439e-05, 9.63980708e-05,\n",
       "       9.56670410e-05, 9.52383537e-05, 9.43516672e-05, 9.34990266e-05,\n",
       "       9.32191490e-05, 9.29468199e-05, 9.25295984e-05, 9.23159115e-05,\n",
       "       9.18525477e-05, 9.06444454e-05, 9.01293695e-05, 8.96220519e-05,\n",
       "       8.94406672e-05, 8.92965450e-05, 8.85055888e-05, 8.82619055e-05,\n",
       "       8.77446414e-05, 8.71071764e-05, 8.65439333e-05, 8.59562741e-05,\n",
       "       8.53865940e-05, 8.49942512e-05, 8.47247720e-05, 8.43411045e-05,\n",
       "       8.40572017e-05, 8.36534285e-05, 8.29154122e-05, 8.26678371e-05,\n",
       "       8.18450974e-05, 8.13707737e-05, 8.06719943e-05, 8.00983645e-05,\n",
       "       7.91230794e-05, 7.88365162e-05, 7.87817986e-05, 7.82239471e-05,\n",
       "       7.80485579e-05, 7.76497714e-05, 7.70794561e-05, 7.64944612e-05,\n",
       "       7.56188930e-05, 7.54986469e-05, 7.49418288e-05, 7.46385718e-05,\n",
       "       7.43209227e-05, 7.42031158e-05, 7.34334469e-05, 7.32140377e-05,\n",
       "       7.28409790e-05, 7.22830777e-05, 7.19586242e-05, 7.14969191e-05,\n",
       "       7.09381754e-05, 7.07071947e-05, 6.99585060e-05, 6.97488126e-05,\n",
       "       6.94632881e-05, 6.91385497e-05, 6.85111824e-05, 6.82038135e-05,\n",
       "       6.74844065e-05, 6.70402402e-05, 6.67381784e-05, 6.62400735e-05,\n",
       "       6.59188709e-05, 6.50241229e-05, 6.49323086e-05, 6.45563042e-05,\n",
       "       6.42042988e-05, 6.39053597e-05, 6.37748357e-05, 6.34630304e-05,\n",
       "       6.30293297e-05, 6.25440126e-05, 6.21639567e-05, 6.17001155e-05,\n",
       "       6.15564689e-05, 6.07743690e-05, 6.06001149e-05, 6.02527458e-05,\n",
       "       5.95463100e-05, 5.94034190e-05, 5.91607205e-05, 5.88965123e-05,\n",
       "       5.79878034e-05, 5.78329877e-05, 5.75565123e-05, 5.72308369e-05,\n",
       "       5.69389655e-05, 5.68562319e-05, 5.60769191e-05, 5.59651147e-05,\n",
       "       5.56414229e-05, 5.53512542e-05, 5.49716471e-05, 5.48255419e-05,\n",
       "       5.45700765e-05, 5.38691535e-05, 5.35801392e-05, 5.32753807e-05,\n",
       "       5.31472106e-05, 5.26238540e-05, 5.21947265e-05, 5.19179179e-05,\n",
       "       5.15768696e-05, 5.14762700e-05, 5.10616866e-05, 5.08328631e-05,\n",
       "       5.05832818e-05, 4.98658852e-05, 4.97488392e-05, 4.94899252e-05,\n",
       "       4.92027631e-05, 4.90350715e-05, 4.83675656e-05, 4.81031430e-05,\n",
       "       4.79513684e-05, 4.74817622e-05, 4.69319470e-05, 4.68663452e-05,\n",
       "       4.65467534e-05, 4.58281475e-05, 4.54593059e-05, 4.51955456e-05,\n",
       "       4.49594223e-05, 4.46581956e-05, 4.45134617e-05, 4.41018687e-05,\n",
       "       4.39751555e-05, 4.34942485e-05, 4.33189547e-05, 4.29010998e-05,\n",
       "       4.23372764e-05, 4.22739666e-05, 4.17068958e-05, 4.14790016e-05,\n",
       "       4.12942047e-05, 4.10612870e-05, 4.02900938e-05, 4.01466971e-05,\n",
       "       3.97258213e-05, 3.96100241e-05, 3.92648118e-05, 3.85606239e-05,\n",
       "       3.84117515e-05, 3.83824417e-05, 3.79094294e-05, 3.76045042e-05,\n",
       "       3.72941483e-05, 3.67028053e-05, 3.61614273e-05, 3.60399589e-05,\n",
       "       3.59069815e-05, 3.51720035e-05, 3.46513468e-05, 3.45238476e-05,\n",
       "       3.42284252e-05, 3.33894499e-05, 3.31901612e-05, 3.29626398e-05,\n",
       "       3.24718047e-05, 3.18132939e-05, 3.16391442e-05, 3.11917493e-05,\n",
       "       3.09063067e-05, 3.04791508e-05, 2.98643967e-05, 2.86548029e-05,\n",
       "       2.81395525e-05, 2.77825555e-05, 2.69361605e-05, 2.65721348e-05,\n",
       "       2.55069244e-05, 2.42756814e-05, 1.86622415e-05, 8.92248804e-08,\n",
       "       5.03014378e-08, 1.35659703e-32, 3.35270554e-33, 1.60615170e-33,\n",
       "       1.28183360e-33, 1.27867741e-33, 1.07754608e-33, 1.06579790e-33,\n",
       "       9.78217153e-34, 8.95032573e-34, 8.22147752e-34, 7.57203093e-34,\n",
       "       6.90616031e-34, 6.39710303e-34, 5.47473322e-34, 5.01292422e-34,\n",
       "       3.34319250e-34, 2.86423320e-34, 2.14393040e-34, 2.02929623e-34,\n",
       "       2.02929623e-34, 2.02929623e-34, 2.02929623e-34, 2.02929623e-34,\n",
       "       2.02929623e-34, 2.02929623e-34, 2.02929623e-34, 2.02929623e-34,\n",
       "       2.02929623e-34, 2.02929623e-34, 2.02929623e-34, 2.02929623e-34,\n",
       "       2.02929623e-34, 2.02929623e-34, 2.02929623e-34, 2.02929623e-34,\n",
       "       2.02929623e-34, 2.02929623e-34, 2.02929623e-34, 2.02929623e-34,\n",
       "       2.02929623e-34, 2.02929623e-34, 2.02929623e-34, 2.02929623e-34,\n",
       "       2.02929623e-34, 2.02929623e-34, 2.02929623e-34, 2.02929623e-34,\n",
       "       2.02929623e-34, 2.02929623e-34, 2.02929623e-34, 2.02929623e-34,\n",
       "       2.02929623e-34, 2.02929623e-34, 2.02929623e-34, 2.02929623e-34,\n",
       "       2.02929623e-34, 2.02929623e-34, 2.02929623e-34, 2.02929623e-34,\n",
       "       2.02929623e-34, 2.02929623e-34, 2.02929623e-34, 2.02929623e-34,\n",
       "       2.02929623e-34, 2.02929623e-34, 2.02929623e-34, 2.02929623e-34,\n",
       "       2.02929623e-34, 2.02929623e-34, 2.02929623e-34, 2.02929623e-34,\n",
       "       2.02929623e-34, 2.02929623e-34, 2.02929623e-34, 2.02929623e-34,\n",
       "       2.02929623e-34, 2.02929623e-34, 2.02929623e-34, 2.02929623e-34,\n",
       "       2.02929623e-34, 2.02929623e-34, 2.02929623e-34, 2.02929623e-34,\n",
       "       2.02929623e-34, 2.02929623e-34, 2.02929623e-34, 2.02929623e-34,\n",
       "       2.02929623e-34, 2.02929623e-34, 2.02929623e-34, 2.02929623e-34,\n",
       "       2.02929623e-34, 2.02929623e-34, 2.02929623e-34, 2.02929623e-34,\n",
       "       2.02929623e-34, 2.02929623e-34, 2.02929623e-34, 2.02929623e-34,\n",
       "       2.02929623e-34, 2.02929623e-34, 2.02929623e-34, 2.02929623e-34,\n",
       "       2.02929623e-34, 2.02929623e-34, 2.02929623e-34, 2.02929623e-34,\n",
       "       2.02929623e-34, 2.02929623e-34, 2.02929623e-34, 2.02929623e-34,\n",
       "       2.02929623e-34, 1.76989978e-34, 1.69149769e-34, 1.13093233e-34,\n",
       "       7.65728801e-35, 5.67566497e-35, 1.48032661e-35, 7.32362700e-36])"
      ]
     },
     "execution_count": 118,
     "metadata": {},
     "output_type": "execute_result"
    }
   ],
   "source": [
    "pca.explained_variance_ratio_"
   ]
  },
  {
   "cell_type": "code",
   "execution_count": 119,
   "metadata": {},
   "outputs": [],
   "source": [
    "cum_var_explained = np.cumsum(pca.explained_variance_ratio_)"
   ]
  },
  {
   "cell_type": "code",
   "execution_count": 120,
   "metadata": {},
   "outputs": [
    {
     "data": {
      "text/plain": [
       "array([0.06031789, 0.10296991, 0.14326816, 0.17436629, 0.2010936 ,\n",
       "       0.22455997, 0.24465639, 0.26324363, 0.27978887, 0.29445273,\n",
       "       0.30865195, 0.32143412, 0.33343457, 0.34533556, 0.35654862,\n",
       "       0.36731615, 0.37731403, 0.38701108, 0.39658625, 0.40590861,\n",
       "       0.41488353, 0.42337177, 0.43162821, 0.43957891, 0.44734056,\n",
       "       0.45470523, 0.46203637, 0.46909783, 0.47595393, 0.48260484,\n",
       "       0.48914783, 0.49561252, 0.50193969, 0.50811747, 0.51415982,\n",
       "       0.52007769, 0.525955  , 0.53175191, 0.53730214, 0.54267999,\n",
       "       0.54800624, 0.55330571, 0.55848877, 0.56356665, 0.56850064,\n",
       "       0.57331619, 0.57807384, 0.58275837, 0.587341  , 0.59187742,\n",
       "       0.59635122, 0.60079082, 0.60510678, 0.60933372, 0.61351066,\n",
       "       0.61757373, 0.62160395, 0.62558544, 0.62951792, 0.63337967,\n",
       "       0.63715011, 0.64084564, 0.64448207, 0.64811352, 0.65169849,\n",
       "       0.65518069, 0.65864002, 0.66205224, 0.6654211 , 0.66875398,\n",
       "       0.6720299 , 0.67529093, 0.67854343, 0.6817633 , 0.68486801,\n",
       "       0.68796297, 0.69102104, 0.69404265, 0.69702672, 0.69998382,\n",
       "       0.7029177 , 0.70582965, 0.70872008, 0.71158589, 0.71442506,\n",
       "       0.71720632, 0.7199658 , 0.7226966 , 0.7253998 , 0.72808394,\n",
       "       0.73074055, 0.73334745, 0.73593516, 0.73850517, 0.74106191,\n",
       "       0.7435527 , 0.74602516, 0.7484667 , 0.75089754, 0.7532864 ,\n",
       "       0.7556426 , 0.75796341, 0.76024706, 0.76251075, 0.76473604,\n",
       "       0.76695159, 0.76916209, 0.77136387, 0.77353603, 0.77569492,\n",
       "       0.77783031, 0.77993169, 0.78201804, 0.78404949, 0.78606732,\n",
       "       0.78806212, 0.79003824, 0.79199919, 0.79393716, 0.79585398,\n",
       "       0.79773747, 0.799599  , 0.8014515 , 0.80328624, 0.80510048,\n",
       "       0.80690731, 0.8086968 , 0.81044513, 0.81215975, 0.81386037,\n",
       "       0.81554822, 0.81722552, 0.81888961, 0.82052761, 0.82214938,\n",
       "       0.82374599, 0.82533562, 0.82691391, 0.82847647, 0.83001908,\n",
       "       0.83154927, 0.83306833, 0.83456893, 0.83605856, 0.83753907,\n",
       "       0.83900581, 0.84046729, 0.84190935, 0.84334402, 0.84476522,\n",
       "       0.84617392, 0.84756889, 0.84895696, 0.85033762, 0.85170905,\n",
       "       0.85305562, 0.8543881 , 0.85570936, 0.85701602, 0.85831071,\n",
       "       0.85958996, 0.86086577, 0.86212845, 0.86338425, 0.86461221,\n",
       "       0.86582324, 0.86702024, 0.86820915, 0.86938893, 0.87055232,\n",
       "       0.87169564, 0.87283782, 0.87396366, 0.87508185, 0.87618799,\n",
       "       0.87727525, 0.87835909, 0.87942353, 0.88047707, 0.88152652,\n",
       "       0.8825673 , 0.88359308, 0.88460251, 0.88559851, 0.8865905 ,\n",
       "       0.88757973, 0.88855361, 0.88951271, 0.89046937, 0.89141933,\n",
       "       0.89235869, 0.89328333, 0.89420291, 0.89511659, 0.89602564,\n",
       "       0.89691291, 0.89779437, 0.89866712, 0.89953806, 0.90039939,\n",
       "       0.90124797, 0.90209125, 0.90292879, 0.90375333, 0.90457211,\n",
       "       0.90538329, 0.90619105, 0.90698552, 0.90777049, 0.90854765,\n",
       "       0.90932226, 0.91008858, 0.91084616, 0.91159665, 0.91233617,\n",
       "       0.91306609, 0.91379359, 0.91451209, 0.91522811, 0.91593446,\n",
       "       0.91663645, 0.91733203, 0.9180195 , 0.9187068 , 0.91938619,\n",
       "       0.92004416, 0.92069782, 0.92133997, 0.92197926, 0.92261384,\n",
       "       0.9232445 , 0.9238703 , 0.92448652, 0.9250929 , 0.92569109,\n",
       "       0.92628672, 0.92687976, 0.92746603, 0.92804667, 0.92862602,\n",
       "       0.92920144, 0.92977327, 0.93033809, 0.93089737, 0.9314548 ,\n",
       "       0.93200409, 0.93254831, 0.93308475, 0.93361942, 0.93414399,\n",
       "       0.93466788, 0.93518892, 0.93570057, 0.93620799, 0.936712  ,\n",
       "       0.93721187, 0.93770738, 0.93819901, 0.93868902, 0.93917173,\n",
       "       0.93964957, 0.94012268, 0.94059057, 0.94105559, 0.94151075,\n",
       "       0.94196352, 0.94240909, 0.94285175, 0.94329355, 0.94373152,\n",
       "       0.94416872, 0.94459729, 0.94502133, 0.94544237, 0.94586078,\n",
       "       0.94627602, 0.94668574, 0.94709463, 0.94749811, 0.94789765,\n",
       "       0.94829676, 0.9486923 , 0.94908344, 0.94947265, 0.94985664,\n",
       "       0.95023833, 0.95061814, 0.95098964, 0.9513602 , 0.95172919,\n",
       "       0.95209657, 0.95245885, 0.95281764, 0.95317617, 0.9535317 ,\n",
       "       0.95388334, 0.95423117, 0.95457348, 0.95491268, 0.95525157,\n",
       "       0.95558837, 0.95591979, 0.95624911, 0.95657513, 0.95689878,\n",
       "       0.95721992, 0.9575384 , 0.95785469, 0.95816919, 0.95847971,\n",
       "       0.95878834, 0.95909309, 0.95939547, 0.95969708, 0.95999459,\n",
       "       0.96029027, 0.96058483, 0.96087695, 0.96116698, 0.96145494,\n",
       "       0.96173975, 0.96202308, 0.96230383, 0.96258286, 0.96286088,\n",
       "       0.96313819, 0.96341048, 0.96368049, 0.96394985, 0.96421633,\n",
       "       0.96448254, 0.96474378, 0.96500403, 0.96526133, 0.96551635,\n",
       "       0.96576884, 0.96602079, 0.96627098, 0.96651821, 0.96676392,\n",
       "       0.96700807, 0.96725111, 0.96749163, 0.96773194, 0.96796983,\n",
       "       0.9682039 , 0.96843674, 0.96866894, 0.96889937, 0.96912865,\n",
       "       0.96935662, 0.96958189, 0.96980645, 0.9700286 , 0.97024825,\n",
       "       0.97046666, 0.97068234, 0.9708972 , 0.97110965, 0.97132167,\n",
       "       0.9715327 , 0.97174069, 0.97194845, 0.97215431, 0.97235928,\n",
       "       0.97256277, 0.97276374, 0.97296332, 0.97316107, 0.97335775,\n",
       "       0.97355315, 0.97374706, 0.97393962, 0.97413095, 0.97432037,\n",
       "       0.97450842, 0.97469582, 0.97488154, 0.97506609, 0.97524939,\n",
       "       0.9754326 , 0.97561371, 0.97579377, 0.97597279, 0.97615166,\n",
       "       0.97632754, 0.97650326, 0.97667761, 0.97685153, 0.97702503,\n",
       "       0.97719709, 0.97736722, 0.97753674, 0.97770522, 0.97787274,\n",
       "       0.97803893, 0.97820482, 0.97836964, 0.97853313, 0.9786946 ,\n",
       "       0.97885514, 0.97901517, 0.97917315, 0.97933096, 0.97948809,\n",
       "       0.97964363, 0.97979873, 0.97995252, 0.98010557, 0.98025786,\n",
       "       0.98040894, 0.98055902, 0.9807078 , 0.98085595, 0.98100269,\n",
       "       0.98114833, 0.98129261, 0.98143641, 0.98157954, 0.98172219,\n",
       "       0.98186333, 0.9820043 , 0.98214443, 0.9822835 , 0.9824223 ,\n",
       "       0.98255973, 0.9826967 , 0.98283291, 0.9829674 , 0.98310146,\n",
       "       0.9832346 , 0.98336752, 0.98349949, 0.98363076, 0.98376164,\n",
       "       0.98389123, 0.98402037, 0.98414872, 0.98427627, 0.98440315,\n",
       "       0.98452918, 0.98465453, 0.98477941, 0.98490287, 0.98502596,\n",
       "       0.98514809, 0.98526909, 0.98538966, 0.98550919, 0.98562809,\n",
       "       0.98574676, 0.98586509, 0.98598247, 0.98609927, 0.98621513,\n",
       "       0.9863309 , 0.98644605, 0.98656004, 0.98667331, 0.98678526,\n",
       "       0.98689705, 0.98700783, 0.98711838, 0.98722865, 0.98733854,\n",
       "       0.98744761, 0.98755573, 0.98766363, 0.98777105, 0.98787829,\n",
       "       0.98798483, 0.98809077, 0.98819578, 0.98829987, 0.98840393,\n",
       "       0.98850692, 0.98860922, 0.98871099, 0.98881252, 0.98891368,\n",
       "       0.98901429, 0.98911371, 0.98921243, 0.9893105 , 0.98940832,\n",
       "       0.98950568, 0.98960248, 0.98969888, 0.98979454, 0.98988978,\n",
       "       0.98998413, 0.99007763, 0.99017085, 0.9902638 , 0.99035633,\n",
       "       0.99044864, 0.9905405 , 0.99063114, 0.99072127, 0.99081089,\n",
       "       0.99090033, 0.99098963, 0.99107813, 0.9911664 , 0.99125414,\n",
       "       0.99134125, 0.99142779, 0.99151375, 0.99159913, 0.99168413,\n",
       "       0.99176885, 0.99185319, 0.99193725, 0.99202091, 0.99210382,\n",
       "       0.99218649, 0.99226833, 0.9923497 , 0.99243038, 0.99251047,\n",
       "       0.9925896 , 0.99266843, 0.99274722, 0.99282544, 0.99290349,\n",
       "       0.99298114, 0.99305822, 0.99313471, 0.99321033, 0.99328583,\n",
       "       0.99336077, 0.99343541, 0.99350973, 0.99358393, 0.99365737,\n",
       "       0.99373058, 0.99380342, 0.99387571, 0.99394766, 0.99401916,\n",
       "       0.9940901 , 0.99416081, 0.99423077, 0.99430051, 0.99436998,\n",
       "       0.99443912, 0.99450763, 0.99457583, 0.99464332, 0.99471036,\n",
       "       0.99477709, 0.99484333, 0.99490925, 0.99497428, 0.99503921,\n",
       "       0.99510377, 0.99516797, 0.99523188, 0.99529565, 0.99535911,\n",
       "       0.99542214, 0.99548469, 0.99554685, 0.99560855, 0.99567011,\n",
       "       0.99573088, 0.99579148, 0.99585173, 0.99591128, 0.99597068,\n",
       "       0.99602984, 0.99608874, 0.99614673, 0.99620456, 0.99626212,\n",
       "       0.99631935, 0.99637629, 0.99643314, 0.99648922, 0.99654519,\n",
       "       0.99660083, 0.99665618, 0.99671115, 0.99676598, 0.99682055,\n",
       "       0.99687442, 0.996928  , 0.99698127, 0.99703442, 0.99708704,\n",
       "       0.99713924, 0.99719115, 0.99724273, 0.99729421, 0.99734527,\n",
       "       0.9973961 , 0.99744669, 0.99749655, 0.9975463 , 0.99759579,\n",
       "       0.99764499, 0.99769403, 0.9977424 , 0.9977905 , 0.99783845,\n",
       "       0.99788593, 0.99793286, 0.99797973, 0.99802628, 0.99807211,\n",
       "       0.99811756, 0.99816276, 0.99820772, 0.99825238, 0.99829689,\n",
       "       0.99834099, 0.99838497, 0.99842846, 0.99847178, 0.99851468,\n",
       "       0.99855702, 0.99859929, 0.998641  , 0.99868248, 0.99872377,\n",
       "       0.99876484, 0.99880513, 0.99884527, 0.998885  , 0.99892461,\n",
       "       0.99896387, 0.99900243, 0.99904085, 0.99907923, 0.99911714,\n",
       "       0.99915474, 0.99919204, 0.99922874, 0.9992649 , 0.99930094,\n",
       "       0.99933685, 0.99937202, 0.99940667, 0.99944119, 0.99947542,\n",
       "       0.99950881, 0.999542  , 0.99957496, 0.99960744, 0.99963925,\n",
       "       0.99967089, 0.99970208, 0.99973299, 0.99976347, 0.99979333,\n",
       "       0.99982199, 0.99985012, 0.99987791, 0.99990484, 0.99993142,\n",
       "       0.99995692, 0.9999812 , 0.99999986, 0.99999995, 1.        ,\n",
       "       1.        , 1.        , 1.        , 1.        , 1.        ,\n",
       "       1.        , 1.        , 1.        , 1.        , 1.        ,\n",
       "       1.        , 1.        , 1.        , 1.        , 1.        ,\n",
       "       1.        , 1.        , 1.        , 1.        , 1.        ,\n",
       "       1.        , 1.        , 1.        , 1.        , 1.        ,\n",
       "       1.        , 1.        , 1.        , 1.        , 1.        ,\n",
       "       1.        , 1.        , 1.        , 1.        , 1.        ,\n",
       "       1.        , 1.        , 1.        , 1.        , 1.        ,\n",
       "       1.        , 1.        , 1.        , 1.        , 1.        ,\n",
       "       1.        , 1.        , 1.        , 1.        , 1.        ,\n",
       "       1.        , 1.        , 1.        , 1.        , 1.        ,\n",
       "       1.        , 1.        , 1.        , 1.        , 1.        ,\n",
       "       1.        , 1.        , 1.        , 1.        , 1.        ,\n",
       "       1.        , 1.        , 1.        , 1.        , 1.        ,\n",
       "       1.        , 1.        , 1.        , 1.        , 1.        ,\n",
       "       1.        , 1.        , 1.        , 1.        , 1.        ,\n",
       "       1.        , 1.        , 1.        , 1.        , 1.        ,\n",
       "       1.        , 1.        , 1.        , 1.        , 1.        ,\n",
       "       1.        , 1.        , 1.        , 1.        , 1.        ,\n",
       "       1.        , 1.        , 1.        , 1.        , 1.        ,\n",
       "       1.        , 1.        , 1.        , 1.        , 1.        ,\n",
       "       1.        , 1.        , 1.        , 1.        , 1.        ,\n",
       "       1.        , 1.        , 1.        , 1.        , 1.        ,\n",
       "       1.        , 1.        , 1.        , 1.        ])"
      ]
     },
     "execution_count": 120,
     "metadata": {},
     "output_type": "execute_result"
    }
   ],
   "source": [
    "cum_var_explained"
   ]
  },
  {
   "cell_type": "markdown",
   "metadata": {},
   "source": [
    "- the first part is 0.06, this is the ratio that first component is explaining\n",
    "- second part is explaining some ratio and it will add the previous ratio\n",
    "- by seeing this we can stop when we have got 90percnt of ratio"
   ]
  },
  {
   "cell_type": "code",
   "execution_count": 125,
   "metadata": {},
   "outputs": [
    {
     "data": {
      "image/png": "[encoded data removed]",
      "text/plain": [
       "<Figure size 576x432 with 1 Axes>"
      ]
     },
     "metadata": {
      "needs_background": "light"
     },
     "output_type": "display_data"
    }
   ],
   "source": [
    "plt.figure(figsize=(8,6))\n",
    "plt.plot(cum_var_explained)\n",
    "plt.xlabel('Number of components')\n",
    "plt.ylabel('Cummulative Sum')\n",
    "plt.grid()\n",
    "plt.show()"
   ]
  },
  {
   "cell_type": "markdown",
   "metadata": {},
   "source": [
    "- with 200 Prinicpal Componenets we are having 90 percent of variance, we donot need other dimnesions"
   ]
  },
  {
   "cell_type": "code",
   "execution_count": null,
   "metadata": {},
   "outputs": [],
   "source": []
  }
 ],
 "metadata": {
  "kernelspec": {
   "display_name": "Python 3",
   "language": "python",
   "name": "python3"
  },
  "language_info": {
   "codemirror_mode": {
    "name": "ipython",
    "version": 3
   },
   "file_extension": ".py",
   "mimetype": "text/x-python",
   "name": "python",
   "nbconvert_exporter": "python",
   "pygments_lexer": "ipython3",
   "version": "3.7.7"
  }
 },
 "nbformat": 4,
 "nbformat_minor": 4
}
