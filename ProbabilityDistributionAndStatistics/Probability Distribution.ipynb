{
 "cells": [
  {
   "cell_type": "markdown",
   "metadata": {},
   "source": [
    "- In real life we have data in Normal distribution and not in uniform Distribution\n",
    "- Normal Distribution is parameterized by mean(u) and standard deviation(sigma)\n",
    "- Therefore when we will create our dataset we would have larger possibility of having a datapoint near the mean value"
   ]
  },
  {
   "cell_type": "code",
   "execution_count": 2,
   "metadata": {},
   "outputs": [],
   "source": [
    "import numpy as np"
   ]
  },
  {
   "cell_type": "code",
   "execution_count": 3,
   "metadata": {},
   "outputs": [],
   "source": [
    "import matplotlib.pyplot as plt"
   ]
  },
  {
   "cell_type": "code",
   "execution_count": 21,
   "metadata": {},
   "outputs": [
    {
     "name": "stdout",
     "output_type": "stream",
     "text": [
      "[2.84017346 6.87043705 4.9756126  6.04585679 3.81408274 5.93929766\n",
      " 4.5372285  4.8934179  7.3007825  2.42768916 4.96184836 4.65262961\n",
      " 4.81733551 5.14948384 3.8753376  3.76296427 4.43699758 4.90280251\n",
      " 5.655269   4.55720901 4.17317396 3.93831258 3.84378008 5.3669787\n",
      " 6.22506687 6.41026466 1.83688502 4.19834121 3.89254738 4.9645962\n",
      " 4.38561685 4.69251417 5.56438201 4.54840186 5.58990206 4.79263173\n",
      " 5.57671976 6.29871967 4.68793258 4.58000374 4.43720233 5.37144932\n",
      " 4.9518288  4.07505357 4.93054075 5.16256311 6.2056657  4.67978913\n",
      " 4.5884427  6.2964833  4.31616266 4.74084313 5.0006945  7.47766367\n",
      " 6.44437225 4.84709859 4.61681613 5.79542291 6.18974021 6.5488783\n",
      " 6.12254003 5.87239721 5.23707367 4.78408972 4.53722906 3.99718153\n",
      " 3.89908994 4.81584993 3.72198202 4.90066144 3.21482165 5.01803702\n",
      " 4.4653882  2.37118344 5.62576519 5.81109065 4.93584747 7.1038198\n",
      " 6.00541592 5.97556797 3.66724216 5.50467793 5.5610947  3.97946402\n",
      " 3.57331422 4.03038091 4.8861783  4.76925537 5.98035637 4.60435256\n",
      " 3.30719254 4.76385322 5.58872592 5.69725074 4.67899571 4.59736473\n",
      " 5.09476598 4.79696853 4.05412893 5.19403869]\n"
     ]
    }
   ],
   "source": [
    "X = np.random.randn(100)\n",
    "sigma = 1\n",
    "u = 5\n",
    "\n",
    "Xnew = u + sigma*X\n",
    "print(Xnew)"
   ]
  },
  {
   "cell_type": "code",
   "execution_count": 22,
   "metadata": {},
   "outputs": [
    {
     "data": {
      "image/png": "[encoded data removed]",
      "text/plain": [
       "<Figure size 720x432 with 1 Axes>"
      ]
     },
     "metadata": {
      "needs_background": "light"
     },
     "output_type": "display_data"
    }
   ],
   "source": [
    "plt.figure(figsize=(10,6))\n",
    "plt.hist(Xnew,bins=50,edgecolor='black')\n",
    "plt.show()"
   ]
  },
  {
   "cell_type": "code",
   "execution_count": 17,
   "metadata": {},
   "outputs": [
    {
     "data": {
      "text/plain": [
       "(array([2., 3., 4., 5., 6., 7., 8., 9.]),\n",
       " array([  4,  55, 267, 352, 252,  64,   5,   1], dtype=int64))"
      ]
     },
     "execution_count": 17,
     "metadata": {},
     "output_type": "execute_result"
    }
   ],
   "source": [
    "Y = np.round(Xnew)\n",
    "z = np.unique(Y,return_counts=True)\n",
    "z"
   ]
  },
  {
   "cell_type": "markdown",
   "metadata": {},
   "source": [
    "- We can see 352 values correspond to number 3..as we are moving away frequency/count is decreasing\n",
    "\n",
    "- When we don't have data and we know that distribution is centered around mean we will use this to generate data"
   ]
  },
  {
   "cell_type": "code",
   "execution_count": 23,
   "metadata": {},
   "outputs": [],
   "source": [
    "x = Xnew\n",
    "y = np.zeros(Xnew.shape) #keep y zero as we want to have univariate distribution "
   ]
  },
  {
   "cell_type": "code",
   "execution_count": 26,
   "metadata": {},
   "outputs": [
    {
     "data": {
      "image/png": "[encoded data removed]",
      "text/plain": [
       "<Figure size 432x288 with 1 Axes>"
      ]
     },
     "metadata": {
      "needs_background": "light"
     },
     "output_type": "display_data"
    }
   ],
   "source": [
    "plt.scatter(x,y)\n",
    "plt.show()"
   ]
  },
  {
   "cell_type": "code",
   "execution_count": 25,
   "metadata": {},
   "outputs": [],
   "source": [
    "#We can see the density is near to 5(mean value)"
   ]
  },
  {
   "cell_type": "code",
   "execution_count": 34,
   "metadata": {},
   "outputs": [],
   "source": [
    "u = 5\n",
    "sigma = 5\n",
    "vals = u + sigma*np.random.randn(1000)"
   ]
  },
  {
   "cell_type": "code",
   "execution_count": 35,
   "metadata": {},
   "outputs": [
    {
     "data": {
      "image/png": "[encoded data removed]",
      "text/plain": [
       "<Figure size 432x288 with 1 Axes>"
      ]
     },
     "metadata": {
      "needs_background": "light"
     },
     "output_type": "display_data"
    }
   ],
   "source": [
    "plt.hist(vals)\n",
    "plt.show()"
   ]
  },
  {
   "cell_type": "markdown",
   "metadata": {},
   "source": [
    "As sigma got increasesd spread got increased"
   ]
  },
  {
   "cell_type": "code",
   "execution_count": 36,
   "metadata": {},
   "outputs": [
    {
     "data": {
      "image/png": "[encoded data removed]",
      "text/plain": [
       "<Figure size 432x288 with 1 Axes>"
      ]
     },
     "metadata": {
      "needs_background": "light"
     },
     "output_type": "display_data"
    }
   ],
   "source": [
    "u = 5\n",
    "sigma = -0.2\n",
    "vals = u + sigma*np.random.randn(1000)\n",
    "\n",
    "plt.hist(vals)\n",
    "plt.show()"
   ]
  },
  {
   "cell_type": "markdown",
   "metadata": {},
   "source": [
    "decreasing sigma also reduced spread of the graph"
   ]
  },
  {
   "cell_type": "code",
   "execution_count": null,
   "metadata": {},
   "outputs": [],
   "source": []
  },
  {
   "cell_type": "markdown",
   "metadata": {},
   "source": [
    "## Multivariate Normal Distribution"
   ]
  },
  {
   "cell_type": "code",
   "execution_count": 5,
   "metadata": {},
   "outputs": [
    {
     "name": "stdout",
     "output_type": "stream",
     "text": [
      "(500, 2)\n",
      "[[-7.08423648e-01 -7.69667536e-01]\n",
      " [-3.09542450e-01 -2.08642988e+00]\n",
      " [-8.56397337e-02 -1.03469723e+00]\n",
      " [ 3.60207329e-01 -1.58453696e+00]\n",
      " [-1.77727634e+00  2.61357296e-01]\n",
      " [-9.70984682e-01 -2.47405596e+00]\n",
      " [ 4.89680500e-01  1.88689004e-01]\n",
      " [-1.63669231e-01 -1.85609414e-01]\n",
      " [ 7.23436085e-01 -6.00738956e-01]\n",
      " [-1.88395390e+00 -1.58602043e+00]\n",
      " [-6.76642779e-01  4.66794511e-01]\n",
      " [-2.53002981e-01 -1.64073650e-01]\n",
      " [ 2.42276737e-01  2.45900448e-01]\n",
      " [ 8.48395231e-01  1.13699566e+00]\n",
      " [-5.88312078e-02  2.19577293e-01]\n",
      " [-3.00587792e-01  3.88592609e-02]\n",
      " [ 9.65478634e-01  5.59795132e-01]\n",
      " [-1.46712744e+00 -5.50131346e-01]\n",
      " [-3.30695497e-01 -1.37810768e+00]\n",
      " [-1.96908699e-02 -1.23589488e+00]\n",
      " [-9.27360779e-01 -1.67138564e+00]\n",
      " [-3.08898575e+00 -6.01759711e-01]\n",
      " [ 1.43326622e+00 -2.16764295e-01]\n",
      " [ 2.85551080e-01  5.48669978e-01]\n",
      " [ 1.81597291e+00  1.16756026e+00]\n",
      " [-1.18237420e+00  1.78210534e+00]\n",
      " [-1.20562967e-01 -1.02922942e+00]\n",
      " [ 8.64132944e-01 -1.54688239e-01]\n",
      " [-9.29337658e-01  9.66814888e-01]\n",
      " [-5.56931341e-01  1.15631934e+00]\n",
      " [-6.27078796e-01 -1.39415635e-01]\n",
      " [-9.30888372e-01 -5.92359347e-01]\n",
      " [ 4.70597905e-01  3.80704006e-01]\n",
      " [ 2.21740964e+00 -9.78672984e-01]\n",
      " [-1.50208307e+00  1.47785793e+00]\n",
      " [ 1.30769792e+00 -1.35646361e-01]\n",
      " [-3.47187407e-01  7.57071252e-01]\n",
      " [-1.90012675e-01 -1.56255959e-01]\n",
      " [-3.95649533e-01  6.03377007e-01]\n",
      " [ 1.00543169e+00  8.62920405e-01]\n",
      " [ 7.62635310e-01  7.37395573e-01]\n",
      " [ 1.71388655e-01 -6.71663793e-01]\n",
      " [ 4.04262294e-01 -7.83588077e-01]\n",
      " [-3.49251692e-02  8.24992666e-01]\n",
      " [ 8.13750685e-01 -2.18101519e-01]\n",
      " [ 1.16122509e-01  7.92571673e-02]\n",
      " [-3.71871903e-02  9.39443875e-01]\n",
      " [-7.66059900e-01 -6.71366805e-01]\n",
      " [-5.31256141e-02 -1.41192698e+00]\n",
      " [ 5.86906755e-01 -1.29346588e-02]\n",
      " [-4.17790354e-01  7.29731928e-01]\n",
      " [ 2.25206957e-01  1.48931467e+00]\n",
      " [ 1.12868898e+00  8.12315547e-01]\n",
      " [ 1.52816909e+00  5.18737475e-01]\n",
      " [ 4.45942618e-01  6.23759743e-01]\n",
      " [ 1.81350382e+00  1.20854736e-01]\n",
      " [ 8.61346646e-02 -7.63522221e-01]\n",
      " [-2.09321945e+00 -8.68959167e-01]\n",
      " [ 3.50653948e-01 -6.79990144e-01]\n",
      " [ 1.65580251e+00 -1.10266790e+00]\n",
      " [ 7.43033274e-01  6.35196219e-01]\n",
      " [-2.42023380e-01 -1.20373242e+00]\n",
      " [ 6.99616380e-01  6.75735053e-02]\n",
      " [-1.20349213e+00  2.69695453e+00]\n",
      " [ 5.52642110e-01 -1.41648094e-01]\n",
      " [-7.09977205e-01 -6.29512275e-01]\n",
      " [ 3.76233813e-01 -9.11746344e-01]\n",
      " [ 1.83325841e+00  7.16862297e-01]\n",
      " [-4.88623970e-01  1.28338038e+00]\n",
      " [-1.16251120e+00  2.58822471e-01]\n",
      " [-1.12560225e+00  6.86881837e-01]\n",
      " [ 3.69623837e-02 -1.34225871e+00]\n",
      " [ 1.39746905e+00  4.21441877e-02]\n",
      " [ 7.26172119e-01 -1.69077294e+00]\n",
      " [ 9.03406150e-01  2.19871519e+00]\n",
      " [ 1.61344725e+00 -1.79373886e+00]\n",
      " [-9.93688401e-01  2.06014763e-01]\n",
      " [-2.73360058e-01  1.46645737e+00]\n",
      " [-2.54949248e+00 -6.84416590e-01]\n",
      " [-8.68461381e-02  3.11435716e-01]\n",
      " [-1.73432419e+00 -3.71182082e-01]\n",
      " [-2.13844850e-02 -6.37686845e-01]\n",
      " [ 7.13056193e-01  1.05437531e+00]\n",
      " [ 1.34542455e+00  4.36797840e-01]\n",
      " [-3.92496026e-01  9.49799096e-01]\n",
      " [ 8.83326633e-01 -1.62844586e+00]\n",
      " [ 9.70082362e-01  3.91315245e-02]\n",
      " [ 6.43250590e-02 -7.26198235e-01]\n",
      " [-4.25449227e-01  5.38665789e-01]\n",
      " [-1.48379256e+00  2.12789630e+00]\n",
      " [-3.59264460e-01 -1.19697056e+00]\n",
      " [-6.93183574e-01  6.36715601e-02]\n",
      " [-1.70949050e+00  1.26779684e+00]\n",
      " [-2.76601675e+00  1.41720259e-01]\n",
      " [ 6.71317434e-01 -4.73385654e-01]\n",
      " [ 7.68402611e-01  1.17020450e+00]\n",
      " [ 6.43087259e-01  1.13049816e+00]\n",
      " [-7.46049079e-01  1.26914157e+00]\n",
      " [-1.83225962e-01  1.15007294e+00]\n",
      " [ 6.07524001e-01  2.63359778e-01]\n",
      " [ 3.73010676e-01  4.96525125e-01]\n",
      " [-1.10076078e-01  1.23535207e+00]\n",
      " [ 7.82506181e-01 -2.69239060e-01]\n",
      " [-4.85427689e-01  2.21040901e-01]\n",
      " [ 3.91293906e-01 -1.27306882e+00]\n",
      " [-2.65224612e+00 -2.09515731e+00]\n",
      " [ 1.33649741e-01 -1.40240241e+00]\n",
      " [ 2.99003427e-01 -1.28200584e-01]\n",
      " [ 1.10970100e+00 -1.13523189e+00]\n",
      " [ 1.57184358e+00 -1.46207946e+00]\n",
      " [-3.16069385e-01  7.07268875e-01]\n",
      " [-1.07132961e-01  4.10980276e-01]\n",
      " [ 2.22114119e-01 -8.33109191e-01]\n",
      " [ 3.92976521e-01 -1.52424249e-01]\n",
      " [-3.70621901e-01 -1.73832636e-01]\n",
      " [ 2.87067878e-01  9.48955081e-01]\n",
      " [-5.84365559e-01  2.73170839e+00]\n",
      " [-8.98077580e-01  1.08587625e+00]\n",
      " [-5.62640853e-01  2.36408888e+00]\n",
      " [-8.09736179e-01 -6.77910520e-01]\n",
      " [-1.75420141e+00  6.84151249e-01]\n",
      " [ 6.25397518e-01 -2.93156146e-01]\n",
      " [-1.37772891e+00 -7.78869296e-01]\n",
      " [-1.14407507e+00  3.45384492e-01]\n",
      " [ 6.87589743e-01 -2.03132410e-01]\n",
      " [-4.73491882e-02 -1.78749299e+00]\n",
      " [-6.96283833e-01 -1.31063576e+00]\n",
      " [ 1.89165230e+00  6.63663495e-01]\n",
      " [ 1.80884637e-02  9.97319157e-01]\n",
      " [ 3.33441990e-01 -1.16941951e+00]\n",
      " [ 2.48152598e-01 -2.02386421e+00]\n",
      " [-3.25144848e-01 -2.53586915e-01]\n",
      " [ 4.99132834e-01 -3.27969848e-01]\n",
      " [-1.13742117e+00  1.25036500e+00]\n",
      " [ 1.14094589e+00 -3.86183501e-01]\n",
      " [-1.09498817e+00 -8.04849879e-01]\n",
      " [-8.66649317e-03 -3.57872406e-01]\n",
      " [ 9.79489210e-01  2.50662922e-01]\n",
      " [ 1.02803108e+00 -5.26615860e-01]\n",
      " [ 6.50311025e-01  9.98056385e-01]\n",
      " [ 1.44260727e+00 -5.05670096e-01]\n",
      " [ 5.06731343e-02 -1.14347374e+00]\n",
      " [-1.46000993e-01 -1.89932956e-01]\n",
      " [-1.58854489e+00 -7.38810477e-01]\n",
      " [ 4.87672557e-01  6.97487410e-01]\n",
      " [-2.57554388e+00  6.68011859e-01]\n",
      " [-3.46182440e-01 -2.57170146e-02]\n",
      " [-8.79350170e-01 -1.22994537e+00]\n",
      " [-1.79088657e+00  1.45334681e+00]\n",
      " [-1.36444036e+00 -3.32834313e-01]\n",
      " [ 1.59199044e-01  1.49300428e+00]\n",
      " [ 1.85298899e+00  8.64634972e-01]\n",
      " [ 7.38599780e-02  1.22939180e-01]\n",
      " [ 3.90987654e-01 -7.79250559e-02]\n",
      " [-2.77816579e-01  2.04083409e-01]\n",
      " [-2.98777697e-02  9.01376485e-01]\n",
      " [-8.91856340e-01 -5.96751265e-01]\n",
      " [-8.62697900e-01  7.01754618e-01]\n",
      " [-4.07456063e-01  3.59034623e-01]\n",
      " [ 2.18371920e+00 -4.88453993e-01]\n",
      " [-5.64930395e-01  3.57222661e-01]\n",
      " [-2.45863437e-01 -2.12873810e+00]\n",
      " [-2.62209642e-01 -9.63849720e-02]\n",
      " [ 2.03977558e+00  4.35847186e-01]\n",
      " [-1.44027379e-01  1.19838604e-02]\n",
      " [ 1.11614170e+00 -8.50903981e-01]\n",
      " [-9.99338470e-01  9.35434488e-01]\n",
      " [-2.39395111e-01 -1.53076433e+00]\n",
      " [ 3.35559056e-01 -1.95620904e-01]\n",
      " [-4.41465285e-01 -1.36849259e+00]\n",
      " [ 1.50538966e+00 -2.85169378e-01]\n",
      " [ 1.25464964e+00  2.31487202e+00]\n",
      " [-1.42568983e+00 -7.80214810e-01]\n",
      " [-5.97919110e-02  2.03492779e-02]\n",
      " [-5.26951242e-01  7.25312352e-01]\n",
      " [ 1.49628983e+00  6.91491700e-01]\n",
      " [-6.84154189e-02 -1.15834465e+00]\n",
      " [-1.26409471e+00  2.26325740e+00]\n",
      " [-9.64432854e-01 -5.39655842e-01]\n",
      " [ 9.50784532e-01 -1.89459465e-01]\n",
      " [-4.07454258e-01  6.15554441e-01]\n",
      " [-9.94855570e-01 -2.98977468e-01]\n",
      " [-8.01750582e-01 -8.29275291e-01]\n",
      " [-1.08871365e+00 -1.16529157e-01]\n",
      " [-1.14141592e+00  2.83369474e-02]\n",
      " [ 9.65740840e-02  4.37624917e-01]\n",
      " [ 1.81580055e+00 -1.38058577e+00]\n",
      " [-1.78262070e-01  7.89738272e-01]\n",
      " [ 1.82427233e+00  1.64544749e-02]\n",
      " [-9.57494719e-01  1.08540163e+00]\n",
      " [ 4.67440690e-03 -2.67441113e-01]\n",
      " [-1.46890929e+00  1.49329678e+00]\n",
      " [ 8.73208409e-01 -3.16232439e-01]\n",
      " [ 4.34335074e-01 -3.49863893e-01]\n",
      " [ 5.06195067e-01  8.57810001e-01]\n",
      " [-5.30601124e-01 -1.74222582e-02]\n",
      " [ 9.73058490e-01 -4.26135415e-01]\n",
      " [ 4.82533231e-02  3.37422701e-01]\n",
      " [-1.02923514e+00  3.78073800e-01]\n",
      " [-1.07489671e+00  1.50535327e+00]\n",
      " [-1.25919840e+00  1.12059900e+00]\n",
      " [-5.05204211e-01 -2.31616054e+00]\n",
      " [-1.85944493e+00  5.33263695e-01]\n",
      " [-3.23996410e-01  1.36345922e+00]\n",
      " [-1.01229888e+00  1.32693263e+00]\n",
      " [-4.20481603e-02 -1.39673277e+00]\n",
      " [ 1.21492860e+00 -4.22339384e-01]\n",
      " [ 1.05340752e+00  9.79621307e-01]\n",
      " [ 4.31720105e-01  2.67236434e+00]\n",
      " [-7.18085847e-01 -1.96801988e+00]\n",
      " [-5.32000483e-01  1.45863368e+00]\n",
      " [-7.71510486e-01  1.05626996e+00]\n",
      " [ 4.28790481e-01 -1.01654050e+00]\n",
      " [ 4.10459279e-01  3.32034785e-01]\n",
      " [-5.89054410e-01 -4.55458245e-01]\n",
      " [ 1.06894558e+00 -1.32548541e+00]\n",
      " [ 1.30401927e+00 -1.24818707e+00]\n",
      " [-5.53340472e-01 -4.43878146e-01]\n",
      " [-5.34094794e-01 -6.43265799e-01]\n",
      " [ 9.64535483e-01  1.00091754e-01]\n",
      " [-7.40904858e-01  5.67455335e-01]\n",
      " [-2.00222222e-01  4.09434566e-01]\n",
      " [ 6.21430967e-01 -3.01744196e-01]\n",
      " [-2.10090535e+00  6.05571305e-01]\n",
      " [ 1.13046338e+00  2.07772777e+00]\n",
      " [-1.47867081e+00 -4.61015599e-01]\n",
      " [ 7.95352423e-01  1.43285428e-01]\n",
      " [ 4.25605260e-01 -8.87728685e-01]\n",
      " [-1.12803364e+00 -3.77305984e-01]\n",
      " [ 8.40905926e-01 -1.06483444e+00]\n",
      " [ 7.70490221e-01 -6.98863102e-02]\n",
      " [-1.53451068e+00 -1.40354386e+00]\n",
      " [ 8.95525546e-01  6.16884785e-01]\n",
      " [ 6.70103035e-02  7.79647688e-01]\n",
      " [ 1.89474668e-01  6.88479625e-01]\n",
      " [ 3.14354715e-01  1.26536916e+00]\n",
      " [ 1.68706201e-01  3.11905314e-01]\n",
      " [-6.67328192e-01  9.71362189e-01]\n",
      " [ 1.48629394e+00  8.49596300e-01]\n",
      " [ 1.84023822e+00 -2.60677778e-01]\n",
      " [ 4.80060970e-01 -1.35956928e+00]\n",
      " [ 1.01085405e+00 -1.42379199e+00]\n",
      " [ 6.82589250e-01 -2.20965011e-01]\n",
      " [-6.38003932e-04  6.36753077e-02]\n",
      " [-3.81781693e-01  1.41551910e+00]\n",
      " [-3.12260865e-01 -3.60297028e-01]\n",
      " [ 4.61059555e-01 -8.70678849e-02]\n",
      " [-5.73267509e-01  6.65422328e-01]\n",
      " [-1.42458083e+00  4.53273463e-01]\n",
      " [-5.46812535e-01  3.84326164e-01]\n",
      " [-7.06105722e-01 -5.61393966e-01]\n",
      " [ 1.17341974e+00 -6.77264240e-01]\n",
      " [ 1.24184148e+00  4.73242685e-01]\n",
      " [-5.54377417e-02 -1.06278943e-01]\n",
      " [ 1.15701277e+00 -2.10972731e+00]\n",
      " [-1.27403016e+00  4.54264163e-01]\n",
      " [ 5.16137169e-01  3.00012239e-01]\n",
      " [-6.36117747e-01  7.55770848e-01]\n",
      " [ 6.25695002e-01  8.46407801e-01]\n",
      " [ 3.36284210e-01 -7.05013872e-01]\n",
      " [ 5.96903309e-01  4.47491116e-02]\n",
      " [-8.58216006e-01 -7.72461240e-01]\n",
      " [-8.64682704e-01 -3.38638249e+00]\n",
      " [ 2.08258801e+00 -5.79858463e-01]\n",
      " [ 1.16857257e+00  6.40454995e-01]\n",
      " [-1.58817309e-01  2.44353042e+00]\n",
      " [ 7.63809331e-01  1.47861319e-01]\n",
      " [ 2.57079164e-03 -5.84814885e-01]\n",
      " [-8.24776575e-01 -1.68831181e+00]\n",
      " [-1.21673993e-01 -2.05742255e+00]\n",
      " [ 4.72267917e-01  2.27724813e+00]\n",
      " [ 8.07202932e-01  4.19202705e-01]\n",
      " [-5.69305664e-01 -1.12356217e+00]\n",
      " [-1.82916554e+00  1.25262109e+00]\n",
      " [-8.79329130e-01 -2.55847635e-01]\n",
      " [-1.58054242e+00 -2.15874708e-01]\n",
      " [ 3.33459295e-01 -1.37632896e-01]\n",
      " [ 1.01221221e+00  7.06443028e-01]\n",
      " [ 4.82690843e-03 -1.35255096e+00]\n",
      " [ 9.96911075e-01  4.15695458e-01]\n",
      " [-3.67280759e-02 -3.17112067e-01]\n",
      " [ 7.60769376e-01  1.35836543e+00]\n",
      " [ 2.43703279e-01 -8.72691369e-01]\n",
      " [-1.02348904e+00  3.12373941e-01]\n",
      " [ 7.14379825e-01 -9.60038587e-02]\n",
      " [ 1.30720038e+00 -2.26867862e+00]\n",
      " [-6.75661282e-01  5.93937227e-01]\n",
      " [ 1.56887704e-01  4.62834584e-01]\n",
      " [-1.54719212e+00 -2.44583513e+00]\n",
      " [ 5.06131475e-01  8.41227692e-01]\n",
      " [-5.94695760e-02  5.73198169e-01]\n",
      " [-1.44916657e+00  8.68889930e-01]\n",
      " [ 4.62000093e-01  5.35745143e-01]\n",
      " [ 1.05238102e+00 -2.92045931e-01]\n",
      " [ 4.39677961e-01 -8.35788512e-01]\n",
      " [-6.97967381e-01  1.36800231e+00]\n",
      " [ 1.26563393e-02  2.20559328e+00]\n",
      " [-1.16666197e+00 -9.94967550e-01]\n",
      " [ 1.07332229e+00 -1.20879224e+00]\n",
      " [-1.33313001e+00 -1.29337822e+00]\n",
      " [-5.97338876e-01  2.85644402e-01]\n",
      " [ 3.51032009e-02  1.00384358e+00]\n",
      " [ 1.12011634e+00  5.87541052e-01]\n",
      " [-1.00809464e+00 -6.32005821e-01]\n",
      " [-6.73841225e-01 -9.05406254e-01]\n",
      " [-1.55830619e+00  4.84948238e-02]\n",
      " [ 4.57991554e-01 -6.80495748e-01]\n",
      " [ 9.25829947e-01 -4.16472304e-01]\n",
      " [ 1.07849454e+00  2.47821705e+00]\n",
      " [-1.26943246e+00 -7.00423461e-02]\n",
      " [-9.59610843e-01  6.32975089e-02]\n",
      " [ 3.83274462e-02 -5.26900484e-01]\n",
      " [-1.10731208e-01 -1.28345324e-01]\n",
      " [-1.75617358e+00  3.05532772e-01]\n",
      " [-1.99052907e-01  5.28488320e-01]\n",
      " [-6.64280572e-01 -2.69859166e+00]\n",
      " [-4.24466084e-02  1.48302350e+00]\n",
      " [-8.53874448e-01  1.53449388e+00]\n",
      " [ 1.48404509e+00  1.59330967e+00]\n",
      " [-1.92234921e-01  1.83788851e+00]\n",
      " [-3.37244550e-01 -1.68172075e-01]\n",
      " [-6.32212851e-01 -7.02675000e-01]\n",
      " [ 2.13357022e-01  1.03821204e+00]\n",
      " [ 1.19701263e+00 -1.74043304e+00]\n",
      " [ 3.07383097e-01  2.68862815e-01]\n",
      " [-1.43220652e+00 -1.13748721e+00]\n",
      " [ 1.70178055e-02  1.00747590e+00]\n",
      " [-9.00431483e-02 -3.13954432e-01]\n",
      " [ 5.35844654e-02  1.23060231e+00]\n",
      " [ 2.10157940e+00 -9.01706615e-01]\n",
      " [ 6.63674498e-01 -6.02126741e-01]\n",
      " [-1.71522775e-01  2.40090806e-01]\n",
      " [ 1.53782619e+00 -1.32793886e+00]\n",
      " [-1.23007149e-01 -6.42361390e-01]\n",
      " [ 3.40044292e-01 -2.10184744e+00]\n",
      " [-6.52748177e-01  8.56921937e-01]\n",
      " [-1.07075398e+00  3.78743957e-01]\n",
      " [-2.43191407e-01 -3.23635166e-01]\n",
      " [ 3.13966458e+00 -3.51053366e-01]\n",
      " [ 1.39530983e+00  7.13367141e-01]\n",
      " [-1.11556856e+00 -1.21708991e+00]\n",
      " [-7.95893024e-01  1.02508987e+00]\n",
      " [-1.82726739e-01 -7.46734891e-01]\n",
      " [ 7.45470896e-01  1.88935363e+00]\n",
      " [ 6.40090884e-01 -2.61452455e-01]\n",
      " [-2.88580585e-01  6.43121428e-01]\n",
      " [ 9.99833053e-01  1.23096534e+00]\n",
      " [-2.70807815e-01 -1.82480243e-01]\n",
      " [-1.57201707e+00  1.13096572e+00]\n",
      " [-6.64108828e-02  1.01853449e+00]\n",
      " [-1.35555902e-01  4.65687246e-01]\n",
      " [-4.06357145e-01  6.38677134e-01]\n",
      " [ 1.42241651e+00  1.11479393e+00]\n",
      " [-9.16898257e-02 -1.28214102e+00]\n",
      " [ 2.17530126e+00 -1.25508589e+00]\n",
      " [ 1.27738568e+00  1.16495028e+00]\n",
      " [-5.21749321e-01 -4.52809662e-01]\n",
      " [ 8.91837206e-01  1.17670638e+00]\n",
      " [-1.60720628e-01  5.16212882e-01]\n",
      " [ 8.32484147e-01 -1.16409735e-01]\n",
      " [-2.62434944e-01  7.57649981e-01]\n",
      " [-2.19472171e-01 -5.96396350e-01]\n",
      " [-5.79474169e-01  4.11386915e-01]\n",
      " [-1.06918862e+00 -6.03405567e-01]\n",
      " [-3.96865497e-01 -8.79285795e-01]\n",
      " [-2.07180503e-01 -2.97182571e-01]\n",
      " [ 6.39385682e-01  8.35577282e-01]\n",
      " [-1.86519837e+00  1.78995724e-02]\n",
      " [ 1.30158858e-01 -1.70397332e+00]\n",
      " [-1.04712087e+00 -2.22029282e+00]\n",
      " [ 1.16743826e-02 -6.68569464e-01]\n",
      " [ 7.07999315e-01  1.29851914e+00]\n",
      " [-2.89701322e-01 -4.95231509e-01]\n",
      " [-7.42530666e-01 -9.81551434e-01]\n",
      " [-9.76928973e-01  6.44510543e-01]\n",
      " [-7.38751981e-01 -1.88947597e-01]\n",
      " [-8.76211265e-01  1.26818957e-02]\n",
      " [ 7.05537811e-01  1.45486024e+00]\n",
      " [-2.40898716e-01  4.17273505e-01]\n",
      " [-1.24672507e-01 -2.25712398e-01]\n",
      " [ 1.04653945e+00 -1.96235452e-02]\n",
      " [-2.28517411e-02 -1.08463943e+00]\n",
      " [ 5.86870324e-01 -8.58238804e-01]\n",
      " [-4.64043704e-01 -9.91100374e-01]\n",
      " [-1.46133762e-02 -1.48780770e+00]\n",
      " [ 5.74272269e-01  2.32142643e+00]\n",
      " [-7.84567818e-01  2.85567149e-01]\n",
      " [-9.29915685e-01  2.32959842e-01]\n",
      " [ 3.67251940e-01 -5.21986123e-01]\n",
      " [ 9.24418280e-01  1.56547517e+00]\n",
      " [-4.57307655e-01  2.36756165e+00]\n",
      " [-1.54707917e-01  2.76622857e-01]\n",
      " [ 2.35508518e+00  7.88902739e-01]\n",
      " [-7.56746958e-02  2.92023777e-01]\n",
      " [ 2.43458756e-01  1.62006634e-01]\n",
      " [ 3.97519849e-01 -2.35750663e+00]\n",
      " [-1.35637077e-02  7.82463956e-01]\n",
      " [-5.06055843e-01  9.75905083e-01]\n",
      " [-2.15533430e-01  1.37824352e+00]\n",
      " [-2.78816444e-01  1.78189445e+00]\n",
      " [ 9.60847163e-01  6.98210748e-01]\n",
      " [-2.21457215e+00 -3.02399643e-01]\n",
      " [-2.12376575e-01  2.19664828e+00]\n",
      " [-3.21869721e-01  1.17304276e+00]\n",
      " [ 2.62548954e-01  8.80019423e-03]\n",
      " [-1.87624604e+00  4.78093862e-01]\n",
      " [ 1.93958574e-02  2.57650484e-01]\n",
      " [-1.02419965e+00 -1.60690547e+00]\n",
      " [ 2.87400885e-01 -9.68504495e-01]\n",
      " [-1.47354043e+00  9.25621938e-01]\n",
      " [ 1.71401625e-01  3.00436654e-01]\n",
      " [-1.44399484e+00 -7.53679842e-01]\n",
      " [-1.73043900e-02 -4.41444712e-01]\n",
      " [ 5.74941602e-01 -4.58255936e-02]\n",
      " [-1.95289148e+00 -6.33871977e-01]\n",
      " [ 7.27319532e-01  7.29717207e-01]\n",
      " [ 1.42964721e+00 -1.07488894e+00]\n",
      " [ 2.65826877e-01  2.95110902e-01]\n",
      " [-5.83990133e-01  1.83982783e-01]\n",
      " [-8.58991051e-01 -2.84695498e-01]\n",
      " [ 8.74852432e-01  3.61632444e-01]\n",
      " [-1.54183662e+00  5.19037490e-01]\n",
      " [ 1.71907407e+00  1.67495202e+00]\n",
      " [-1.30773442e+00  2.09938107e+00]\n",
      " [ 1.60336155e+00  2.59410438e-01]\n",
      " [-9.83473845e-02  2.03003534e+00]\n",
      " [-2.94470480e-01  1.62490014e+00]\n",
      " [ 7.80852183e-01  1.31690808e+00]\n",
      " [ 1.04077324e+00 -2.57977754e+00]\n",
      " [-2.78794540e-01  1.37387314e+00]\n",
      " [ 3.26872539e-01 -1.05683286e+00]\n",
      " [-6.25376254e-01  2.01259865e-01]\n",
      " [-1.59598913e+00 -6.44729677e-01]\n",
      " [ 1.84667799e+00 -1.41138089e+00]\n",
      " [-4.89460476e-02  8.53807838e-02]\n",
      " [-6.89315377e-01 -2.04475486e-01]\n",
      " [ 3.18428449e-01 -4.13032035e-01]\n",
      " [ 1.15092213e+00 -8.33357288e-01]\n",
      " [-7.49757537e-02  3.81398111e-01]\n",
      " [-1.00887692e+00 -3.36104175e-01]\n",
      " [-5.07672225e-01 -1.82684554e+00]\n",
      " [ 1.21356848e+00 -2.80744643e-01]\n",
      " [-6.48795748e-01 -1.88426747e+00]\n",
      " [ 1.28154198e+00  4.10368663e-01]\n",
      " [-1.09186410e+00  4.22770115e-01]\n",
      " [-1.91443138e+00 -1.63101460e+00]\n",
      " [-1.86211266e+00 -1.79207340e-01]\n",
      " [-5.87916267e-01 -5.37870078e-01]\n",
      " [-9.69328929e-01  5.32758204e-01]\n",
      " [ 1.09620865e-01  1.98220555e+00]\n",
      " [ 4.89401756e-01  1.65907738e-01]\n",
      " [-1.09615849e+00  1.34178986e+00]\n",
      " [ 2.08043653e-02  4.44748303e-01]\n",
      " [ 1.57031163e+00  9.31000184e-01]\n",
      " [ 1.09199624e+00 -5.63463523e-01]\n",
      " [ 1.19974653e+00  3.89475053e-01]\n",
      " [-2.49155429e+00  4.91924679e-03]\n",
      " [ 1.15427848e+00  1.84731264e+00]\n",
      " [ 5.49409555e-01 -1.46799274e-01]\n",
      " [-1.53978153e+00 -6.20691203e-01]\n",
      " [-1.81760579e+00  1.77218175e-01]\n",
      " [ 1.34397417e-01 -3.43291070e-01]\n",
      " [-5.36482499e-01 -1.00274551e+00]\n",
      " [ 1.51730180e+00 -5.13751881e-01]\n",
      " [ 8.58895984e-01 -3.10334437e-01]\n",
      " [-1.27035098e-01  4.03104940e-01]\n",
      " [ 1.15775609e-01  7.07152663e-02]\n",
      " [-1.26480493e+00 -3.10416683e-01]\n",
      " [-1.63339112e+00 -5.76081266e-02]\n",
      " [-2.83165921e-02 -4.46560405e-01]\n",
      " [ 4.84909719e-01 -1.37949350e+00]\n",
      " [ 5.52277201e-01 -8.65181878e-02]\n",
      " [ 6.73529381e-01  6.45587076e-01]\n",
      " [ 8.12635605e-01 -6.90666225e-01]\n",
      " [ 3.46859361e-01  3.03772373e-01]\n",
      " [ 1.20991799e+00 -1.44042118e+00]\n",
      " [-1.01143439e+00  1.32561957e+00]\n",
      " [-2.63851901e+00 -7.02126635e-01]\n",
      " [-4.50144193e-01 -2.50377666e-01]\n",
      " [-2.21182925e-01  1.17104152e+00]\n",
      " [-7.59398980e-01  5.36761246e-01]\n",
      " [-5.63772004e-01 -1.66018153e-01]\n",
      " [ 1.15837508e+00  6.52843387e-01]\n",
      " [-4.64084276e-01 -6.62250155e-01]\n",
      " [-1.91181501e+00 -1.00313169e+00]\n",
      " [ 2.94356715e-01  6.25090210e-01]\n",
      " [ 2.43541996e-05 -7.82711760e-01]\n",
      " [ 7.42594827e-01 -1.51546216e+00]\n",
      " [ 1.55791809e-01  7.26572612e-01]\n",
      " [ 4.86551128e-01  2.50932054e-01]\n",
      " [ 7.19617452e-01 -2.17575875e+00]\n",
      " [-2.92489306e+00 -8.34804541e-02]\n",
      " [-7.48175101e-01 -1.18586191e+00]\n",
      " [-1.44664721e-01  5.37127220e-01]\n",
      " [ 4.46164272e-01 -9.99024120e-01]\n",
      " [-1.83818384e+00  1.35459926e+00]\n",
      " [-6.78636538e-01  7.13026421e-01]\n",
      " [-1.69829265e-01  1.03921729e+00]\n",
      " [-9.85384841e-01  8.74569659e-01]\n",
      " [ 9.73680720e-01  7.57765357e-01]]\n"
     ]
    }
   ],
   "source": [
    "mean =  np.array([0,0]) #centered around 0,0\n",
    "cov = np.array([[1,0],[0,1]]) #spread along x = spread along y, sigmaxy =0 means x is independent of y\n",
    "\n",
    "dist = np.random.multivariate_normal(mean,cov,500)\n",
    "print(dist.shape) # 2 features\n",
    "print(dist)"
   ]
  },
  {
   "cell_type": "code",
   "execution_count": 10,
   "metadata": {},
   "outputs": [
    {
     "data": {
      "text/plain": [
       "<matplotlib.collections.PathCollection at 0x2e9f7e85588>"
      ]
     },
     "execution_count": 10,
     "metadata": {},
     "output_type": "execute_result"
    },
    {
     "data": {
      "image/png": "[encoded data removed]",
      "text/plain": [
       "<Figure size 504x504 with 1 Axes>"
      ]
     },
     "metadata": {
      "needs_background": "light"
     },
     "output_type": "display_data"
    }
   ],
   "source": [
    "plt.figure(figsize=(7,7))\n",
    "plt.scatter(dist[:,0],dist[:,1])"
   ]
  },
  {
   "cell_type": "markdown",
   "metadata": {},
   "source": [
    "- can see mean is 0,0 \n",
    "- spread along x = spread along y  SigmaX = 1 and SigmaY = 1\n",
    "- x is independent of y...change in x doesnot affect y...like color and height of a monkey\n",
    "    but if it would be height and weight it would have positive correlation"
   ]
  },
  {
   "cell_type": "code",
   "execution_count": 12,
   "metadata": {},
   "outputs": [
    {
     "data": {
      "image/png": "[encoded data removed]",
      "text/plain": [
       "<Figure size 432x288 with 1 Axes>"
      ]
     },
     "metadata": {
      "needs_background": "light"
     },
     "output_type": "display_data"
    }
   ],
   "source": [
    "# SIGMAXY = 0.5 \n",
    "mean = np.array([0,0])\n",
    "cov = np.array([[1,0.5],[0.5,1]]) #postiive correlation in x and y\n",
    "\n",
    "dist = np.random.multivariate_normal(mean,cov,500)\n",
    "\n",
    "plt.scatter(dist[:,0],dist[:,1])\n",
    "plt.show()"
   ]
  },
  {
   "cell_type": "markdown",
   "metadata": {},
   "source": [
    "- can see change in x is affecting y, positive corelation between x and y, got shifted towards x=y line "
   ]
  },
  {
   "cell_type": "code",
   "execution_count": 13,
   "metadata": {},
   "outputs": [
    {
     "data": {
      "image/png": "[encoded data removed]",
      "text/plain": [
       "<Figure size 432x288 with 1 Axes>"
      ]
     },
     "metadata": {
      "needs_background": "light"
     },
     "output_type": "display_data"
    }
   ],
   "source": [
    "# SIGMAXY = 0.8\n",
    "mean = np.array([0,0])\n",
    "cov = np.array([[1,0.8],[0.8,1]]) \n",
    "\n",
    "dist = np.random.multivariate_normal(mean,cov,500)\n",
    "\n",
    "plt.scatter(dist[:,0],dist[:,1])\n",
    "plt.show()"
   ]
  },
  {
   "cell_type": "markdown",
   "metadata": {},
   "source": [
    "- as sigmaXY got increased shift towards y=x also increased"
   ]
  },
  {
   "cell_type": "code",
   "execution_count": 15,
   "metadata": {},
   "outputs": [
    {
     "data": {
      "image/png": "[encoded data removed]",
      "text/plain": [
       "<Figure size 432x288 with 1 Axes>"
      ]
     },
     "metadata": {
      "needs_background": "light"
     },
     "output_type": "display_data"
    }
   ],
   "source": [
    "\n",
    "mean = np.array([0,0])\n",
    "cov = np.array([[1,0.8],[0.8,1]]) \n",
    "\n",
    "dist = np.random.multivariate_normal(mean,cov,500)\n",
    "\n",
    "mean2 = np.array([5.0,6.0])\n",
    "cov2 = np.array([[1.3,0.2],[0.2,1.1]])\n",
    "\n",
    "dist2 = np.random.multivariate_normal(mean2,cov2,500)\n",
    "plt.scatter(dist[:,0],dist[:,1])\n",
    "plt.scatter(dist2[:,0],dist2[:,1])\n",
    "plt.show()"
   ]
  },
  {
   "cell_type": "markdown",
   "metadata": {},
   "source": [
    "- mean of 2nd distribution is around 5,6\n",
    "- In 2nd spread along y is more than in 1st distribution because 1.1 in 2nd and 1 in 1st "
   ]
  },
  {
   "cell_type": "code",
   "execution_count": 18,
   "metadata": {},
   "outputs": [
    {
     "data": {
      "image/png": "[encoded data removed]",
      "text/plain": [
       "<Figure size 432x288 with 1 Axes>"
      ]
     },
     "metadata": {
      "needs_background": "light"
     },
     "output_type": "display_data"
    }
   ],
   "source": [
    "\n",
    "mean = np.array([0,0])\n",
    "cov = np.array([[1,0],[0,3]]) \n",
    "\n",
    "dist = np.random.multivariate_normal(mean,cov,500)\n",
    "\n",
    "mean2 = np.array([5.0,6.0])\n",
    "cov2 = np.array([[1.3,0.2],[0.2,1.1]])\n",
    "\n",
    "dist2 = np.random.multivariate_normal(mean2,cov2,500)\n",
    "plt.scatter(dist[:,0],dist[:,1])\n",
    "plt.scatter(dist2[:,0],dist2[:,1])\n",
    "plt.show()"
   ]
  },
  {
   "cell_type": "markdown",
   "metadata": {},
   "source": [
    "as we increased spread along y in  1st distribution, graph changed"
   ]
  },
  {
   "cell_type": "code",
   "execution_count": 21,
   "metadata": {},
   "outputs": [
    {
     "data": {
      "image/png": "[encoded data removed]",
      "text/plain": [
       "<Figure size 432x288 with 1 Axes>"
      ]
     },
     "metadata": {
      "needs_background": "light"
     },
     "output_type": "display_data"
    }
   ],
   "source": [
    "\n",
    "mean = np.array([0,0])\n",
    "cov = np.array([[0.3,0],[0,1]]) \n",
    "\n",
    "dist = np.random.multivariate_normal(mean,cov,500)\n",
    "\n",
    "mean2 = np.array([5.0,6.0])\n",
    "cov2 = np.array([[1.3,0.2],[0.2,1.1]])\n",
    "\n",
    "dist2 = np.random.multivariate_normal(mean2,cov2,500)\n",
    "plt.scatter(dist[:,0],dist[:,1])\n",
    "plt.scatter(dist2[:,0],dist2[:,1])\n",
    "plt.show()"
   ]
  },
  {
   "cell_type": "code",
   "execution_count": null,
   "metadata": {},
   "outputs": [],
   "source": []
  },
  {
   "cell_type": "markdown",
   "metadata": {},
   "source": [
    "- can use this to generate data for real life exapmples"
   ]
  },
  {
   "cell_type": "markdown",
   "metadata": {},
   "source": [
    "If we increase sigmaXY then change in x will lead to more increase in y,\n",
    "(three 3d curves with 0,0.5,0.8 sigmaXY values)"
   ]
  },
  {
   "cell_type": "code",
   "execution_count": null,
   "metadata": {},
   "outputs": [],
   "source": []
  }
 ],
 "metadata": {
  "kernelspec": {
   "display_name": "Python 3",
   "language": "python",
   "name": "python3"
  },
  "language_info": {
   "codemirror_mode": {
    "name": "ipython",
    "version": 3
   },
   "file_extension": ".py",
   "mimetype": "text/x-python",
   "name": "python",
   "nbconvert_exporter": "python",
   "pygments_lexer": "ipython3",
   "version": "3.7.7"
  }
 },
 "nbformat": 4,
 "nbformat_minor": 4
}
